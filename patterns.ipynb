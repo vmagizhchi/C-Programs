{
  "cells": [
    {
      "cell_type": "markdown",
      "metadata": {
        "id": "view-in-github",
        "colab_type": "text"
      },
      "source": [
        "<a href=\"https://colab.research.google.com/github/vmagizhchi/C-Programs/blob/main/patterns.ipynb\" target=\"_parent\"><img src=\"https://colab.research.google.com/assets/colab-badge.svg\" alt=\"Open In Colab\"/></a>"
      ]
    },
    {
      "cell_type": "markdown",
      "metadata": {
        "id": "jsJ_-KdF8ybh"
      },
      "source": [
        "## Switch 2\n",
        "Write a C program that displays a menu with three options: \"Display Hello\", \"Display Goodbye\", and \"Display Welcome\". The program should prompt the user to enter their choice and then display the corresponding message based on the user's input. If the user enters an invalid choice, the program should display an error message.\n"
      ]
    },
    {
      "cell_type": "code",
      "execution_count": null,
      "metadata": {
        "id": "MYU5agKIrVxc"
      },
      "outputs": [],
      "source": []
    },
    {
      "cell_type": "code",
      "execution_count": null,
      "metadata": {
        "colab": {
          "base_uri": "https://localhost:8080/"
        },
        "id": "jkkQF2HGpUd7",
        "outputId": "2b8ca2ef-8c13-4cbd-c929-71807573f7cd"
      },
      "outputs": [
        {
          "name": "stdout",
          "output_type": "stream",
          "text": [
            "Overwriting program.c\n"
          ]
        }
      ],
      "source": [
        "%%writefile program.c\n",
        "#include <stdio.h>\n",
        "\n",
        "int main() {\n",
        "    int n = 5; // Number of rows\n",
        "\n",
        "    for (int i = 0; i < n; i++) {\n",
        "        // Print spaces\n",
        "        for (int j = 0; j < i; j++) {\n",
        "            printf(\" \");\n",
        "        }\n",
        "        // Print stars\n",
        "        for (int j = 0; j < n - i; j++) {\n",
        "            printf(\"*\");\n",
        "        }\n",
        "        printf(\"\\n\");\n",
        "    }\n",
        "\n",
        "    return 0;\n",
        "}\n"
      ]
    },
    {
      "cell_type": "code",
      "execution_count": null,
      "metadata": {
        "colab": {
          "base_uri": "https://localhost:8080/"
        },
        "id": "nFi-I8PbpWlm",
        "outputId": "49977305-7a19-4dd3-ff41-e28348672d25"
      },
      "outputs": [
        {
          "name": "stdout",
          "output_type": "stream",
          "text": [
            "*****\n",
            " ****\n",
            "  ***\n",
            "   **\n",
            "    *\n"
          ]
        }
      ],
      "source": [
        "!g++ program.c -o program\n",
        "! ./program"
      ]
    },
    {
      "cell_type": "code",
      "execution_count": null,
      "metadata": {
        "colab": {
          "base_uri": "https://localhost:8080/"
        },
        "id": "vT7jTFkCp2Os",
        "outputId": "cc49b940-7c53-4277-d9c3-a236839c4a56"
      },
      "outputs": [
        {
          "name": "stdout",
          "output_type": "stream",
          "text": [
            "Overwriting program.c\n"
          ]
        }
      ],
      "source": [
        "%%writefile program.c\n",
        "#include <stdio.h>\n",
        "\n",
        "int main() {\n",
        "    int n = 5; // Number of rows\n",
        "\n",
        "    for (int i = 1; i <= n; i++) {\n",
        "        for (int j = 1; j <= i; j++) {\n",
        "            printf(\"%d\", j);\n",
        "        }\n",
        "        printf(\"\\n\");\n",
        "    }\n",
        "\n",
        "    return 0;\n",
        "}\n"
      ]
    },
    {
      "cell_type": "code",
      "execution_count": null,
      "metadata": {
        "colab": {
          "base_uri": "https://localhost:8080/"
        },
        "id": "dgQNC43gu9K2",
        "outputId": "eb23bf30-b820-4509-d0cd-a0a6af4140be"
      },
      "outputs": [
        {
          "name": "stdout",
          "output_type": "stream",
          "text": [
            "Overwriting program.c\n"
          ]
        }
      ],
      "source": [
        "%%writefile program.c\n",
        "#include <stdio.h>\n",
        "\n",
        "int main() {\n",
        "    int rows, cols,i,j;\n",
        "\n",
        "    printf(\"Enter the number of rows: \");\n",
        "    scanf(\"%d\", &rows);\n",
        "    printf(\"Enter the number of columns: \");\n",
        "    scanf(\"%d\", &cols);\n",
        "\n",
        "    for (i = 0; i < rows; i++) {\n",
        "        for (j = 0; j<cols; j++) {\n",
        "\n",
        "            if (i == 0 || i == rows - 1 || j == 0 || j == cols - 1) {\n",
        "                printf(\"*\");\n",
        "            } else {\n",
        "                printf(\" \");\n",
        "            }\n",
        "        }\n",
        "        printf(\"\\n\");\n",
        "    }\n",
        "\n",
        "    return 0;\n",
        "}"
      ]
    },
    {
      "cell_type": "code",
      "execution_count": null,
      "metadata": {
        "colab": {
          "base_uri": "https://localhost:8080/"
        },
        "id": "4FDpfihdvA58",
        "outputId": "a443023f-e3b2-4631-fa0d-0a81c5da4e5e"
      },
      "outputs": [
        {
          "name": "stdout",
          "output_type": "stream",
          "text": [
            "Enter the number of rows: 5\n",
            "Enter the number of columns: 5\n",
            "*****\n",
            "*   *\n",
            "*   *\n",
            "*   *\n",
            "*****\n"
          ]
        }
      ],
      "source": [
        "!g++ program.c -o program\n",
        "! ./program"
      ]
    },
    {
      "cell_type": "code",
      "execution_count": null,
      "metadata": {
        "colab": {
          "base_uri": "https://localhost:8080/"
        },
        "id": "-J90MvAVvTWj",
        "outputId": "645acd8e-6d44-4df9-f702-840c68da6603"
      },
      "outputs": [
        {
          "name": "stdout",
          "output_type": "stream",
          "text": [
            "*         \n",
            "* *       \n",
            "*   *     \n",
            "*     *   \n",
            "* * * * * \n"
          ]
        }
      ],
      "source": [
        "!g++ program.c -o program\n",
        "! ./program"
      ]
    },
    {
      "cell_type": "code",
      "execution_count": null,
      "metadata": {
        "colab": {
          "base_uri": "https://localhost:8080/"
        },
        "id": "IUfQNcv3vKZY",
        "outputId": "d9d258ab-8586-495a-bda0-f1c9ce11006b"
      },
      "outputs": [
        {
          "name": "stdout",
          "output_type": "stream",
          "text": [
            "Overwriting program.c\n"
          ]
        }
      ],
      "source": [
        "%%writefile program.c\n",
        "#include <stdio.h>\n",
        "\n",
        "int main() {\n",
        "    int rows=5,cols= 5,i,j;\n",
        "\n",
        "    // Loop through each row\n",
        "    for (i = 1; i <=rows; i++) {\n",
        "        // Loop through each column in the current row\n",
        "        for (j = 1; j <=cols; j++) {\n",
        "            // Print '*' in the first column, the diagonal, and the last column\n",
        "            if (j==1||i == rows||i==j) {\n",
        "                printf(\"* \");\n",
        "            } else {\n",
        "                printf(\"  \");\n",
        "            }\n",
        "        }\n",
        "        // Move to the next line after finishing a row\n",
        "        printf(\"\\n\");\n",
        "    }\n",
        "\n",
        "    return 0;\n",
        "}"
      ]
    },
    {
      "cell_type": "code",
      "execution_count": null,
      "metadata": {
        "colab": {
          "base_uri": "https://localhost:8080/"
        },
        "id": "DnFEFU4P2IWC",
        "outputId": "5befa167-f263-4d02-898b-dbff30c88a1b"
      },
      "outputs": [
        {
          "name": "stdout",
          "output_type": "stream",
          "text": [
            "Overwriting program.c\n"
          ]
        }
      ],
      "source": [
        "%%writefile program.c\n",
        "#include <stdio.h>\n",
        "#include <string.h>\n",
        "\n",
        "\n",
        "int main() {\n",
        "    char str[51] = \"programming\"; // Array to store the input string (up to 50 characters + null terminator)\n",
        "    int length;\n",
        "    char space;\n",
        "\n",
        "\n",
        "    length = strlen(str);\n",
        "\n",
        "\n",
        "    for (int i = 0; i < length / 2 + 1; i++) {\n",
        "        for(space=0;space<length/2;space++) {\n",
        "          printf(\" \");\n",
        "        }\n",
        "        for (int j = i; j < length - i; j++) {  // skipping first and last character at each iteration\n",
        "            printf(\"%c\", str[j]);\n",
        "        }\n",
        "        printf(\"\\n\");\n",
        "    }\n",
        "\n",
        "\n",
        "    return 0;\n",
        "}\n",
        "\n",
        "\n"
      ]
    },
    {
      "cell_type": "code",
      "execution_count": null,
      "metadata": {
        "colab": {
          "base_uri": "https://localhost:8080/"
        },
        "id": "vF6Q-Kbl2JSM",
        "outputId": "fc4a8e22-d7ca-4ac3-9816-4b4760d86518"
      },
      "outputs": [
        {
          "name": "stdout",
          "output_type": "stream",
          "text": [
            "     programming\n",
            "     rogrammin\n",
            "     ogrammi\n",
            "     gramm\n",
            "     ram\n",
            "     a\n"
          ]
        }
      ],
      "source": [
        "!g++ program.c -o program\n",
        "! ./program"
      ]
    },
    {
      "cell_type": "code",
      "execution_count": null,
      "metadata": {
        "colab": {
          "base_uri": "https://localhost:8080/"
        },
        "id": "5Q1J5ADpeMJo",
        "outputId": "fe38be1c-c8f8-4442-82e3-4b8a49f5fd4d"
      },
      "outputs": [
        {
          "name": "stdout",
          "output_type": "stream",
          "text": [
            "Writing program.c\n"
          ]
        }
      ],
      "source": [
        "%%writefile program.c\n",
        "// Switch 1\n",
        "#include <stdio.h>\n",
        "\n",
        "int main() {\n",
        "    int choice;\n",
        "    printf(\"Choose an option:\\n\");\n",
        "    printf(\"1.Display Hello\\n\");\n",
        "    printf(\"2.Display Goodbye\\n\");\n",
        "    printf(\"3.Display Welcome\\n\");\n",
        "    printf(\"Enter your choice (1/2/3): \");\n",
        "    scanf(\"%d\", &choice);\n",
        "\n",
        "    switch(choice) {\n",
        "        case 1:\n",
        "            printf(\"Hello!\\n\");\n",
        "            break;\n",
        "        case 2:\n",
        "            printf(\"Goodbye!\\n\");\n",
        "            break;\n",
        "        case 3:\n",
        "            printf(\"Welcome!\\n\");\n",
        "            break;\n",
        "        default:\n",
        "            printf(\"Invalid choice!\\n\");\n",
        "            break;\n",
        "    }\n",
        "\n",
        "    return 0;\n",
        "}\n",
        "\n",
        "\n"
      ]
    },
    {
      "cell_type": "code",
      "execution_count": null,
      "metadata": {
        "colab": {
          "base_uri": "https://localhost:8080/"
        },
        "id": "SVY4Oyr8cPEn",
        "outputId": "db6f0389-80b0-4a6c-c665-83b04f52634d"
      },
      "outputs": [
        {
          "name": "stdout",
          "output_type": "stream",
          "text": [
            "Choose an option:\n",
            "1.Display Hello\n",
            "2.Display Goodbye\n",
            "3.Display Welcome\n",
            "Enter your choice (1/2/3): 3\n",
            "Welcome!\n"
          ]
        }
      ],
      "source": [
        "!g++ program.c -o program\n",
        "! ./program"
      ]
    },
    {
      "cell_type": "markdown",
      "metadata": {
        "id": "JdfI1eRt83Ao"
      },
      "source": [
        "## Switch 1\n",
        "Write a C program that allows the user to calculate the area of different shapes (Circle, Triangle, Rectangle) based on their choice. The program should display a menu with options to select the shape (1-Circle, 2-Triangle, 3-Rectangle, 0-Exit), take the necessary inputs (radius, breath, width, etc) for the selected shape, calculate the area, and display the result. The program should continue to prompt the user until they choose to exit."
      ]
    },
    {
      "cell_type": "code",
      "execution_count": null,
      "metadata": {
        "colab": {
          "base_uri": "https://localhost:8080/"
        },
        "id": "3ClCTSuB5Aun",
        "outputId": "9d3931b3-9a0b-43a2-e806-89800c8e298f"
      },
      "outputs": [
        {
          "name": "stdout",
          "output_type": "stream",
          "text": [
            "Overwriting program.c\n"
          ]
        }
      ],
      "source": [
        "%%writefile program.c\n",
        "// Switch 2\n",
        "\n",
        "#include <stdio.h>\n",
        "#include <math.h>\n",
        "#define PI 22.0/7\n",
        "\n",
        "int main() {\n",
        "    int choice;\n",
        "    float area;\n",
        "\n",
        "    while(1) {\n",
        "        printf(\"Select the shape: \");\n",
        "        printf(\"0.Exit\\n\");\n",
        "        printf(\"1.Circle\\n\");\n",
        "        printf(\"2.Triangle\\n\");\n",
        "        printf(\"3.Rectangle\\n\");\n",
        "        printf(\"Enter your choice (0/1/2/3): \");\n",
        "        scanf(\"%d\", &choice);\n",
        "\n",
        "\n",
        "        switch(choice) {\n",
        "            case 0:\n",
        "                   printf(\"Exit\\n\");\n",
        "                   break;\n",
        "\n",
        "            case 1:\n",
        "                    float r;\n",
        "                    printf(\"Enter radius of the circle: \");\n",
        "                    scanf(\"%f\", &r);\n",
        "                    area = PI*r*r;\n",
        "                    printf(\"Area of Circle: %.2f\\n\", area);\n",
        "                    break;\n",
        "\n",
        "            case 2:\n",
        "                    float b, h;\n",
        "                    printf(\"Enter the base and height of the triangle: \");\n",
        "                    scanf(\"%f\\n %f\", &b, &h);\n",
        "                    area = 0.5*b*h;\n",
        "                    printf(\"Area of Triangle: %.2f\\n\", area);\n",
        "                    break;\n",
        "\n",
        "            case 3:\n",
        "                    float l, w;\n",
        "                    printf(\"Enter the length and width of the rectangle: \");\n",
        "                    scanf(\"%f\\n %f\", &l, &w);\n",
        "                    area = l*w;\n",
        "                    printf(\"Area of Rectangle: %.2f\\n\", area);\n",
        "                    break;\n",
        "\n",
        "            default:\n",
        "                printf(\"Invalid\\n\");\n",
        "                break;\n",
        "        }\n",
        "    }\n",
        "\n",
        "    return 0;\n",
        "}\n",
        "\n",
        "\n"
      ]
    },
    {
      "cell_type": "code",
      "execution_count": null,
      "metadata": {
        "colab": {
          "base_uri": "https://localhost:8080/"
        },
        "id": "ZypisgT75E5c",
        "outputId": "ee41c3e0-624d-4e6a-ce9d-4301f8cab89a"
      },
      "outputs": [
        {
          "name": "stdout",
          "output_type": "stream",
          "text": [
            "Select the shape: 0.Exit\n",
            "1.Circle\n",
            "2.Triangle\n",
            "3.Rectangle\n",
            "Enter your choice (0/1/2/3): 2\n",
            "Enter the base and height of the triangle: 3 4\n",
            "Area of Triangle: 6.00Select the shape: 0.Exit\n",
            "1.Circle\n",
            "2.Triangle\n",
            "3.Rectangle\n",
            "Enter your choice (0/1/2/3): ^C\n"
          ]
        }
      ],
      "source": [
        "!g++ program.c -o program\n",
        "! ./program"
      ]
    },
    {
      "cell_type": "markdown",
      "metadata": {
        "id": "8jEH4xNbnXbK"
      },
      "source": [
        "## if-else - Leap year check\n",
        "Write a C program that checks whether a given year is a leap year using if-else statements. The program should prompt the user to enter a year, determine if it is a leap year, and then display the result."
      ]
    },
    {
      "cell_type": "code",
      "execution_count": null,
      "metadata": {
        "colab": {
          "base_uri": "https://localhost:8080/"
        },
        "id": "Z6vKNI6ZnWn-",
        "outputId": "d61a3c56-05d9-48e6-c61d-fb2059098b8e"
      },
      "outputs": [
        {
          "name": "stdout",
          "output_type": "stream",
          "text": [
            "Overwriting program.c\n"
          ]
        }
      ],
      "source": [
        "%%writefile program.c\n",
        "// if-else - find Leap year\n",
        "#include <stdio.h>\n",
        "int main() {\n",
        "  int year;\n",
        "  printf(\"enter year: \");\n",
        "  scanf(\"%d\", &year);\n",
        "  if ((year%4 == 0 && year%100!=0) || year%400==0) {\n",
        "    printf(\"%d is a leap year\", year);\n",
        "  }\n",
        "  else {\n",
        "     printf(\"%d is not a leap year\", year);\n",
        "  }\n",
        "\n",
        "    return 0;\n",
        "}\n"
      ]
    },
    {
      "cell_type": "code",
      "execution_count": null,
      "metadata": {
        "colab": {
          "base_uri": "https://localhost:8080/"
        },
        "id": "g0_aIiSInbn7",
        "outputId": "6e89df03-2b9c-4764-8002-5cee7ac5bad4"
      },
      "outputs": [
        {
          "name": "stdout",
          "output_type": "stream",
          "text": [
            "enter year: 2012\n",
            "2012 is a leap year"
          ]
        }
      ],
      "source": [
        "!g++ program.c -o program\n",
        "! ./program"
      ]
    },
    {
      "cell_type": "markdown",
      "metadata": {
        "id": "UX_sBeyin4HZ"
      },
      "source": [
        "## if-else - find grade\n",
        "Write a C program that assigns a grade based on a given score using if-else statements. The program should prompt the user to enter a score between 0 and 100, determine the corresponding grade based on the following thresholds, and then display the grade:\n",
        "```\n",
        "Score >= 90: Grade A\n",
        "Score >= 80: Grade B\n",
        "Score >= 70: Grade C\n",
        "Score >= 60: Grade D\n",
        "Score >= 50: Grade E\n",
        "Score < 50: Grade F\n",
        "```"
      ]
    },
    {
      "cell_type": "code",
      "execution_count": null,
      "metadata": {
        "colab": {
          "base_uri": "https://localhost:8080/"
        },
        "id": "zX9ZPixVn_12",
        "outputId": "191ce58e-acf9-4d60-a0b2-1f28b8322135"
      },
      "outputs": [
        {
          "name": "stdout",
          "output_type": "stream",
          "text": [
            "Overwriting program.c\n"
          ]
        }
      ],
      "source": [
        "%%writefile program.c\n",
        "// if-else - find grade\n",
        "#include <stdio.h>\n",
        "int main() {\n",
        "  int score;\n",
        "  printf(\"enter score: \");\n",
        "  scanf(\"%d\", &score);\n",
        "\n",
        "  if (score >= 90) {\n",
        "    printf(\"grade A\");\n",
        "  }\n",
        "  else if (score >= 80) {\n",
        "    printf(\"grade B\");\n",
        "  }\n",
        "  else if (score >= 70) {\n",
        "    printf(\"grade C\");\n",
        "  }\n",
        "  else if (score >= 60) {\n",
        "    printf(\"grade D\");\n",
        "  }\n",
        "  else if (score >= 50) {\n",
        "    printf(\"grade E\");\n",
        "  }\n",
        "  else {\n",
        "    printf(\"grade F\");\n",
        "  }\n",
        "  return 0;\n",
        "}\n"
      ]
    },
    {
      "cell_type": "code",
      "execution_count": null,
      "metadata": {
        "colab": {
          "base_uri": "https://localhost:8080/"
        },
        "id": "V0kCLGuloAYa",
        "outputId": "6f6a0ae4-1bd8-4f47-c804-cccd7f532c88"
      },
      "outputs": [
        {
          "name": "stdout",
          "output_type": "stream",
          "text": [
            "enter score: 99\n",
            "grade A"
          ]
        }
      ],
      "source": [
        "!g++ program.c -o program\n",
        "! ./program"
      ]
    },
    {
      "cell_type": "markdown",
      "metadata": {
        "id": "V90XkpjDiQE5"
      },
      "source": [
        "## String Length\n",
        "Write a C program that calculates and prints the length of a given string using the strlen function. The program should initialize a string, determine its length, and then display the length.\n"
      ]
    },
    {
      "cell_type": "code",
      "execution_count": null,
      "metadata": {
        "colab": {
          "base_uri": "https://localhost:8080/"
        },
        "id": "CVekVELViU_b",
        "outputId": "14bb64cf-7099-48bf-bb32-e48587266d23"
      },
      "outputs": [
        {
          "name": "stdout",
          "output_type": "stream",
          "text": [
            "Overwriting program.c\n"
          ]
        }
      ],
      "source": [
        "%%writefile program.c\n",
        "// String - strlen\n",
        "#include <stdio.h>\n",
        "#include <string.h>\n",
        "\n",
        "int main() {\n",
        "  int length;\n",
        "  char string[] = \"Magizhchi Vaibogam\";\n",
        "  length = strlen(string);\n",
        "  printf(\"%d\",length);\n",
        "\n",
        "  return 0;\n",
        "\n",
        "\n",
        "}\n"
      ]
    },
    {
      "cell_type": "code",
      "execution_count": null,
      "metadata": {
        "colab": {
          "base_uri": "https://localhost:8080/"
        },
        "id": "I80cBXHdiU11",
        "outputId": "4796f63b-c5d5-4995-c72b-970214c74a78"
      },
      "outputs": [
        {
          "name": "stdout",
          "output_type": "stream",
          "text": [
            "18"
          ]
        }
      ],
      "source": [
        "!g++ program.c -o program\n",
        "! ./program"
      ]
    },
    {
      "cell_type": "markdown",
      "metadata": {
        "id": "5VpdTy3kjo8n"
      },
      "source": [
        "## String sizeof\n",
        "Write a C program that demonstrates the difference between initializing a string using double quotes and initializing a character array without a null terminator. The program should initialize two strings, calculate their lengths using the **sizeof** operator, and print the lengths. Explain why the lengths are different."
      ]
    },
    {
      "cell_type": "code",
      "execution_count": null,
      "metadata": {
        "colab": {
          "base_uri": "https://localhost:8080/"
        },
        "id": "msQIilPcju2c",
        "outputId": "1da1794f-a6bb-41ad-df73-23c7b597d22c"
      },
      "outputs": [
        {
          "name": "stdout",
          "output_type": "stream",
          "text": [
            "Overwriting program.c\n"
          ]
        }
      ],
      "source": [
        "%%writefile program.c\n",
        "// String - sizeof\n",
        "#include <stdio.h>\n",
        "#include <string.h>\n",
        "int main() {\n",
        "  int length1, length2;\n",
        "  char string[] = \"Magizhchi\";\n",
        "  char string2[] = {'M','a', 'g', 'i', 'z', 'h', 'c', 'h', 'i'};\n",
        "  length1 = sizeof(string);\n",
        "  length2 = sizeof(string2);\n",
        "  printf(\"%d %d\",length2, length1);\n",
        "\n",
        "  return 0;\n",
        "}\n"
      ]
    },
    {
      "cell_type": "code",
      "execution_count": null,
      "metadata": {
        "colab": {
          "base_uri": "https://localhost:8080/"
        },
        "id": "9McC4damjwsy",
        "outputId": "638ad84a-779e-494c-c112-ec8d5112527f"
      },
      "outputs": [
        {
          "name": "stdout",
          "output_type": "stream",
          "text": [
            "9 10"
          ]
        }
      ],
      "source": [
        "!g++ program.c -o program\n",
        "! ./program"
      ]
    },
    {
      "cell_type": "markdown",
      "metadata": {
        "id": "qYmqwTrFhE56"
      },
      "source": [
        "## String Reverse - strrev\n",
        "Write a C program that reverses a given string using the **strrev** function and prints the reversed string. The program should initialize a string, reverse it, and then display the reversed string.\n"
      ]
    },
    {
      "cell_type": "markdown",
      "metadata": {
        "id": "iU4ttnDyA5Zt"
      },
      "source": [
        "# strupr(), strlwr(), strrev(), which are only available in ANSI C (Turbo C/C++) and are not available in the standard C-GCC compiler."
      ]
    },
    {
      "cell_type": "code",
      "execution_count": null,
      "metadata": {
        "colab": {
          "base_uri": "https://localhost:8080/"
        },
        "id": "N7OGi7bKfl_g",
        "outputId": "8745c428-8724-4beb-8266-768f8dee01ee"
      },
      "outputs": [
        {
          "name": "stdout",
          "output_type": "stream",
          "text": [
            "Writing program.c\n"
          ]
        }
      ],
      "source": [
        "%%writefile program.c\n",
        "// String - strrev\n",
        "#include <stdio.h>\n",
        "#include <string.h>\n",
        "int main() {\n",
        "  char reversed;\n",
        "  char string[50] = \"Magizhchi Vaibogam\";\n",
        "  reversed = strrev(string);\n",
        "  printf(\"%s\",reversed);\n",
        "}\n"
      ]
    },
    {
      "cell_type": "code",
      "execution_count": null,
      "metadata": {
        "colab": {
          "base_uri": "https://localhost:8080/"
        },
        "id": "feb08ub3IVau",
        "outputId": "f41a6db6-e528-4180-9c11-ff1c53dbf79b"
      },
      "outputs": [
        {
          "name": "stdout",
          "output_type": "stream",
          "text": [
            "Overwriting program.c\n"
          ]
        }
      ],
      "source": [
        "%%writefile program.c\n",
        "// String - strrev\n",
        "#include <stdio.h>\n",
        "#include <string.h>\n",
        "\n",
        "int main() {\n",
        "    char str[] = \"Hello\";\n",
        "    strrev(str);\n",
        "    printf(\"Reversed string: %s\\n\", str);\n",
        "    return 0;\n",
        "}"
      ]
    },
    {
      "cell_type": "markdown",
      "metadata": {
        "id": "RFiF0XdXEwyk"
      },
      "source": [
        "## String reverse using use defined function"
      ]
    },
    {
      "cell_type": "code",
      "execution_count": null,
      "metadata": {
        "colab": {
          "base_uri": "https://localhost:8080/"
        },
        "id": "hzwCPpFTJ1t8",
        "outputId": "b89d0526-bd53-4113-d340-c13cd5905eda"
      },
      "outputs": [
        {
          "name": "stdout",
          "output_type": "stream",
          "text": [
            "Overwriting program.c\n"
          ]
        }
      ],
      "source": [
        "%%writefile program.c\n",
        "// String - strrev\n",
        "#include <stdio.h>\n",
        "#include <string.h>\n",
        "int main() {\n",
        "  char name[] = \"Magizhchi Vaibogam\";\n",
        "  char revname[20];\n",
        "  int len;\n",
        "  len = strlen(name);\n",
        "  for(int i=0; i<= len/2; i++) {\n",
        "    revname[i] = name[len-1-i];\n",
        "    revname[len-1-i] = name[i];\n",
        "    // printf(\"%s\\n\", revname);\n",
        "  }\n",
        "  printf(\"%s\", revname);\n",
        "  return 0;\n",
        "\n",
        "}\n"
      ]
    },
    {
      "cell_type": "code",
      "execution_count": null,
      "metadata": {
        "colab": {
          "base_uri": "https://localhost:8080/"
        },
        "id": "o2qkQZGRgnKm",
        "outputId": "3c8f532b-df52-406f-a08b-dec4a4f3571f"
      },
      "outputs": [
        {
          "name": "stdout",
          "output_type": "stream",
          "text": [
            "magobiaV ihchzigaM"
          ]
        }
      ],
      "source": [
        "!g++ program.c -o program\n",
        "! ./program"
      ]
    },
    {
      "cell_type": "markdown",
      "metadata": {
        "id": "vY3k-0I4jHQs"
      },
      "source": [
        "## String Concatenation\n",
        "Write a C program that concatenates two strings using the **strcat** function and prints the resulting concatenated string. The program should initialize two strings, concatenate the second string to the first, and then display the concatenated string."
      ]
    },
    {
      "cell_type": "code",
      "execution_count": null,
      "metadata": {
        "colab": {
          "base_uri": "https://localhost:8080/"
        },
        "id": "DhryeWufjRDJ",
        "outputId": "d542f529-e9c1-4026-9582-b60b846cf530"
      },
      "outputs": [
        {
          "name": "stdout",
          "output_type": "stream",
          "text": [
            "Overwriting program.c\n"
          ]
        }
      ],
      "source": [
        "%%writefile program.c\n",
        "// String - strcat\n",
        "#include <stdio.h>\n",
        "#include <string.h>\n",
        "\n",
        "int main() {\n",
        "  char name1[20] = {'M', 'a', 'g', 'i', 'z', 'h', 'c', 'h', 'i'};\n",
        "  char name2[20] = {'M', 'a', 'g', 'i'};\n",
        "  char name3[20] = \"Vai\";\n",
        "  char name4[20] = \"bogam\";\n",
        "\n",
        "  strcat(name1, name2);\n",
        "  strcat(name3, name4);\n",
        "  printf(\"the concatenated string is: %s\\n%s\", name1, name3);\n",
        "\n",
        "  return 0;\n",
        "}\n",
        "\n"
      ]
    },
    {
      "cell_type": "markdown",
      "metadata": {
        "id": "a_HTP0ixJgQJ"
      },
      "source": [
        "# Call by value, Call by reference"
      ]
    },
    {
      "cell_type": "code",
      "execution_count": null,
      "metadata": {
        "id": "1IbMsC6YJfCP"
      },
      "outputs": [],
      "source": [
        "%%writefile program.c\n",
        "// String - strcat\n",
        "#include <stdio.h>\n",
        "#include <string.h>\n",
        "\n",
        "void myfun(int a[], char n[], int x) {\n",
        "  printf(\"within function: %d, %d\\n\", a[1], x);\n",
        "  n[0] = 'B';\n",
        "  a[1] = 7;\n",
        "  x = 11;\n",
        "}\n",
        "\n",
        "int main() {\n",
        "  char name1[20] = {'M', 'a', 'g', 'i', 'z', 'h', 'c', 'h', 'i'};\n",
        "  char name2[20] = {'M', 'a', 'g', 'i'};\n",
        "  char name3[20] = \"Vai\";\n",
        "  char name4[20] = \"bogam\";\n",
        "  int intarr[5] = {1, 2, 3, 4, 5};\n",
        "  int x = 19;\n",
        "\n",
        "  myfun(intarr, name4, x);\n",
        "  printf(\"%d, %d, %s\", intarr[1], x, name4);\n",
        "\n",
        "  //strcat(name1, name2);\n",
        "  //strcat(name3, name4);\n",
        "  //printf(\"the concatenated string is: %s\\n%s\", name1, name3);\n",
        "  return 0;\n",
        "}\n",
        "\n"
      ]
    },
    {
      "cell_type": "markdown",
      "metadata": {
        "id": "OZq0unfBJr30"
      },
      "source": [
        "# strcat using user defined routine"
      ]
    },
    {
      "cell_type": "code",
      "execution_count": null,
      "metadata": {
        "colab": {
          "base_uri": "https://localhost:8080/"
        },
        "id": "DtZy8srlFuIv",
        "outputId": "5511e338-220e-466b-fa3d-b12a7df643b7"
      },
      "outputs": [
        {
          "name": "stdout",
          "output_type": "stream",
          "text": [
            "Overwriting program.c\n"
          ]
        }
      ],
      "source": [
        "%%writefile program.c\n",
        "// String - strcat\n",
        "#include <stdio.h>\n",
        "#include <string.h>\n",
        "\n",
        "void stringconcat(char str1[], char str2[]) {\n",
        "  int len1 = strlen(str1);\n",
        "  for (int i=0; i<strlen(str2); i++) {\n",
        "    str1[len1+i] = str2[i];\n",
        "  }\n",
        "}\n",
        "\n",
        "int main() {\n",
        "  char name3[20] = \"Vai\";\n",
        "  char name4[20] = \"bogam\";\n",
        "\n",
        "  stringconcat(name3, name4);\n",
        "  printf(\"the concatenated string is: %s\", name3);\n",
        "\n",
        "  return 0;\n",
        "}\n"
      ]
    },
    {
      "cell_type": "code",
      "execution_count": null,
      "metadata": {
        "colab": {
          "base_uri": "https://localhost:8080/"
        },
        "id": "JJW_RU8UjQ5C",
        "outputId": "ee6d2a09-8f2c-4448-d93b-cec72932d3ea"
      },
      "outputs": [
        {
          "name": "stdout",
          "output_type": "stream",
          "text": [
            "the concatenated string is: Vaibogam"
          ]
        }
      ],
      "source": [
        "!g++ program.c -o program\n",
        "! ./program"
      ]
    },
    {
      "cell_type": "markdown",
      "metadata": {
        "id": "uOmq9dxfh4fS"
      },
      "source": [
        "## String Compare 'n' characters - strncmp\n",
        "Write a C program that compares the first n characters of two strings using the **user defined** function. The program should initialize two strings, compare their first n characters, and print whether they are the same or different."
      ]
    },
    {
      "cell_type": "code",
      "execution_count": null,
      "metadata": {
        "colab": {
          "base_uri": "https://localhost:8080/"
        },
        "id": "4LwXWgm7iDQ4",
        "outputId": "e743e21b-2ada-452b-9c05-f4798555517e"
      },
      "outputs": [
        {
          "name": "stdout",
          "output_type": "stream",
          "text": [
            "Overwriting program.c\n"
          ]
        }
      ],
      "source": [
        "%%writefile program.c\n",
        "// String strcmp\n",
        "\n",
        "#include <stdio.h>\n",
        "\n",
        "// Function to calculate the length of a string\n",
        "int stringLength(char str[]) {\n",
        "    int length = 0;\n",
        "    while (str[length] != '\\0') {\n",
        "        length++;\n",
        "    }\n",
        "    return length;\n",
        "}\n",
        "\n",
        "// Function to compare two strings\n",
        "int compareStrings(char str1[], char str2[]) {\n",
        "    int i = 0;\n",
        "    while (str1[i] != '\\0' && str2[i] != '\\0') {\n",
        "        if (str1[i] != str2[i]) {\n",
        "            return str1[i] - str2[i];\n",
        "        }\n",
        "        i++;\n",
        "    }\n",
        "    // If one string is a prefix of the other\n",
        "    return str1[i] - str2[i];\n",
        "}\n",
        "\n",
        "int main() {\n",
        "    char str1[100], str2[100];\n",
        "    int length1, length2, comparisonResult;\n",
        "\n",
        "    printf(\"Enter the first string: \");\n",
        "    scanf(\"%s\", str1);\n",
        "    printf(\"Enter the second string: \");\n",
        "    scanf(\"%s\", str2);\n",
        "\n",
        "    length1 = stringLength(str1);\n",
        "    printf(\"Length of the first string: %d\\n\", length1);\n",
        "    length2 = stringLength(str2);\n",
        "    printf(\"Length of the second string: %d\\n\", length2);\n",
        "\n",
        "    // Compare the two strings\n",
        "    comparisonResult = compareStrings(str1, str2);\n",
        "    if (comparisonResult == 0) {\n",
        "        printf(\"The strings are equal.\\n\");\n",
        "    } else if (comparisonResult < 0) {\n",
        "        printf(\"The first string is less than the second string.\\n\");\n",
        "    } else {\n",
        "        printf(\"The first string is greater than the second string.\\n\");\n",
        "    }\n",
        "\n",
        "    return 0;\n",
        "}\n"
      ]
    },
    {
      "cell_type": "code",
      "execution_count": null,
      "metadata": {
        "colab": {
          "base_uri": "https://localhost:8080/"
        },
        "id": "87AtFlAViDE1",
        "outputId": "e09bc1f1-4b71-4906-d6cb-cfe615b01872"
      },
      "outputs": [
        {
          "name": "stdout",
          "output_type": "stream",
          "text": [
            "Enter the first string: apple\n",
            "Enter the second string: apple\n",
            "Length of the first string: 5\n",
            "Length of the second string: 5\n",
            "The strings are equal.\n"
          ]
        }
      ],
      "source": [
        "!g++ program.c -o program\n",
        "! ./program"
      ]
    },
    {
      "cell_type": "markdown",
      "metadata": {
        "id": "oPxEMB3iiwRr"
      },
      "source": [
        "## String\n",
        "Write a C program that performs the following string operations using standard library functions:\n",
        "\n",
        "- Calculate and print the length of a string.\n",
        "- Copy one string to another.\n",
        "- Concatenate two strings.\n",
        "- Compare two strings and print whether they are equal, or if one is greater or less than the other.\n",
        "\n",
        "The program should initialize sample strings, perform the operations, and display the results."
      ]
    },
    {
      "cell_type": "code",
      "execution_count": null,
      "metadata": {
        "colab": {
          "base_uri": "https://localhost:8080/"
        },
        "id": "WONmU81Vi3YQ",
        "outputId": "53822cc2-e4c6-4d3f-b413-04daebb371ef"
      },
      "outputs": [
        {
          "name": "stdout",
          "output_type": "stream",
          "text": [
            "Overwriting program.c\n"
          ]
        }
      ],
      "source": [
        "%%writefile program.c\n",
        "// String functions\n",
        "#include <stdio.h>\n",
        "#include <string.h>\n",
        "int main() {\n",
        "  char name1[]=\"apple\";\n",
        "  char name2[50];\n",
        "  strcpy(name2,name1);\n",
        "  printf(\"%s\",name2);\n",
        "  return 0;\n",
        "}\n"
      ]
    },
    {
      "cell_type": "code",
      "execution_count": null,
      "metadata": {
        "colab": {
          "base_uri": "https://localhost:8080/"
        },
        "id": "5qmvSOWBi3uJ",
        "outputId": "19bdb695-b5a3-4725-ec8b-6cb439bed914"
      },
      "outputs": [
        {
          "name": "stdout",
          "output_type": "stream",
          "text": [
            "apple"
          ]
        }
      ],
      "source": [
        "!g++ program.c -o program\n",
        "! ./program"
      ]
    },
    {
      "cell_type": "markdown",
      "metadata": {
        "id": "hLTI4xfzfm5L"
      },
      "source": [
        "## Tokonize - strlok\n",
        "Write a C program that tokenizes a given string using a specified set of delimiters. The program should use the **strtok** function to split the string into tokens based on the delimiters and then print each token on a new line.\n",
        "\n",
        "Eg.\n",
        "input\n",
        "```\n",
        "Delimiters: ,\n",
        "Hello, World, C!\n",
        "```\n",
        "output\n",
        "```\n",
        "Token: Hello\n",
        "Token: World\n",
        "Token: C!\n",
        "```\n",
        "\n",
        "\n",
        "\n",
        "\n",
        "\n",
        "\n"
      ]
    },
    {
      "cell_type": "code",
      "execution_count": null,
      "metadata": {
        "colab": {
          "base_uri": "https://localhost:8080/"
        },
        "id": "UjAmvZOugnII",
        "outputId": "c7c93fbd-c3c7-4b64-b396-5d7800142371"
      },
      "outputs": [
        {
          "name": "stdout",
          "output_type": "stream",
          "text": [
            "Overwriting program.c\n"
          ]
        }
      ],
      "source": [
        "%%writefile program.c\n",
        "// String strtok\n",
        "#include <stdio.h>\n",
        "#include <string.h>\n",
        "int main() {\n",
        "  char str1[] = \"my, name, is, magizhchi\";\n",
        "  char delim[] = \",\";\n",
        "  char *token = strtok(str1, delim);\n",
        "\n",
        "  while (token != NULL) {\n",
        "    printf(\"Token: %s\\n\", token);\n",
        "    token = strtok(NULL, delim);\n",
        "  }\n",
        "\n",
        "}\n"
      ]
    },
    {
      "cell_type": "code",
      "execution_count": null,
      "metadata": {
        "colab": {
          "base_uri": "https://localhost:8080/"
        },
        "id": "sk02SXKMgnFM",
        "outputId": "7f027f4f-8219-4748-fc44-36db9ab7fad9"
      },
      "outputs": [
        {
          "name": "stdout",
          "output_type": "stream",
          "text": [
            "Token: my\n",
            "Token:  name\n",
            "Token:  is\n",
            "Token:  magizhchi\n"
          ]
        }
      ],
      "source": [
        "!g++ program.c -o program\n",
        "! ./program"
      ]
    },
    {
      "cell_type": "markdown",
      "metadata": {
        "id": "_l-pfnmksivr"
      },
      "source": [
        "## Continue\n",
        "Write a C program that uses a for loop to print numbers from 1 to 10. The program should skip printing the number 6 using the continue statement. Ensure that the program does not print any message when skipping the number 6."
      ]
    },
    {
      "cell_type": "code",
      "execution_count": null,
      "metadata": {
        "colab": {
          "base_uri": "https://localhost:8080/"
        },
        "id": "cQmNiTDCspKB",
        "outputId": "acea37c0-6d6a-4b8e-f8fd-9474903e9539"
      },
      "outputs": [
        {
          "name": "stdout",
          "output_type": "stream",
          "text": [
            "Overwriting program.c\n"
          ]
        }
      ],
      "source": [
        "%%writefile program.c\n",
        "// continue\n",
        "#include <stdio.h>\n",
        "\n",
        "int main() {\n",
        "  int i;\n",
        "  for(i=1;i<=10;i++) {\n",
        "    if(i==6) {\n",
        "      continue;\n",
        "    }\n",
        "    printf(\"%d \",i);\n",
        "  }\n",
        "\n",
        "  return 0;\n",
        "}\n"
      ]
    },
    {
      "cell_type": "code",
      "execution_count": null,
      "metadata": {
        "colab": {
          "base_uri": "https://localhost:8080/"
        },
        "id": "KuCL-769soYk",
        "outputId": "3300e079-69f0-4cf9-e6dd-1025cae8655b"
      },
      "outputs": [
        {
          "name": "stdout",
          "output_type": "stream",
          "text": [
            "2 3 4 5 7 8 9 10 "
          ]
        }
      ],
      "source": [
        "!g++ program.c -o program\n",
        "! ./program"
      ]
    },
    {
      "cell_type": "markdown",
      "metadata": {
        "id": "j9DB_KbJssCW"
      },
      "source": [
        "## break\n",
        "Write a C program that uses a for loop to print numbers from 1 to 10. The program should break the loop when the number 6 is encountered, and print a message indicating that the loop is being broken at that point."
      ]
    },
    {
      "cell_type": "code",
      "execution_count": null,
      "metadata": {
        "colab": {
          "base_uri": "https://localhost:8080/"
        },
        "id": "EoTI-d8Nswmk",
        "outputId": "cc883a6d-a489-4353-d698-fa9ebb976e5d"
      },
      "outputs": [
        {
          "name": "stdout",
          "output_type": "stream",
          "text": [
            "Overwriting program.c\n"
          ]
        }
      ],
      "source": [
        "%%writefile program.c\n",
        "// continue\n",
        "#include <stdio.h>\n",
        "\n",
        "int main() {\n",
        "  int i;\n",
        "  for(i=1;i<=10;i++) {\n",
        "     if(i==6) {\n",
        "      break;\n",
        "    }\n",
        "    printf(\"%d \",i);\n",
        "  }\n",
        "  printf(\"\\nloop is broken\");\n",
        "\n",
        "  return 0;\n",
        "}\n"
      ]
    },
    {
      "cell_type": "code",
      "execution_count": null,
      "metadata": {
        "colab": {
          "base_uri": "https://localhost:8080/"
        },
        "id": "dWabfMrMsxKj",
        "outputId": "3afea51f-fe59-4d39-c6de-a667476c487f"
      },
      "outputs": [
        {
          "name": "stdout",
          "output_type": "stream",
          "text": [
            "1 2 3 4 5 \n",
            "loop is broken"
          ]
        }
      ],
      "source": [
        "!g++ program.c -o program\n",
        "! ./program"
      ]
    },
    {
      "cell_type": "markdown",
      "metadata": {
        "id": "kNelja2Iaec3"
      },
      "source": [
        "Sum and avg using array"
      ]
    },
    {
      "cell_type": "code",
      "execution_count": null,
      "metadata": {
        "colab": {
          "base_uri": "https://localhost:8080/"
        },
        "id": "ljzG9GNJajFy",
        "outputId": "a178c560-8e93-4a07-972a-5072362f3889"
      },
      "outputs": [
        {
          "name": "stdout",
          "output_type": "stream",
          "text": [
            "Overwriting program.c\n"
          ]
        }
      ],
      "source": [
        "%%writefile program.c\n",
        "#include <stdio.h>\n",
        "\n",
        "int main() {\n",
        "  int i, sum=0, n=5;\n",
        "  float avg;\n",
        "  int arr[5] = {1,2,31,4,5};\n",
        "\n",
        "  for (i=0; i<n; i++) {\n",
        "    sum = sum + arr[i];\n",
        "  }\n",
        "  printf(\"sum= %d\\n\", sum);\n",
        "  avg = (float) sum / n;\n",
        "  printf(\"avg= %.2f\", avg);\n",
        "\n",
        "  return 0;\n",
        "}"
      ]
    },
    {
      "cell_type": "code",
      "execution_count": null,
      "metadata": {
        "colab": {
          "base_uri": "https://localhost:8080/"
        },
        "id": "5JNQsmNNasla",
        "outputId": "3d04cd06-84ed-43eb-9cbe-e7ce4e4182f1"
      },
      "outputs": [
        {
          "name": "stdout",
          "output_type": "stream",
          "text": [
            "sum= 43\n",
            "avg= 8.60"
          ]
        }
      ],
      "source": [
        "!g++ program.c -o program\n",
        "! ./program"
      ]
    },
    {
      "cell_type": "markdown",
      "metadata": {
        "id": "O6RTKOM7e7rM"
      },
      "source": [
        "GET INPUT IN ARRAY\n"
      ]
    },
    {
      "cell_type": "code",
      "execution_count": null,
      "metadata": {
        "colab": {
          "base_uri": "https://localhost:8080/"
        },
        "id": "f5aBLg-we-39",
        "outputId": "a63749d7-8726-4689-b246-0d288f99815b"
      },
      "outputs": [
        {
          "name": "stdout",
          "output_type": "stream",
          "text": [
            "Overwriting program.c\n"
          ]
        }
      ],
      "source": [
        "%%writefile program.c\n",
        "#include <stdio.h>\n",
        "int main() {\n",
        "  int arr[50];\n",
        "  int i,n;\n",
        "  printf(\"enter no of elements: \");\n",
        "  scanf(\"%d\", &n);\n",
        "  for(i=0;i<n;i++) {\n",
        "    scanf(\"%d\", &arr[i]);\n",
        "  }\n",
        "  for(i=0;i<n;i++) {\n",
        "    printf(\"%d \", arr[i]);\n",
        "  }\n",
        "  return 0;\n",
        "}"
      ]
    },
    {
      "cell_type": "code",
      "execution_count": null,
      "metadata": {
        "colab": {
          "base_uri": "https://localhost:8080/"
        },
        "id": "NrmHG305e_E_",
        "outputId": "b1d8a850-c934-49df-b337-b69d1ed41dab"
      },
      "outputs": [
        {
          "name": "stdout",
          "output_type": "stream",
          "text": [
            "enter no of elements: 10\n",
            "1 2 3 4 5 6 7 8 9 0\n",
            "1 2 3 4 5 6 7 8 9 0 "
          ]
        }
      ],
      "source": [
        "!g++ program.c -o program\n",
        "! ./program"
      ]
    },
    {
      "cell_type": "markdown",
      "metadata": {
        "id": "v3t7i9cyqGsG"
      },
      "source": [
        "## Array\n",
        "Write a C program that counts the number of even and odd elements in an array. The program should prompt the user to enter the number of elements in the array, input the elements, count the even and odd elements, and then display the counts.\n",
        "\n",
        "Example input and output:\n",
        "```\n",
        "Enter the number of elements in the array: 5\n",
        "Enter the elements of the array:\n",
        "1 2 3 4 5\n",
        "Number of even elements: 2\n",
        "Number of odd elements: 3\n",
        "```"
      ]
    },
    {
      "cell_type": "code",
      "execution_count": null,
      "metadata": {
        "colab": {
          "base_uri": "https://localhost:8080/"
        },
        "id": "5tJDMJyGqQDk",
        "outputId": "ec427bd6-6fb2-40f2-fcc0-db2f1dd685ca"
      },
      "outputs": [
        {
          "name": "stdout",
          "output_type": "stream",
          "text": [
            "Overwriting program.c\n"
          ]
        }
      ],
      "source": [
        "%%writefile program.c\n",
        "//Array\n",
        "#include <stdio.h>\n",
        "int main() {\n",
        "  int i,even_count, odd_count;\n",
        "  int arr[5]={1,2,3,4,5};\n",
        "\n",
        "  for (i=0; i<5; i++) {\n",
        "    if (arr[i]%2==0){\n",
        "      even_count++;\n",
        "    }\n",
        "    else {\n",
        "      odd_count++;\n",
        "    }\n",
        "  }\n",
        "  printf(\"Number of even elements: %d\\n\", even_count);\n",
        "  printf(\"Number of odd elements: %d\", odd_count);\n",
        "\n",
        "  return 0;\n",
        "}\n"
      ]
    },
    {
      "cell_type": "code",
      "execution_count": null,
      "metadata": {
        "colab": {
          "base_uri": "https://localhost:8080/"
        },
        "id": "6ShVr11sqP3i",
        "outputId": "7bb8d75e-f9e1-4a0a-87cc-da496c8542d5"
      },
      "outputs": [
        {
          "name": "stdout",
          "output_type": "stream",
          "text": [
            "Number of even elements: 2\n",
            "Number of odd elements: 3"
          ]
        }
      ],
      "source": [
        "!g++ program.c -o program\n",
        "! ./program"
      ]
    },
    {
      "cell_type": "markdown",
      "metadata": {
        "id": "bOL_1socrBkF"
      },
      "source": [
        "## Array - Equilibrium Index\n",
        "Write a C program that finds the equilibrium index of an array. The equilibrium index is an index such that the sum of elements on the left is equal to the sum of elements on the right. The program should prompt the user to enter the number of elements in the array, input the elements, and then find and display the equilibrium index. If no equilibrium index is found, the program should display a message indicating that.\n",
        "\n",
        "Example input and output:\n",
        "```\n",
        "Enter the number of elements: 5\n",
        "Enter the elements of the array:\n",
        "1 3 5 2 2\n",
        "Equilibrium index is: 2\n",
        "\n",
        "Enter the number of elements: 4\n",
        "Enter the elements of the array:\n",
        "1 2 3 4\n",
        "No equilibrium index found\n",
        "\n",
        "\n",
        "5 2 1 4 3 4 1\n",
        "\n",
        "\n",
        "1  5, 1\n",
        "2  7, 5\n",
        "3  8, 8\n",
        "index 3\n",
        "```\n"
      ]
    },
    {
      "cell_type": "code",
      "execution_count": null,
      "metadata": {
        "colab": {
          "base_uri": "https://localhost:8080/"
        },
        "id": "tyAZPxxgr4JE",
        "outputId": "fab747ae-2d7a-4dd2-de7a-87931571fd06"
      },
      "outputs": [
        {
          "name": "stdout",
          "output_type": "stream",
          "text": [
            "Overwriting program.c\n"
          ]
        }
      ],
      "source": [
        "%%writefile program.c\n",
        "//Array - equilibrium index\n",
        "\n",
        "\n",
        "#include <stdio.h>\n",
        "#include <string.h>\n",
        "\n",
        "int main() {\n",
        "  int arr[50];\n",
        "  int i,n;\n",
        "  printf(\"enter no of elements: \");\n",
        "  scanf(\"%d\", &n);\n",
        "  for(i=0;i<n;i++) {\n",
        "    scanf(\"%d\", &arr[i]);\n",
        "  }\n",
        "\n",
        "  int left_sum=0, right_sum=0;\n",
        "  int eqindex = 0;\n",
        "  for (i=0;i<n/2;i++) {\n",
        "    left_sum = left_sum + arr[i];\n",
        "    right_sum = right_sum + arr[n-1-i];\n",
        "    printf(\"%d, %d\\n\", left_sum, right_sum);\n",
        "\n",
        "    if (left_sum==right_sum) {\n",
        "      eqindex = i + 1;\n",
        "      break;\n",
        "    }\n",
        "\n",
        "  }\n",
        "  if (!eqindex) {\n",
        "    printf(\"no equilibrium index\");\n",
        "  }\n",
        "  else {\n",
        "    printf(\"equilibrium index is %d\", eqindex);\n",
        "  }\n",
        "  return 0;\n",
        "}\n",
        "\n"
      ]
    },
    {
      "cell_type": "code",
      "execution_count": null,
      "metadata": {
        "colab": {
          "base_uri": "https://localhost:8080/"
        },
        "id": "w_xTYfEyr4mn",
        "outputId": "c32135ae-5a58-4b69-8fcb-346f2d550a73"
      },
      "outputs": [
        {
          "name": "stdout",
          "output_type": "stream",
          "text": [
            "enter no of elements: 5\n",
            "1 2 3 2 1\n",
            "1, 1\n",
            "equilibrium index is 1"
          ]
        }
      ],
      "source": [
        "!g++ program.c -o program\n",
        "! ./program"
      ]
    },
    {
      "cell_type": "markdown",
      "metadata": {
        "id": "mWH1wM_Lm8KI"
      },
      "source": [
        "## Matrix Addition\n",
        "Write a C program that performs matrix addition. The program should prompt the user to enter the number of rows and columns for two matrices, input the elements of both matrices, compute their sum, and then display the resulting matrix."
      ]
    },
    {
      "cell_type": "code",
      "execution_count": null,
      "metadata": {
        "id": "SJiuwl44m-Pz"
      },
      "outputs": [],
      "source": [
        "%%writefile program.c\n",
        "//Marix - Addition\n",
        "#include <stdio.h>\n",
        "int main() {\n",
        "  int row,col,i,j;\n",
        "  int matrix1 = [];\n",
        "  int matrix2 = [];\n",
        "\n",
        "  for(i=1;i<r;i++) {\n",
        "    for(j=1;j<c;j++) {\n",
        "      matrix1 = [i][j];\n",
        "    }\n",
        "  }\n",
        "}\n",
        "\n"
      ]
    },
    {
      "cell_type": "code",
      "execution_count": null,
      "metadata": {
        "id": "iqNKR9z8m9-M"
      },
      "outputs": [],
      "source": [
        "!g++ program.c -o program\n",
        "! ./program"
      ]
    },
    {
      "cell_type": "markdown",
      "metadata": {
        "id": "a_W_UsHra22c"
      },
      "source": [
        "Matrix Subtraction"
      ]
    },
    {
      "cell_type": "code",
      "execution_count": null,
      "metadata": {
        "id": "kgM_C2MOa7O1"
      },
      "outputs": [],
      "source": [
        "%%writefile program.c"
      ]
    },
    {
      "cell_type": "code",
      "execution_count": null,
      "metadata": {
        "id": "EEkKE6uEa7h6"
      },
      "outputs": [],
      "source": [
        "!g++ program.c -o program\n",
        "! ./program"
      ]
    },
    {
      "cell_type": "markdown",
      "metadata": {
        "id": "4n-YUYNAa8AI"
      },
      "source": [
        "Matrix Multiplication"
      ]
    },
    {
      "cell_type": "code",
      "execution_count": null,
      "metadata": {
        "colab": {
          "base_uri": "https://localhost:8080/"
        },
        "id": "4dO-FwX5a_se",
        "outputId": "79a17830-9d18-4994-dcd6-56dd15c3b4eb"
      },
      "outputs": [
        {
          "name": "stdout",
          "output_type": "stream",
          "text": [
            "Overwriting program.c\n"
          ]
        }
      ],
      "source": [
        "%%writefile program.c\n",
        "\n",
        "#include <stdio.h>\n",
        "\n",
        "int multiplyMatrices(int mat1[][10], int mat2[][10], int result[][10], int row1, int col1, int row2, int col2) {\n",
        "    if (col1 != row2) {\n",
        "        printf(\"Error! Column of first matrix should be equal to row of second matrix.\\n\");\n",
        "        return -1;\n",
        "    }\n",
        "\n",
        "    for (int i = 0; i < row1; ++i) {\n",
        "        for (int j = 0; j < col2; ++j) {\n",
        "            result[i][j] = 0;\n",
        "            for (int k = 0; k < col1; ++k) {\n",
        "                result[i][j] += mat1[i][k] * mat2[k][j];\n",
        "            }\n",
        "        }\n",
        "    }\n",
        "\n",
        "    return 0;\n",
        "}\n",
        "\n",
        "void display(int matrix[][10], int row, int column) {\n",
        "    for (int i = 0; i < row; ++i) {\n",
        "        for (int j = 0; j < column; ++j) {\n",
        "            printf(\"%d  \", matrix[i][j]);\n",
        "            if (j == column - 1)\n",
        "                printf(\"\\n\");\n",
        "        }\n",
        "    }\n",
        "}\n",
        "\n",
        "void readMatrix(int matrix[][10], int row, int col) {\n",
        "    for (int i = 0; i < row; ++i) {\n",
        "        for (int j = 0; j < col; ++j) {\n",
        "            printf(\"Enter element %d%d: \", i + 1, j + 1);\n",
        "            scanf(\"%d\", &matrix[i][j]);\n",
        "        }\n",
        "    }\n",
        "}\n",
        "\n",
        "int main() {\n",
        "    int mat1[10][10], mat2[10][10], result[10][10], row1, col1, row2, col2;\n",
        "\n",
        "    printf(\"Enter rows and columns for the first matrix: \");\n",
        "    scanf(\"%d %d\", &row1, &col1);\n",
        "\n",
        "    printf(\"Enter rows and columns for the second matrix: \");\n",
        "    scanf(\"%d %d\", &row2, &col2);\n",
        "\n",
        "    // Check if multiplication is possible\n",
        "    if (col1 != row2) {\n",
        "        printf(\"Error! Column of first matrix should be equal to row of second matrix.\\n\");\n",
        "        return -1;\n",
        "    }\n",
        "\n",
        "    // Taking input for the first matrix\n",
        "    printf(\"\\nEnter elements of the first matrix:\\n\");\n",
        "    readMatrix(mat1, row1, col1);\n",
        "\n",
        "    // Taking input for the second matrix\n",
        "    printf(\"\\nEnter elements of the second matrix:\\n\");\n",
        "    readMatrix(mat2, row2, col2);\n",
        "\n",
        "    // Multiplying the matrices\n",
        "    multiplyMatrices(mat1, mat2, result, row1, col1, row2, col2);\n",
        "\n",
        "    printf(\"\\n First matrix:\\n\");\n",
        "    display(mat1, row1, col1);\n",
        "\n",
        "    printf(\"\\nSecond matrix:\\n\");\n",
        "    display(mat2, row2, col2);\n",
        "\n",
        "    // Displaying the result\n",
        "    printf(\"\\nResultant matrix:\\n\");\n",
        "    display(result, row1, col2);\n",
        "\n",
        "    return 0;\n",
        "}\n"
      ]
    },
    {
      "cell_type": "code",
      "execution_count": null,
      "metadata": {
        "colab": {
          "base_uri": "https://localhost:8080/"
        },
        "id": "KzCWbErHa_4l",
        "outputId": "6f2d59ac-4980-41a2-ad4c-374e6aea7092"
      },
      "outputs": [
        {
          "name": "stdout",
          "output_type": "stream",
          "text": [
            "Enter rows and columns for the first matrix: 2 3\n",
            "Enter rows and columns for the second matrix: 3 3\n",
            "\n",
            "Enter elements of the first matrix:\n",
            "Enter element 11: 1 2 3 4 5 6\n",
            "Enter element 12: Enter element 13: Enter element 21: Enter element 22: Enter element 23: \n",
            "Enter elements of the second matrix:\n",
            "Enter element 11: 1 2 3 4 5 6 7 8 9\n",
            "Enter element 12: Enter element 13: Enter element 21: Enter element 22: Enter element 23: Enter element 31: Enter element 32: Enter element 33: \n",
            " First matrix:\n",
            "1  2  3  \n",
            "4  5  6  \n",
            "\n",
            "Second matrix:\n",
            "1  2  3  \n",
            "4  5  6  \n",
            "7  8  9  \n",
            "\n",
            "Resultant matrix:\n",
            "30  36  42  \n",
            "66  81  96  \n"
          ]
        }
      ],
      "source": [
        "!g++ program.c -o program\n",
        "! ./program"
      ]
    },
    {
      "cell_type": "markdown",
      "metadata": {
        "id": "VWBf0yG_eiFR"
      },
      "source": [
        "## Matrix - Major and Minor diagonals\n",
        "Write a C program that calculates the sum of the primary (major) and secondary (minor) diagonals of a square matrix. The program should prompt the user to enter the size of the matrix and then input the elements of the matrix. Finally, it should calculate and display the sums of the primary and secondary diagonals."
      ]
    },
    {
      "cell_type": "code",
      "execution_count": null,
      "metadata": {
        "id": "bm-N1pdjm5Bo"
      },
      "outputs": [],
      "source": [
        "%%writefile program.c\n",
        "//Marix - Calculate the Sum of Major and Minor Diagonal\n",
        "#include <stdio.h>\n",
        "\n"
      ]
    },
    {
      "cell_type": "code",
      "execution_count": null,
      "metadata": {
        "id": "UE5Z7EY3m55f"
      },
      "outputs": [],
      "source": [
        "!g++ program.c -o program\n",
        "! ./program"
      ]
    },
    {
      "cell_type": "markdown",
      "metadata": {
        "id": "bra_jBOPpIBF"
      },
      "source": [
        "## Function\n",
        "Write a C program that calculates the area of a circle using a function. The program should define a function calculateArea that takes the radius as an argument and returns the area of the circle. The program should prompt the user to enter the radius, call the calculateArea function, and then display the area."
      ]
    },
    {
      "cell_type": "code",
      "execution_count": null,
      "metadata": {
        "colab": {
          "base_uri": "https://localhost:8080/"
        },
        "id": "gdxGljuEpQHd",
        "outputId": "ad4a82d5-f006-48d3-cd36-94b7d2c53519"
      },
      "outputs": [
        {
          "name": "stdout",
          "output_type": "stream",
          "text": [
            "Overwriting program.c\n"
          ]
        }
      ],
      "source": [
        "%%writefile program.c\n",
        "// Area\n",
        "#include <stdio.h>\n",
        "#define PI 22.0/7\n",
        "float calculateArea(float radius) {\n",
        "  float area;\n",
        "  area = PI*radius*radius;\n",
        "  return area;\n",
        "}\n",
        "\n",
        "int main() {\n",
        "  float area,radius;\n",
        "  printf(\"enter radius: \");\n",
        "  scanf(\"%f\", &radius);\n",
        "  area = calculateArea(radius);\n",
        "  printf(\"area = %.2f\", area);\n",
        "  return 0;\n",
        "}\n"
      ]
    },
    {
      "cell_type": "code",
      "execution_count": null,
      "metadata": {
        "colab": {
          "background_save": true,
          "base_uri": "https://localhost:8080/"
        },
        "id": "ynA_TBigpQt4",
        "outputId": "8e7bc2b5-44d3-4eca-921b-c392898a7f02"
      },
      "outputs": [
        {
          "name": "stdout",
          "output_type": "stream",
          "text": [
            "enter radius: "
          ]
        }
      ],
      "source": [
        "!g++ program.c -o program\n",
        "! ./program"
      ]
    },
    {
      "cell_type": "markdown",
      "metadata": {
        "id": "RbgK59nIhVnY"
      },
      "source": [
        "## Factorial\n",
        "Write a C program that calculates the factorial of a given number using a for loop. The program should prompt the user to enter a number, compute its factorial, and then display the result."
      ]
    },
    {
      "cell_type": "markdown",
      "metadata": {
        "id": "CJXU5_ExoR6w"
      },
      "source": [
        "## Factorial Function\n",
        "Write a C program that calculates the factorial of a given number using a function. The program should define a function factorial that computes the factorial using a for loop, prompt the user to enter a number, check if the number is non-negative, call the factorial function, and then display the result. If the number is negative, the program should print a message indicating that the factorial is not defined for negative numbers."
      ]
    },
    {
      "cell_type": "code",
      "execution_count": null,
      "metadata": {
        "colab": {
          "base_uri": "https://localhost:8080/"
        },
        "id": "-vcd06AUgnCH",
        "outputId": "06c2c5a1-392c-496e-cd27-496d29fb20c5"
      },
      "outputs": [
        {
          "name": "stdout",
          "output_type": "stream",
          "text": [
            "Overwriting program.c\n"
          ]
        }
      ],
      "source": [
        "%%writefile program.c\n",
        "// Factorial\n",
        "#include <stdio.h>\n",
        "\n",
        "int Factorial(int n) {\n",
        "  int fact=1;\n",
        "  while(n>0){\n",
        "    fact = fact*n;\n",
        "    n--;\n",
        "  }\n",
        "  return fact;\n",
        "}\n",
        "\n",
        "int main() {\n",
        "  int n, fact=1;\n",
        "\n",
        "  printf(\"enter number: \");\n",
        "  scanf(\"%d\", &n);\n",
        "  if (n<0) {\n",
        "    printf(\"The number can't be negative to calculate factorial\");\n",
        "    return 1;\n",
        "  }\n",
        "\n",
        "  fact = Factorial(n);\n",
        "  printf(\"factorial= %d\", fact);\n",
        "\n",
        "  return 0;\n",
        "}\n"
      ]
    },
    {
      "cell_type": "code",
      "execution_count": null,
      "metadata": {
        "colab": {
          "base_uri": "https://localhost:8080/"
        },
        "id": "vKdVhXSigm_I",
        "outputId": "24ba1eb2-0d2a-40e1-d1b0-daaacc7ca93f"
      },
      "outputs": [
        {
          "name": "stdout",
          "output_type": "stream",
          "text": [
            "enter number: 7\n",
            "factorial= 5040"
          ]
        }
      ],
      "source": [
        "!g++ program.c -o program\n",
        "! ./program"
      ]
    },
    {
      "cell_type": "code",
      "execution_count": null,
      "metadata": {
        "id": "odDpW35-oeor"
      },
      "outputs": [],
      "source": [
        "%%writefile program.c\n",
        "// Factorial Function\n",
        "#include <stdio.h>\n"
      ]
    },
    {
      "cell_type": "code",
      "execution_count": null,
      "metadata": {
        "id": "X8M-h3whofAb"
      },
      "outputs": [],
      "source": [
        "!g++ program.c -o program\n",
        "! ./program"
      ]
    },
    {
      "cell_type": "markdown",
      "metadata": {
        "id": "nhI4xG1QkTvz"
      },
      "source": [
        "## Recursive - Factorial\n",
        "Write a C program that calculates the factorial of a given number using a recursive function. The program should define a recursive function fact that computes the factorial, prompt the user to enter a number, call the recursive function, and then display the result."
      ]
    },
    {
      "cell_type": "code",
      "execution_count": null,
      "metadata": {
        "colab": {
          "base_uri": "https://localhost:8080/"
        },
        "id": "qTbTIHQMgm8G",
        "outputId": "d8342833-6961-4bfa-e51b-26f9051e38ca"
      },
      "outputs": [
        {
          "name": "stdout",
          "output_type": "stream",
          "text": [
            "Overwriting program.c\n"
          ]
        }
      ],
      "source": [
        "%%writefile program.c\n",
        "// Factorial - Recursive\n",
        "\n",
        "/*\n",
        "fact(n) = n * fact(n-1)\n",
        "fact(n-1) = (n-1) * fact(n-1-1)\n",
        "...till\n",
        "fact(1) = 1\n",
        "\n",
        "\n",
        "main:\n",
        "  --> fact(5) <- 120  <- fact(5)\n",
        "\n",
        "fact:\n",
        " --> fact(5) -> 5 * fact(4)  <- 24 <- fact(4)\n",
        " --> fact(4) -> 4 * fact(3)  <- 6 <- fact(3)\n",
        " --> fact(3) -> 3 * fact(2)  <- 2 <- fact(2)\n",
        " --> fact(2) -> 2 * fact(1)  <- 1 <- fact(1)\n",
        " --> fact(1) -> 1\n",
        "*/\n",
        "\n",
        "#include <stdio.h>\n",
        "\n",
        "int factorial(int n) {\n",
        "  if (n > 1) {\n",
        "    printf(\"%d = %d\\n\", n, n*factorial(n-1));\n",
        "    return n * factorial(n-1);\n",
        "  }\n",
        "  else {\n",
        "    printf(\"1 = 1\\n\");\n",
        "    return 1;\n",
        "  }\n",
        "}\n",
        "\n",
        "int main() {\n",
        "  int n, fact=1;\n",
        "\n",
        "  printf(\"enter number: \");\n",
        "  scanf(\"%d\", &n);\n",
        "  if (n<0) {\n",
        "    printf(\"The number can't be negative to calculate factorial\");\n",
        "    return 1;\n",
        "  }\n",
        "\n",
        "  fact = factorial(n);\n",
        "  printf(\"factorial= %d\", fact);\n",
        "\n",
        "  return 0;\n",
        "}\n"
      ]
    },
    {
      "cell_type": "code",
      "execution_count": null,
      "metadata": {
        "colab": {
          "base_uri": "https://localhost:8080/"
        },
        "id": "Mxm46ybVgmyN",
        "outputId": "1e0d4245-18ef-4a4d-8a89-1091ecff9a64"
      },
      "outputs": [
        {
          "name": "stdout",
          "output_type": "stream",
          "text": [
            "enter number: 5\n",
            "1 = 1\n",
            "2 = 2\n",
            "1 = 1\n",
            "3 = 6\n",
            "1 = 1\n",
            "2 = 2\n",
            "1 = 1\n",
            "4 = 24\n",
            "1 = 1\n",
            "2 = 2\n",
            "1 = 1\n",
            "3 = 6\n",
            "1 = 1\n",
            "2 = 2\n",
            "1 = 1\n",
            "5 = 120\n",
            "1 = 1\n",
            "2 = 2\n",
            "1 = 1\n",
            "3 = 6\n",
            "1 = 1\n",
            "2 = 2\n",
            "1 = 1\n",
            "4 = 24\n",
            "1 = 1\n",
            "2 = 2\n",
            "1 = 1\n",
            "3 = 6\n",
            "1 = 1\n",
            "2 = 2\n",
            "1 = 1\n",
            "factorial= 120"
          ]
        }
      ],
      "source": [
        "!g++ program.c -o program\n",
        "! ./program"
      ]
    },
    {
      "cell_type": "code",
      "execution_count": null,
      "metadata": {
        "colab": {
          "base_uri": "https://localhost:8080/"
        },
        "id": "vAHtPQh8gGS_",
        "outputId": "1ea9d1bb-d45c-45db-b5d9-721c36ef8083"
      },
      "outputs": [
        {
          "name": "stdout",
          "output_type": "stream",
          "text": [
            "Overwriting program.c\n"
          ]
        }
      ],
      "source": [
        "%%writefile program.c\n",
        "// Fibonacci - Recursive\n",
        "\n",
        "#include <stdio.h>\n",
        "\n",
        "// 5\n",
        "// fib(5) = fib(4) + fib(3)  => 5 + 3 => 8\n",
        "// fib(4) = fib(3) + fib(2)  => 3 + 2\n",
        "// fib(2) + fib(1)  => 2 + 1\n",
        "// fib(1) + fib(0)   => 1 + 1\n",
        "// fib(2) = fib(1) + fib(0)\n",
        "// fib(1) = 1\n",
        "// fib(0) = 0\n",
        "// 0 1 1 2 3 5\n",
        "\n",
        "int fibonacci(int n) {\n",
        "  int fib;\n",
        "  if (n == 0 || n == 1) {\n",
        "    return n;\n",
        "  }\n",
        "  else {\n",
        "    fib = fibonacci(n-1) + fibonacci(n-2);\n",
        "    //printf(\"%d \", fib);\n",
        "    return fib;\n",
        "  }\n",
        "}\n",
        "\n",
        "int main() {\n",
        "  int n, fib=1;\n",
        "\n",
        "  printf(\"enter number: \");\n",
        "  scanf(\"%d\", &n);\n",
        "  if (n<0) {\n",
        "    printf(\"The number can't be negative to calculate fibonacci series\");\n",
        "    return 1;\n",
        "  }\n",
        "\n",
        "  for (int i=0; i<n; i++) {\n",
        "    printf(\"%d \", fibonacci(i));\n",
        "  }\n",
        "\n",
        "  return 0;\n",
        "}\n"
      ]
    },
    {
      "cell_type": "code",
      "execution_count": null,
      "metadata": {
        "colab": {
          "base_uri": "https://localhost:8080/"
        },
        "id": "Sdhh8hcyuqUN",
        "outputId": "2d8f8fd5-562e-4aee-de6c-cede40e3f527"
      },
      "outputs": [
        {
          "name": "stdout",
          "output_type": "stream",
          "text": [
            "enter number: 10\n",
            "0 1 1 2 3 5 8 13 21 34 "
          ]
        }
      ],
      "source": [
        "!g++ program.c -o program\n",
        "! ./program"
      ]
    },
    {
      "cell_type": "code",
      "execution_count": null,
      "metadata": {
        "colab": {
          "base_uri": "https://localhost:8080/"
        },
        "id": "6fxnn4SyvYS9",
        "outputId": "324d4134-0ca6-4de4-f837-b0a08f22520b"
      },
      "outputs": [
        {
          "name": "stdout",
          "output_type": "stream",
          "text": [
            "Overwriting program.c\n"
          ]
        }
      ],
      "source": [
        "%%writefile program.c\n",
        "// Palindrome - Recursive\n",
        "\n",
        "// malayalam\n",
        "// char 0 and len-1\n",
        "// len = 9\n",
        "// s[0] == s[len-1]  ==> s[0+1] == s[len-1-1]\n",
        "// s[0]\n",
        "\n",
        "#include <stdio.h>\n",
        "#include <string.h>\n",
        "\n",
        "// 1 is palindrome, 0 is not palindrome\n",
        "int isPalindrome(char str[], int s, int e) {\n",
        "  if (str[s] != str[e]) {\n",
        "    return 0;\n",
        "  }\n",
        "\n",
        "  if (s >= e) {\n",
        "    return 1;\n",
        "  }\n",
        "\n",
        "  return isPalindrome(str, s+1, e-1);\n",
        "}\n",
        "\n",
        "int main() {\n",
        "  char str[20];\n",
        "  printf(\"Enter the string: \");\n",
        "  scanf(\"%s\", str);\n",
        "  int isPali = isPalindrome(str, 0, strlen(str)-1);\n",
        "  if ( isPali ) {\n",
        "    printf(\"It's a palindrome\");\n",
        "  }\n",
        "  else {\n",
        "    printf(\"it's not a palindrome\");\n",
        "  }\n",
        "}\n"
      ]
    },
    {
      "cell_type": "code",
      "execution_count": null,
      "metadata": {
        "colab": {
          "base_uri": "https://localhost:8080/"
        },
        "id": "kKAh0cFXyzEW",
        "outputId": "0868be0c-e31d-4c55-ef29-b98706648ef9"
      },
      "outputs": [
        {
          "name": "stdout",
          "output_type": "stream",
          "text": [
            "Overwriting program.c\n"
          ]
        }
      ],
      "source": [
        "%%writefile program.c\n",
        "// GCD - Recursive\n",
        "\n",
        "/*\n",
        "FACT(n) = {\n",
        "    1, if n =0,\n",
        "    n * fact(n-1), otherwise\n",
        "}\n",
        "\n",
        "GCD(a, b) = {\n",
        "    a, if b=0\n",
        "    GCD(b, a%b), otherwise\n",
        "}\n",
        "\n",
        "GCD(b, a%b)\n",
        "GCD(24, 18)\n",
        "GCD(18, 24 % 18) -> (18, 6)\n",
        "GCD(6, 18 % 6)\n",
        "return 6\n",
        "\n",
        "GCD(18, 24)\n",
        "GCD(24, 18 % 24)\n",
        "GCD(18, 24 % 18)\n",
        "*/\n",
        "\n",
        "#include <stdio.h>\n",
        "\n",
        "int GCD(int a, int b) {\n",
        "  if (b == 0) {  // if (!b) {\n",
        "    return a;\n",
        "  }\n",
        "\n",
        "  return GCD(b, a % b);\n",
        "}\n",
        "\n",
        "int main() {\n",
        "  int a, b;\n",
        "  printf(\"Enter two numbers to find GCD: \");\n",
        "  scanf(\"%d %d\", &a, &b);\n",
        "  printf(\"GCD : %d\", GCD(a, b));\n",
        "\n",
        "}\n"
      ]
    },
    {
      "cell_type": "code",
      "execution_count": null,
      "metadata": {
        "colab": {
          "base_uri": "https://localhost:8080/"
        },
        "id": "XelmWD0CyHKp",
        "outputId": "28c722f2-5de0-4e76-f1cf-5b0e03aa1ac5"
      },
      "outputs": [
        {
          "name": "stdout",
          "output_type": "stream",
          "text": [
            "Enter two numbers to find GCD: 1440 408\n",
            "GCD : 24"
          ]
        }
      ],
      "source": [
        "!g++ program.c -o program\n",
        "! ./program"
      ]
    },
    {
      "cell_type": "markdown",
      "metadata": {
        "id": "wrPSVYfjlqyv"
      },
      "source": [
        "## Pattern 3 - filled inverted right-angled triangle\n",
        "Write a C program that prints an inverted right-angled triangle pattern of asterisks (*). The program should prompt the user to enter the number of rows for the triangle, and then print the pattern accordingly.\n",
        "```\n",
        "Enter number of rows: 5\n",
        "* * * * *\n",
        "* * * *\n",
        "* * *\n",
        "* *\n",
        "*\n",
        "```\n"
      ]
    },
    {
      "cell_type": "code",
      "execution_count": null,
      "metadata": {
        "colab": {
          "base_uri": "https://localhost:8080/"
        },
        "id": "zpRoinQ9g5dt",
        "outputId": "880eb877-5f64-4ba9-c09c-18d539272c78"
      },
      "outputs": [
        {
          "name": "stdout",
          "output_type": "stream",
          "text": [
            "Overwriting program.c\n"
          ]
        }
      ],
      "source": [
        "%%writefile program.c\n",
        "// Patter 3 - inverted right-angled triangle\n",
        "#include <stdio.h>\n",
        "\n",
        "int main() {\n",
        "    int rows,i,j;\n",
        "    scanf(\"%d\",&rows)\n",
        "    for (i = 0; i < rows; i++) {\n",
        "        for (j = 0; j < rows - i; j++) {\n",
        "            printf(\"* \");\n",
        "        }\n",
        "        // Move to the next line after printing the asterisks for the row\n",
        "        printf(\"\\n\");\n",
        "    }\n",
        "\n",
        "    return 0;\n",
        "}\n",
        "\n"
      ]
    },
    {
      "cell_type": "code",
      "execution_count": null,
      "metadata": {
        "colab": {
          "base_uri": "https://localhost:8080/"
        },
        "id": "QO1ug6b-gmpG",
        "outputId": "7849b015-af15-4986-a193-9dfe42f68f9e"
      },
      "outputs": [
        {
          "name": "stdout",
          "output_type": "stream",
          "text": [
            "5\n",
            "* * * * * \n",
            "* * * * \n",
            "* * * \n",
            "* * \n",
            "* \n"
          ]
        }
      ],
      "source": [
        "!g++ program.c -o program\n",
        "! ./program"
      ]
    },
    {
      "cell_type": "markdown",
      "metadata": {
        "id": "UQ1DPQWqkiMN"
      },
      "source": [
        "## Patter 1 - rectangle border\n",
        "Write a C program that prints a hollow rectangle pattern of asterisks (*). The program should prompt the user to enter the number of rows and columns for the rectangle, and then print the pattern accordingly. The rectangle should have asterisks on the border and spaces inside.\n",
        "\n",
        "Example input and output\n",
        "```\n",
        "Enter the number of rows: 5\n",
        "Enter the number of columns: 10\n",
        "**********\n",
        "*        *\n",
        "*        *\n",
        "*        *\n",
        "**********\n",
        "```"
      ]
    },
    {
      "cell_type": "code",
      "execution_count": null,
      "metadata": {
        "id": "WihLWzsFgmu5"
      },
      "outputs": [],
      "source": [
        "%%writefile program.c\n",
        "// Patter 1 - rectangle border\n",
        "#include <stdio.h>\n"
      ]
    },
    {
      "cell_type": "code",
      "execution_count": null,
      "metadata": {
        "id": "TWlDgC5Bg5g0"
      },
      "outputs": [],
      "source": [
        "!g++ program.c -o program\n",
        "! ./program"
      ]
    },
    {
      "cell_type": "markdown",
      "metadata": {
        "id": "d4oNq_pWlMU0"
      },
      "source": [
        "## Patter 2 - right tirangle border\n",
        "Write a C program that prints a specific pattern of asterisks (*) in a 10x10 grid. The pattern should include asterisks in the first column, the diagonal from the top-left to the bottom-right, and the last row. The program should use nested loops to generate the pattern.\n",
        "\n",
        "Example input and output\n",
        "```\n",
        "Enter the height: 10\n",
        "*                   \n",
        "* *                 \n",
        "*   *               \n",
        "*     *             \n",
        "*       *           \n",
        "*         *         \n",
        "*           *       \n",
        "*             *     \n",
        "*               *   \n",
        "* * * * * * * * * *\n",
        "```\n"
      ]
    },
    {
      "cell_type": "code",
      "execution_count": null,
      "metadata": {
        "id": "PgC4RjBBgmZW"
      },
      "outputs": [],
      "source": [
        "%%writefile program.c\n",
        "// Pattern 2 - triangle border\n",
        "#include <stdio.h>\n"
      ]
    },
    {
      "cell_type": "code",
      "execution_count": null,
      "metadata": {
        "id": "TXdocZGlg5a4"
      },
      "outputs": [],
      "source": [
        "!g++ program.c -o program\n",
        "! ./program"
      ]
    },
    {
      "cell_type": "markdown",
      "metadata": {
        "id": "E9cpHQTtmW1T"
      },
      "source": []
    },
    {
      "cell_type": "code",
      "execution_count": null,
      "metadata": {
        "colab": {
          "base_uri": "https://localhost:8080/"
        },
        "id": "m4kk-YVEg5Yb",
        "outputId": "8886682e-412d-4a6c-9a0d-e9747d553ca0"
      },
      "outputs": [
        {
          "name": "stdout",
          "output_type": "stream",
          "text": [
            "Writing program.c\n"
          ]
        }
      ],
      "source": [
        "%%writefile program.c\n",
        "// Matrix addition, subtraction, multiplication\n",
        "\n",
        "\n",
        "#include <stdio.h>\n",
        "\n",
        "void printMatrix(int mat[3][3], int r, int c) {\n",
        "  for (int i=0; i<r; i++) {\n",
        "  \tfor (int j=0; j<c; j++) {\n",
        "  \t  printf(\"%d \", mat[i][j]);\n",
        "    }\n",
        "    printf(\"\\n\");\n",
        "  }\n",
        "}\n",
        "\n",
        "void addMatrix(int mat1[3][3], int mat2[3][3], int mat3[3][3], int r, int c) {\n",
        "\tfor (int i=0; i<r; i++) {\n",
        "    \tfor (int j=0; j<c; j++) {\n",
        "        \tmat3[i][j] = mat1[i][j] + mat2[i][j];\n",
        "        }\n",
        "    }\n",
        "\n",
        "}\n",
        "\n",
        "void subMatrix(int mat1[3][3], int mat2[3][3], int mat3[3][3], int r, int c) {\n",
        "\tfor (int i=0; i<r; i++) {\n",
        "    \tfor (int j=0; j<c; j++) {\n",
        "        \tmat3[i][j] = mat1[i][j] - mat2[i][j];\n",
        "        }\n",
        "    }\n",
        "}\n",
        "\n",
        "\n",
        "void mulMatrix(int mat1[3][3], int mat2[3][3], int mat3[3][3], int r1, int c1, int r2, int c2) {\n",
        "/*\n",
        "1 2 3\n",
        "4 5 6\n",
        "\n",
        "1 2\n",
        "3 4\n",
        "5 6\n",
        "matrix 1:\n",
        "00 01 02\n",
        "10 11 12\n",
        "20 21 22\n",
        "matrix 2:\n",
        "1 2 3\n",
        "4 5 6\n",
        "7 8 9\n",
        "0*1+1*4+2*7 0*2+1*5+2*8 0*3+1*6+2*9\n",
        "10*1+11*4+12*7 ....\n",
        "\n",
        "*/\n",
        "\n",
        "\tfor (int i=0; i<r1; i++) {\n",
        "    \tfor (int j=0; j<c2; j++) {\n",
        "        \tmat3[i][j] = 0;\n",
        "           for(int k=0; k<c1; k++) {\n",
        "            \tmat3[i][j] += mat1[i][k] * mat2[k][j];\n",
        "            }\n",
        "        }\n",
        "    }\n",
        "\n",
        "\n",
        "}\n",
        "\n",
        "int main() {\n",
        "  int r=3, c=3, r2=3, c2=3;\n",
        "  int mat1[3][3] = {{1, 2, 3}, {4, 5, 6}, {7, 8, 9}};\n",
        "  int mat2[3][3] = {{7, 8, 9}, {0, -1, -2}, {-3, -4, -5}};\n",
        "  int mat3[3][3];\n",
        "\n",
        "  printf(\"matrix 1:\\n\");\n",
        "  printMatrix(mat1, r, c);\n",
        "  printf(\"matrix 2:\\n\");\n",
        "  printMatrix(mat2, r, c);\n",
        "\n",
        "  int choice = 3;\n",
        "  switch (choice) {\n",
        "  \tcase 1: // Add\n",
        "  \t\taddMatrix(mat1, mat2, mat3, r, c);\n",
        "        break;\n",
        "    case 2: // Subtraction\n",
        "  \t\tsubMatrix(mat1, mat2, mat3, r, c);\n",
        "        break;\n",
        "    case 3: // Multiplication\n",
        "    \tmulMatrix(mat1, mat2, mat3, r, c, r2, c2);\n",
        "        break;\n",
        "    default:\n",
        "    \tprintf(\"wrong choice\");\n",
        "        return 1;\n",
        "  }\n",
        "\n",
        "  printf(\"Result Matrix:\\n\");\n",
        "  printMatrix(mat3, r, c);\n",
        "\n",
        "  return 0;\n",
        "}\n"
      ]
    },
    {
      "cell_type": "code",
      "execution_count": null,
      "metadata": {
        "colab": {
          "base_uri": "https://localhost:8080/"
        },
        "id": "Q8vbmnKkg5WI",
        "outputId": "0778dfc7-d1b8-4ecb-eca3-a5cda1837004"
      },
      "outputs": [
        {
          "name": "stdout",
          "output_type": "stream",
          "text": [
            "matrix 1:\n",
            "1 2 3 \n",
            "4 5 6 \n",
            "7 8 9 \n",
            "matrix 2:\n",
            "7 8 9 \n",
            "0 -1 -2 \n",
            "-3 -4 -5 \n",
            "Result Matrix:\n",
            "-2 -6 -10 \n",
            "10 3 -4 \n",
            "22 12 2 \n"
          ]
        }
      ],
      "source": [
        "!g++ program.c -o program\n",
        "! ./program"
      ]
    },
    {
      "cell_type": "markdown",
      "metadata": {
        "id": "EmpEcUdzqxLK"
      },
      "source": [
        "3. A weather station collects daily temperature data in Celsius for a month. Write a C program that reads the temperature data into a one-dimensional array and calculates the average temperature for the month. Additionally, find the number of days with a temperature above the average. Use user-defined functions for these calculations."
      ]
    },
    {
      "cell_type": "code",
      "execution_count": null,
      "metadata": {
        "colab": {
          "base_uri": "https://localhost:8080/"
        },
        "id": "6ZKVejISqyVv",
        "outputId": "ee2362e4-1aab-4051-c74b-fafa2ba934f8"
      },
      "outputs": [
        {
          "name": "stdout",
          "output_type": "stream",
          "text": [
            "Overwriting program.c\n"
          ]
        }
      ],
      "source": [
        "#%%writefile program.c\n",
        "#include <stdio.h>\n",
        "\n",
        "\t// function definitions\n",
        "void readTemperatures(float temp[], int days);\n",
        "float calculateAverage(float temp[], int days);\n",
        "int countDaysAboveAverage(float temp[], int days, float average);\n",
        "\n",
        "int main() {\n",
        "    int days;\n",
        "\n",
        "    printf(\"Enter the number of days in the month: \");\n",
        "    scanf(\"%d\", &days);\n",
        "\n",
        "    if (days <= 0) {\n",
        "        printf(\"Invalid number of days.\\n\");\n",
        "        return 1; // Indicate an error\n",
        "    }\n",
        "\n",
        "    float temp[days]; // Array to store temperature data\n",
        "\n",
        "    readTemperatures(temp, days);\n",
        "\n",
        "    float averageTemperature = calculateAverage(temp, days);\n",
        "\n",
        "    int daysAboveAverage = countDaysAboveAverage(temp, days, averageTemperature);\n",
        "\n",
        "    printf(\"\\nAverage temperature for the month: %.2f Celsius\\n\", averageTemperature);\n",
        "    printf(\"Number of days with temperature above average: %d\\n\", daysAboveAverage);\n",
        "\n",
        "    return 0;\n",
        "}\n",
        "\n",
        "// Function to read temperature data\n",
        "void readTemperatures(float temp[], int days) {\n",
        "    printf(\"Enter daily temp (Celsius) for the month:\\n\");\n",
        "    for (int i = 0; i < days; i++) {\n",
        "        printf(\"Day %d: \", i + 1);\n",
        "        scanf(\"%f\", &temp[i]);\n",
        "    }\n",
        "}\n",
        "\n",
        "// Function to calculate the average temperature\n",
        "float calculateAverage(float temp[], int days) {\n",
        "    float sum = 0;\n",
        "    for (int i = 0; i < days; i++) {\n",
        "        sum += temp[i];\n",
        "    }\n",
        "    return sum / days;\n",
        "}\n",
        "\n",
        "// Function to count days above average temperature\n",
        "int countDaysAboveAverage(float temp[], int days, float average) {\n",
        "    int count = 0;\n",
        "    for (int i = 0; i < days; i++) {\n",
        "        if (temp[i] > average) {\n",
        "            count++;\n",
        "        }\n",
        "    }\n",
        "    return count;\n",
        "}\n"
      ]
    },
    {
      "cell_type": "code",
      "execution_count": null,
      "metadata": {
        "colab": {
          "base_uri": "https://localhost:8080/"
        },
        "id": "IlpNs0pFq5d2",
        "outputId": "2184f763-3007-4ffb-d0d3-24fe0126d97c"
      },
      "outputs": [
        {
          "name": "stdout",
          "output_type": "stream",
          "text": [
            "Enter the number of days in the month: 5\n",
            "Enter daily temp (Celsius) for the month:\n",
            "Day 1: 20\n",
            "Day 2: 35\n",
            "Day 3: 50\n",
            "Day 4: 23\n",
            "Day 5: 45\n",
            "\n",
            "Average temperature for the month: 34.60 Celsius\n",
            "Number of days with temperature above average: 3\n"
          ]
        }
      ],
      "source": [
        "!g++ program.c -o program\n",
        "! ./program"
      ]
    },
    {
      "cell_type": "markdown",
      "metadata": {
        "id": "GhZvRRz8n6DR"
      },
      "source": [
        "5 b) Develop a C function to swap two numbers without using a temporary variable. The swapping operation should be performed using bitwise operators. And explain why bit wise operatator is helpful when compare to other arthimatic operators like addition, subration, multiplication, etc.\n",
        "\n",
        "// using XOR, we can avoid going the values beyond the range of the data type when do sum, multplication, etc\n",
        "// For example if the given numbers are close the range of integer data type which we define, the value will overflow when"
      ]
    },
    {
      "cell_type": "code",
      "execution_count": null,
      "metadata": {
        "colab": {
          "base_uri": "https://localhost:8080/"
        },
        "id": "b0_TDG27g5Tc",
        "outputId": "106f4d0c-93ef-46c5-952b-2ec6d8387f5e"
      },
      "outputs": [
        {
          "name": "stdout",
          "output_type": "stream",
          "text": [
            "Overwriting program.c\n"
          ]
        }
      ],
      "source": [
        "%%writefile program.c\n",
        "// swapping two numbers using XOR\n",
        "// using XOR, we can avoid going the values beyond the range of the data type when do sum, multplication, etc\n",
        "#include <stdio.h>\n",
        "\n",
        "int main() {\n",
        "    int num1, num2;\n",
        "\n",
        "    // Read two numbers from the user\n",
        "    printf(\"Enter the first number: \");\n",
        "    scanf(\"%d\", &num1);\n",
        "    printf(\"Enter the second number: \");\n",
        "    scanf(\"%d\", &num2);\n",
        "\n",
        "    // Print the numbers before swapping\n",
        "    printf(\"Before swapping: num1 = %d, num2 = %d\\n\", num1, num2);\n",
        "\n",
        "    // Swap the numbers using XOR\n",
        "    if (num1 != num2) { // Check to avoid self-swap\n",
        "        num1 = num1 ^ num2;\n",
        "        num2 = num1 ^ num2;\n",
        "        num1 = num1 ^ num2;\n",
        "    }\n",
        "\n",
        "    // Print the numbers after swapping\n",
        "    printf(\"After swapping: num1 = %d, num2 = %d\\n\", num1, num2);\n",
        "\n",
        "    return 0;\n",
        "}\n"
      ]
    },
    {
      "cell_type": "code",
      "execution_count": null,
      "metadata": {
        "colab": {
          "base_uri": "https://localhost:8080/"
        },
        "id": "vmRs3d--g5Qc",
        "outputId": "515059d2-77b1-4561-8150-066df79c08ed"
      },
      "outputs": [
        {
          "name": "stdout",
          "output_type": "stream",
          "text": [
            "Enter the first number: 17\n",
            "Enter the second number: 24\n",
            "Before swapping: num1 = 17, num2 = 24\n",
            "After swapping: num1 = 24, num2 = 17\n"
          ]
        }
      ],
      "source": [
        "!g++ program.c -o program\n",
        "! ./program"
      ]
    },
    {
      "cell_type": "markdown",
      "metadata": {
        "id": "kgB1WkRfsExS"
      },
      "source": [
        "1 b) Write a C program that prompts the user to input number of calls and calculate the monthly telephone bills as per the following rule:\n",
        "- Minimum Rs. 100 for up to 50 calls.\n",
        "- Plus Rs. 1.75 per call for next 50 calls.\n",
        "- Plus Rs. 1.50 per call for next 50 calls.\n",
        "- Plus Rs. 1.00 per call for any call beyond 200 calls.\n"
      ]
    },
    {
      "cell_type": "code",
      "execution_count": null,
      "metadata": {
        "colab": {
          "base_uri": "https://localhost:8080/"
        },
        "id": "pQ3V83OZsFSx",
        "outputId": "fa10b3cb-f43c-4795-e542-13875eed65db"
      },
      "outputs": [
        {
          "name": "stdout",
          "output_type": "stream",
          "text": [
            "Overwriting program.c\n"
          ]
        }
      ],
      "source": [
        "#%%writefile program.c\n",
        "#include <stdio.h>\n",
        "\n",
        "int main() {\n",
        "    int calls;\n",
        "    float bill;\n",
        "\n",
        "    printf(\"Enter the number of calls: \");\n",
        "    scanf(\"%d\", &calls);\n",
        "\n",
        "    if (calls <= 50) {\n",
        "        bill = 100.0;\n",
        "    } else if (calls <= 100) {\n",
        "        bill = 100.0 + (calls - 50) * 1.75;\n",
        "    } else if (calls <= 150) {\n",
        "        bill = 100.0 + 50 * 1.75 + (calls - 100) * 1.50;\n",
        "    } else {\n",
        "        bill = 100.0 + 50 * 1.75 + 50 * 1.50 + (calls - 150) * 1.00;\n",
        "    }\n",
        "\n",
        "    printf(\"The monthly telephone bill is: Rs. %.2f\\n\", bill);\n",
        "\n",
        "    return 0;\n",
        "}\n"
      ]
    },
    {
      "cell_type": "code",
      "execution_count": null,
      "metadata": {
        "colab": {
          "base_uri": "https://localhost:8080/"
        },
        "id": "VONOr0QVsSTl",
        "outputId": "68657997-3466-4a20-c4c5-b51b27d1be40"
      },
      "outputs": [
        {
          "name": "stdout",
          "output_type": "stream",
          "text": [
            "Enter the number of calls: 250\n",
            "The monthly telephone bill is: Rs. 362.50\n"
          ]
        }
      ],
      "source": [
        "!g++ program.c -o program\n",
        "! ./program"
      ]
    },
    {
      "cell_type": "markdown",
      "metadata": {
        "id": "GZSZxhvFs520"
      },
      "source": [
        "# Type conversion\n",
        "\n",
        "- **Implicit Type Conversion**: Implicit type conversion is performed automatically by the compiler when it encounters mixed data types in an expression. This is also known as \"automatic type conversion\" or \"type promotion.\"\n",
        "\n",
        "- **Explicit type conversion**, also known as \"**type casting**\", is performed manually by the programmer using the cast operator. This allows for precise control over the conversion process.\n"
      ]
    },
    {
      "cell_type": "code",
      "execution_count": null,
      "metadata": {
        "colab": {
          "base_uri": "https://localhost:8080/"
        },
        "id": "YdQsBu4Gs1mP",
        "outputId": "1299f01b-3f8c-476a-a92c-14b9437094f8"
      },
      "outputs": [
        {
          "name": "stdout",
          "output_type": "stream",
          "text": [
            "Overwriting program.c\n"
          ]
        }
      ],
      "source": [
        "%%writefile program.c\n",
        "// Implicit Type conversion\n",
        "\n",
        "#include <stdio.h>\n",
        "\n",
        "int main() {\n",
        "    int a = 5;\n",
        "    float b = 2.5;\n",
        "    float result;\n",
        "\n",
        "    // Implicit type conversion: 'a' is converted to float\n",
        "    result = a + b;\n",
        "\n",
        "    printf(\"Result: %.2f\\n\", result); // Output: Result: 7.50\n",
        "    return 0;\n",
        "}"
      ]
    },
    {
      "cell_type": "code",
      "execution_count": null,
      "metadata": {
        "colab": {
          "base_uri": "https://localhost:8080/"
        },
        "id": "GDMbq8R2tm5y",
        "outputId": "42acb52c-e9e5-48a2-dc8c-6e7459b6fe61"
      },
      "outputs": [
        {
          "name": "stdout",
          "output_type": "stream",
          "text": [
            "Result: 7.50\n"
          ]
        }
      ],
      "source": [
        "!g++ program.c -o program\n",
        "! ./program"
      ]
    },
    {
      "cell_type": "code",
      "execution_count": null,
      "metadata": {
        "colab": {
          "base_uri": "https://localhost:8080/"
        },
        "id": "ekHVIcg_s83h",
        "outputId": "81fe227e-0ab9-4cea-bf97-d2fd1678890b"
      },
      "outputs": [
        {
          "name": "stdout",
          "output_type": "stream",
          "text": [
            "Overwriting program.c\n"
          ]
        }
      ],
      "source": [
        "%%writefile program.c\n",
        "// explicit type conversion\n",
        "#include <stdio.h>\n",
        "\n",
        "int main() {\n",
        "    int a = 5, b = 2;\n",
        "    float result;\n",
        "\n",
        "    // Explicit type conversion: 'a' and 'b' are converted to float\n",
        "    result = (float)a / (float)b;\n",
        "\n",
        "    printf(\"Result: %.2f\\n\", result); // Output: Result: 2.50\n",
        "    return 0;\n",
        "}\n"
      ]
    },
    {
      "cell_type": "code",
      "execution_count": null,
      "metadata": {
        "colab": {
          "base_uri": "https://localhost:8080/"
        },
        "id": "51c9KiCltrgQ",
        "outputId": "25cdc86c-f2cc-461c-ca44-d55ff8ae58d6"
      },
      "outputs": [
        {
          "name": "stdout",
          "output_type": "stream",
          "text": [
            "Result: 2.50\n"
          ]
        }
      ],
      "source": [
        "!g++ program.c -o program\n",
        "! ./program"
      ]
    },
    {
      "cell_type": "markdown",
      "metadata": {
        "id": "7wwmhrb6ne8o"
      },
      "source": [
        "5. Create a C program that accepts a matrix and determines whether it is sparse by passing an array to function.\n",
        "\n",
        "Note:\n",
        "In sparse matrix, among the total no. of elements in the matrix, more than half of the elements are zero.\n",
        "```\n",
        "3 5 0\n",
        "0 0 8\n",
        "0 0 0\n",
        "```"
      ]
    },
    {
      "cell_type": "code",
      "execution_count": null,
      "metadata": {
        "colab": {
          "base_uri": "https://localhost:8080/"
        },
        "id": "SnGlbGH6g5Nq",
        "outputId": "6f775794-587f-4e54-af33-30608451862a"
      },
      "outputs": [
        {
          "name": "stdout",
          "output_type": "stream",
          "text": [
            "Overwriting program.c\n"
          ]
        }
      ],
      "source": [
        "%%writefile program.c\n",
        "// Sparse Matrix\n",
        "#include <stdio.h>\n",
        "\n",
        "#define MAX 10\n",
        "\n",
        "// Function to check if a matrix is sparse\n",
        "int isSparse(int matrix[MAX][MAX], int rows, int cols) {\n",
        "    int zeroCount = 0;\n",
        "    int totalElements = rows * cols;\n",
        "\n",
        "    // Count the number of zero elements in the matrix\n",
        "    for (int i = 0; i < rows; i++) {\n",
        "        for (int j = 0; j < cols; j++) {\n",
        "            if (matrix[i][j] == 0) {\n",
        "                zeroCount++;\n",
        "            }\n",
        "        }\n",
        "    }\n",
        "\n",
        "    // Check if more than half of the elements are zero\n",
        "    if (zeroCount > totalElements / 2) {\n",
        "        return 1; // Sparse matrix\n",
        "    } else {\n",
        "        return 0; // Not a sparse matrix\n",
        "    }\n",
        "}\n",
        "\n",
        "int main() {\n",
        "    int matrix[MAX][MAX];\n",
        "    int rows, cols;\n",
        "\n",
        "    // Read the number of rows and columns\n",
        "    printf(\"Enter the number of rows: \");\n",
        "    scanf(\"%d\", &rows);\n",
        "    printf(\"Enter the number of columns: \");\n",
        "    scanf(\"%d\", &cols);\n",
        "\n",
        "    // Read the elements of the matrix\n",
        "    printf(\"Enter the elements of the matrix:\\n\");\n",
        "    for (int i = 0; i < rows; i++) {\n",
        "        for (int j = 0; j < cols; j++) {\n",
        "            printf(\"Element [%d][%d]: \", i, j);\n",
        "            scanf(\"%d\", &matrix[i][j]);\n",
        "        }\n",
        "    }\n",
        "\n",
        "    // Check if the matrix is sparse\n",
        "    if (isSparse(matrix, rows, cols)) {\n",
        "        printf(\"\\nThe matrix is sparse.\\n\");\n",
        "    } else {\n",
        "        printf(\"\\nThe matrix is not sparse.\\n\");\n",
        "    }\n",
        "\n",
        "    return 0;\n",
        "}\n",
        "\n"
      ]
    },
    {
      "cell_type": "code",
      "execution_count": null,
      "metadata": {
        "colab": {
          "base_uri": "https://localhost:8080/"
        },
        "id": "uD84_pHUg5LJ",
        "outputId": "13c663d2-ea4d-438c-857e-47960f7daf83"
      },
      "outputs": [
        {
          "name": "stdout",
          "output_type": "stream",
          "text": [
            "Enter the number of rows: 3\n",
            "Enter the number of columns: 3\n",
            "Enter the elements of the matrix:\n",
            "Element [0][0]: 3 5 0 0 8 0 0 0 1\n",
            "Element [0][1]: Element [0][2]: Element [1][0]: Element [1][1]: Element [1][2]: Element [2][0]: Element [2][1]: Element [2][2]: The matrix is sparse.\n"
          ]
        }
      ],
      "source": [
        "!g++ program.c -o program\n",
        "! ./program"
      ]
    },
    {
      "cell_type": "markdown",
      "metadata": {
        "id": "5cIB1AvtpWA_"
      },
      "source": [
        "3. A security firm has categorized their employees into three grades and an hourly rate is paid every day based on their grade. Details given below:\n",
        "```\n",
        "Grade -  Hourly Rate(Rs.) \t-  Overtime Pay (Per Hour)\n",
        "1\t- \t100.00\t- \t125.00\n",
        "2\t- \t200.00\t- \t250.00\n",
        "3\t- \t300.00\t- \t375.00\n",
        "```\n",
        "\n",
        "The firm has a policy for paying employees based on the number of hours they work in a day. The policy is as follows:\n",
        " - Less than 3 hours of work: no pay\n",
        " - Between 3 and 6 hours of work: half pay (50% of the hourly rate).\n",
        " - More than 6 hours of work: full pay (100% of the hourly rate).\n",
        " - However, beyond 8 hours, the overtime pay is applicable for every additional hour.\n",
        "\n",
        "Implement a function 'salary()' to compute and return the salary of an employee based on the policy. The number of hours worked in a day and the grade of the employee should be passed as an arguments to the 'salary()'\n",
        "\n",
        "Note: **The maximum number of hours an employee can work in a day is 12 hours**\n"
      ]
    },
    {
      "cell_type": "code",
      "execution_count": null,
      "metadata": {
        "id": "9DJAkbhBg5IL"
      },
      "outputs": [],
      "source": [
        "%%writefile program.c\n",
        "\n",
        "#include <stdio.h>\n",
        "#include <stdio.h>\n",
        "\n",
        "// Function to compute the salary of an employee\n",
        "float salary(int hoursWorked, int grade) {\n",
        "    float hourlyRate, overtimeRate, totalSalary = 0.0;\n",
        "\n",
        "    // Determine the hourly rate and overtime rate based on the grade\n",
        "    switch (grade) {\n",
        "        case 1:\n",
        "            hourlyRate = 100.0;\n",
        "            overtimeRate = 125.0;\n",
        "            break;\n",
        "        case 2:\n",
        "            hourlyRate = 200.0;\n",
        "            overtimeRate = 250.0;\n",
        "            break;\n",
        "        case 3:\n",
        "            hourlyRate = 300.0;\n",
        "            overtimeRate = 375.0;\n",
        "            break;\n",
        "        default:\n",
        "            printf(\"Invalid grade\\n\");\n",
        "            return 0.0;\n",
        "    }\n",
        "\n",
        "    // Calculate the salary based on the number of hours worked\n",
        "    if (hoursWorked < 3) {\n",
        "        totalSalary = 0.0;\n",
        "    } else if (hoursWorked <= 6) {\n",
        "        totalSalary = (hoursWorked * hourlyRate) / 2;\n",
        "    } else if (hoursWorked <= 8) {\n",
        "        totalSalary = hoursWorked * hourlyRate;\n",
        "    } else if (hoursWorked <= 12) {\n",
        "        totalSalary = (8 * hourlyRate) + ((hoursWorked - 8) * overtimeRate);\n",
        "    } else {\n",
        "        printf(\"Invalid number of hours worked\\n\");\n",
        "        return 0.0;\n",
        "    }\n",
        "\n",
        "    return totalSalary;\n",
        "}\n",
        "\n",
        "int main() {\n",
        "    int hoursWorked, grade;\n",
        "    float totalSalary;\n",
        "\n",
        "    printf(\"Enter the number of hours worked: \");\n",
        "    scanf(\"%d\", &hoursWorked);\n",
        "    printf(\"Enter the grade of the employee: \");\n",
        "    scanf(\"%d\", &grade);\n",
        "\n",
        "    totalSalary = salary(hoursWorked, grade);\n",
        "    printf(\"The total salary is: Rs. %.2f\\n\", totalSalary);\n",
        "\n",
        "    return 0;\n",
        "}\n"
      ]
    },
    {
      "cell_type": "code",
      "execution_count": null,
      "metadata": {
        "id": "MlBztvU5g5Fo"
      },
      "outputs": [],
      "source": [
        "!g++ program.c -o program\n",
        "! ./program"
      ]
    },
    {
      "cell_type": "markdown",
      "metadata": {
        "id": "nvKIRwoNwZDS"
      },
      "source": [
        "Write a C program to accept an integer as input and find the sum of odd and even digits separately. If the sum of odd and even digits is the same, display the message \"Matching\". Otherwise, display the message \"Not matching\". For example, suppose the user has entered a number 1223. The sum of odd digits is 4 (3+1) and the sum of even digits is 4.\n",
        "\n"
      ]
    },
    {
      "cell_type": "code",
      "execution_count": null,
      "metadata": {
        "colab": {
          "base_uri": "https://localhost:8080/"
        },
        "id": "cwdKZMgtg5Cy",
        "outputId": "e1521f22-2990-48fc-f0d6-fcd9e27f29b9"
      },
      "outputs": [
        {
          "name": "stdout",
          "output_type": "stream",
          "text": [
            "Overwriting program.c\n"
          ]
        }
      ],
      "source": [
        "%%writefile program.c\n",
        "\n",
        "#include <stdio.h>\n",
        "\n",
        "// Function to calculate the sum of odd and even digits\n",
        "void calculateSums(int number, int sums[2]) {\n",
        "    sums[0] = 0; // Sum of even digits\n",
        "    sums[1] = 0; // Sum of odd digits\n",
        "    int digit;\n",
        "\n",
        "    while (number > 0) {\n",
        "        digit = number % 10; // Extract the last digit\n",
        "        if (digit % 2 == 0) {\n",
        "            sums[0] += digit; // Add to even sum if the digit is even\n",
        "        } else {\n",
        "            sums[1] += digit; // Add to odd sum if the digit is odd\n",
        "        }\n",
        "        number /= 10; // Remove the last digit\n",
        "    }\n",
        "}\n",
        "\n",
        "int main() {\n",
        "    int number;\n",
        "    int sums[2]; // sums[0] for even sum, sums[1] for odd sum\n",
        "\n",
        "    // Read the integer from the user\n",
        "    printf(\"Enter an integer: \");\n",
        "    scanf(\"%d\", &number);\n",
        "\n",
        "    // Calculate the sums of odd and even digits\n",
        "    calculateSums(number, sums);\n",
        "\n",
        "    // Display the sums\n",
        "    printf(\"Sum of odd digits: %d\\n\", sums[1]);\n",
        "    printf(\"Sum of even digits: %d\\n\", sums[0]);\n",
        "\n",
        "    // Check if the sums are matching\n",
        "    if (sums[0] == sums[1]) {\n",
        "        printf(\"Matching\\n\");\n",
        "    } else {\n",
        "        printf(\"Not matching\\n\");\n",
        "    }\n",
        "\n",
        "    return 0;\n",
        "}\n",
        "\n"
      ]
    },
    {
      "cell_type": "code",
      "execution_count": null,
      "metadata": {
        "colab": {
          "base_uri": "https://localhost:8080/"
        },
        "id": "qe469ZQMg4__",
        "outputId": "72111814-79ff-40c8-9171-adc28d0316c2"
      },
      "outputs": [
        {
          "name": "stdout",
          "output_type": "stream",
          "text": [
            "Enter an integer: 3755488\n",
            "Sum of odd digits: 20\n",
            "Sum of even digits: 20\n",
            "Matching\n"
          ]
        }
      ],
      "source": [
        "!g++ program.c -o program\n",
        "! ./program"
      ]
    },
    {
      "cell_type": "markdown",
      "metadata": {
        "id": "DIPt2Upix7Vo"
      },
      "source": [
        "2. Find the sum of the following series by accepting the value of 'n' from the user.\n",
        " 1 + 1 / 2! + ⅓! + ¼! …. 1/n!\n",
        "\n",
        "We don’t need to write a separate function for factorial here.Because, it will be costlier. We can calculate the factorial on the fly by multiplying current loop value from previous factorial within the loop to simplify the program.\n"
      ]
    },
    {
      "cell_type": "code",
      "execution_count": null,
      "metadata": {
        "colab": {
          "base_uri": "https://localhost:8080/"
        },
        "id": "O84Mr-ocg49P",
        "outputId": "2bcd0b0d-b9f8-4a36-f7f0-7155e9122bde"
      },
      "outputs": [
        {
          "name": "stdout",
          "output_type": "stream",
          "text": [
            "Overwriting program.c\n"
          ]
        }
      ],
      "source": [
        "%%writefile program.c\n",
        "\n",
        "#include <stdio.h>\n",
        "\n",
        "// Function to calculate the sum of the series\n",
        "double calculateSeriesSum(int n) {\n",
        "    double sum = 1.0; // Start with the first term of the series\n",
        "    double factorial = 1.0; // Initialize factorial to 1\n",
        "\n",
        "    for (int i = 2; i <= n; i++) {\n",
        "        factorial *= i; // Calculate factorial on the fly\n",
        "        sum += 1.0 / factorial; // Add the term to the sum\n",
        "    }\n",
        "\n",
        "    return sum;\n",
        "}\n",
        "\n",
        "int main() {\n",
        "    int n;\n",
        "    double sum;\n",
        "\n",
        "    // Read the value of n from the user\n",
        "    printf(\"Enter the value of n: \");\n",
        "    scanf(\"%d\", &n);\n",
        "\n",
        "    // Calculate the sum of the series\n",
        "    sum = calculateSeriesSum(n);\n",
        "\n",
        "    // Print the result\n",
        "    printf(\"The sum of the series is: %.6f\\n\", sum);\n",
        "\n",
        "    return 0;\n",
        "}\n"
      ]
    },
    {
      "cell_type": "code",
      "execution_count": null,
      "metadata": {
        "colab": {
          "base_uri": "https://localhost:8080/"
        },
        "id": "IkzFYWrgg4zN",
        "outputId": "ac3fd1ef-19e1-47d5-a7d1-93c56678f2b9"
      },
      "outputs": [
        {
          "name": "stdout",
          "output_type": "stream",
          "text": [
            "Enter the value of n: 3\n",
            "The sum of the series is: 1.666667\n"
          ]
        }
      ],
      "source": [
        "!g++ program.c -o program\n",
        "! ./program"
      ]
    },
    {
      "cell_type": "markdown",
      "metadata": {
        "id": "NbzDFts1zcIJ"
      },
      "source": [
        "3. Write a program to implement lift functions of an apartment. The user should be able to enter a destination floor between 0 and 5. The program has to iterate until the user enters a valid floor number. Say the user has entered a number 3. The program output should be:\n",
        "\n",
        "```\n",
        "Sample Input:\n",
        "We have 5 floors, you can move from 0 to 5\n",
        "Enter the floor number where you want to go: (0 to 5)\n",
        "Press -1 if you reached your destination\n",
        "3\n",
        "\n",
        "Sample output:\n",
        "You are now on 3rd floor\n",
        "Enter the floor number where you want to go :- (0 to 5)\n",
        "Press -1 if you reached your destination\n",
        "-1\n",
        "Hope you reached your destination\n",
        "Visit Again\n",
        "```"
      ]
    },
    {
      "cell_type": "code",
      "execution_count": null,
      "metadata": {
        "colab": {
          "base_uri": "https://localhost:8080/"
        },
        "id": "MmJ4oxMNyQbS",
        "outputId": "c32ada62-a10a-49d6-d7cf-3d37da9ceca8"
      },
      "outputs": [
        {
          "name": "stdout",
          "output_type": "stream",
          "text": [
            "Overwriting program.c\n"
          ]
        }
      ],
      "source": [
        "#%%writefile program.c\n",
        "#include <stdio.h>\n",
        "\n",
        "int main() {\n",
        "    int currentFloor = 0;\n",
        "    int destinationFloor;\n",
        "\n",
        "    printf(\"We have 5 floors, you can move from 0 to 5\\n\");\n",
        "\n",
        "    while (1) {\n",
        "        printf(\"Enter the floor number where you want to go: (0 to 5)\\n\");\n",
        "        printf(\"Press -1 if you reached your destination\\n\");\n",
        "        scanf(\"%d\", &destinationFloor);\n",
        "\n",
        "        if (destinationFloor == -1) {\n",
        "            printf(\"Hope you reached your destination\\n\");\n",
        "            printf(\"Visit Again\\n\");\n",
        "            break;\n",
        "        } else if (destinationFloor >= 0 && destinationFloor <= 5) {\n",
        "            currentFloor = destinationFloor;\n",
        "            printf(\"You are now on %d\", currentFloor);\n",
        "            switch (currentFloor) {\n",
        "              case 1:\n",
        "                printf(\"st Floor\\n\");\n",
        "                break;\n",
        "              case 2:\n",
        "                printf(\"nd Floor\\n\");\n",
        "                break;\n",
        "              case 3:\n",
        "                printf(\"rd Floor\\n\");\n",
        "                break;\n",
        "              default:\n",
        "                printf(\"th Floor\\n\");\n",
        "                break;\n",
        "            }\n",
        "\n",
        "        } else {\n",
        "            printf(\"Invalid floor number. Please enter a number between 0 and 5.\\n\");\n",
        "        }\n",
        "    }\n",
        "\n",
        "    return 0;\n",
        "}\n",
        "\n",
        "\n",
        "/*\n",
        "instead of swtich, we can also use ternary operator\n",
        "\n",
        "printf(\"You are now on %d%s floor\\n\", currentFloor,\n",
        "                   (currentFloor == 1) ? \"st\" :\n",
        "                   (currentFloor == 2) ? \"nd\" :\n",
        "                   (currentFloor == 3) ? \"rd\" : \"th\");\n",
        "\n",
        "*/"
      ]
    },
    {
      "cell_type": "code",
      "execution_count": null,
      "metadata": {
        "colab": {
          "base_uri": "https://localhost:8080/"
        },
        "id": "FRSGdDw8yQYm",
        "outputId": "8c442099-f853-4893-966a-a45a70d72a56"
      },
      "outputs": [
        {
          "name": "stdout",
          "output_type": "stream",
          "text": [
            "We have 5 floors, you can move from 0 to 5\n",
            "Enter the floor number where you want to go: (0 to 5)\n",
            "Press -1 if you reached your destination\n",
            "1\n",
            "You are now on 1st Floor\n",
            "Enter the floor number where you want to go: (0 to 5)\n",
            "Press -1 if you reached your destination\n",
            "3\n",
            "You are now on 3rd Floor\n",
            "Enter the floor number where you want to go: (0 to 5)\n",
            "Press -1 if you reached your destination\n",
            "-1\n",
            "Hope you reached your destination\n",
            "Visit Again\n"
          ]
        }
      ],
      "source": [
        "!g++ program.c -o program\n",
        "! ./program"
      ]
    },
    {
      "cell_type": "markdown",
      "metadata": {
        "id": "IW469R0-2srr"
      },
      "source": [
        "4 a) Code a C program which checks whether the entered substring is present in the input string.\n",
        "```\n",
        "Sample output:\n",
        "Enter a string: hello\n",
        "Enter search substring: world\n",
        "SEARCH UNSUCCESSFUL!\n",
        "\n",
        "Enter a string: helloworld\n",
        "Enter search substring: Id\n",
        "SEARCH SUCCESSFUL!\n",
        "```"
      ]
    },
    {
      "cell_type": "code",
      "execution_count": null,
      "metadata": {
        "colab": {
          "base_uri": "https://localhost:8080/"
        },
        "id": "OZWSATUNyQVY",
        "outputId": "997e033f-9c36-4a6a-f6a2-d91d18f0634d"
      },
      "outputs": [
        {
          "name": "stdout",
          "output_type": "stream",
          "text": [
            "Overwriting program.c\n"
          ]
        }
      ],
      "source": [
        "%%writefile program.c\n",
        "#include <stdio.h>\n",
        "#include <string.h>\n",
        "\n",
        "// User-defined function to check if a substring is present in a string\n",
        "int isSubstringPresent(char str[], char substr[]) {\n",
        "    int strLen = strlen(str);\n",
        "    int substrLen = strlen(substr);\n",
        "    int i, j;\n",
        "\n",
        "    // Iterate through the main string\n",
        "    for (i = 0; i <= strLen - substrLen; i++) {\n",
        "        // Check if the substring matches\n",
        "        for (j = 0; j < substrLen; j++) {\n",
        "            if (str[i + j] != substr[j]) {\n",
        "                break;\n",
        "            }\n",
        "        }\n",
        "        // If the substring is found\n",
        "        if (j == substrLen) {\n",
        "            return 1; // Substring is present\n",
        "        }\n",
        "    }\n",
        "    return 0; // Substring is not present\n",
        "}\n",
        "\n",
        "\n",
        "int main() {\n",
        "    char str[100];\n",
        "    char substr[100];\n",
        "\n",
        "    // Read the input string from the user\n",
        "    printf(\"Enter a string: \");\n",
        "    scanf(\"%s\", str);\n",
        "\n",
        "    // Read the substring to search for from the user\n",
        "    printf(\"Enter search substring: \");\n",
        "    scanf(\"%s\", substr);\n",
        "\n",
        "    // Check if the substring is present in the input string\n",
        "    // if (strstr(str, substr) != NULL)\n",
        "    if (isSubstringPresent(str, substr)) {\n",
        "        printf(\"SEARCH SUCCESSFUL!\\n\");\n",
        "    } else {\n",
        "        printf(\"SEARCH UNSUCCESSFUL!\\n\");\n",
        "    }\n",
        "\n",
        "    return 0;\n",
        "}"
      ]
    },
    {
      "cell_type": "code",
      "execution_count": null,
      "metadata": {
        "colab": {
          "base_uri": "https://localhost:8080/"
        },
        "id": "Qh_SWRsFyQLl",
        "outputId": "65075dc2-86bf-443b-dc46-f78eb542de7d"
      },
      "outputs": [
        {
          "name": "stdout",
          "output_type": "stream",
          "text": [
            "Enter a string: magizhchi\n",
            "Enter search substring: magizhchiv\n",
            "SEARCH UNSUCCESSFUL!\n"
          ]
        }
      ],
      "source": [
        "!g++ program.c -o program\n",
        "! ./program"
      ]
    },
    {
      "cell_type": "code",
      "execution_count": null,
      "metadata": {
        "colab": {
          "base_uri": "https://localhost:8080/"
        },
        "id": "-GPqC43CySWW",
        "outputId": "1c01b44d-55a2-4feb-e782-d847f5023ce9"
      },
      "outputs": [
        {
          "name": "stdout",
          "output_type": "stream",
          "text": [
            "Overwriting program.c\n"
          ]
        }
      ],
      "source": [
        "%%writefile program.c\n",
        "#include <stdio.h>\n",
        "\n",
        "int main() {\n",
        "  int a[5]={5,1,15,20,25};\n",
        "  int i,j,k=1,m;\n",
        "  i = ++a[1];\n",
        "  j = a[1]++;\n",
        "  m = a[i++];\n",
        "  printf(\"\\n%d, %d, %d\",i,j,m);\n",
        "  printf(\"\\n%d\",a[1]);\n",
        "\n",
        "  return 0;\n",
        "}\n"
      ]
    },
    {
      "cell_type": "code",
      "execution_count": null,
      "metadata": {
        "colab": {
          "base_uri": "https://localhost:8080/"
        },
        "id": "uhX8FJejySTQ",
        "outputId": "2947a52b-61bf-4552-933a-ff1b7eb93ddd"
      },
      "outputs": [
        {
          "name": "stdout",
          "output_type": "stream",
          "text": [
            "\n",
            "3, 2, 15\n",
            "3"
          ]
        }
      ],
      "source": [
        "!g++ program.c -o program\n",
        "! ./program"
      ]
    },
    {
      "cell_type": "markdown",
      "metadata": {
        "id": "TDLv6Jr15mQF"
      },
      "source": [
        "Find biggest of three no using ternary"
      ]
    },
    {
      "cell_type": "code",
      "execution_count": null,
      "metadata": {
        "colab": {
          "base_uri": "https://localhost:8080/"
        },
        "id": "NIqBnRVJySQf",
        "outputId": "67337dfc-8544-4888-fd27-cd338e7a3c0d"
      },
      "outputs": [
        {
          "name": "stdout",
          "output_type": "stream",
          "text": [
            "Overwriting program.c\n"
          ]
        }
      ],
      "source": [
        "%%writefile program.c\n",
        "#include <stdio.h>\n",
        "\n",
        "int main() {\n",
        "    int num1, num2, num3, largest;\n",
        "\n",
        "    // Read three numbers from the user\n",
        "    printf(\"Enter the first number: \");\n",
        "    scanf(\"%d\", &num1);\n",
        "    printf(\"Enter the second number: \");\n",
        "    scanf(\"%d\", &num2);\n",
        "    printf(\"Enter the third number: \");\n",
        "    scanf(\"%d\", &num3);\n",
        "\n",
        "    // Find the largest number using the ternary operator\n",
        "    largest = (num1 > num2) ? (num1 > num3 ? num1 : num3) : (num2 > num3 ? num2 : num3);\n",
        "\n",
        "    // Print the largest number\n",
        "    printf(\"The largest number is: %d\\n\", largest);\n",
        "\n",
        "    return 0;\n",
        "}\n"
      ]
    },
    {
      "cell_type": "code",
      "execution_count": null,
      "metadata": {
        "colab": {
          "base_uri": "https://localhost:8080/"
        },
        "id": "SJfhpCn3ySNq",
        "outputId": "064570c0-3bb1-4dea-f3c8-1336f92810f9"
      },
      "outputs": [
        {
          "name": "stdout",
          "output_type": "stream",
          "text": [
            "Enter the first number: 5\n",
            "Enter the second number: 7\n",
            "Enter the third number: 2\n",
            "The largest number is: 7\n"
          ]
        }
      ],
      "source": [
        "!g++ program.c -o program\n",
        "! ./program"
      ]
    },
    {
      "cell_type": "markdown",
      "metadata": {
        "id": "Rv-_USlw-Q3L"
      },
      "source": [
        "2. Imagine you're developing a cryptographic module for secure communication. A module that does the following:\n",
        "Prime number Check: By efficiently checking whether the number is prime or not.\n",
        "Binary representation for key generation: If a number passes the primality check, its binary representation to be done which is crucial for various cryptographic operations.\n",
        "\n",
        "Hint: Print binary version of a number if it is prime\n"
      ]
    },
    {
      "cell_type": "code",
      "execution_count": null,
      "metadata": {
        "colab": {
          "base_uri": "https://localhost:8080/"
        },
        "id": "KmOu6vsNySIa",
        "outputId": "75a79ddd-f31f-45c0-bb75-1b9086fe7742"
      },
      "outputs": [
        {
          "name": "stdout",
          "output_type": "stream",
          "text": [
            "Overwriting program.c\n"
          ]
        }
      ],
      "source": [
        "%%writefile program.c\n",
        "#include <stdio.h>\n",
        "#include <math.h>\n",
        "\n",
        "// Function to check if a number is prime\n",
        "int isPrime(int num) {\n",
        "    if (num <= 1) {\n",
        "        return 0; // Numbers less than or equal to 1 are not prime\n",
        "    }\n",
        "    // Optimization: Check divisibility only up to the square root of num\n",
        "    for (int i = 2; i * i <= num; i++) {\n",
        "        if (num % i == 0) {\n",
        "            return false; // If divisible by any number, it's not prime\n",
        "        }\n",
        "    }\n",
        "    return 1; // If no divisors found, it's prime\n",
        "}\n",
        "\n",
        "// Recursive Function to print the binary representation of a number\n",
        "void printBinary(int num) {\n",
        "    if (num > 1) {\n",
        "        printBinary(num / 2);\n",
        "    }\n",
        "    printf(\"%d\", num % 2);\n",
        "}\n",
        "\n",
        "int main() {\n",
        "    int number;\n",
        "\n",
        "    // Read the number from the user\n",
        "    printf(\"Enter a number: \");\n",
        "    scanf(\"%d\", &number);\n",
        "\n",
        "    // Check if the number is prime\n",
        "    if (isPrime(number)) {\n",
        "        printf(\"%d is a prime number.\\n\", number);\n",
        "        printf(\"Binary representation: \");\n",
        "        printBinary(number);\n",
        "        printf(\"\\n\");\n",
        "    } else {\n",
        "        printf(\"%d is not a prime number.\\n\", number);\n",
        "    }\n",
        "\n",
        "    return 0;\n",
        "}\n",
        "\n",
        "\t// The binary number printing without recursive function\n",
        "void printBinaryNonRecursive(int num) {\n",
        "    int binary[32];\n",
        "    int index = 0;\n",
        "\n",
        "    // Handle the case when num is 0\n",
        "    if (num == 0) {\n",
        "        printf(\"0\");\n",
        "        return;\n",
        "    }\n",
        "\n",
        "    // Convert the number to binary\n",
        "    while (num > 0) {\n",
        "        binary[index] = num % 2;\n",
        "        num = num / 2;\n",
        "        index++;\n",
        "    }\n",
        "\n",
        "    // Print the binary representation in reverse order\n",
        "    for (int i = index - 1; i >= 0; i--) {\n",
        "        printf(\"%d\", binary[i]);\n",
        "    }\n",
        "}\n"
      ]
    },
    {
      "cell_type": "code",
      "execution_count": null,
      "metadata": {
        "colab": {
          "base_uri": "https://localhost:8080/"
        },
        "id": "QRokJUZ8ySEq",
        "outputId": "a37c1367-dabe-4c01-86e1-f61ccae79a51"
      },
      "outputs": [
        {
          "name": "stdout",
          "output_type": "stream",
          "text": [
            "Enter a number: 47\n",
            "47 is a prime number.\n",
            "Binary representation: 101111\n"
          ]
        }
      ],
      "source": [
        "!g++ program.c -o program\n",
        "! ./program"
      ]
    },
    {
      "cell_type": "markdown",
      "metadata": {
        "id": "eWAEcrksAC8V"
      },
      "source": [
        "Consider a scenario in a customer support system for an e-commerce platform. The system tracks customer reviews and checks if the review text is a palindrome. If the review text is a palindrome, the system highlights it as a \"unique review: otherwise, it stores the reversed text for further analysis to generate insights on user feedback patterns."
      ]
    },
    {
      "cell_type": "code",
      "execution_count": null,
      "metadata": {
        "colab": {
          "base_uri": "https://localhost:8080/"
        },
        "id": "3_Y74DYH-Sy8",
        "outputId": "7552a523-9483-4612-be4d-d691244bc3cf"
      },
      "outputs": [
        {
          "name": "stdout",
          "output_type": "stream",
          "text": [
            "Overwriting program.c\n"
          ]
        }
      ],
      "source": [
        "%%writefile program.c\n",
        "\n",
        "#include <stdio.h>\n",
        "#include <string.h>\n",
        "\n",
        "// Function to check if a string is a palindrome\n",
        "int isPalindrome(char str[]) {\n",
        "    int left = 0;\n",
        "    int right = strlen(str) - 1;\n",
        "\n",
        "    while (left < right) {\n",
        "        if (str[left++] != str[right--]) {\n",
        "            return 0; // Not a palindrome\n",
        "        }\n",
        "        //left++;\n",
        "        //right--;\n",
        "    }\n",
        "    return 1; // Palindrome\n",
        "}\n",
        "\n",
        "// Function to reverse a string\n",
        "void reverseString(char str[]) {\n",
        "    int left = 0;\n",
        "    int right = strlen(str) - 1;\n",
        "    char temp;\n",
        "\n",
        "    while (left < right) {\n",
        "        temp = str[left];\n",
        "        str[left] = str[right];\n",
        "        str[right] = temp;\n",
        "        left++;\n",
        "        right--;\n",
        "    }\n",
        "}\n",
        "\n",
        "int main() {\n",
        "    char review[1000];\n",
        "\n",
        "    // Read the review text from the user\n",
        "    printf(\"Enter the review text: \");\n",
        "    fgets(review, sizeof(review), stdin);\n",
        "\n",
        "    // Remove the newline character at the end of the input\n",
        "    review[strcspn(review, \"\\n\")] = '\\0';\n",
        "\n",
        "    // Check if the review text is a palindrome\n",
        "    if (isPalindrome(review)) {\n",
        "        printf(\"Unique review: %s\\n\", review);\n",
        "    } else {\n",
        "        reverseString(review);\n",
        "        printf(\"Reversed review stored for analysis: %s\\n\", review);\n",
        "    }\n",
        "\n",
        "    return 0;\n",
        "}\n"
      ]
    },
    {
      "cell_type": "code",
      "execution_count": null,
      "metadata": {
        "colab": {
          "base_uri": "https://localhost:8080/"
        },
        "id": "nCuQtkl9-SvZ",
        "outputId": "5773514c-e101-422e-f768-5d0811d5050a"
      },
      "outputs": [
        {
          "name": "stdout",
          "output_type": "stream",
          "text": [
            "Enter the review text: malayalammalayalammalayalammalayalam\n",
            "Unique review: malayalammalayalammalayalammalayalam\n"
          ]
        }
      ],
      "source": [
        "!g++ program.c -o program\n",
        "! ./program"
      ]
    },
    {
      "cell_type": "markdown",
      "metadata": {
        "id": "lU1ePfKzBouL"
      },
      "source": [
        " Describe the concept of recursive functions and provide an example of determining GCD of two numbers to illustrate how recursion works."
      ]
    },
    {
      "cell_type": "code",
      "execution_count": null,
      "metadata": {
        "colab": {
          "base_uri": "https://localhost:8080/"
        },
        "id": "A8nAJGny-Sr-",
        "outputId": "dadf4d76-f2b0-47aa-f79a-9c903bf528cb"
      },
      "outputs": [
        {
          "name": "stdout",
          "output_type": "stream",
          "text": [
            "Overwriting program.c\n"
          ]
        }
      ],
      "source": [
        "%%writefile program.c\n",
        "// Recursive Function for GCD\n",
        "#include <stdio.h>\n",
        "\n",
        "// Recursive function to find GCD\n",
        "int gcd(int a, int b) {\n",
        "    // Base case: if b is 0, return a\n",
        "    if (b == 0) {\n",
        "        return a;\n",
        "    // Recursive case: call gcd with b and a % b\n",
        "    }\n",
        "    else {\n",
        "        return gcd(b, a % b);\n",
        "    }\n",
        "}\n",
        "\n",
        "int main() {\n",
        "    int num1, num2;\n",
        "\n",
        "    // Read two numbers from the user\n",
        "    printf(\"Enter two numbers: \");\n",
        "    scanf(\"%d %d\", &num1, &num2);\n",
        "\n",
        "    // Calculate GCD\n",
        "    int result = gcd(num1, num2);\n",
        "\n",
        "    // Print the result\n",
        "    printf(\"GCD of %d and %d is %d\\n\", num1, num2, result);\n",
        "\n",
        "    return 0;\n",
        "}\n"
      ]
    },
    {
      "cell_type": "code",
      "execution_count": null,
      "metadata": {
        "colab": {
          "base_uri": "https://localhost:8080/"
        },
        "id": "-It_-ImP-SoD",
        "outputId": "89bdc3e2-ac3f-4958-f48e-ea4245011eb3"
      },
      "outputs": [
        {
          "name": "stdout",
          "output_type": "stream",
          "text": [
            "Enter two numbers: 0 19\n",
            "GCD of 0 and 19 is 19\n"
          ]
        }
      ],
      "source": [
        "!g++ program.c -o program\n",
        "! ./program"
      ]
    },
    {
      "cell_type": "markdown",
      "metadata": {
        "id": "9MLdfFmmCz89"
      },
      "source": [
        "5. Imagine a scenario where the teacher wants to store the scores of multiple quizzes for each student. This must be achieved by using a 2D array. The C-program could then calculate the average score for each student and the highest-scoring student"
      ]
    },
    {
      "cell_type": "code",
      "execution_count": null,
      "metadata": {
        "colab": {
          "base_uri": "https://localhost:8080/"
        },
        "id": "BnfYLxEi-Sk6",
        "outputId": "9b9e0189-52b0-459e-eb0b-95e68ad0c56e"
      },
      "outputs": [
        {
          "name": "stdout",
          "output_type": "stream",
          "text": [
            "Overwriting program.c\n"
          ]
        }
      ],
      "source": [
        "%%writefile program.c\n",
        "#include <stdio.h>\n",
        "\n",
        "#define MAX_STUDENTS 50\n",
        "#define MAX_QUIZZES 10\n",
        "\n",
        "// Function to calculate the average scores for each student\n",
        "void calculateAverages(int scores[MAX_STUDENTS][MAX_QUIZZES], int numStudents, int numQuizzes, float averages[MAX_STUDENTS]) {\n",
        "    for (int i = 0; i < numStudents; i++) {\n",
        "        int sum = 0;\n",
        "        for (int j = 0; j < numQuizzes; j++) {\n",
        "            sum += scores[i][j];\n",
        "        }\n",
        "        averages[i] = (float)sum / numQuizzes;\n",
        "    }\n",
        "}\n",
        "\n",
        "// Function to find the highest-scoring student\n",
        "int findHighestScoringStudent(float averages[MAX_STUDENTS], int numStudents) {\n",
        "    int highestIndex = 0;\n",
        "    for (int i = 1; i < numStudents; i++) {\n",
        "        if (averages[i] > averages[highestIndex]) {\n",
        "            highestIndex = i;\n",
        "        }\n",
        "    }\n",
        "    return highestIndex;\n",
        "}\n",
        "\n",
        "int main() {\n",
        "    int scores[MAX_STUDENTS][MAX_QUIZZES];\n",
        "    float averages[MAX_STUDENTS];\n",
        "    int numStudents, numQuizzes;\n",
        "\n",
        "    // Read the number of students and quizzes\n",
        "    printf(\"Enter the number of students: \");\n",
        "    scanf(\"%d\", &numStudents);\n",
        "    printf(\"Enter the number of quizzes: \");\n",
        "    scanf(\"%d\", &numQuizzes);\n",
        "\n",
        "    // Read the scores for each student\n",
        "    for (int i = 0; i < numStudents; i++) {\n",
        "        printf(\"Enter scores for student %d:\\n\", i + 1);\n",
        "        for (int j = 0; j < numQuizzes; j++) {\n",
        "            printf(\"Quiz %d: \", j + 1);\n",
        "            scanf(\"%d\", &scores[i][j]);\n",
        "        }\n",
        "    }\n",
        "\n",
        "    // Calculate the average scores for each student\n",
        "    calculateAverages(scores, numStudents, numQuizzes, averages);\n",
        "\n",
        "    // Find the highest-scoring student\n",
        "    int highestIndex = findHighestScoringStudent(averages, numStudents);\n",
        "\n",
        "    // Print the average scores for each student\n",
        "    for (int i = 0; i < numStudents; i++) {\n",
        "        printf(\"Average score for student %d: %.2f\\n\", i + 1, averages[i]);\n",
        "    }\n",
        "\n",
        "    // Print the highest-scoring student\n",
        "    printf(\"The highest-scoring student is student %d with an average score of %.2f\\n\", highestIndex + 1, averages[highestIndex]);\n",
        "\n",
        "    return 0;\n",
        "}\n"
      ]
    },
    {
      "cell_type": "code",
      "execution_count": null,
      "metadata": {
        "colab": {
          "base_uri": "https://localhost:8080/"
        },
        "id": "chr_DJBN-Shf",
        "outputId": "1efff985-4df0-4165-8794-83a3f45a4b69"
      },
      "outputs": [
        {
          "name": "stdout",
          "output_type": "stream",
          "text": [
            "Enter the number of students: 3\n",
            "Enter the number of quizzes: 2\n",
            "Enter scores for student 1:\n",
            "Quiz 1: 85\n",
            "Quiz 2: 34\n",
            "Enter scores for student 2:\n",
            "Quiz 1: 56\n",
            "Quiz 2: 98\n",
            "Enter scores for student 3:\n",
            "Quiz 1: 65\n",
            "Quiz 2: 56\n",
            "Average score for student 1: 59.50\n",
            "Average score for student 2: 77.00\n",
            "Average score for student 3: 60.50\n",
            "The highest-scoring student is student 2 with an average score of 77.00\n"
          ]
        }
      ],
      "source": [
        "!g++ program.c -o program\n",
        "! ./program"
      ]
    },
    {
      "cell_type": "markdown",
      "metadata": {
        "id": "QbskZO1KECRZ"
      },
      "source": [
        "1. An electricity board charges the following rates for the use of electricity:\n",
        "- for the first 200 units 80 paise per unit:\n",
        "- for the next 100 units 90 paise per unit:\n",
        "- beyond 300 units Rs 1 per unit.\n",
        "- All users are charged a minimum of Rs. 100 as meter charge.\n",
        "- If the total amount is more than Rs 400, then an additional surcharge of 15% of total amount is charged.\n",
        "\n",
        "Write a C program to read the name of the user, number of units consumed and print out the charges.\n"
      ]
    },
    {
      "cell_type": "code",
      "execution_count": null,
      "metadata": {
        "colab": {
          "base_uri": "https://localhost:8080/"
        },
        "id": "2tgjISw0-Sed",
        "outputId": "deb5339d-e3c7-4d38-f698-9e0509675952"
      },
      "outputs": [
        {
          "name": "stdout",
          "output_type": "stream",
          "text": [
            "Overwriting program.c\n"
          ]
        }
      ],
      "source": [
        "%%writefile program.c\n",
        "\n",
        "#include <stdio.h>\n",
        "#include <string.h>\n",
        "\n",
        "int main() {\n",
        "    char name[100];\n",
        "    int units;\n",
        "    float charges = 0.0;\n",
        "\n",
        "    printf(\"Enter the name of the user: \");\n",
        "    scanf(\"%s\", name);\n",
        "\n",
        "    printf(\"Enter the number of units consumed: \");\n",
        "    scanf(\"%d\", &units);\n",
        "\n",
        "    if (units <= 200) {\n",
        "        charges = units * 0.80;\n",
        "    } else if (units <= 300) {\n",
        "        charges = 200 * 0.80 + (units - 200) * 0.90;\n",
        "    } else {\n",
        "        charges = 200 * 0.80 + 100 * 0.90 + (units - 300) * 1.00;\n",
        "    }\n",
        "\n",
        "    // Add the minimum meter charge\n",
        "    charges += 100;\n",
        "\n",
        "    // Apply additional surcharge if the total amount is more than Rs 400\n",
        "    if (charges > 400) {\n",
        "        charges += charges * 0.15;\n",
        "    }\n",
        "\n",
        "    printf(\"User: %s\\n\", name);\n",
        "    printf(\"Units Consumed: %d\\n\", units);\n",
        "    printf(\"Total Charges: Rs. %.2f\\n\", charges);\n",
        "\n",
        "    return 0;\n",
        "}\n"
      ]
    },
    {
      "cell_type": "code",
      "execution_count": null,
      "metadata": {
        "colab": {
          "base_uri": "https://localhost:8080/"
        },
        "id": "f9eM7tQu-Sbk",
        "outputId": "9f161e24-9ab9-48a8-c762-0e78f9d87e06"
      },
      "outputs": [
        {
          "name": "stdout",
          "output_type": "stream",
          "text": [
            "Enter the name of the user: vaibogam\n",
            "Enter the number of units consumed: 450\n",
            "User: vaibogam\n",
            "Units Consumed: 450\n",
            "Total Charges: Rs. 575.00\n"
          ]
        }
      ],
      "source": [
        "!g++ program.c -o program\n",
        "! ./program"
      ]
    },
    {
      "cell_type": "markdown",
      "metadata": {
        "id": "4DS46lspFSgD"
      },
      "source": [
        "\n",
        "2 a) Write a program in C to do the following: Ask the user to input a string (up to 50 characters) Display the string in the following pattern: If the user enters the string \"Programming\", the output should be:\n",
        "```\n",
        "Programming\n",
        "rogrammin\n",
        "ogrammi\n",
        "gramm\n",
        "ram\n",
        "a\n",
        "```\n"
      ]
    },
    {
      "cell_type": "code",
      "execution_count": null,
      "metadata": {
        "colab": {
          "base_uri": "https://localhost:8080/"
        },
        "id": "wkraLPBO-SSe",
        "outputId": "38c2b982-456b-4bd3-ccb0-e2fef9badc3c"
      },
      "outputs": [
        {
          "name": "stdout",
          "output_type": "stream",
          "text": [
            "Overwriting program.c\n"
          ]
        }
      ],
      "source": [
        "%%writefile program.c\n",
        "\n",
        "#include <stdio.h>\n",
        "#include <string.h>\n",
        "\n",
        "int main() {\n",
        "    char str[51]; // Array to store the input string (up to 50 characters + null terminator)\n",
        "    int length;\n",
        "\n",
        "    printf(\"Enter a string (up to 50 characters): \");\n",
        "    scanf(\"%s\", str);\n",
        "\n",
        "    length = strlen(str);\n",
        "\n",
        "    for (int i = 0; i < length / 2 + 1; i++) {\n",
        "        for (int j = i; j < length - i; j++) {  // skipping first and last character at each iteration\n",
        "            printf(\"%c\", str[j]);\n",
        "        }\n",
        "        printf(\"\\n\");\n",
        "    }\n",
        "\n",
        "    return 0;\n",
        "}\n"
      ]
    },
    {
      "cell_type": "code",
      "execution_count": null,
      "metadata": {
        "colab": {
          "base_uri": "https://localhost:8080/"
        },
        "id": "SW2zjSfp-Yo1",
        "outputId": "54aa37d7-2ee8-4459-ad1d-a83ff026b44f"
      },
      "outputs": [
        {
          "name": "stdout",
          "output_type": "stream",
          "text": [
            "Enter a string (up to 50 characters): Magizhchi\n",
            "Magizhchi\n",
            "agizhch\n",
            "gizhc\n",
            "izh\n",
            "z\n"
          ]
        }
      ],
      "source": [
        "!g++ program.c -o program\n",
        "! ./program"
      ]
    },
    {
      "cell_type": "markdown",
      "metadata": {
        "id": "tOC7jxM7MZf_"
      },
      "source": [
        "3) Implement a C program to find the reverse of an integer number for the following input\n",
        "Input: 54321\n",
        "Output: 12345\n"
      ]
    },
    {
      "cell_type": "code",
      "execution_count": null,
      "metadata": {
        "colab": {
          "base_uri": "https://localhost:8080/"
        },
        "id": "UsbeHPBOFYKL",
        "outputId": "3d5f55aa-e83a-4dcf-d654-909867d384c7"
      },
      "outputs": [
        {
          "name": "stdout",
          "output_type": "stream",
          "text": [
            "Overwriting program.c\n"
          ]
        }
      ],
      "source": [
        "%%writefile program.c\n",
        "\n",
        "#include <stdio.h>\n",
        "\n",
        "int main() {\n",
        "    int number, reversedNumber = 0, remainder;\n",
        "\n",
        "    // Read the integer from the user\n",
        "    printf(\"Enter an integer: \");\n",
        "    scanf(\"%d\", &number);\n",
        "\n",
        "    // Calculate the reverse of the number\n",
        "    while (number != 0) {\n",
        "        remainder = number % 10;\n",
        "        reversedNumber = reversedNumber * 10 + remainder;\n",
        "        number /= 10;\n",
        "    }\n",
        "\n",
        "    // Print the reversed number\n",
        "    printf(\"Reversed number: %d\\n\", reversedNumber);\n",
        "\n",
        "    return 0;\n",
        "}\n"
      ]
    },
    {
      "cell_type": "code",
      "execution_count": null,
      "metadata": {
        "colab": {
          "base_uri": "https://localhost:8080/"
        },
        "id": "KLlWfaPIFYHX",
        "outputId": "51f456c6-b7e3-43ea-a086-a08e617e55b8"
      },
      "outputs": [
        {
          "name": "stdout",
          "output_type": "stream",
          "text": [
            "Enter an integer: 12345\n",
            "Reversed number: 54321\n"
          ]
        }
      ],
      "source": [
        "!g++ program.c -o program\n",
        "! ./program"
      ]
    },
    {
      "cell_type": "markdown",
      "metadata": {
        "id": "QZQqnqUyMiiQ"
      },
      "source": [
        "4) Write a program that accepts an NxN order matrix and calculate the absolute Reference between the sums of its diagonals using arrays.\n"
      ]
    },
    {
      "cell_type": "code",
      "execution_count": null,
      "metadata": {
        "colab": {
          "base_uri": "https://localhost:8080/"
        },
        "id": "qnXPse2qFYEP",
        "outputId": "7c9ddea6-5594-49e7-f6c5-63e36e891c69"
      },
      "outputs": [
        {
          "name": "stdout",
          "output_type": "stream",
          "text": [
            "Overwriting program.c\n"
          ]
        }
      ],
      "source": [
        "%%writefile program.c\n",
        "\n",
        "#include <stdio.h>\n",
        "#include <stdlib.h>\n",
        "\n",
        "int main() {\n",
        "    int n;\n",
        "\n",
        "    // Read the order of the matrix\n",
        "    printf(\"Enter the order of the matrix (N): \");\n",
        "    scanf(\"%d\", &n);\n",
        "\n",
        "    int matrix[n][n];\n",
        "    int primaryDiagonalSum = 0;\n",
        "    int secondaryDiagonalSum = 0;\n",
        "\n",
        "    // Read the elements of the matrix\n",
        "    printf(\"Enter the elements of the matrix:\\n\");\n",
        "    for (int i = 0; i < n; i++) {\n",
        "        for (int j = 0; j < n; j++) {\n",
        "            scanf(\"%d\", &matrix[i][j]);\n",
        "        }\n",
        "    }\n",
        "\n",
        "    // Calculate the sums of the diagonals\n",
        "    for (int i = 0; i < n; i++) {\n",
        "        primaryDiagonalSum += matrix[i][i];\n",
        "        secondaryDiagonalSum += matrix[i][n - i - 1];\n",
        "    }\n",
        "\n",
        "    // Calculate the absolute difference between the sums of the diagonals\n",
        "    int absoluteDifference = abs(primaryDiagonalSum - secondaryDiagonalSum);\n",
        "\n",
        "    // Print the result\n",
        "    printf(\"Absolute difference between the sums of the diagonals: %d\\n\", absoluteDifference);\n",
        "\n",
        "    return 0;\n",
        "}"
      ]
    },
    {
      "cell_type": "code",
      "execution_count": null,
      "metadata": {
        "colab": {
          "base_uri": "https://localhost:8080/"
        },
        "id": "-iELxJryFYBf",
        "outputId": "ed52fc1c-0bba-4bbd-d1bb-a6e3dbf987f4"
      },
      "outputs": [
        {
          "name": "stdout",
          "output_type": "stream",
          "text": [
            "Enter the order of the matrix (N): 3\n",
            "Enter the elements of the matrix:\n",
            "1 2 3 1 4 5 1 6 7\n",
            "Absolute difference between the sums of the diagonals: 4\n"
          ]
        }
      ],
      "source": [
        "!g++ program.c -o program\n",
        "! ./program"
      ]
    },
    {
      "cell_type": "markdown",
      "metadata": {
        "id": "vZMfIGhrRW9P"
      },
      "source": [
        "1 a) Develop a loan approval system for a bank. The system should approve or deny the loan application based on the following conditions:\n",
        "1. The applicant must be at least 18 years old.\n",
        "2. The applicant's monthly income must be greater than or equal to 2000\n",
        "3. The applicant's credit score must be greater than or equal to 650.\n",
        "4. If the applicant is under 25 years old, their credit score must be at least 700.\n",
        "5. If the applicant's monthly income is below 3000, the loan amount requested must be less than or equal to 50,000.\n",
        "\n",
        "The user should provide details such as age, monthly income, and credit score\n",
        "\n"
      ]
    },
    {
      "cell_type": "code",
      "execution_count": null,
      "metadata": {
        "id": "9X6oVEhgFX-o"
      },
      "outputs": [],
      "source": [
        "%%writefile program.c\n",
        "#include <stdio.h>\n",
        "\n",
        "// Function to check loan approval\n",
        "int isLoanApproved(int age, double monthlyIncome, int creditScore, double loanAmount) {\n",
        "    // Check if the applicant is at least 18 years old\n",
        "    if (age < 18) {\n",
        "        return 0; // Loan denied\n",
        "    }\n",
        "\n",
        "    // Check if the applicant's monthly income is at least $2000\n",
        "    if (monthlyIncome < 2000) {\n",
        "        return 0; // Loan denied\n",
        "    }\n",
        "\n",
        "    // Check if the applicant's credit score is at least 650\n",
        "    if (creditScore < 650) {\n",
        "        return 0; // Loan denied\n",
        "    }\n",
        "\n",
        "    // Additional check for applicants under 25 years old\n",
        "    if (age < 25 && creditScore < 700) {\n",
        "        return 0; // Loan denied\n",
        "    }\n",
        "\n",
        "    // Check if the loan amount requested is within the limit for lower income\n",
        "    if (monthlyIncome < 3000 && loanAmount > 50000) {\n",
        "        return 0; // Loan denied\n",
        "    }\n",
        "\n",
        "    return 1; // Loan approved\n",
        "}\n",
        "\n",
        "int main() {\n",
        "    int age, creditScore;\n",
        "    double monthlyIncome, loanAmount;\n",
        "\n",
        "    printf(\"Enter your age: \");\n",
        "    scanf(\"%d\", &age);\n",
        "    printf(\"Enter your monthly income: \");\n",
        "    scanf(\"%lf\", &monthlyIncome);\n",
        "    printf(\"Enter your credit score: \");\n",
        "    scanf(\"%d\", &creditScore);\n",
        "    printf(\"Enter the loan amount requested: \");\n",
        "    scanf(\"%lf\", &loanAmount);\n",
        "\n",
        "    if (isLoanApproved(age, monthlyIncome, creditScore, loanAmount)) {\n",
        "        printf(\"Loan Approved\\n\");\n",
        "    } else {\n",
        "        printf(\"Loan Denied\\n\");\n",
        "    }\n",
        "\n",
        "    return 0;\n",
        "}"
      ]
    },
    {
      "cell_type": "code",
      "execution_count": null,
      "metadata": {
        "id": "3GgVmu4BFX7_"
      },
      "outputs": [],
      "source": [
        "!g++ program.c -o program\n",
        "! ./program"
      ]
    },
    {
      "cell_type": "markdown",
      "metadata": {
        "id": "XkKeAY6ERYsp"
      },
      "source": [
        "2) Write a C program using a for loop that prints the first 20 prime numbers in the range of 1 < n < 100\n",
        "Use a continue statement to skip non-prime numbers\n",
        "Use a break statement to stop the loop once 20 prime numbers have been printed.\n",
        "\n"
      ]
    },
    {
      "cell_type": "code",
      "execution_count": null,
      "metadata": {
        "colab": {
          "base_uri": "https://localhost:8080/"
        },
        "id": "1y-7AxawFX40",
        "outputId": "116d3b13-5286-4f35-e421-9357f9dc2f95"
      },
      "outputs": [
        {
          "name": "stdout",
          "output_type": "stream",
          "text": [
            "Overwriting program.c\n"
          ]
        }
      ],
      "source": [
        "%%writefile program.c\n",
        "#include <stdio.h>\n",
        "\n",
        "// Function to check if a number is prime\n",
        "int isPrime(int num) {\n",
        "    if (num <= 1) {\n",
        "        return 0; // Numbers less than or equal to 1 are not prime\n",
        "    }\n",
        "    // Optimization: Check divisibility only up to the square root of num\n",
        "    for (int i = 2; i * i <= num; i++) {\n",
        "        if (num % i == 0) {\n",
        "            return false; // If divisible by any number, it's not prime\n",
        "        }\n",
        "    }\n",
        "    return 1; // If no divisors found, it's prime\n",
        "}\n",
        "\n",
        "int main() {\n",
        "    int count = 0;\n",
        "\n",
        "    // Loop through numbers from 2 to 99\n",
        "    for (int num = 2; num < 100; num++) {\n",
        "        // Check if the number is prime\n",
        "        if (!isPrime(num)) {\n",
        "            continue; // Skip non-prime numbers\n",
        "        }\n",
        "\n",
        "        // Print the prime number\n",
        "        printf(\"%d \", num);\n",
        "        count++;\n",
        "\n",
        "        // Stop the loop once 20 prime numbers have been printed\n",
        "        if (count == 20) {\n",
        "            break;\n",
        "        }\n",
        "    }\n",
        "\n",
        "    printf(\"\\n\");\n",
        "    return 0;\n",
        "}"
      ]
    },
    {
      "cell_type": "code",
      "execution_count": null,
      "metadata": {
        "colab": {
          "base_uri": "https://localhost:8080/"
        },
        "id": "eP7F4fCzFX2A",
        "outputId": "e048943c-0fa1-4891-b36c-2fbca5e55409"
      },
      "outputs": [
        {
          "name": "stdout",
          "output_type": "stream",
          "text": [
            "2 3 5 7 11 13 17 19 23 29 31 37 41 43 47 53 59 61 67 71 \n"
          ]
        }
      ],
      "source": [
        "!g++ program.c -o program\n",
        "! ./program"
      ]
    },
    {
      "cell_type": "markdown",
      "metadata": {
        "id": "4kkmIW8JRZho"
      },
      "source": [
        "\n",
        "3) Design an attendance tracker for a class of 20 students. The attendance of each student for a month is stored as either 1 (Present) or 0 (Absent) in an array. The system should:\n",
        "Calculate the number of days each student was present.\n",
        "Identify and display the student with the highest number of days present.\n",
        " ‘\n"
      ]
    },
    {
      "cell_type": "code",
      "execution_count": null,
      "metadata": {
        "colab": {
          "base_uri": "https://localhost:8080/"
        },
        "id": "fFjpmd2aFXym",
        "outputId": "30df8eab-eb02-45ab-beb9-0da4523ab869"
      },
      "outputs": [
        {
          "name": "stdout",
          "output_type": "stream",
          "text": [
            "Overwriting program.c\n"
          ]
        }
      ],
      "source": [
        "%%writefile program.c\n",
        "#include <stdio.h>\n",
        "\n",
        "#define STUDENTS 20\n",
        "#define DAYS 30\n",
        "\n",
        "int main() {\n",
        "    int attendance[STUDENTS][DAYS];\n",
        "    int presentCount[STUDENTS] = {0};\n",
        "    int maxPresent = 0;\n",
        "    int maxStudent = 0;\n",
        "\n",
        "    // Read the attendance data\n",
        "    printf(\"Enter the attendance data (1 for Present, 0 for Absent):\\n\");\n",
        "    for (int i = 0; i < STUDENTS; i++) {\n",
        "        printf(\"Student %d:\\n\", i + 1);\n",
        "        for (int j = 0; j < DAYS; j++) {\n",
        "            scanf(\"%d\", &attendance[i][j]);\n",
        "        }\n",
        "    }\n",
        "\n",
        "    // Calculate the number of days each student was present\n",
        "    for (int i = 0; i < STUDENTS; i++) {\n",
        "        for (int j = 0; j < DAYS; j++) {\n",
        "            if (attendance[i][j] == 1) {\n",
        "                presentCount[i]++;\n",
        "            }\n",
        "        }\n",
        "        // Identify the student with the highest number of days present\n",
        "        if (presentCount[i] > maxPresent) {\n",
        "            maxPresent = presentCount[i];\n",
        "            maxStudent = i;\n",
        "        }\n",
        "    }\n",
        "\n",
        "    // Display the number of days each student was present\n",
        "    for (int i = 0; i < STUDENTS; i++) {\n",
        "        printf(\"Student %d was present for %d days.\\n\", i + 1, presentCount[i]);\n",
        "    }\n",
        "\n",
        "    // Display the student with the highest number of days present\n",
        "    printf(\"Student %d has the highest number of days present: %d days.\\n\", maxStudent + 1, maxPresent);\n",
        "\n",
        "    return 0;\n",
        "}"
      ]
    },
    {
      "cell_type": "code",
      "execution_count": null,
      "metadata": {
        "colab": {
          "base_uri": "https://localhost:8080/"
        },
        "id": "0yd2b0LeFXvn",
        "outputId": "d5924300-26bd-4bb4-c92f-72c22ca6df7b"
      },
      "outputs": [
        {
          "name": "stdout",
          "output_type": "stream",
          "text": [
            "Enter the attendance data (1 for Present, 0 for Absent):\n",
            "Student 1:\n",
            "^C\n"
          ]
        }
      ],
      "source": [
        "!g++ program.c -o program\n",
        "! ./program"
      ]
    },
    {
      "cell_type": "markdown",
      "metadata": {
        "id": "cyVt3nzcVcj0"
      },
      "source": [
        "5 a) Implement a library management system where users can search for books in a list (based on their ISBN numbers). Implement a user-defined function to perform searching and display the availability.\n",
        "\n"
      ]
    },
    {
      "cell_type": "code",
      "execution_count": null,
      "metadata": {
        "id": "zxY6JpXoVdJf"
      },
      "outputs": [],
      "source": [
        "%%writefile program.c\n",
        "#include <stdio.h>\n",
        "#include <string.h>\n",
        "\n",
        "// Define a structure to represent a book\n",
        "struct Book {\n",
        "    char title[100];\n",
        "    char author[100];\n",
        "    char isbn[20];\n",
        "    int available; // 1 if the book is available, 0 if not\n",
        "};\n",
        "\n",
        "// Function to search for a book by ISBN\n",
        "void searchBook(struct Book library[], int size, char isbn[]) {\n",
        "    int found = 0;\n",
        "    for (int i = 0; i < size; i++) {\n",
        "        if (strcmp(library[i].isbn, isbn) == 0) {\n",
        "            found = 1;\n",
        "            printf(\"Book found:\\n\");\n",
        "            printf(\"Title: %s\\n\", library[i].title);\n",
        "            printf(\"Author: %s\\n\", library[i].author);\n",
        "            printf(\"ISBN: %s\\n\", library[i].isbn);\n",
        "            printf(\"Availability: %s\\n\", library[i].available ? \"Available\" : \"Not Available\");\n",
        "            break;\n",
        "        }\n",
        "    }\n",
        "    if (!found) {\n",
        "        printf(\"Book with ISBN %s not found.\\n\", isbn);\n",
        "    }\n",
        "}\n",
        "\n",
        "int main() {\n",
        "    // Define a list of books in the library\n",
        "    struct Book library[] = {\n",
        "        {\"The Great Gatsby\", \"F. Scott Fitzgerald\", \"9780743273565\", 1},\n",
        "        {\"1984\", \"George Orwell\", \"9780451524935\", 0},\n",
        "        {\"To Kill a Mockingbird\", \"Harper Lee\", \"9780061120084\", 1},\n",
        "        {\"The Catcher in the Rye\", \"J.D. Salinger\", \"9780316769488\", 1},\n",
        "        {\"Pride and Prejudice\", \"Jane Austen\", \"9781503290563\", 0}\n",
        "    };\n",
        "    int size = sizeof(library) / sizeof(library[0]);\n",
        "    char isbn[20];\n",
        "\n",
        "    // Read the ISBN number from the user\n",
        "    printf(\"Enter the ISBN number to search for: \");\n",
        "    scanf(\"%s\", isbn);\n",
        "\n",
        "    // Search for the book by ISBN\n",
        "    searchBook(library, size, isbn);\n",
        "\n",
        "    return 0;\n",
        "}"
      ]
    },
    {
      "cell_type": "markdown",
      "metadata": {
        "id": "elLNIoGyRi5V"
      },
      "source": [
        "1 c) Write a C program to reverse the given real number which contains only one digit before the decimal point and after the decimal point. For example, if the given real number is 3.8, the resultant reversed real number is 8.3.\n"
      ]
    },
    {
      "cell_type": "code",
      "execution_count": null,
      "metadata": {
        "id": "2MIgCzbLFXsm"
      },
      "outputs": [],
      "source": [
        "%%writefile program.c\n",
        "#include <stdio.h>\n",
        "\n",
        "int main() {\n",
        "    float number, reversedNumber;\n",
        "    int beforeDecimal, afterDecimal;\n",
        "\n",
        "    // Read the real number from the user\n",
        "    printf(\"Enter a real number with one digit before and after the decimal point: \");\n",
        "    scanf(\"%f\", &number);\n",
        "\n",
        "    // Extract the digit before the decimal point\n",
        "    beforeDecimal = (int)number;\n",
        "\n",
        "    // Extract the digit after the decimal point\n",
        "    afterDecimal = (int)((number - beforeDecimal) * 10);\n",
        "\n",
        "    // Reverse the digits\n",
        "    reversedNumber = afterDecimal + beforeDecimal / 10.0;\n",
        "\n",
        "    // Print the reversed number\n",
        "    printf(\"Reversed number: %.1f\\n\", reversedNumber);\n",
        "\n",
        "    return 0;\n",
        "}"
      ]
    },
    {
      "cell_type": "code",
      "execution_count": null,
      "metadata": {
        "id": "k9RURcRPFd5l"
      },
      "outputs": [],
      "source": [
        "!g++ program.c -o program\n",
        "! ./program"
      ]
    },
    {
      "cell_type": "markdown",
      "metadata": {
        "id": "cA8xgIuKRvqX"
      },
      "source": [
        "\n",
        "\n",
        "2 a) Develop a program in C to generate and display the list of twin prime numbers between 101 and 1000. Note: If the difference between two successive prime numbers is 2, then, those prime numbers are known as twin prime numbers.\n",
        "\n"
      ]
    },
    {
      "cell_type": "code",
      "execution_count": null,
      "metadata": {
        "id": "ophnIrzsRuWv"
      },
      "outputs": [],
      "source": [
        "%%writefile program.c\n",
        "#include <stdio.h>\n",
        "\n",
        "// Function to check if a number is prime\n",
        "int isPrime(int num) {\n",
        "    if (num <= 1) {\n",
        "        return 0; // Not prime\n",
        "    }\n",
        "    for (int i = 2; i * i <= num; i++) {\n",
        "        if (num % i == 0) {\n",
        "            return 0; // Not prime\n",
        "        }\n",
        "    }\n",
        "    return 1; // Prime\n",
        "}\n",
        "\n",
        "int main() {\n",
        "    int prevPrime = 0;\n",
        "\n",
        "    printf(\"Twin prime numbers between 101 and 1000:\\n\");\n",
        "\n",
        "    // Loop through numbers from 101 to 1000\n",
        "    for (int num = 101; num <= 1000; num++) {\n",
        "        if (isPrime(num)) {\n",
        "            if (prevPrime != 0 && num - prevPrime == 2) {\n",
        "                printf(\"(%d, %d)\\n\", prevPrime, num);\n",
        "            }\n",
        "            prevPrime = num;\n",
        "        }\n",
        "    }\n",
        "\n",
        "    return 0;\n",
        "}"
      ]
    },
    {
      "cell_type": "markdown",
      "metadata": {
        "id": "xO9lJZI0RxWF"
      },
      "source": [
        "\n",
        "2 b) Construct a C program to generate the new abbreviation string and print as the output for the given phrase or line of text received as input from the user. For example, if the input is \"Cascaded Style Sheet\", output is \"CSS\"\n"
      ]
    },
    {
      "cell_type": "code",
      "execution_count": null,
      "metadata": {
        "id": "VVncFZitRugJ"
      },
      "outputs": [],
      "source": [
        "%%writefile program.c\n",
        "#include <stdio.h>\n",
        "\n",
        "void generateAbbreviation(char phrase[], char abbreviation[]) {\n",
        "    int j = 0;\n",
        "    abbreviation[j++] = phrase[0]; // Add the first character of the phrase\n",
        "\n",
        "    for (int i = 1; phrase[i] != '\\0'; i++) {\n",
        "        if (phrase[i] == ' ' && phrase[i + 1] != '\\0') {\n",
        "            // Add the first character of the next word\n",
        "            abbreviation[j++] = toupper(phrase[i + 1]);\n",
        "        }\n",
        "    }\n",
        "    abbreviation[j] = '\\0'; // Null-terminate the abbreviation string\n",
        "}\n",
        "\n",
        "int main() {\n",
        "    char phrase[100];\n",
        "    char abbreviation[50];\n",
        "\n",
        "    // Read the phrase from the user\n",
        "    printf(\"Enter a phrase: \");\n",
        "    scanf(\"%s\", &phrase);\n",
        "\n",
        "    // Generate the abbreviation\n",
        "    generateAbbreviation(phrase, abbreviation);\n",
        "\n",
        "    // Print the abbreviation\n",
        "    printf(\"Abbreviation: %s\\n\", abbreviation);\n",
        "\n",
        "    return 0;\n",
        "}"
      ]
    },
    {
      "cell_type": "markdown",
      "metadata": {
        "id": "-ArnOT0kRyqH"
      },
      "source": [
        "\n",
        "\n",
        "3) Design a C program to check whether the given matrix is the magic square or not. For example, one sample magic square matrix is given below.\n",
        "\n"
      ]
    },
    {
      "cell_type": "code",
      "execution_count": null,
      "metadata": {
        "id": "LTat89WwRupD"
      },
      "outputs": [],
      "source": [
        "%%writefile program.c\n",
        "#include <stdio.h>\n",
        "\n",
        "#define N 3 // Define the size of the matrix (N x N)\n",
        "\n",
        "// Function to check if the given matrix is a magic square\n",
        "int isMagicSquare(int matrix[N][N]) {\n",
        "    int sumDiagonal1 = 0, sumDiagonal2 = 0;\n",
        "\n",
        "    // Calculate the sum of the first diagonal\n",
        "    for (int i = 0; i < N; i++) {\n",
        "        sumDiagonal1 += matrix[i][i];\n",
        "    }\n",
        "\n",
        "    // Calculate the sum of the second diagonal\n",
        "    for (int i = 0; i < N; i++) {\n",
        "        sumDiagonal2 += matrix[i][N - i - 1];\n",
        "    }\n",
        "\n",
        "    // If the sums of the diagonals are not equal, it's not a magic square\n",
        "    if (sumDiagonal1 != sumDiagonal2) {\n",
        "        return 0;\n",
        "    }\n",
        "\n",
        "    // Check the sums of rows and columns\n",
        "    for (int i = 0; i < N; i++) {\n",
        "        int sumRow = 0, sumCol = 0;\n",
        "        for (int j = 0; j < N; j++) {\n",
        "            sumRow += matrix[i][j];\n",
        "            sumCol += matrix[j][i];\n",
        "        }\n",
        "        // If any row or column sum is not equal to the diagonal sum, it's not a magic square\n",
        "        if (sumRow != sumDiagonal1 || sumCol != sumDiagonal1) {\n",
        "            return 0;\n",
        "        }\n",
        "    }\n",
        "\n",
        "    // If all checks pass, it's a magic square\n",
        "    return 1;\n",
        "}\n",
        "\n",
        "int main() {\n",
        "    int matrix[N][N];\n",
        "\n",
        "    // Read the elements of the matrix\n",
        "    printf(\"Enter the elements of the %dx%d matrix:\\n\", N, N);\n",
        "    for (int i = 0; i < N; i++) {\n",
        "        for (int j = 0; j < N; j++) {\n",
        "            scanf(\"%d\", &matrix[i][j]);\n",
        "        }\n",
        "    }\n",
        "\n",
        "    // Check if the matrix is a magic square\n",
        "    if (isMagicSquare(matrix)) {\n",
        "        printf(\"The given matrix is a magic square.\\n\");\n",
        "    } else {\n",
        "        printf(\"The given matrix is not a magic square.\\n\");\n",
        "    }\n",
        "\n",
        "    return 0;\n",
        "}"
      ]
    },
    {
      "cell_type": "markdown",
      "metadata": {
        "id": "jHpIaoI_f20t"
      },
      "source": [
        "\n",
        "Write a program to read the age of 10 persons and count the number of persons in the age group 50 to 60 and 30 to 40. Using For loop and if-else statements\n",
        "\n"
      ]
    },
    {
      "cell_type": "code",
      "execution_count": null,
      "metadata": {
        "id": "RXzvU__kfhix"
      },
      "outputs": [],
      "source": [
        "#include <stdio.h>\n",
        "\n",
        "int main() {\n",
        "    int ages[10];\n",
        "    int count50to60 = 0;\n",
        "    int count30to40 = 0;\n",
        "\n",
        "    // Read the ages of 10 persons\n",
        "    printf(\"Enter the ages of 10 persons:\\n\");\n",
        "    for (int i = 0; i < 10; i++) {\n",
        "        scanf(\"%d\", &ages[i]);\n",
        "    }\n",
        "\n",
        "    // Count the number of persons in the age groups 50 to 60 and 30 to 40\n",
        "    for (int i = 0; i < 10; i++) {\n",
        "        if (ages[i] >= 50 && ages[i] <= 60) {\n",
        "            count50to60++;\n",
        "        } else if (ages[i] >= 30 && ages[i] <= 40) {\n",
        "            count30to40++;\n",
        "        }\n",
        "    }\n",
        "\n",
        "    // Print the results\n",
        "    printf(\"Number of persons in the age group 50 to 60: %d\\n\", count50to60);\n",
        "    printf(\"Number of persons in the age group 30 to 40: %d\\n\", count30to40);\n",
        "\n",
        "    return 0;\n",
        "}"
      ]
    },
    {
      "cell_type": "markdown",
      "metadata": {
        "id": "p69B7O65gher"
      },
      "source": [
        "\n",
        "Write a C Program to print an Inverted half-pyramid pattern to get the following output.\n",
        "1\n",
        "12\n",
        "123\n",
        "1234\n",
        "12345\n"
      ]
    },
    {
      "cell_type": "code",
      "execution_count": null,
      "metadata": {
        "id": "IEf_ltbvgkG3"
      },
      "outputs": [],
      "source": [
        "#include <stdio.h>\n",
        "\n",
        "int main() {\n",
        "    int rows = 5;\n",
        "\n",
        "    // Loop through each row\n",
        "    for (int i = 1; i <= rows; i++) {\n",
        "        // Loop to print numbers in each row\n",
        "        for (int j = 1; j <= i; j++) {\n",
        "            printf(\"%d\", j);\n",
        "        }\n",
        "        printf(\"\\n\"); // Move to the next line after each row\n",
        "    }\n",
        "\n",
        "    return 0;\n",
        "}"
      ]
    },
    {
      "cell_type": "markdown",
      "metadata": {
        "id": "6B_xkmx3gkk-"
      },
      "source": [
        "You own a video game arcade. Your arcade charges are based on the amount 10 of time a player spends playing. Write a program to calculate the bill for playing games in your arcade. The conditions are as follows:\n",
        "(a) 1 Hour costs Rs. 100\n",
        "(b) 1-minute costs Rs. 2\n",
        "(c) Rs. 450 for five hours\n",
        "\n",
        "Boundary condition: A user can play for a maximum of 8 hours. Check boundary conditions.\n",
        "\n"
      ]
    },
    {
      "cell_type": "code",
      "execution_count": null,
      "metadata": {
        "id": "YNE-80SFgmnn"
      },
      "outputs": [],
      "source": [
        "#include <stdio.h>\n",
        "\n",
        "int main() {\n",
        "    int hours, minutes;\n",
        "    int totalMinutes;\n",
        "    int bill = 0;\n",
        "\n",
        "    // Read the number of hours and minutes from the user\n",
        "    printf(\"Enter the number of hours played: \");\n",
        "    scanf(\"%d\", &hours);\n",
        "    printf(\"Enter the number of minutes played: \");\n",
        "    scanf(\"%d\", &minutes);\n",
        "\n",
        "    // Calculate the total minutes played\n",
        "    totalMinutes = hours * 60 + minutes;\n",
        "\n",
        "    // Check the boundary condition\n",
        "    if (totalMinutes > 8 * 60) {\n",
        "        printf(\"Error: Maximum play time is 8 hours.\\n\");\n",
        "        return 1;\n",
        "    }\n",
        "\n",
        "    // Calculate the bill based on the given conditions\n",
        "    if (hours >= 5) {\n",
        "        bill = (hours / 5) * 450;\n",
        "        hours %= 5;\n",
        "    }\n",
        "    bill += hours * 100;\n",
        "    bill += minutes * 2;\n",
        "\n",
        "    // Print the bill\n",
        "    printf(\"Total bill: Rs. %d\\n\", bill);\n",
        "\n",
        "    return 0;\n",
        "}"
      ]
    },
    {
      "cell_type": "markdown",
      "metadata": {
        "id": "TZBqMQeignIk"
      },
      "source": [
        "Write a program in C to read a number from a user and then find the factorial of that number using a user-defined function.\n",
        "\n"
      ]
    },
    {
      "cell_type": "code",
      "execution_count": null,
      "metadata": {
        "colab": {
          "base_uri": "https://localhost:8080/"
        },
        "id": "HMurYMTUgqN5",
        "outputId": "9a8c0c01-4d0b-4d48-a502-24aaec3cbb20"
      },
      "outputs": [
        {
          "name": "stdout",
          "output_type": "stream",
          "text": [
            "Writing program.c\n"
          ]
        }
      ],
      "source": [
        "%%writefile program.c\n",
        "#include <stdio.h>\n",
        "\n",
        "int main()\n",
        "{\n",
        "    int arr[100], freq[100];\n",
        "    int size, i, j, count;\n",
        "\n",
        "    /* Input size of array */\n",
        "    printf(\"Enter size of array: \");\n",
        "    scanf(\"%d\", &size);\n",
        "\n",
        "    /* Input elements in array */\n",
        "    printf(\"Enter elements in array: \");\n",
        "    for(i=0; i<size; i++)\n",
        "    {\n",
        "        scanf(\"%d\", &arr[i]);\n",
        "\n",
        "        /* Initially initialize frequencies to -1 */\n",
        "        freq[i] = -1;\n",
        "    }\n",
        "\n",
        "\n",
        "    for(i=0; i<size; i++)\n",
        "    {\n",
        "        count = 1;\n",
        "        for(j=i+1; j<size; j++)\n",
        "        {\n",
        "            /* If duplicate element is found */\n",
        "            if(arr[i]==arr[j])\n",
        "            {\n",
        "                count++;\n",
        "\n",
        "                /* Make sure not to count frequency of same element again */\n",
        "                freq[j] = 0;\n",
        "            }\n",
        "        }\n",
        "\n",
        "        /* If frequency of current element is not counted */\n",
        "        if(freq[i] != 0)\n",
        "        {\n",
        "            freq[i] = count;\n",
        "        }\n",
        "    }\n",
        "\n",
        "    /*\n",
        "     * Print frequency of each element\n",
        "     */\n",
        "    printf(\"\\nFrequency of all elements of array : \\n\");\n",
        "    for(i=0; i<size; i++)\n",
        "    {\n",
        "        if(freq[i] != 0)\n",
        "        {\n",
        "            printf(\"%d occurs %d times\\n\", arr[i], freq[i]);\n",
        "        }\n",
        "    }\n",
        "\n",
        "    return 0;\n",
        "}\n"
      ]
    },
    {
      "cell_type": "code",
      "execution_count": null,
      "metadata": {
        "colab": {
          "base_uri": "https://localhost:8080/"
        },
        "id": "sW9nVFFo1l7A",
        "outputId": "6f62ae5a-73eb-4dcc-8c89-fc86729523a1"
      },
      "outputs": [
        {
          "name": "stdout",
          "output_type": "stream",
          "text": [
            "Enter size of array: 5\n",
            "Enter elements in array: 1 2 2 1 5\n",
            "\n",
            "Frequency of all elements of array : \n",
            "1 occurs 2 times\n",
            "2 occurs 2 times\n",
            "5 occurs 1 times\n"
          ]
        }
      ],
      "source": [
        "!g++ program.c -o program\n",
        "! ./program"
      ]
    },
    {
      "cell_type": "markdown",
      "metadata": {
        "id": "5lYEP_qSgqrH"
      },
      "source": [
        "Write a C program that finds the top three highest marks in a class. The user should enter the number of students and their respective marks. Use an array to store the marks and determine the three highest marks among the students."
      ]
    },
    {
      "cell_type": "code",
      "execution_count": null,
      "metadata": {
        "id": "0n0yvA0zgsnW"
      },
      "outputs": [],
      "source": [
        "#include <stdio.h>\n",
        "\n",
        "int main() {\n",
        "    int numStudents;\n",
        "\n",
        "    // Read the number of students\n",
        "    printf(\"Enter the number of students: \");\n",
        "    scanf(\"%d\", &numStudents);\n",
        "\n",
        "    int marks[numStudents];\n",
        "\n",
        "    // Read the marks of the students\n",
        "    printf(\"Enter the marks of the students:\\n\");\n",
        "    for (int i = 0; i < numStudents; i++) {\n",
        "        scanf(\"%d\", &marks[i]);\n",
        "    }\n",
        "\n",
        "    // Initialize the top three highest marks\n",
        "    int highest = 0, secondHighest = 0, thirdHighest = 0;\n",
        "\n",
        "    // Find the top three highest marks\n",
        "    for (int i = 0; i < numStudents; i++) {\n",
        "        if (marks[i] > highest) {\n",
        "            thirdHighest = secondHighest;\n",
        "            secondHighest = highest;\n",
        "            highest = marks[i];\n",
        "        } else if (marks[i] > secondHighest) {\n",
        "            thirdHighest = secondHighest;\n",
        "            secondHighest = marks[i];\n",
        "        } else if (marks[i] > thirdHighest) {\n",
        "            thirdHighest = marks[i];\n",
        "        }\n",
        "    }\n",
        "\n",
        "    // Print the top three highest marks\n",
        "    printf(\"Top three highest marks are: %d, %d, and %d\\n\", highest, secondHighest, thirdHighest);\n",
        "\n",
        "    return 0;\n",
        "}"
      ]
    },
    {
      "cell_type": "code",
      "execution_count": null,
      "metadata": {
        "id": "BRybI16qDc2S"
      },
      "outputs": [],
      "source": []
    },
    {
      "cell_type": "code",
      "execution_count": null,
      "metadata": {
        "colab": {
          "base_uri": "https://localhost:8080/"
        },
        "id": "wfA7-kEBEnOK",
        "outputId": "2d35a1ec-ea48-42e2-e7e1-a05f7e08bb11"
      },
      "outputs": [
        {
          "name": "stdout",
          "output_type": "stream",
          "text": [
            "Overwriting program.c\n"
          ]
        }
      ],
      "source": [
        "%%writefile program.c\n",
        "//The program takes a 3x3 matrix, and if any element in the matrix is 0, it sets all the elements in that row and column to 0.\n",
        "#include <stdio.h>\n",
        "#define ROWS 3\n",
        "#define COLS 3\n",
        "int main() {\n",
        "\n",
        "    int matrix[ROWS][COLS] = {\n",
        "        {1, 1, 0},\n",
        "        {1, 0, 1},\n",
        "        {1, 1, 1}\n",
        "    };\n",
        "\n",
        "    int zeroRows[ROWS] = {0};  // Array to track rows to be zeroed\n",
        "    int zeroCols[COLS] = {0};  // Array to track columns to be zeroed\n",
        "int i,j;\n",
        "    // Traverse the matrix and mark the rows and columns to be zeroed\n",
        "    for (i = 0; i < ROWS; i++) {\n",
        "        for (j = 0; j < COLS; j++) {\n",
        "            if (matrix[i][j] == 0) {\n",
        "                zeroRows[i] = 1;  // Mark this row to be zeroed\n",
        "                zeroCols[j] = 1;  // Mark this column to be zeroed\n",
        "            }\n",
        "        }\n",
        "    }\n",
        "for (i = 0; i < ROWS; i++) {\n",
        "\tprintf(\"Zero Row %d\\t\",zeroRows[i]);\n",
        "\tprintf(\"\\n\");\n",
        "}\n",
        "for (j = 0; j < COLS; j++) {\n",
        "\tprintf(\"Zero Cols %d\\t\\n\",zeroCols[j]);\n",
        "}\n",
        "\n",
        "\n",
        "    // Step 2: Zero out the marked rows\n",
        "    for (i = 0; i < ROWS; i++) {\n",
        "        if (zeroRows[i] == 1) {\n",
        "            for (j = 0; j < COLS; j++) {\n",
        "                matrix[i][j] = 0;\n",
        "            }\n",
        "        }\n",
        "    }\n",
        "\n",
        "    // Step 3: Zero out the marked columns\n",
        "    for (j = 0; j < COLS; j++) {\n",
        "        if (zeroCols[j] == 1) {\n",
        "            for (i = 0; i < ROWS; i++) {\n",
        "                matrix[i][j] = 0;\n",
        "            }\n",
        "        }\n",
        "    }\n",
        "\n",
        "    // Print the final matrix after zeroing rows and columns\n",
        "    printf(\"Matrix after zeroing rows and columns:\\n\");\n",
        "    for (i = 0; i < ROWS; i++) {\n",
        "        for (j = 0; j < COLS; j++) {\n",
        "            printf(\"%d \", matrix[i][j]);\n",
        "        }\n",
        "        printf(\"\\n\");\n",
        "    }\n",
        "\n",
        "    return 0;\n",
        "}"
      ]
    },
    {
      "cell_type": "code",
      "execution_count": null,
      "metadata": {
        "colab": {
          "base_uri": "https://localhost:8080/"
        },
        "id": "uIrSJ7QGDm1N",
        "outputId": "b74247f7-23a3-46fa-d447-43d4e3bbdd01"
      },
      "outputs": [
        {
          "name": "stdout",
          "output_type": "stream",
          "text": [
            "Zero Row 1\t\n",
            "Zero Row 1\t\n",
            "Zero Row 0\t\n",
            "Zero Cols 0\t\n",
            "Zero Cols 1\t\n",
            "Zero Cols 1\t\n",
            "Matrix after zeroing rows and columns:\n",
            "0 0 0 \n",
            "0 0 0 \n",
            "1 0 0 \n"
          ]
        }
      ],
      "source": [
        "!g++ program.c -o program\n",
        "! ./program"
      ]
    },
    {
      "cell_type": "code",
      "execution_count": null,
      "metadata": {
        "id": "RtPADi0dKn7p"
      },
      "outputs": [],
      "source": [
        "//C Program to Print Matrix in Spiral Order\n",
        "#include <stdio.h>\n",
        "int main() {\n",
        "    int n, i, j;\n",
        "\n",
        "    // Input the size of the matrix\n",
        "    printf(\"Enter the size of the matrix (n x n): \");\n",
        "    scanf(\"%d\", &n);\n",
        "\n",
        "    int matrix[n][n];\n",
        "\n",
        "    // Input the elements of the matrix\n",
        "    printf(\"Enter the elements of the matrix:\\n\");\n",
        "    for (i = 0; i < n; i++) {\n",
        "        for (j = 0; j < n; j++) {\n",
        "            scanf(\"%d\", &matrix[i][j]);\n",
        "        }\n",
        "    }\n",
        "\n",
        "    // Variables to define the boundaries of the matrix\n",
        "    int startRow = 0, endRow = n - 1;\n",
        "    int startCol = 0, endCol = n - 1;\n",
        "\n",
        "    // Print the elements in spiral order\n",
        "    printf(\"Spiral Order:\\n\");\n",
        "\n",
        "    while (startRow <= endRow && startCol <= endCol) {\n",
        "        // Print the top row (left to right)\n",
        "        for (i = startCol; i <= endCol; i++) {\n",
        "            printf(\"%d \", matrix[startRow][i]);\n",
        "        }\n",
        "        startRow++;  // Move the top boundary down\n",
        "\n",
        "        // Print the right column (top to bottom)\n",
        "        for (i = startRow; i <= endRow; i++) {\n",
        "            printf(\"%d \", matrix[i][endCol]);\n",
        "        }\n",
        "        endCol--;  // Move the right boundary left\n",
        "\n",
        "        // Print the bottom row (right to left)\n",
        "        if (startRow <= endRow) {\n",
        "            for (i = endCol; i >= startCol; i--) {\n",
        "                printf(\"%d \", matrix[endRow][i]);\n",
        "            }\n",
        "            endRow--;  // Move the bottom boundary up\n",
        "        }\n",
        "\n",
        "        // Print the left column (bottom to top)\n",
        "        if (startCol <= endCol) {\n",
        "            for (i = endRow; i >= startRow; i--) {\n",
        "                printf(\"%d \", matrix[i][startCol]);\n",
        "            }\n",
        "            startCol++;  // Move the left boundary right\n",
        "        }\n",
        "    }\n",
        "\n",
        "    return 0;\n",
        "}"
      ]
    },
    {
      "cell_type": "code",
      "execution_count": null,
      "metadata": {
        "colab": {
          "base_uri": "https://localhost:8080/"
        },
        "id": "hlyOFVimSGhb",
        "outputId": "9228d8e2-5207-4beb-fdf2-f6d064dc7e9d"
      },
      "outputs": [
        {
          "name": "stdout",
          "output_type": "stream",
          "text": [
            "Overwriting program.c\n"
          ]
        }
      ],
      "source": [
        "%%writefile program.c\n",
        "//C Program to print unique elements\n",
        "#include <stdio.h>\n",
        "\n",
        "#define SIZE 10\n",
        "\n",
        "int main() {\n",
        "    int n;\n",
        "\n",
        "    // Input the size of the matrix\n",
        "    printf(\"Enter the size n: \");\n",
        "    scanf(\"%d\", &n);\n",
        "\n",
        "    int arr[n];\n",
        "    int uarr[n];\n",
        "    int ui = 0;\n",
        "\n",
        "    printf(\"Enter the elements of the array :\\n\");\n",
        "    for (int i=0; i<n; i++) {\n",
        "       scanf(\"%d\", &arr[i]);\n",
        "    }\n",
        "\n",
        "    int unique;\n",
        "    for (int i=0; i<n; i++) {\n",
        "        unique = 0;\n",
        "        for (int j=0; j<ui; j++) {\n",
        "            if (arr[i] == uarr[j]) {\n",
        "                unique = 1;\n",
        "                break;\n",
        "            }\n",
        "        }\n",
        "        if  (!unique) {\n",
        "           uarr[ui++] = arr[i];\n",
        "        }\n",
        "\n",
        "    }\n",
        "\n",
        "    for (int i=0; i<ui; i++) {\n",
        "        printf(\"%d \", uarr[i]);\n",
        "    }\n",
        "    return 0;\n",
        "}"
      ]
    },
    {
      "cell_type": "code",
      "execution_count": null,
      "metadata": {
        "colab": {
          "base_uri": "https://localhost:8080/"
        },
        "id": "8ryInGnQUmcK",
        "outputId": "56d088ca-79b3-45b7-d1cb-c139d104c324"
      },
      "outputs": [
        {
          "name": "stdout",
          "output_type": "stream",
          "text": [
            "Enter the size n: 6\n",
            "Enter the elements of the array :\n",
            "3 5 7 3 8 5\n",
            "3 5 7 8 "
          ]
        }
      ],
      "source": [
        "!g++ program.c -o program\n",
        "! ./program"
      ]
    },
    {
      "cell_type": "code",
      "execution_count": null,
      "metadata": {
        "colab": {
          "base_uri": "https://localhost:8080/"
        },
        "id": "GDkBp5K9u_-K",
        "outputId": "7cfe4a9e-d500-4025-d72a-7d7fe5601e4c"
      },
      "outputs": [
        {
          "name": "stdout",
          "output_type": "stream",
          "text": [
            "Overwriting program.c\n"
          ]
        }
      ],
      "source": [
        "%%writefile program.c\n",
        "#include<stdio.h>\n",
        "int main() {\n",
        "  int N;\n",
        "  int mat1[50][50],i,j;\n",
        "  int mat2[50][50];\n",
        "  printf(\"enter size of matrix:\");\n",
        "  scanf(\"%d\",&N);\n",
        "\n",
        "  for(i=0;i<N;i++) {\n",
        "    for(j=0;j<N;j++) {\n",
        "      printf(\"Enter element %d,%d: \",i,j);\n",
        "      scanf(\"%d\", &mat1[i][j]);\n",
        "    }\n",
        "  }\n",
        "   printf(\"\\nOriginal matrix: \\n\");\n",
        "   for(i=0;i<N;i++) {\n",
        "    for(j=0;j<N;j++) {\n",
        "      printf(\"%d \", mat1[i][j]);\n",
        "    }\n",
        "    printf(\"\\n\");\n",
        "  }\n",
        "\n",
        "  for(i=0;i<N;i++) {\n",
        "    for(j=0;j<N;j++) {\n",
        "      mat2[i][j] = mat1[j][i];\n",
        "    }\n",
        "  }\n",
        "   printf(\"\\nTranspose matrix: \\n\");\n",
        "   for(i=0;i<N;i++) {\n",
        "    for(j=0;j<N;j++) {\n",
        "      printf(\"%d \", mat2[i][j]);\n",
        "    }\n",
        "    printf(\"\\n\");\n",
        "  }\n",
        "  int count = 0;\n",
        "  for(i=0;i<N;i++) {\n",
        "    for(j=0;j<N;j++) {\n",
        "      if(mat1[N][N] != mat2[N][N]) {\n",
        "        count++;\n",
        "      }\n",
        "    }\n",
        "  }\n",
        "  if(count>0) {\n",
        "    printf(\"\\nIt is not a symmetric matrix.\");\n",
        "  }\n",
        "  else {\n",
        "    printf(\"\\nIt is a symmetric matrix.\");\n",
        "  }\n",
        "\n",
        "\n",
        "return 0;\n",
        "}\n"
      ]
    },
    {
      "cell_type": "code",
      "execution_count": null,
      "metadata": {
        "colab": {
          "base_uri": "https://localhost:8080/"
        },
        "id": "LcxKMIdmvAK6",
        "outputId": "d9add63b-fa2d-4e80-b242-57a838304112"
      },
      "outputs": [
        {
          "name": "stdout",
          "output_type": "stream",
          "text": [
            "enter size of matrix:2\n",
            "Enter element 0,0: 1\n",
            "Enter element 0,1: 1\n",
            "Enter element 1,0: 1\n",
            "Enter element 1,1: 1\n",
            "\n",
            "Original matrix: \n",
            "1 1 \n",
            "1 1 \n",
            "\n",
            "Transpose matrix: \n",
            "1 1 \n",
            "1 1 \n",
            "\n",
            "It is a symmetric matrix."
          ]
        }
      ],
      "source": [
        "!g++ program.c -o program\n",
        "! ./program"
      ]
    },
    {
      "cell_type": "code",
      "execution_count": null,
      "metadata": {
        "colab": {
          "base_uri": "https://localhost:8080/"
        },
        "id": "TIMljU014IFs",
        "outputId": "0d2012f5-15ac-449a-829d-da3f2629e36c"
      },
      "outputs": [
        {
          "name": "stdout",
          "output_type": "stream",
          "text": [
            "Overwriting program.c\n"
          ]
        }
      ],
      "source": [
        "%%writefile program.c\n",
        "#include<stdio.h>\n",
        "int main() {\n",
        "  int N;\n",
        "  printf(\"enter size of matrix:\");\n",
        "  scanf(\"%d\",&N);\n",
        "  int mat[N][N],i,j;\n",
        "\n",
        "  for(i=0;i<N;i++) {\n",
        "    for(j=0;j<N;j++) {\n",
        "      printf(\"Enter element %d,%d: \",i,j);\n",
        "      scanf(\"%d\", &mat[i][j]);\n",
        "    }\n",
        "  }\n",
        "   printf(\"\\nOriginal matrix: \\n\");\n",
        "   for(i=0;i<N;i++) {\n",
        "    for(j=0;j<N;j++) {\n",
        "      printf(\"%d \", mat[i][j]);\n",
        "    }\n",
        "    printf(\"\\n\");\n",
        "  }\n",
        "  int count;\n",
        "  for(i=0;i<N;i++) {\n",
        "    for(j=0;j<N;j++) {\n",
        "      if(mat[i][j] != mat[j][i]) {\n",
        "        count++;\n",
        "      }\n",
        "  }\n",
        "  }\n",
        "\n",
        "  if(count>0) {\n",
        "    printf(\"\\nIt is not a symmetric matrix.\");\n",
        "  }\n",
        "  else {\n",
        "    printf(\"\\nIt is a symmetric matrix.\");\n",
        "  }\n",
        "\n",
        "\n",
        "return 0;\n",
        "}\n",
        "\n",
        "\n",
        "\n",
        "\n",
        "\n",
        "\n",
        "\n"
      ]
    },
    {
      "cell_type": "code",
      "execution_count": null,
      "metadata": {
        "colab": {
          "base_uri": "https://localhost:8080/"
        },
        "id": "-5LrE5Ef9ojE",
        "outputId": "0c1fdbe8-2ec9-4e3e-9d7b-a0203e9ad493"
      },
      "outputs": [
        {
          "name": "stdout",
          "output_type": "stream",
          "text": [
            "enter size of matrix:2\n",
            "Enter element 0,0: 1\n",
            "Enter element 0,1: 0\n",
            "Enter element 1,0: 0\n",
            "Enter element 1,1: 1\n",
            "\n",
            "Original matrix: \n",
            "1 0 \n",
            "0 1 \n",
            "\n",
            "It is not a symmetric matrix."
          ]
        }
      ],
      "source": [
        "!g++ program.c -o program\n",
        "! ./program"
      ]
    },
    {
      "cell_type": "code",
      "execution_count": null,
      "metadata": {
        "colab": {
          "base_uri": "https://localhost:8080/"
        },
        "id": "BfTFKHrk-ask",
        "outputId": "2e81228e-993c-4e43-a7c1-304ae711264c"
      },
      "outputs": [
        {
          "name": "stdout",
          "output_type": "stream",
          "text": [
            "Overwriting program.c\n"
          ]
        }
      ],
      "source": [
        "%%writefile program.c\n",
        "#include<stdio.h>\n",
        "int main() {\n",
        "  int a=1,b=1,n,i;\n",
        "  int c=a+b;\n",
        "  printf(\"enter no of terms:\");\n",
        "  scanf(\"%d\", &n);\n",
        "  printf(\"Fibonacci series: %d %d %d \",a,b,c);\n",
        "  for(i=3;i<n;i++) {\n",
        "    a = b;\n",
        "    b = c;\n",
        "    c = a+b;\n",
        "    printf(\"%d \",c);\n",
        "  }\n",
        "  int digit;\n",
        "  digit = c%10;\n",
        "  printf(\"\\ndigit of %dth term is: %d\",n,digit);\n",
        "  return 0;\n",
        "\n",
        "}"
      ]
    },
    {
      "cell_type": "code",
      "execution_count": null,
      "metadata": {
        "colab": {
          "base_uri": "https://localhost:8080/"
        },
        "id": "kUjeqte6ApBX",
        "outputId": "f7225999-493b-4320-de7f-95d34fca19a2"
      },
      "outputs": [
        {
          "name": "stdout",
          "output_type": "stream",
          "text": [
            "enter no of terms:13\n",
            "Fibonacci series: 1 1 2 3 5 8 13 21 34 55 89 144 233 \n",
            "digit of 13th term is: 3"
          ]
        }
      ],
      "source": [
        "!g++ program.c -o program\n",
        "! ./program"
      ]
    },
    {
      "cell_type": "code",
      "execution_count": null,
      "metadata": {
        "colab": {
          "base_uri": "https://localhost:8080/"
        },
        "id": "3fHH908pEaFc",
        "outputId": "4ca79eda-6759-4c42-9f8d-5cca1159d354"
      },
      "outputs": [
        {
          "name": "stdout",
          "output_type": "stream",
          "text": [
            "Overwriting program.c\n"
          ]
        }
      ],
      "source": [
        "%%writefile program.c\n",
        "#include<stdio.h>\n",
        "int main() {\n",
        "  int a[12];\n",
        "  int i,total;\n",
        "  for (i=0;i<12;i++) {\n",
        "    printf(\"enter rainfall for month %d: \", i+1);\n",
        "    scanf(\"%d\", &a[i]);\n",
        "  }\n",
        "  printf(\"Rainfall array:\");\n",
        "  for (i=0;i<12;i++) {\n",
        "    printf(\"%d \",a[i]);\n",
        "  }\n",
        "\n",
        "  int highest = a[0];\n",
        "  int lowest = a[0];\n",
        "  for(i=0;i<12;i++) {\n",
        "    total += a[i];\n",
        "    if (a[i]>highest) {\n",
        "      highest = a[i];\n",
        "    }\n",
        "    if (a[i]<lowest) {\n",
        "      lowest = a[i];\n",
        "    }\n",
        "  }\n",
        "\n",
        "  printf(\"\\nTotal: %d\\n\", total);\n",
        "  printf(\"Average: %d\\n\", total/12);\n",
        "  printf(\"Highest: %d\\n\", highest);\n",
        "  printf(\"Lowest: %d\\n\", lowest);\n",
        "\n",
        "  return 0;\n",
        "}"
      ]
    },
    {
      "cell_type": "code",
      "execution_count": null,
      "metadata": {
        "colab": {
          "base_uri": "https://localhost:8080/"
        },
        "id": "hZne_gWtJE49",
        "outputId": "2a79ca98-533e-4a32-fc3b-87d0e1ee88ea"
      },
      "outputs": [
        {
          "name": "stdout",
          "output_type": "stream",
          "text": [
            "enter rainfall for month 1: 2\n",
            "enter rainfall for month 2: 0\n",
            "enter rainfall for month 3: 3\n",
            "enter rainfall for month 4: 6\n",
            "enter rainfall for month 5: 5\n",
            "enter rainfall for month 6: 1\n",
            "enter rainfall for month 7: 4\n",
            "enter rainfall for month 8: 9\n",
            "enter rainfall for month 9: 7\n",
            "enter rainfall for month 10: 8\n",
            "enter rainfall for month 11: 10\n",
            "enter rainfall for month 12: 12\n",
            "Rainfall array:2 0 3 6 5 1 4 9 7 8 10 12 \n",
            "Total: 67\n",
            "Average: 5\n",
            "Highest: 12\n",
            "Lowest: 0\n"
          ]
        }
      ],
      "source": [
        "!g++ program.c -o program\n",
        "! ./program"
      ]
    },
    {
      "cell_type": "code",
      "execution_count": null,
      "metadata": {
        "colab": {
          "base_uri": "https://localhost:8080/"
        },
        "id": "pug3LmiWODdO",
        "outputId": "5782f07c-4633-4b1c-eff2-22eb029518ba"
      },
      "outputs": [
        {
          "name": "stdout",
          "output_type": "stream",
          "text": [
            "Overwriting program.c\n"
          ]
        }
      ],
      "source": [
        "%%writefile program.c\n",
        "#include<stdio.h>\n",
        "int main() {\n",
        "  int n,i;\n",
        "  printf(\"enter size of array: \");\n",
        "  scanf(\"%d\", &n);\n",
        "  int a[n];\n",
        "\n",
        "  for(i=0;i<n;i++) {\n",
        "    printf(\"enter element %d: \", i+1);\n",
        "    scanf(\"%d\", &a[i]);\n",
        "  }\n",
        "  printf(\"The original array is: \");\n",
        "  for(i=0;i<n;i++) {\n",
        "    printf(\"%d \", a[i]);\n",
        "  }\n",
        "\n",
        "  for(i=2;i<n;i++) {\n",
        "    a[i]=a[i+1];\n",
        "  }\n",
        "  printf(\"\\nThe changed array is: \");\n",
        "  for(i=0;i<n-1;i++) {\n",
        "    printf(\"%d \",a[i]);\n",
        "  }\n",
        "\n",
        "  return 0;\n",
        "}\n",
        "\n"
      ]
    },
    {
      "cell_type": "code",
      "execution_count": null,
      "metadata": {
        "colab": {
          "base_uri": "https://localhost:8080/"
        },
        "id": "jfovfQ4lOw39",
        "outputId": "501879b6-137f-4122-c28d-82b45efeac24"
      },
      "outputs": [
        {
          "name": "stdout",
          "output_type": "stream",
          "text": [
            "enter size of array: 6\n",
            "enter element 1: 1\n",
            "enter element 2: 2\n",
            "enter element 3: 3\n",
            "enter element 4: 4\n",
            "enter element 5: 5\n",
            "enter element 6: 6\n",
            "The original array is: 1 2 3 4 5 6 \n",
            "The changed array is: 1 2 4 5 6 "
          ]
        }
      ],
      "source": [
        "!g++ program.c -o program\n",
        "! ./program"
      ]
    },
    {
      "cell_type": "code",
      "execution_count": null,
      "metadata": {
        "colab": {
          "base_uri": "https://localhost:8080/"
        },
        "id": "4q_LX9mvP1BP",
        "outputId": "8f0b8f3c-4c4a-4099-b156-4abe731a05f5"
      },
      "outputs": [
        {
          "name": "stdout",
          "output_type": "stream",
          "text": [
            "Overwriting program.c\n"
          ]
        }
      ],
      "source": [
        "%%writefile program.c\n",
        "#include<stdio.h>\n",
        "int ducknumber(int n) {\n",
        "  int digit;\n",
        "  while (n) {\n",
        "    digit = n % 10;\n",
        "    n = n/10;\n",
        "    if (digit == 0) {\n",
        "      return 1;\n",
        "    }\n",
        "  }\n",
        "  return 0;\n",
        "}\n",
        "\n",
        "int ducknumberrec(int n) {\n",
        "  if (!n) {\n",
        "    return 0;\n",
        "  }\n",
        "\n",
        "  if (n%10 == 0) {\n",
        "    return 1;\n",
        "  }\n",
        "\n",
        "  return ducknumberrec(n/10);\n",
        "\n",
        "}\n",
        "\n",
        "int main() {\n",
        "  int n;\n",
        "  printf(\"enter number:\" );\n",
        "  scanf(\"%d\", &n);\n",
        "  if (ducknumberrec(n)) {\n",
        "    printf(\"It is a duck number\");\n",
        "  }\n",
        "  else {\n",
        "    printf(\"It is not a duck number\");\n",
        "  }\n",
        "\n",
        "  return 0;\n",
        "}"
      ]
    },
    {
      "cell_type": "code",
      "execution_count": null,
      "metadata": {
        "colab": {
          "base_uri": "https://localhost:8080/"
        },
        "id": "BU4nQQUlStzt",
        "outputId": "d9f8478f-231c-440d-ea4b-1787cb82e6c6"
      },
      "outputs": [
        {
          "name": "stdout",
          "output_type": "stream",
          "text": [
            "enter number:1234\n",
            "It is not a duck number"
          ]
        }
      ],
      "source": [
        "!g++ program.c -o program\n",
        "! ./program"
      ]
    },
    {
      "cell_type": "code",
      "execution_count": null,
      "metadata": {
        "colab": {
          "base_uri": "https://localhost:8080/"
        },
        "id": "JGOC-8GOa59W",
        "outputId": "1eef52d3-0f27-47e4-94b1-b4d58667336d"
      },
      "outputs": [
        {
          "name": "stdout",
          "output_type": "stream",
          "text": [
            "Overwriting program.c\n"
          ]
        }
      ],
      "source": [
        "%%writefile program.c\n",
        "#include<stdio.h>\n",
        "int main() {\n",
        "  int r,c,i,j;\n",
        "  printf(\"enter no of row and col: \");\n",
        "  scanf(\"%d\\n%d\", &r, &c);\n",
        "  int array[r][c];\n",
        "  for(i=0;i<r;i++) {\n",
        "    for(j=0;j<c;j++) {\n",
        "      printf(\"enter element %d%d: \",i+1,j+1);\n",
        "      scanf(\"%d\", &array[i][j]);\n",
        "    }\n",
        "  }\n",
        "\n",
        "  for (i=0;i<r;i++) {\n",
        "    if ((i+1) % 2 == 0) {\n",
        "      for (j=c-1; j>=0; j--) {\n",
        "        printf(\"%d \", array[i][j]);\n",
        "      }\n",
        "    }\n",
        "    else {\n",
        "      for (j=0; j<c; j++) {\n",
        "        printf(\"%d \", array[i][j]);\n",
        "      }\n",
        "    }\n",
        "  }\n",
        "\n",
        "\n",
        "return 0;\n",
        "}"
      ]
    },
    {
      "cell_type": "code",
      "execution_count": null,
      "metadata": {
        "colab": {
          "base_uri": "https://localhost:8080/"
        },
        "id": "t5rm_XO0dDrC",
        "outputId": "a17fbcbe-c8e2-4f9e-b71e-1d8b47c116b2"
      },
      "outputs": [
        {
          "name": "stdout",
          "output_type": "stream",
          "text": [
            "enter no of row and col: 3 3\n",
            "enter element 11: 1 2 3 4 5 6 7 8 9\n",
            "enter element 12: enter element 13: enter element 21: enter element 22: enter element 23: enter element 31: enter element 32: enter element 33: 1 2 3 6 5 4 7 8 9 "
          ]
        }
      ],
      "source": [
        "!g++ program.c -o program\n",
        "! ./program"
      ]
    },
    {
      "cell_type": "code",
      "execution_count": null,
      "metadata": {
        "id": "bxQ74IoreiFe"
      },
      "outputs": [],
      "source": [
        "%%writefile program.c\n",
        "#include<stdio.h>\n",
        "search string in array of strings"
      ]
    },
    {
      "cell_type": "code",
      "execution_count": null,
      "metadata": {
        "colab": {
          "base_uri": "https://localhost:8080/"
        },
        "id": "_5UPryJJgpRD",
        "outputId": "984e5b54-c7ff-4a09-b1b1-92fffbfae09d"
      },
      "outputs": [
        {
          "name": "stdout",
          "output_type": "stream",
          "text": [
            "Overwriting program.c\n"
          ]
        }
      ],
      "source": [
        "%%writefile program.c\n",
        "#include<stdio.h>\n",
        "void iseven(int x) {\n",
        "  if(x%2==0) {\n",
        "    printf(\"Is even\\n\");\n",
        "  }\n",
        "  else {\n",
        "    printf(\"Is odd\\n\");\n",
        "  }\n",
        "}\n",
        "void ismultiple(int x) {\n",
        "   if(x%10==0) {\n",
        "    printf(\"Multiple of 10\");\n",
        "  }\n",
        "  else {\n",
        "    printf(\"Not a multiple of 10\");\n",
        "  }\n",
        "}\n",
        "\n",
        "int main() {\n",
        "  int x;\n",
        "  printf(\"enter number: \");\n",
        "  scanf(\"%d\", &x);\n",
        "  iseven(x);\n",
        "  ismultiple(x);\n",
        "\n",
        "  return 0;\n",
        "}\n"
      ]
    },
    {
      "cell_type": "code",
      "execution_count": null,
      "metadata": {
        "colab": {
          "base_uri": "https://localhost:8080/"
        },
        "id": "WoSYWXS9iEp0",
        "outputId": "4741a98e-1099-4007-d9f5-d2814177f8e6"
      },
      "outputs": [
        {
          "name": "stdout",
          "output_type": "stream",
          "text": [
            "enter number: 124\n",
            "Is even\n",
            "Not a multiple of 10"
          ]
        }
      ],
      "source": [
        "!g++ program.c -o program\n",
        "! ./program"
      ]
    },
    {
      "cell_type": "markdown",
      "metadata": {
        "id": "E1GcMqF2wb61"
      },
      "source": [
        "Find max value in array using pointers"
      ]
    },
    {
      "cell_type": "code",
      "execution_count": null,
      "metadata": {
        "colab": {
          "base_uri": "https://localhost:8080/"
        },
        "id": "TxqRtGwHv1mt",
        "outputId": "12c8cf7a-12b6-490b-be9a-aae3b971b90e"
      },
      "outputs": [
        {
          "name": "stdout",
          "output_type": "stream",
          "text": [
            "Overwriting program.c\n"
          ]
        }
      ],
      "source": [
        "%%writefile program.c\n",
        "#include <stdio.h>\n",
        "int main() {\n",
        "int i;\n",
        "int arr[] = {10,30,20,40,50};\n",
        "int *ptr = arr; // Pointer to the first element of the array\n",
        "int max = *ptr; // Initialize max to the first element\n",
        "int n = sizeof(arr)/sizeof(arr[0]);\n",
        "\n",
        "for(i=0;i<n;i++) {\n",
        "    ptr++; // Move the pointer to the next element\n",
        "    if(*ptr>max){\n",
        "        max = *ptr; // Update max if the current element is larger\n",
        "    }\n",
        "}\n",
        "\n",
        "printf(\"max = %d\", max);\n",
        "return 0;\n",
        "}"
      ]
    },
    {
      "cell_type": "code",
      "execution_count": null,
      "metadata": {
        "colab": {
          "base_uri": "https://localhost:8080/"
        },
        "id": "Q8GtKru6wP6V",
        "outputId": "614d830c-e4cf-4729-c7f5-091f0c75115b"
      },
      "outputs": [
        {
          "name": "stdout",
          "output_type": "stream",
          "text": [
            "max = 50"
          ]
        }
      ],
      "source": [
        "!g++ program.c -o program\n",
        "! ./program\n",
        "\n"
      ]
    },
    {
      "cell_type": "markdown",
      "metadata": {
        "id": "j5dyWe10wiZJ"
      },
      "source": [
        "Reverse elements of array using pointers"
      ]
    },
    {
      "cell_type": "code",
      "execution_count": null,
      "metadata": {
        "colab": {
          "base_uri": "https://localhost:8080/"
        },
        "id": "CgGQ1FdCwQPY",
        "outputId": "7590b639-844e-41c3-9678-0d90af5d4b49"
      },
      "outputs": [
        {
          "name": "stdout",
          "output_type": "stream",
          "text": [
            "Writing program.c\n"
          ]
        }
      ],
      "source": [
        "%%writefile program.c\n",
        "#include<stdio.h>\n",
        "int main() {\n",
        "  int arr[] = {1,2,3,4,5};\n",
        "  int n = sizeof(arr)/sizeof(arr[0]);\n",
        "  int *ptr;\n",
        "  int i;\n",
        "  for(ptr=arr+(n-1);ptr>=arr;ptr--) {\n",
        "    printf(\"%d \", *ptr);\n",
        "  }\n",
        "  return 0;\n",
        "}"
      ]
    },
    {
      "cell_type": "code",
      "execution_count": null,
      "metadata": {
        "colab": {
          "base_uri": "https://localhost:8080/"
        },
        "id": "t6C04U9vv2PV",
        "outputId": "4e26eb6f-4b06-40e7-f553-dccb4c214867"
      },
      "outputs": [
        {
          "name": "stdout",
          "output_type": "stream",
          "text": [
            "5 4 3 2 1 "
          ]
        }
      ],
      "source": [
        "!g++ program.c -o program\n",
        "! ./program\n"
      ]
    },
    {
      "cell_type": "markdown",
      "metadata": {
        "id": "M_wANMiMz3-Y"
      },
      "source": [
        "C++\n"
      ]
    },
    {
      "cell_type": "markdown",
      "metadata": {
        "id": "UteKHNWe0Kn2"
      },
      "source": [
        "CLASS"
      ]
    },
    {
      "cell_type": "markdown",
      "metadata": {
        "id": "FZHs7FiW1GXM"
      },
      "source": [
        "You are developing a system using C++ to manage a library's book inventory. The system needs to keep track of the total number of books in the library across all categories. The Book class should have a constructor that increments the total count when a new book is created. Implement a static function in the Book class that returns the total count of books. The count should be updated whenever a new book is added to the inventory"
      ]
    },
    {
      "cell_type": "code",
      "execution_count": null,
      "metadata": {
        "colab": {
          "base_uri": "https://localhost:8080/"
        },
        "id": "FT3T6SE41FnD",
        "outputId": "1c3dfdf5-cc39-4569-b451-a6e6bb090ce1"
      },
      "outputs": [
        {
          "name": "stdout",
          "output_type": "stream",
          "text": [
            "Overwriting program.c\n"
          ]
        }
      ],
      "source": [
        "%%writefile program.c\n",
        "#include <iostream>\n",
        "#include <string>\n",
        "using namespace std;\n",
        "\n",
        "class Book {\n",
        "private:\n",
        "    static int count;\n",
        "public:\n",
        "    Book() {\n",
        "      count++;\n",
        "    }\n",
        "\n",
        "    void showcount() {\n",
        "      cout<<\"no of objects:\"<<count<<endl;\n",
        "    }\n",
        "};\n",
        "\n",
        "int Book::count=0;\n",
        "int main() {\n",
        "  Book obj1;\n",
        "  Book obj2;\n",
        "  Book obj3;\n",
        "  obj1.showcount();\n",
        "  obj2.showcount();\n",
        "  obj3.showcount();\n",
        "  return 0;\n",
        "}\n",
        "\n"
      ]
    },
    {
      "cell_type": "code",
      "execution_count": null,
      "metadata": {
        "colab": {
          "base_uri": "https://localhost:8080/"
        },
        "id": "x8pCpIOv1FwM",
        "outputId": "680bfc3c-9c0c-4f57-c50d-ba2ae34a40dc"
      },
      "outputs": [
        {
          "name": "stdout",
          "output_type": "stream",
          "text": [
            "no of objects:3\n",
            "no of objects:3\n",
            "no of objects:3\n"
          ]
        }
      ],
      "source": [
        "!g++ program.c -o program\n",
        "! ./program"
      ]
    },
    {
      "cell_type": "markdown",
      "metadata": {
        "id": "rDgcmEPREpZE"
      },
      "source": [
        "FRIEND CLASS"
      ]
    },
    {
      "cell_type": "markdown",
      "metadata": {
        "id": "MhfOgcfu1IsX"
      },
      "source": [
        "Imagine you're developing a banking system using C++ with two classes: Account and BankManager. The Account class has private members for account number, balance, and account holder's name. The BankManager class needs to access these private members to perform operations like deposit, withdrawal, and displaying account details. Ensure that the account details are encapsulated within the Account class. Make the BankManager class a friend of the Account class so it can access the private members. Implement methods in BankManager to deposit, withdraw, and display account details"
      ]
    },
    {
      "cell_type": "code",
      "execution_count": null,
      "metadata": {
        "colab": {
          "base_uri": "https://localhost:8080/"
        },
        "id": "z8h87ZRA1UFo",
        "outputId": "1438e5e8-b42d-4d62-877c-41c7dcbf6832"
      },
      "outputs": [
        {
          "name": "stdout",
          "output_type": "stream",
          "text": [
            "Overwriting program.c\n"
          ]
        }
      ],
      "source": [
        "%%writefile program.c\n",
        "#include<iostream>\n",
        "#include<string>\n",
        "using namespace std;\n",
        "\n",
        "class Account {\n",
        "private:\n",
        "  int acc_num;\n",
        "  float acc_bal;\n",
        "  string acc_name;\n",
        "public:\n",
        "  Account(int accno,float bal,string name) {\n",
        "    acc_num = accno;\n",
        "    acc_bal = bal;\n",
        "    acc_name = name;\n",
        "  }\n",
        "  friend class BankManager;\n",
        "};\n",
        "\n",
        "class BankManager {\n",
        "public:\n",
        "  void deposit(Account &customer, float amount) {\n",
        "    if(amount>0) {\n",
        "      customer.acc_bal += amount;\n",
        "      cout<<\"new bal:$\"<<customer.acc_bal<<endl;\n",
        "    }\n",
        "    else {\n",
        "      cout<<\"invalid amount\"<<endl;\n",
        "    }\n",
        "  }\n",
        "  void withdraw(Account &customer, float amount) {\n",
        "    if(amount>0 && amount<=customer.acc_bal){\n",
        "      customer.acc_bal -= amount;\n",
        "      cout<<\"new bal:$\"<<customer.acc_bal<<endl;\n",
        "    }\n",
        "    else {\n",
        "      cout<<\"invalid amount\"<<endl;\n",
        "    }\n",
        "  }\n",
        "  void display(Account &customer) {\n",
        "    cout<<\"account number:\"<<customer.acc_num<<endl;\n",
        "    cout<<\"account balance:$\"<<customer.acc_bal<<endl;\n",
        "    cout<<\"account name:\"<<customer.acc_name<<endl;\n",
        "  }\n",
        "};\n",
        "\n",
        "int main() {\n",
        "  int accno;\n",
        "  float bal;\n",
        "  string name;\n",
        "  cout<<\"enter account number:\";\n",
        "  cin>>accno;\n",
        "  cout<<\"enter account balance:\";\n",
        "  cin>>bal;\n",
        "  cout<<\"enter name:\";\n",
        "  cin>>name;\n",
        "\n",
        "  Account custo(accno,bal,name);\n",
        "  BankManager manager;\n",
        "\n",
        "  manager.display(custo);\n",
        "  manager.deposit(custo, 100.00);\n",
        "  manager.withdraw(custo, 200.00);\n",
        "\n",
        "\n",
        "  return 0;\n",
        "\n",
        "}\n"
      ]
    },
    {
      "cell_type": "code",
      "execution_count": null,
      "metadata": {
        "colab": {
          "base_uri": "https://localhost:8080/"
        },
        "collapsed": true,
        "id": "W1mS9nQV1UPx",
        "outputId": "865541ef-b0f8-4933-e0b6-33ab6c083fd4"
      },
      "outputs": [
        {
          "name": "stdout",
          "output_type": "stream",
          "text": [
            "enter account number:^C\n"
          ]
        }
      ],
      "source": [
        "!g++ program.c -o program\n",
        "! ./program"
      ]
    },
    {
      "cell_type": "markdown",
      "metadata": {
        "id": "0d_OTW1P0Uw3"
      },
      "source": [
        "STRUCTURE"
      ]
    },
    {
      "cell_type": "markdown",
      "metadata": {
        "id": "Y8A_G0Y_1Ut9"
      },
      "source": [
        "Create an employee structure with members that include the employee ID, name, and salary. Create another address structure that includes information such as the door number, street name, city, and postcode. Declare the address structure and its members inside the employee structure. Write a C program that accepts the details of 'n' employees [Employee ID and salary] and displays the information of the employee with the highest salary"
      ]
    },
    {
      "cell_type": "code",
      "execution_count": null,
      "metadata": {
        "colab": {
          "base_uri": "https://localhost:8080/"
        },
        "id": "cT68FSyZ1qvn",
        "outputId": "f61cc881-b7b6-49ab-8bf1-966ad279394e"
      },
      "outputs": [
        {
          "name": "stdout",
          "output_type": "stream",
          "text": [
            "Overwriting program.c\n"
          ]
        }
      ],
      "source": [
        "%%writefile program.c\n",
        "#include<stdio.h>\n",
        "#include<string.h>\n",
        "using namespace std;\n",
        "\n",
        "struct employee {\n",
        "  char name[20];\n",
        "  int id;\n",
        "  float salary;\n",
        "\n",
        "  struct address {\n",
        "    int doorno;\n",
        "    char street[20];\n",
        "    char city[20];\n",
        "    int postcode;\n",
        "  }addr;\n",
        "};\n",
        "\n",
        "\n",
        "int main() {\n",
        "    int n;\n",
        "    printf(\"Enter the number of employees: \");\n",
        "    scanf(\"%d\", &n);\n",
        "    struct employee employees[n];\n",
        "\n",
        "    for (int i = 0; i < n; i++) {\n",
        "        printf(\"\\nEnter details for Employee %d:\\n\", i + 1);\n",
        "\n",
        "        printf(\"Employee ID: \");\n",
        "        scanf(\"%d\", &employees[i].id);\n",
        "\n",
        "        printf(\"Employee Name: \");\n",
        "        scanf(\"%s\", employees[i].name);\n",
        "\n",
        "        printf(\"Salary: \");\n",
        "        scanf(\"%f\", &employees[i].salary);\n",
        "\n",
        "\n",
        "        printf(\"Enter Address:\\n\");\n",
        "        printf(\"Door Number: \");\n",
        "        scanf(\"%d\", &employees[i].addr.doorno);\n",
        "\n",
        "        printf(\"Street Name: \");\n",
        "        scanf(\"%s\", employees[i].addr.street);\n",
        "\n",
        "        printf(\"City: \");\n",
        "        scanf(\"%s\", employees[i].addr.city);\n",
        "\n",
        "        printf(\"Postcode: \");\n",
        "        scanf(\"%d\", &employees[i].addr.postcode);\n",
        "    }\n",
        "\n",
        "\n",
        "    int max_salary_index = 0;\n",
        "    for (int i = 1; i < n; i++) {\n",
        "        if (employees[i].salary > employees[max_salary_index].salary) {\n",
        "            max_salary_index = i;\n",
        "        }\n",
        "    }\n",
        "\n",
        "    printf(\"\\nEmployee with the highest salary:\\n\");\n",
        "    printf(\"Employee ID: %d\\n\", employees[max_salary_index].id);\n",
        "    printf(\"Employee Name: %s\\n\", employees[max_salary_index].name);\n",
        "    printf(\"Salary: %.2f\\n\", employees[max_salary_index].salary);\n",
        "    printf(\"Address:\\n\");\n",
        "    printf(\"Door Number: %d\\n\", employees[max_salary_index].addr.doorno);\n",
        "    printf(\"Street Name: %s\\n\", employees[max_salary_index].addr.street);\n",
        "    printf(\"City: %s\\n\", employees[max_salary_index].addr.city);\n",
        "    printf(\"Postcode: %d\\n\", employees[max_salary_index].addr.postcode);\n",
        "\n",
        "    return 0;\n",
        "}"
      ]
    },
    {
      "cell_type": "code",
      "execution_count": null,
      "metadata": {
        "colab": {
          "base_uri": "https://localhost:8080/"
        },
        "id": "DxCfgf9O4dO3",
        "outputId": "04389cc5-479a-4a40-ac25-2832d3b5719d"
      },
      "outputs": [
        {
          "name": "stdout",
          "output_type": "stream",
          "text": [
            "Enter the number of employees: 2\n",
            "\n",
            "Enter details for Employee 1:\n",
            "Employee ID: 123\n",
            "Employee Name: magi\n",
            "Salary: 1000\n",
            "Enter Address:\n",
            "Door Number: 19\n",
            "Street Name: adayar\n",
            "City: chennai\n",
            "Postcode: 632014\n",
            "\n",
            "Enter details for Employee 2:\n",
            "Employee ID: 456\n",
            "Employee Name: navya\n",
            "Salary: 2000\n",
            "Enter Address:\n",
            "Door Number: 45\n",
            "Street Name: bomb\n",
            "City: buu\n",
            "Postcode: 0976\n",
            "\n",
            "Employee with the highest salary:\n",
            "Employee ID: 456\n",
            "Employee Name: navya\n",
            "Salary: 2000.00\n",
            "Address:\n",
            "Door Number: 45\n",
            "Street Name: bomb\n",
            "City: buu\n",
            "Postcode: 976\n"
          ]
        }
      ],
      "source": [
        "!g++ program.c -o program\n",
        "! ./program"
      ]
    },
    {
      "cell_type": "code",
      "execution_count": null,
      "metadata": {
        "id": "KG2f3n_4Nvns"
      },
      "outputs": [],
      "source": [
        "struct Address {\n",
        "    int door_no;\n",
        "    char street_name[50];\n",
        "    char city[50];\n",
        "    int postcode;\n",
        "};\n",
        "\n",
        "struct Employee {\n",
        "    int emp_id;\n",
        "    char name[100];\n",
        "    float salary;\n",
        "    struct Address addr;\n",
        "};\n",
        "\n",
        "int main() {\n",
        "    struct employee emp[];\n",
        "}\n"
      ]
    },
    {
      "cell_type": "code",
      "execution_count": null,
      "metadata": {
        "id": "SLoHDBR51q4J"
      },
      "outputs": [],
      "source": [
        "!g++ program.c -o program\n",
        "! ./program"
      ]
    },
    {
      "cell_type": "markdown",
      "metadata": {
        "id": "hQXqUJx81rQL"
      },
      "source": [
        "In C++, define a class \"Student\" to determine whether a student is eligible for admission to class XI. The class should include private data members such as String name to store the name of the student, int mm to store marks secured in Mathematics int scm to store marks secured in Science and int comp to store marks secured in Computer.The class should have a method named check() to determine the eligibility for a course based on specified marks and a given eligibility table. Additionally, include a display() method to print the eligibility by using the check() method in a nested manner. The eligibility conditions are as follows: securing 90% or more in all subjects allows eligibility for \"Science with Computer,\" achieving average marks of 90% or more enables eligibility for \"Bio-Science,\" and achieving average marks of 80% or more but less than 90% enables eligibility for \"Science with Hindi."
      ]
    },
    {
      "cell_type": "code",
      "execution_count": null,
      "metadata": {
        "colab": {
          "base_uri": "https://localhost:8080/"
        },
        "id": "puQMfwQp2jep",
        "outputId": "b9b4e34e-5b67-4882-f88c-50b12ae1d911"
      },
      "outputs": [
        {
          "name": "stdout",
          "output_type": "stream",
          "text": [
            "Overwriting program.c\n"
          ]
        }
      ],
      "source": [
        "%%writefile program.c\n",
        "#include<iostream>\n",
        "#include<string>\n",
        "using namespace std;\n",
        "\n",
        "class Student {\n",
        "private:\n",
        "  string name;\n",
        "  int mm;\n",
        "  int scm;\n",
        "  int comp;\n",
        "\n",
        "public:\n",
        "    Student(string student_name, int math_marks, int science_marks, int computer_marks) {\n",
        "        name = student_name;\n",
        "        mm = math_marks;\n",
        "        scm = science_marks;\n",
        "        comp = computer_marks;\n",
        "    }\n",
        "\n",
        "    void input() {\n",
        "        cout << \"Enter student name: \";\n",
        "        cin >> name;\n",
        "        cout << \"Enter marks in Mathematics: \";\n",
        "        cin >> mm;\n",
        "        cout << \"Enter marks in Science: \";\n",
        "        cin >> scm;\n",
        "        cout << \"Enter marks in Computer: \";\n",
        "        cin >> comp;\n",
        "    }\n",
        "\n",
        "    string check() {\n",
        "      float avg;\n",
        "      int sum;\n",
        "      sum = mm+scm+comp;\n",
        "      avg = sum/3.00;\n",
        "\n",
        "      if (mm >= 90 && scm >= 90 && comp >= 90) {\n",
        "            return \"Science with Computer\";\n",
        "        } else if (avg >= 90) {\n",
        "            return \"Bio-Science\";\n",
        "        } else if (avg >= 80) {\n",
        "            return \"Science with Hindi\";\n",
        "        } else {\n",
        "            return \"Not Eligible\";\n",
        "        }\n",
        "    }\n",
        "\n",
        "    void display() {\n",
        "        cout << \"Student Name: \" << name << endl;\n",
        "        cout << \"Eligibility: \" << check() << endl;\n",
        "    }\n",
        "};\n",
        "\n",
        "int main() {\n",
        "  int n;\n",
        "  cout<<\"enter no of students: \";\n",
        "  cin>>n;\n",
        "\n",
        "  for (int i = 0; i < n; ++i) {\n",
        "        string name;\n",
        "        int mm, scm, comp;\n",
        "\n",
        "\n",
        "        Student student(name, mm, scm, comp);\n",
        "        student.input();\n",
        "        student.display();\n",
        "    }\n",
        "\n",
        "    return 0;\n",
        "}"
      ]
    },
    {
      "cell_type": "code",
      "execution_count": null,
      "metadata": {
        "colab": {
          "base_uri": "https://localhost:8080/"
        },
        "id": "jvwThgwk4qgC",
        "outputId": "3f9e4085-45b9-47c3-85db-38b91196edf1"
      },
      "outputs": [
        {
          "name": "stdout",
          "output_type": "stream",
          "text": [
            "enter no of students: ^C\n"
          ]
        }
      ],
      "source": [
        "!g++ program.c -o program\n",
        "! ./program"
      ]
    },
    {
      "cell_type": "code",
      "execution_count": null,
      "metadata": {
        "colab": {
          "base_uri": "https://localhost:8080/"
        },
        "id": "fUH35G504qs1",
        "outputId": "9526e7ee-4a18-4fd2-8591-e026d3670b20"
      },
      "outputs": [
        {
          "name": "stdout",
          "output_type": "stream",
          "text": [
            "Overwriting program.c\n"
          ]
        }
      ],
      "source": [
        "%%writefile program.c\n",
        "#include<iostream>\n",
        "using namespace std;\n",
        "class A{\n",
        "  private:\n",
        "  int N;\n",
        "\n",
        "  public:\n",
        "  A(int n) {\n",
        "    N=n;\n",
        "  }\n",
        "  void output() {\n",
        "    int i=1;\n",
        "    for(int j=0;j<N; j++){\n",
        "        cout<<(j%6) + 1<<\" \";\n",
        "    }\n",
        "  }\n",
        "};\n",
        "\n",
        "int main() {\n",
        "  int n;\n",
        "  cin>>n;\n",
        "  A a(n);\n",
        "  a.output();\n",
        "\n",
        "  return 0;\n",
        "}"
      ]
    },
    {
      "cell_type": "code",
      "execution_count": null,
      "metadata": {
        "colab": {
          "base_uri": "https://localhost:8080/"
        },
        "id": "6EYQglmn2jh5",
        "outputId": "8edc564d-4217-43ea-c56f-93210c9f6ed4"
      },
      "outputs": [
        {
          "name": "stdout",
          "output_type": "stream",
          "text": [
            "8\n",
            "1 2 3 4 5 6 1 2 "
          ]
        }
      ],
      "source": [
        "!g++ program.c -o program\n",
        "! ./program"
      ]
    },
    {
      "cell_type": "code",
      "execution_count": null,
      "metadata": {
        "colab": {
          "base_uri": "https://localhost:8080/"
        },
        "id": "4xck4qzBjgNn",
        "outputId": "acf1cd9b-4aa2-4d03-ebc7-62c0280fc48f"
      },
      "outputs": [
        {
          "name": "stdout",
          "output_type": "stream",
          "text": [
            "Overwriting program.c\n"
          ]
        }
      ],
      "source": [
        "%%writefile program.c\n",
        "#include<iostream>\n",
        "#include<stdlib.h>\n",
        "using namespace std;\n",
        "\n",
        "int main() {\n",
        "    char c1,c2;\n",
        "    cout<<\"enter 1st character: \";\n",
        "    cin>>c1;\n",
        "    cout<<\"enter 2nd character: \";\n",
        "    cin>>c2;\n",
        "\n",
        "    int diff = abs(c2-c1);\n",
        "\n",
        "    cout<<\"ascii value of \"<<c1<<\" is \"<<int(c1)<<endl;\n",
        "    cout<<\"ascii value of \"<<c2<<\" is \"<<int(c2)<<endl;\n",
        "    cout<<\"absolute diff is \"<<diff<<endl;\n",
        "\n",
        "    return 0;\n",
        "}"
      ]
    },
    {
      "cell_type": "code",
      "execution_count": null,
      "metadata": {
        "colab": {
          "base_uri": "https://localhost:8080/"
        },
        "id": "RliihliOjgQy",
        "outputId": "56f0e218-dc0e-4673-9c17-b6ea25784abf"
      },
      "outputs": [
        {
          "name": "stdout",
          "output_type": "stream",
          "text": [
            "enter 1st character: z\n",
            "enter 2nd character: a\n",
            "ascii value of z is 122\n",
            "ascii value of a is 97\n",
            "absolute diff is -25\n"
          ]
        }
      ],
      "source": [
        "!g++ program.c -o program\n",
        "! ./program"
      ]
    },
    {
      "cell_type": "code",
      "execution_count": null,
      "metadata": {
        "colab": {
          "base_uri": "https://localhost:8080/"
        },
        "id": "JMY8iNfSjgTQ",
        "outputId": "5e3fa0c1-be72-430a-f362-4eeaea3e166e"
      },
      "outputs": [
        {
          "name": "stdout",
          "output_type": "stream",
          "text": [
            "Overwriting program.c\n"
          ]
        }
      ],
      "source": [
        "%%writefile program.c\n",
        "#include<iostream>\n",
        "using namespace std;\n",
        "\n",
        "class Weather {\n",
        "private:\n",
        "  double speed;\n",
        "  double humidity;\n",
        "  double rainfall;\n",
        "\n",
        "public:\n",
        "  Weather(double s, double h, double r) {\n",
        "    speed = s;\n",
        "    humidity = h;\n",
        "    rainfall = r;\n",
        "  }\n",
        "\n",
        "  double calcintensity() {\n",
        "    return (0.7 * speed) + (0.3 * humidity);\n",
        "  }\n",
        "\n",
        "  double calcrainfall() {\n",
        "    return (humidity + rainfall) / 2;\n",
        "  }\n",
        "\n",
        "  double calcflood() {\n",
        "    return rainfall+humidity+speed;\n",
        "  }\n",
        "\n",
        "  void display() {\n",
        "    cout<<\"intesity: \"<<calcintensity()<<endl;\n",
        "    cout<<\"rainfall: \"<<calcrainfall()<<endl;\n",
        "    cout<<\"flood: \"<<calcflood()<<endl;\n",
        "  }\n",
        "};\n",
        "\n",
        "int main() {\n",
        "  double s,h,r;\n",
        "  cout<<\"enter speed:\";\n",
        "  cin>>s;\n",
        "  cout<<\"enter humidity:\";\n",
        "  cin>>h;\n",
        "  cout<<\"enter rainfall:\";\n",
        "  cin>>r;\n",
        "\n",
        "  Weather w(s,r,h);\n",
        "  w.display();\n",
        "  return 0;\n",
        "}"
      ]
    },
    {
      "cell_type": "code",
      "execution_count": null,
      "metadata": {
        "colab": {
          "base_uri": "https://localhost:8080/"
        },
        "id": "b37QWVaInuPB",
        "outputId": "2ee448ef-255b-491b-81ca-e343c9dda401"
      },
      "outputs": [
        {
          "name": "stdout",
          "output_type": "stream",
          "text": [
            "enter speed:^C\n"
          ]
        }
      ],
      "source": [
        "!g++ program.c -o program\n",
        "! ./program"
      ]
    },
    {
      "cell_type": "markdown",
      "metadata": {
        "id": "x_jIc0YCagkU"
      },
      "source": [
        "FRIEND FUNCTION\n"
      ]
    },
    {
      "cell_type": "code",
      "execution_count": null,
      "metadata": {
        "colab": {
          "base_uri": "https://localhost:8080/"
        },
        "id": "6_0kxOe-xvej",
        "outputId": "b902f5f9-02c7-4470-927c-ea86c5b2c79f"
      },
      "outputs": [
        {
          "name": "stdout",
          "output_type": "stream",
          "text": [
            "Overwriting program.c\n"
          ]
        }
      ],
      "source": [
        "%%writefile program.c\n",
        "#include<iostream>\n",
        "using namespace std;\n",
        "\n",
        "class Clothing {\n",
        "private:\n",
        "  float price;\n",
        "public:\n",
        "  Clothing(float p) {\n",
        "    price = p;\n",
        "  }\n",
        "\n",
        "  friend void calcdiscount(Clothing &c);\n",
        "  friend void calcfinalprice(Clothing &c);\n",
        "\n",
        "  void display() {\n",
        "  cout<<\"final price: \"<<price<<endl;\n",
        "}\n",
        "};\n",
        "\n",
        "void calcdiscount(Clothing &c) {\n",
        "  if(c.price > 1000) {\n",
        "    c.price = c.price - c.price*(10/100); //10% dis\n",
        "   }\n",
        "}\n",
        "\n",
        "void calcfinalprice(Clothing &c) {\n",
        "  c.price = c.price + c.price*(5/100); //5% tax\n",
        "}\n",
        "\n",
        "\n",
        "\n",
        "int main() {\n",
        "  int p;\n",
        "  cout<<\"enter price:\";\n",
        "  cin>>p;\n",
        "\n",
        "  Clothing cloth(p);\n",
        "  calcdiscount(cloth);\n",
        "  calcfinalprice(cloth);\n",
        "\n",
        "  return 0;\n",
        "}"
      ]
    },
    {
      "cell_type": "code",
      "execution_count": null,
      "metadata": {
        "colab": {
          "base_uri": "https://localhost:8080/"
        },
        "id": "qzMJ43L0ovNL",
        "outputId": "2b424c47-a6ab-467e-dff9-2daeec78616c"
      },
      "outputs": [
        {
          "name": "stdout",
          "output_type": "stream",
          "text": [
            "enter price:^C\n"
          ]
        }
      ],
      "source": [
        "!g++ program.c -o program\n",
        "! ./program"
      ]
    },
    {
      "cell_type": "markdown",
      "metadata": {
        "id": "GRA7_4bnxAHH"
      },
      "source": [
        "Seema is building a ticket reservation system and she wants to reserve tickets and cancel for a particular id. She created two classes: Ticket and Reservation. Each Ticket has a private attribute ticketId, and each Reservation has a private attribute reservedTickets (an array of tickets). The Reservation class contains a friend function cancelReservation(Reservation&, const Ticket&) that allows a ticket to be canceled from a reservation.\n",
        "\n",
        "Implement the classes and the cancelReservation function and write a program to manage ticket reservations.\n",
        "\n",
        "Input format :\n",
        "The first line of input consists of the total number of tickets N to be reserved.\n",
        "\n",
        "The second line of input consists of N space-separated ticket ids.\n",
        "\n",
        "The third line of input consists of the ticket id for which the reservation has to be canceled.\n",
        "\n",
        "Output format :\n",
        "The first line of output prints the N tickets that are reserved initially.\n",
        "\n",
        "If the ticket id to be canceled is present:\n",
        "\n",
        "The second line prints the ticket that has been canceled.\n",
        "The third line prints the updated list of reserved tickets after canceling the specified ticket.\n",
        "If the ticket id to be canceled is not present:\n",
        "\n",
        "The second line of output prints that the ticket id not present in the reservation.\n",
        "The third line prints the list of reserved tickets.\n",
        "\n"
      ]
    },
    {
      "cell_type": "code",
      "execution_count": null,
      "metadata": {
        "colab": {
          "base_uri": "https://localhost:8080/"
        },
        "id": "HIwnqmBS1TPQ",
        "outputId": "022c516a-1bb3-4349-c0e8-b6cc6eaf7987"
      },
      "outputs": [
        {
          "name": "stdout",
          "output_type": "stream",
          "text": [
            "Overwriting program.c\n"
          ]
        }
      ],
      "source": [
        "%%writefile program.c\n",
        "#include <iostream>\n",
        "#include <vector>\n",
        "using namespace std;\n",
        "\n",
        "class Ticket {\n",
        "private:\n",
        "    int ticketId;\n",
        "\n",
        "public:\n",
        "    Ticket(int id) : ticketId(id) {}\n",
        "\n",
        "    int getId() const {\n",
        "        return ticketId;\n",
        "    }\n",
        "\n",
        "    friend class Reservation;\n",
        "    friend void cancelReservation(Reservation& res, const Ticket& ticket);\n",
        "};\n",
        "\n",
        "class Reservation {\n",
        "private:\n",
        "    vector<Ticket> reservedTickets;\n",
        "\n",
        "public:\n",
        "    void reserveTickets(const vector<int>& ticketIds) {\n",
        "        for (int id : ticketIds) {\n",
        "            reservedTickets.push_back(Ticket(id));\n",
        "        }\n",
        "    }\n",
        "\n",
        "    void printReservedTickets() const {\n",
        "        for (const Ticket& t : reservedTickets) {\n",
        "            cout << t.ticketId << \" \";\n",
        "        }\n",
        "        cout << endl;\n",
        "    }\n",
        "\n",
        "    friend void cancelReservation(Reservation& res, const Ticket& ticket);\n",
        "};\n",
        "\n",
        "void cancelReservation(Reservation& res, const Ticket& ticket) {\n",
        "    bool found = false;\n",
        "    for (auto it = res.reservedTickets.begin(); it != res.reservedTickets.end(); ++it) {\n",
        "        if (it->ticketId == ticket.ticketId) {\n",
        "            cout << \"Ticket \" << ticket.ticketId << \" cancelled.\" << endl;\n",
        "            res.reservedTickets.erase(it);\n",
        "            found = true;\n",
        "            break;\n",
        "        }\n",
        "    }\n",
        "    if (!found) {\n",
        "        cout << \"Ticket id not present in the reservation.\" << endl;\n",
        "    }\n",
        "}\n",
        "\n",
        "int main() {\n",
        "    int n;\n",
        "    cin >> n;\n",
        "\n",
        "    vector<int> ticketIds(n);\n",
        "    for (int i = 0; i < n; ++i) {\n",
        "        cin >> ticketIds[i];\n",
        "    }\n",
        "\n",
        "    int cancelId;\n",
        "    cin >> cancelId;\n",
        "\n",
        "    Reservation reservation;\n",
        "    reservation.reserveTickets(ticketIds);\n",
        "\n",
        "    // Print initial tickets\n",
        "    reservation.printReservedTickets();\n",
        "\n",
        "    // Try to cancel the ticket\n",
        "    Ticket cancelTicket(cancelId);\n",
        "    cancelReservation(reservation, cancelTicket);\n",
        "\n",
        "    // Print updated tickets\n",
        "    reservation.printReservedTickets();\n",
        "\n",
        "    return 0;\n",
        "}\n"
      ]
    },
    {
      "cell_type": "code",
      "execution_count": null,
      "metadata": {
        "colab": {
          "base_uri": "https://localhost:8080/"
        },
        "id": "uOXkOTZtxGbG",
        "outputId": "e4b18d8a-9b40-4fa2-95b0-f95f30fb06e0"
      },
      "outputs": [
        {
          "name": "stdout",
          "output_type": "stream",
          "text": [
            "\u001b[01m\u001b[Kprogram.c:17:35:\u001b[m\u001b[K \u001b[01;31m\u001b[Kerror: \u001b[m\u001b[K‘\u001b[01m\u001b[KReservation\u001b[m\u001b[K’ has not been declared\n",
            "   17 |     friend void cancelReservation(\u001b[01;31m\u001b[KReservation\u001b[m\u001b[K& res, const Ticket& ticket);\n",
            "      |                                   \u001b[01;31m\u001b[K^~~~~~~~~~~\u001b[m\u001b[K\n",
            "\u001b[01m\u001b[Kprogram.c:\u001b[m\u001b[K In function ‘\u001b[01m\u001b[Kvoid cancelReservation(Reservation&, const Ticket&)\u001b[m\u001b[K’:\n",
            "\u001b[01m\u001b[Kprogram.c:44:17:\u001b[m\u001b[K \u001b[01;31m\u001b[Kerror: \u001b[m\u001b[K‘\u001b[01m\u001b[Kint Ticket::ticketId\u001b[m\u001b[K’ is private within this context\n",
            "   44 |         if (it->\u001b[01;31m\u001b[KticketId\u001b[m\u001b[K == ticket.ticketId) {\n",
            "      |                 \u001b[01;31m\u001b[K^~~~~~~~\u001b[m\u001b[K\n",
            "\u001b[01m\u001b[Kprogram.c:7:9:\u001b[m\u001b[K \u001b[01;36m\u001b[Knote: \u001b[m\u001b[Kdeclared private here\n",
            "    7 |     int \u001b[01;36m\u001b[KticketId\u001b[m\u001b[K;\n",
            "      |         \u001b[01;36m\u001b[K^~~~~~~~\u001b[m\u001b[K\n",
            "\u001b[01m\u001b[Kprogram.c:44:17:\u001b[m\u001b[K \u001b[01;36m\u001b[Knote: \u001b[m\u001b[Kfield ‘\u001b[01m\u001b[Kint Ticket::ticketId\u001b[m\u001b[K’ can be accessed via ‘\u001b[01m\u001b[Kint Ticket::getId() const\u001b[m\u001b[K’\n",
            "   44 |         if (it->\u001b[01;36m\u001b[KticketId\u001b[m\u001b[K == ticket.ticketId) {\n",
            "      |                 \u001b[01;36m\u001b[K^~~~~~~~\u001b[m\u001b[K\n",
            "      |                 \u001b[32m\u001b[KgetId()\u001b[m\u001b[K\n",
            "\u001b[01m\u001b[Kprogram.c:44:36:\u001b[m\u001b[K \u001b[01;31m\u001b[Kerror: \u001b[m\u001b[K‘\u001b[01m\u001b[Kint Ticket::ticketId\u001b[m\u001b[K’ is private within this context\n",
            "   44 |         if (it->ticketId == ticket.\u001b[01;31m\u001b[KticketId\u001b[m\u001b[K) {\n",
            "      |                                    \u001b[01;31m\u001b[K^~~~~~~~\u001b[m\u001b[K\n",
            "\u001b[01m\u001b[Kprogram.c:7:9:\u001b[m\u001b[K \u001b[01;36m\u001b[Knote: \u001b[m\u001b[Kdeclared private here\n",
            "    7 |     int \u001b[01;36m\u001b[KticketId\u001b[m\u001b[K;\n",
            "      |         \u001b[01;36m\u001b[K^~~~~~~~\u001b[m\u001b[K\n",
            "\u001b[01m\u001b[Kprogram.c:44:36:\u001b[m\u001b[K \u001b[01;36m\u001b[Knote: \u001b[m\u001b[Kfield ‘\u001b[01m\u001b[Kint Ticket::ticketId\u001b[m\u001b[K’ can be accessed via ‘\u001b[01m\u001b[Kint Ticket::getId() const\u001b[m\u001b[K’\n",
            "   44 |         if (it->ticketId == ticket.\u001b[01;36m\u001b[KticketId\u001b[m\u001b[K) {\n",
            "      |                                    \u001b[01;36m\u001b[K^~~~~~~~\u001b[m\u001b[K\n",
            "      |                                    \u001b[32m\u001b[KgetId()\u001b[m\u001b[K\n",
            "\u001b[01m\u001b[Kprogram.c:45:41:\u001b[m\u001b[K \u001b[01;31m\u001b[Kerror: \u001b[m\u001b[K‘\u001b[01m\u001b[Kint Ticket::ticketId\u001b[m\u001b[K’ is private within this context\n",
            "   45 |             cout << \"Ticket \" << ticket.\u001b[01;31m\u001b[KticketId\u001b[m\u001b[K << \" cancelled.\" << endl;\n",
            "      |                                         \u001b[01;31m\u001b[K^~~~~~~~\u001b[m\u001b[K\n",
            "\u001b[01m\u001b[Kprogram.c:7:9:\u001b[m\u001b[K \u001b[01;36m\u001b[Knote: \u001b[m\u001b[Kdeclared private here\n",
            "    7 |     int \u001b[01;36m\u001b[KticketId\u001b[m\u001b[K;\n",
            "      |         \u001b[01;36m\u001b[K^~~~~~~~\u001b[m\u001b[K\n",
            "\u001b[01m\u001b[Kprogram.c:45:41:\u001b[m\u001b[K \u001b[01;36m\u001b[Knote: \u001b[m\u001b[Kfield ‘\u001b[01m\u001b[Kint Ticket::ticketId\u001b[m\u001b[K’ can be accessed via ‘\u001b[01m\u001b[Kint Ticket::getId() const\u001b[m\u001b[K’\n",
            "   45 |             cout << \"Ticket \" << ticket.\u001b[01;36m\u001b[KticketId\u001b[m\u001b[K << \" cancelled.\" << endl;\n",
            "      |                                         \u001b[01;36m\u001b[K^~~~~~~~\u001b[m\u001b[K\n",
            "      |                                         \u001b[32m\u001b[KgetId()\u001b[m\u001b[K\n",
            "Enter the number of rows: ^C\n"
          ]
        }
      ],
      "source": [
        "!g++ program.c -o program\n",
        "! ./program"
      ]
    },
    {
      "cell_type": "code",
      "execution_count": null,
      "metadata": {
        "colab": {
          "base_uri": "https://localhost:8080/"
        },
        "id": "-DhLM42R_L0V",
        "outputId": "1ea9a6ee-b4f6-474f-8303-de055c75218c"
      },
      "outputs": [
        {
          "name": "stdout",
          "output_type": "stream",
          "text": [
            "Overwriting program.c\n"
          ]
        }
      ],
      "source": [
        "%%writefile program.c\n",
        "#include<iostream>\n",
        "using namespace std;\n",
        "class Number {\n",
        "private:\n",
        "  int num;\n",
        "\n",
        "public:\n",
        "  Number(int n) {\n",
        "    num = n;\n",
        "  }\n",
        "\n",
        "  friend void calcevenoddsum(Number no);\n",
        "  friend void revnum(Number no);\n",
        "};\n",
        "\n",
        "void calcevenoddsum(Number no) {\n",
        "  int evensum = 0;\n",
        "  int oddsum = 0;\n",
        "  int digit;\n",
        "  int N = no.num;\n",
        "\n",
        "  while(N>0) {\n",
        "    digit = N%10;\n",
        "    if(digit % 2 == 0) {\n",
        "      evensum+=digit;\n",
        "    }\n",
        "    else {\n",
        "      oddsum+=digit;\n",
        "    }\n",
        "    N = N/10;\n",
        "  }\n",
        "\n",
        "  cout<<\"even sum:\"<<evensum<<endl;\n",
        "  cout<<\"odd sum:\"<<oddsum<<endl;\n",
        "}\n",
        "\n",
        "void revnum(Number no) {\n",
        "  int rev = 0;\n",
        "  int N = no.num;\n",
        "  while(N>0) {\n",
        "    rev = rev*10 + (N%10);\n",
        "    N = N/10;\n",
        "  }\n",
        "  cout<<\"reversed number: \"<<rev<<endl;\n",
        "}\n",
        "\n",
        "int main() {\n",
        "  int n;\n",
        "  cin>>n;\n",
        "  Number number(n);\n",
        "  calcevenoddsum(number);\n",
        "  revnum(number);\n",
        "\n",
        "  return 0;\n",
        "\n",
        "}"
      ]
    },
    {
      "cell_type": "code",
      "execution_count": null,
      "metadata": {
        "colab": {
          "base_uri": "https://localhost:8080/"
        },
        "id": "7a9NosBFB1Nl",
        "outputId": "aa8e976c-90fd-4273-c5cd-11e2d7a3e6c7"
      },
      "outputs": [
        {
          "name": "stdout",
          "output_type": "stream",
          "text": [
            "12345\n",
            "even sum:6\n",
            "odd sum:9\n",
            "reversed number: 54321\n"
          ]
        }
      ],
      "source": [
        "!g++ program.c -o program\n",
        "! ./program"
      ]
    },
    {
      "cell_type": "markdown",
      "metadata": {
        "id": "pGABw618-kug"
      },
      "source": [
        "MEMBER FUNCTION"
      ]
    },
    {
      "cell_type": "code",
      "execution_count": null,
      "metadata": {
        "colab": {
          "base_uri": "https://localhost:8080/"
        },
        "id": "rS0tSqos8mhj",
        "outputId": "41465414-d040-4ff9-d1c2-4dae40597067"
      },
      "outputs": [
        {
          "name": "stdout",
          "output_type": "stream",
          "text": [
            "Overwriting program.c\n"
          ]
        }
      ],
      "source": [
        "%%writefile program.c\n",
        "#include<iostream>\n",
        "using namespace std;\n",
        "\n",
        "class Skateboard {\n",
        "private:\n",
        "  float length;\n",
        "  float width;\n",
        "  float flex;\n",
        "\n",
        "public:\n",
        "  Skateboard(float l, float w, float f) {\n",
        "    length = l;\n",
        "    width = w;\n",
        "    flex = f;\n",
        "  }\n",
        "\n",
        "  float calcsurfacearea() {\n",
        "    return length*width;\n",
        "  }\n",
        "\n",
        "  float calcriderweight() {\n",
        "    return flex*8;\n",
        "  }\n",
        "\n",
        "  void display() {\n",
        "        cout << \"Length: \" << length << \" inches\\n\";\n",
        "        cout << \"Width: \" << width << \" inches\\n\";\n",
        "        cout << \"Flex Rating: \" << flex << \"\\n\";\n",
        "        cout << \"Surface Area: \" << calcsurfacearea() << \" square inches\\n\";\n",
        "        cout << \"Recommended Rider Weight: \" << calcriderweight() << \" lbs\\n\";\n",
        "    }\n",
        "};\n",
        "int main() {\n",
        "    float l,w,f;\n",
        "    cout << \"Enter the skateboard length: \";\n",
        "    cin >> l;\n",
        "    cout << \"Enter the skateboard width: \";\n",
        "    cin >> w;\n",
        "    cout << \"Enter the flex rating: \";\n",
        "    cin >> f;\n",
        "\n",
        "    Skateboard s(l, w, f);\n",
        "\n",
        "    s.display();\n",
        "\n",
        "    return 0;\n",
        "}\n"
      ]
    },
    {
      "cell_type": "code",
      "execution_count": null,
      "metadata": {
        "colab": {
          "base_uri": "https://localhost:8080/"
        },
        "id": "w5PjLozY8mnh",
        "outputId": "aff81a27-3207-4e20-a1bf-32cefb3ede96"
      },
      "outputs": [
        {
          "name": "stdout",
          "output_type": "stream",
          "text": [
            "Enter the skateboard length: 10\n",
            "Enter the skateboard width: 2\n",
            "Enter the flex rating: 4\n",
            "Length: 10 inches\n",
            "Width: 2 inches\n",
            "Flex Rating: 4\n",
            "Surface Area: 20 square inches\n",
            "Recommended Rider Weight: 32 lbs\n"
          ]
        }
      ],
      "source": [
        "!g++ program.c -o program\n",
        "! ./program"
      ]
    },
    {
      "cell_type": "code",
      "execution_count": null,
      "metadata": {
        "colab": {
          "base_uri": "https://localhost:8080/"
        },
        "id": "fKlSoTmkB3Fn",
        "outputId": "d79a931d-c9a5-4e0e-e5cd-91ee0634c7af"
      },
      "outputs": [
        {
          "name": "stdout",
          "output_type": "stream",
          "text": [
            "Overwriting program.c\n"
          ]
        }
      ],
      "source": [
        "%%writefile program.c\n",
        "#include<iostream>\n",
        "using namespace std;\n",
        "\n",
        "class Mean() {\n",
        "private:\n",
        "  int num;\n",
        "  int totalnum;\n",
        "\n",
        "public:\n",
        "  Mean(int arr[], int size) {\n",
        "    num = arr;\n",
        "    totalnum = size;\n",
        "  }\n",
        "\n",
        "  void calcmean() {\n",
        "    int sum = 0;\n",
        "    for(i=0;i<totalnum;i++) {\n",
        "      sum += num[i];\n",
        "    }\n",
        "    double mean = double(sum)/totalnum;\n",
        "    cout<<\"mean:\"<<mean<<endl;\n",
        "  }\n",
        "};\n",
        "\n",
        "int main() {\n",
        "  int num[]={1,2,3,4,5};\n",
        "  int size = sizeof(num)/sizeof(num[0]);\n",
        "\n",
        "  Mean m(num,size);\n",
        "  m.calcmean();\n",
        "\n",
        "  return 0;\n",
        "}"
      ]
    },
    {
      "cell_type": "code",
      "execution_count": null,
      "metadata": {
        "colab": {
          "base_uri": "https://localhost:8080/"
        },
        "id": "_UCjHpIRB3I-",
        "outputId": "cd68b545-fe9e-4be2-f766-671c46a30960"
      },
      "outputs": [
        {
          "name": "stdout",
          "output_type": "stream",
          "text": [
            "\u001b[01m\u001b[Kprogram.c:4:12:\u001b[m\u001b[K \u001b[01;31m\u001b[Kerror: \u001b[m\u001b[Kexpected unqualified-id before ‘\u001b[01m\u001b[K)\u001b[m\u001b[K’ token\n",
            "    4 | class Mean(\u001b[01;31m\u001b[K)\u001b[m\u001b[K {\n",
            "      |            \u001b[01;31m\u001b[K^\u001b[m\u001b[K\n",
            "\u001b[01m\u001b[Kprogram.c:\u001b[m\u001b[K In function ‘\u001b[01m\u001b[Kint main()\u001b[m\u001b[K’:\n",
            "\u001b[01m\u001b[Kprogram.c:29:10:\u001b[m\u001b[K \u001b[01;31m\u001b[Kerror: \u001b[m\u001b[Kvariable ‘\u001b[01m\u001b[KMean m\u001b[m\u001b[K’ has initializer but incomplete type\n",
            "   29 |   Mean m(\u001b[01;31m\u001b[Knum\u001b[m\u001b[K,size);\n",
            "      |          \u001b[01;31m\u001b[K^~~\u001b[m\u001b[K\n",
            "Enter the skateboard length: ^C\n"
          ]
        }
      ],
      "source": [
        "!g++ program.c -o program\n",
        "! ./program"
      ]
    },
    {
      "cell_type": "markdown",
      "metadata": {
        "id": "sxbnVl9mUslh"
      },
      "source": [
        "Implement a Matrix class that represents a two-dimensional matrix of integers. The class should have methods to create a matrix, set its elements, and print the matrix. Additionally, implement a function to calculate the transpose of a matrix. The program should prompt the user to enter the dimensions of the matrix and its elements, display the original matrix, and then display the transposed matrix.\n",
        "\n",
        "Function Signature: Matrix Transpose(const Matrix& matrix);"
      ]
    },
    {
      "cell_type": "code",
      "execution_count": null,
      "metadata": {
        "colab": {
          "base_uri": "https://localhost:8080/"
        },
        "id": "hzdbIELQU1D5",
        "outputId": "86e42df7-983e-4c88-eec9-ecff97591347"
      },
      "outputs": [
        {
          "name": "stdout",
          "output_type": "stream",
          "text": [
            "Writing program.c\n"
          ]
        }
      ],
      "source": [
        "%%writefile program.c\n",
        "#include <iostream>\n",
        "\n",
        "using namespace std;\n",
        "\n",
        "class Matrix {\n",
        "private:\n",
        "    int mat[100][100];\n",
        "    int rows, cols;\n",
        "\n",
        "public:\n",
        "    Matrix(int r, int c) {\n",
        "      rows = r;\n",
        "      cols = c;\n",
        "    }\n",
        "\n",
        "    void setElements() {\n",
        "        cout << \"Enter the elements of the \" << rows << \"x\" << cols << \" matrix:\\n\";\n",
        "        for (int i = 0; i < rows; i++) {\n",
        "            for (int j = 0; j < cols; j++) {\n",
        "                cin >> mat[i][j];\n",
        "            }\n",
        "        }\n",
        "    }\n",
        "\n",
        "    void printMatrix() {\n",
        "        cout << \"Matrix:\\n\";\n",
        "        for (int i = 0; i < rows; i++) {\n",
        "            for (int j = 0; j < cols; j++) {\n",
        "                cout << mat[i][j] << \" \";\n",
        "            }\n",
        "            cout << endl;\n",
        "        }\n",
        "    }\n",
        "\n",
        "    void displaytranspose(){\n",
        "        //Matrix transposed(cols, rows);\n",
        "        for (int i = 0; i < rows; i++) {\n",
        "            for (int j = 0; j < cols; j++) {\n",
        "                 cout << mat[j][i] << \" \";\n",
        "                //transposed.mat[j][i] = mat[i][j];\n",
        "            }\n",
        "            cout << endl;\n",
        "        }\n",
        "       // return transposed;\n",
        "    }\n",
        "};\n",
        "\n",
        "\n",
        "int main() {\n",
        "    int rows, cols;\n",
        "\n",
        "    cout << \"Enter the number of rows: \";\n",
        "    cin >> rows;\n",
        "    cout << \"Enter the number of columns: \";\n",
        "    cin >> cols;\n",
        "\n",
        "\n",
        "    // Create a matrix instance\n",
        "    Matrix matrix(rows, cols);\n",
        "\n",
        "    matrix.setElements();\n",
        "\n",
        "    cout<<\"Original matrix:\\n\"<<endl;\n",
        "    matrix.printMatrix();\n",
        "\n",
        "    cout<<\"\\nTranspose matrix:\"<<endl;\n",
        "    matrix.displaytranspose();\n",
        "\n",
        "\n",
        "    return 0;\n",
        "}"
      ]
    },
    {
      "cell_type": "code",
      "execution_count": null,
      "metadata": {
        "colab": {
          "base_uri": "https://localhost:8080/"
        },
        "id": "Kb2HndYuVKkh",
        "outputId": "866f9031-5348-4730-bf13-43e092155068"
      },
      "outputs": [
        {
          "name": "stdout",
          "output_type": "stream",
          "text": [
            "Enter the number of rows: 3\n",
            "Enter the number of columns: 3\n",
            "Enter the elements of the 3x3 matrix:\n",
            "1 1 1 0 0 0 2 2 2\n",
            "Original matrix:\n",
            "\n",
            "Matrix:\n",
            "1 1 1 \n",
            "0 0 0 \n",
            "2 2 2 \n",
            "\n",
            "Transpose matrix:\n",
            "1 0 2 \n",
            "1 0 2 \n",
            "1 0 2 \n"
          ]
        }
      ],
      "source": [
        "!g++ program.c -o program\n",
        "! ./program"
      ]
    },
    {
      "cell_type": "markdown",
      "metadata": {
        "id": "k1tasiW2U9-t"
      },
      "source": [
        "Rathi wants to determine whether a given string is a palindrome or not. To assist her, you are tasked with creating a program that checks if a string is a palindrome.\n",
        "\n",
        "You are required to define PalindromeChecker class with the following properties and methods:\n",
        "\n",
        "1. A constructor that initializes the object with a string.\n",
        "\n",
        "2. A method named isPalindrome that checks if the input string is a palindrome.\n",
        "\n",
        "3. A destructor that displays a message when an object is destroyed."
      ]
    },
    {
      "cell_type": "code",
      "execution_count": null,
      "metadata": {
        "colab": {
          "base_uri": "https://localhost:8080/"
        },
        "id": "Knl436OHVAse",
        "outputId": "6ce19a78-8201-42f6-9a3d-128bffe13833"
      },
      "outputs": [
        {
          "name": "stdout",
          "output_type": "stream",
          "text": [
            "Overwriting program.c\n"
          ]
        }
      ],
      "source": [
        "%%writefile program.c\n",
        "#include <iostream>\n",
        "#include <string>\n",
        "\n",
        "\n",
        "using namespace std;\n",
        "\n",
        "class PalindromeChecker {\n",
        "private:\n",
        "    string str;\n",
        "\n",
        "public:\n",
        "    PalindromeChecker(string input) {\n",
        "        str = input;\n",
        "    }\n",
        "\n",
        "    bool isPalindrome() {\n",
        "        int n = str.length();\n",
        "        for (int i = 0; i < n / 2; i++) {\n",
        "            if (str[i] != str[n - i - 1]) {\n",
        "                return false;\n",
        "            }\n",
        "        }\n",
        "        return true;\n",
        "    }\n",
        "\n",
        "    ~PalindromeChecker() {\n",
        "        cout << \"PalindromeChecker object is being destroyed.\\n\";\n",
        "    }\n",
        "};\n",
        "\n",
        "int main() {\n",
        "    string input;\n",
        "    cout << \"Enter a string: \";\n",
        "    cin >> input;\n",
        "\n",
        "    PalindromeChecker checker(input);\n",
        "\n",
        "    if (checker.isPalindrome()) {\n",
        "        cout << input << \" is a palindrome.\\n\";\n",
        "    } else {\n",
        "        cout << input << \" is not a palindrome.\\n\";\n",
        "    }\n",
        "\n",
        "    return 0;\n",
        "}"
      ]
    },
    {
      "cell_type": "code",
      "execution_count": null,
      "metadata": {
        "colab": {
          "base_uri": "https://localhost:8080/"
        },
        "id": "FbMI4lisVAwA",
        "outputId": "eca273e3-6079-454c-9328-c84965eb6b2f"
      },
      "outputs": [
        {
          "name": "stdout",
          "output_type": "stream",
          "text": [
            "Enter a string: banana\n",
            "banana is not a palindrome.\n",
            "PalindromeChecker object is being destroyed.\n"
          ]
        }
      ],
      "source": [
        "!g++ program.c -o program\n",
        "! ./program"
      ]
    },
    {
      "cell_type": "markdown",
      "metadata": {
        "id": "jqzl3qeqc1TD"
      },
      "source": [
        "Alex is creating a simulation to track the creation and destruction of objects in a program. Each object is represented by an instance of the man class. Every time a new object is created, a message is printed indicating its creation number. Similarly, when an object is destroyed, a message is printed indicating its destruction order.Write a program to simulate the creation of n objects and track the order in which they are created and destroyed.\n"
      ]
    },
    {
      "cell_type": "markdown",
      "metadata": {
        "id": "XypkZAxmcCMZ"
      },
      "source": []
    },
    {
      "cell_type": "code",
      "execution_count": null,
      "metadata": {
        "colab": {
          "base_uri": "https://localhost:8080/"
        },
        "id": "kJkcujhNb08L",
        "outputId": "4ba6a5eb-da5c-4cf3-c9eb-8182a6148885"
      },
      "outputs": [
        {
          "name": "stdout",
          "output_type": "stream",
          "text": [
            "Overwriting program.c\n"
          ]
        }
      ],
      "source": [
        "%%writefile program.c\n",
        "#include <iostream>\n",
        "using namespace std;\n",
        "\n",
        "class Man {\n",
        "private:\n",
        "  static int count;\n",
        "  int value;\n",
        "\n",
        "public:\n",
        "  Man() {\n",
        "    count++;\n",
        "    value = count;\n",
        "    cout<<\"Created \"<<count<<endl;\n",
        "  }\n",
        "  ~Man() {\n",
        "    cout<<\"Destroyed \"<< value <<\" \"<<endl;\n",
        "    count--;\n",
        "  }\n",
        "\n",
        "};\n",
        "\n",
        "int Man::count=0;\n",
        "\n",
        "int main() {\n",
        "  int n;\n",
        "  cin>>n;\n",
        "  Man obj[n];\n",
        "\n",
        "  return 0;\n",
        "\n",
        "}"
      ]
    },
    {
      "cell_type": "code",
      "execution_count": null,
      "metadata": {
        "colab": {
          "base_uri": "https://localhost:8080/"
        },
        "id": "CUBmf3Yhi4nB",
        "outputId": "78229883-6f42-4987-bbc5-b0b905460b8f"
      },
      "outputs": [
        {
          "name": "stdout",
          "output_type": "stream",
          "text": [
            "5\n",
            "Created 1\n",
            "Created 2\n",
            "Created 3\n",
            "Created 4\n",
            "Created 5\n",
            "Destroyed 5 \n",
            "Destroyed 4 \n",
            "Destroyed 3 \n",
            "Destroyed 2 \n",
            "Destroyed 1 \n"
          ]
        }
      ],
      "source": [
        "!g++ program.c -o program\n",
        "! ./program"
      ]
    },
    {
      "cell_type": "markdown",
      "metadata": {
        "id": "ZHtCnKtIvjsZ"
      },
      "source": [
        "HIERARCHIAL INHERITANCE\n"
      ]
    },
    {
      "cell_type": "code",
      "execution_count": null,
      "metadata": {
        "colab": {
          "base_uri": "https://localhost:8080/"
        },
        "id": "JDhcv2oeHyUX",
        "outputId": "2694bc90-e444-4aff-afe0-a85796976544"
      },
      "outputs": [
        {
          "name": "stdout",
          "output_type": "stream",
          "text": [
            "Overwriting program.c\n"
          ]
        }
      ],
      "source": [
        "%%writefile program.c\n",
        "#include<iostream>\n",
        "#include<iomanip>\n",
        "using namespace std;\n",
        "\n",
        "class Circle {\n",
        "protected:\n",
        "  double radius;\n",
        "\n",
        "public:\n",
        "  Circle(double rad) {\n",
        "    radius = rad;\n",
        "  }\n",
        "};\n",
        "\n",
        "\n",
        "class Class1: public Circle {\n",
        "  public:\n",
        "    Class1(double radius): Circle (radius) {}\n",
        "    double Circumference1() {\n",
        "        double circumference1 = 2*3.14159*radius;\n",
        "        return circumference1;\n",
        "    }\n",
        "};\n",
        "\n",
        "\n",
        "class Class2: public Circle {\n",
        "  public:\n",
        "    Class2(double radius): Circle (radius) {}\n",
        "    double Circumference2() {\n",
        "        double circumference2=23.14*radius;\n",
        "        return circumference2;\n",
        "    }\n",
        "};\n",
        "\n",
        "int main() {\n",
        "  double rad;\n",
        "  cin>>rad;\n",
        "\n",
        "  Class1 c1(rad);\n",
        "\n",
        "  Class2 c2(rad);\n",
        "\n",
        "  cout<<fixed<<setprecision(2);\n",
        "\n",
        "  cout<<\"Class 1: \"<<c1.Circumference1()<<endl;\n",
        "\n",
        "  cout<<\"Class 2: \"<<c2.Circumference2()<<endl;\n",
        "\n",
        "  return 0;\n",
        "\n",
        "}"
      ]
    },
    {
      "cell_type": "code",
      "execution_count": null,
      "metadata": {
        "colab": {
          "base_uri": "https://localhost:8080/"
        },
        "id": "QSBZth0kJAfn",
        "outputId": "ec5f0cd1-c1e2-4d7d-ed5c-d73354f6e5fe"
      },
      "outputs": [
        {
          "name": "stdout",
          "output_type": "stream",
          "text": [
            "20\n",
            "Class 1: 125.66\n",
            "Class 2: 462.80\n"
          ]
        }
      ],
      "source": [
        "!g++ program.c -o program\n",
        "! ./program"
      ]
    },
    {
      "cell_type": "markdown",
      "metadata": {
        "id": "-wTjL_EySnpL"
      },
      "source": [
        "A company employs three types of workers: Full-Time, Part-Time, and Contract employees. Each employee has a name and a base salary. The salary calculation varies based on the employment type(full-time, part-time, Contract).\n",
        "\n",
        "You are given a partially completed program with a base class Employee that contains the common attributes and methods for all employees. Your task is to complete the given stub by properly implementing inheritance and method overriding in the derived classes.\n",
        "\n",
        "Each derived class (FullTime, PartTime, Contract) must override the calculateSalary(int days worked) method to compute the employee's salary based on the rules above. Additionally, the display() method in Employee should print the employee's details. Ensure that inheritance is correctly applied.\n",
        "\n",
        "Formulas:\n",
        "\n",
        "Full-time = base salary.\n",
        "\n",
        "Part-time = base salary^(days worked / 30.0).\n",
        "Contract = base salary^days worked / 100."
      ]
    },
    {
      "cell_type": "code",
      "execution_count": null,
      "metadata": {
        "colab": {
          "base_uri": "https://localhost:8080/"
        },
        "id": "lZcMM1lCSmuh",
        "outputId": "34108807-ee22-4e62-be35-80fd4d24b17d"
      },
      "outputs": [
        {
          "name": "stdout",
          "output_type": "stream",
          "text": [
            "Overwriting program.c\n"
          ]
        }
      ],
      "source": [
        "%%writefile program.c\n",
        "#include <iostream>\n",
        "#include <iomanip>\n",
        "using namespace std;\n",
        "\n",
        "class Employee {\n",
        "  protected:\n",
        "    string employeename;\n",
        "    float basesalary;\n",
        "\n",
        "  public:\n",
        "    Employee(string name, float salary) {\n",
        "      employeename = name;\n",
        "      basesalary = salary;\n",
        "    }\n",
        "\n",
        "    void display() {\n",
        "      cout<<\"Name: \"<<employeename<<endl;\n",
        "    }\n",
        "\n",
        "};\n",
        "\n",
        "class FullTime : public Employee {\n",
        "  public:\n",
        "    FullTime(string name, float salary): Employee(name,salary) {}\n",
        "\n",
        "\n",
        "    float calculateSalaryFullTime() {\n",
        "      return basesalary;\n",
        "    }\n",
        "\n",
        "};\n",
        "\n",
        "class PartTime : public Employee {\n",
        "  public:\n",
        "    PartTime(string name, float salary):Employee(name,salary) {}\n",
        "\n",
        "    float calculateSalaryPartTime(int days) {\n",
        "      return basesalary*(days / 30.0);\n",
        "    }\n",
        "\n",
        "};\n",
        "\n",
        "class Contract : public Employee {\n",
        "  public:\n",
        "    Contract(string name, float salary):Employee(name, salary) {}\n",
        "    float calculateSalaryContract(int days) {\n",
        "      return basesalary*(days / 100.0);\n",
        "    }\n",
        "\n",
        "};\n",
        "\n",
        "int main() {\n",
        "  string name;\n",
        "  double salary;\n",
        "  int daysWorked;\n",
        "  cin>>name>>salary>>daysWorked;\n",
        "\n",
        "  FullTime ft(name, salary);\n",
        "  PartTime pt(name, salary);\n",
        "  Contract ct(name, salary);\n",
        "\n",
        "  cout<<fixed<<setprecision(1);\n",
        "\n",
        "  ft.display();\n",
        "  cout<<\"Full-Time Salary: $\"<<ft.calculateSalaryFullTime()<<endl;\n",
        "  cout<<\"Part-Time Salary: $\"<<pt.calculateSalaryPartTime(daysWorked)<<endl;\n",
        "  cout<<\"Contract Salary: $\"<<ct.calculateSalaryContract(daysWorked)<<endl;\n",
        "\n",
        "  return 0;\n",
        "}\n"
      ]
    },
    {
      "cell_type": "code",
      "execution_count": null,
      "metadata": {
        "colab": {
          "base_uri": "https://localhost:8080/"
        },
        "id": "NxkeAdvQSmxx",
        "outputId": "e7aab1eb-239f-4e45-8864-09c10e402abc"
      },
      "outputs": [
        {
          "name": "stdout",
          "output_type": "stream",
          "text": [
            "magi\n",
            "10000000\n",
            "10\n",
            "Name: magi\n",
            "Full-Time Salary: $10000000.0\n",
            "Part-Time Salary: $3333333.2\n",
            "Contract Salary: $1000000.0\n"
          ]
        }
      ],
      "source": [
        "!g++ program.c -o program\n",
        "! ./program"
      ]
    },
    {
      "cell_type": "markdown",
      "metadata": {
        "id": "FqlSx3uIv-Ta"
      },
      "source": [
        "An Electric Vehicle Charging Management System is required to efficiently handle charging stations, payment processing, and usage analytics. Each charging session is assigned a unique session ID, has arhase charging cost in dollars, and belongs to either a Standard Charging Session (fixed cost) or a Dynamic Charging Session (cost adjusted based on charging speed).\n",
        "\n",
        "Dynamic sessions modify the final cost using a more advanced calculation:\n",
        "\n",
        "-->1 represents Fast Charging - Multiply the base cost by itself (square it), then add 10: y = y² +10\n",
        "\n",
        "-->2 represents Normal Charging -- Multiply the base cost by 3, then add 5: y = (yx3)+5\n",
        "\n",
        "-->3 represents Slow Charging Multiply the base cost by 2, then subtract 7: y = (yx2)-7\n",
        "\n",
        "The system should process multiple charging sessions, calculate final adjusted costs for dynamic charging sessions, and display the total revenue generated from all sessions."
      ]
    },
    {
      "cell_type": "code",
      "execution_count": null,
      "metadata": {
        "colab": {
          "base_uri": "https://localhost:8080/"
        },
        "id": "SjBX40oiwY6J",
        "outputId": "2560b67c-1b73-41c9-ebd5-dcb7f93c2202"
      },
      "outputs": [
        {
          "name": "stdout",
          "output_type": "stream",
          "text": [
            "Overwriting program.c\n"
          ]
        }
      ],
      "source": [
        "%%writefile program.c\n",
        "#include <iostream>\n",
        "using namespace std;\n",
        "\n",
        "class ChargingSession {\n",
        "  protected:\n",
        "    int sessionID;\n",
        "    int baseCost;\n",
        "  public:\n",
        "    ChargingSession(int id,int cost) {\n",
        "      sessionID=id;\n",
        "      baseCost=cost;\n",
        "    }\n",
        "\n",
        "    virtual int getAdjustedCost() {\n",
        "      return baseCost;\n",
        "    }\n",
        "\n",
        "    virtual void display() {\n",
        "      cout<<sessionID<<endl;\n",
        "      cout<<baseCost<<endl;\n",
        "    }\n",
        "\n",
        "};\n",
        "\n",
        "class DynamicChargingSession : public ChargingSession {\n",
        "  int chargingSpeed;\n",
        "  public:\n",
        "    DynamicChargingSession(int id, int cost,int speed):ChargingSession(id,cost){\n",
        "      chargingSpeed = speed;\n",
        "    }\n",
        "\n",
        "    int getAdjustedCost() {\n",
        "\n",
        "      if(chargingSpeed==1){\n",
        "        return (baseCost*baseCost)+10;\n",
        "      }\n",
        "      else if(chargingSpeed==2){\n",
        "        return (baseCost*3)+5;\n",
        "      }\n",
        "      else if(chargingSpeed==3){\n",
        "        return(baseCost*2)-7;\n",
        "      }\n",
        "      else {\n",
        "        return baseCost;\n",
        "      }\n",
        "    }\n",
        "\n",
        "    void display() {\n",
        "\n",
        "      ChargingSession::display();\n",
        "      cout<<chargingSpeed<<endl;\n",
        "    }\n",
        "\n",
        "};\n",
        "\n",
        "int main() {\n",
        "  int n, sessionID, baseCost, chargingSpeed, totalRevenue = 0;\n",
        "  cin>>n;\n",
        "  ChargingSession sessions[n];\n",
        "\n",
        "  for(int i=0;i<n;i++) {\n",
        "    cin>>sessionID>>baseCost;\n",
        "    if(cin.peek()=='\\n') {\n",
        "      sessions[i]=new ChargingSession(sessionID, baseCost);\n",
        "    }\n",
        "    else {\n",
        "      cin>>chargingSpeed;\n",
        "      sessions[i]=new DynamicChargingSession(sessionID,baseCost,chargingSpeed);\n",
        "    }\n",
        "    totalRevenue += sessions[i]->getAdjustedCost();\n",
        "  }\n",
        "  cout << totalRevenue << endl;\n",
        "  for (int i = 0; i < n; i++) {\n",
        "    sessions[i]->display();\n",
        "    delete sessions[i];\n",
        "  }\n",
        "  return 0;\n",
        "}\n"
      ]
    },
    {
      "cell_type": "code",
      "execution_count": null,
      "metadata": {
        "colab": {
          "base_uri": "https://localhost:8080/"
        },
        "id": "BJxf8KBQwY9j",
        "outputId": "9cdfcc21-c03e-475b-a5f4-1c187ad3a0fd"
      },
      "outputs": [
        {
          "name": "stdout",
          "output_type": "stream",
          "text": [
            "\u001b[01m\u001b[Kcc1plus:\u001b[m\u001b[K \u001b[01;31m\u001b[Kfatal error: \u001b[m\u001b[Kprogram.c: No such file or directory\n",
            "compilation terminated.\n",
            "/bin/bash: line 1: ./program: No such file or directory\n"
          ]
        }
      ],
      "source": [
        "!g++ program.c -o program\n",
        "! ./program"
      ]
    },
    {
      "cell_type": "markdown",
      "metadata": {
        "id": "rzNQ59nMK8H6"
      },
      "source": [
        "You are a sales representative at an electronics store. A customer is interested in purchasing a new television and refrigerator. You can input and display information about the devices and calculate the following relevant metrics:\n",
        "\n",
        "Class Descriptions:\n",
        "\n",
        "Device Class:\n",
        "\n",
        "1. Contains brand and price as attributes,\n",
        "\n",
        "2. Provides a display method to show device brand and price.\n",
        "\n",
        "Television Class (Inherits from Device):\n",
        "\n",
        "3. Inherits attributes brand and price from the Device class.\n",
        "\n",
        "4. Has an additional attribute screenSize to store the screen size.\n",
        "\n",
        "5. Contains a calculatePixel Density method to calculate the pixel density.\n",
        "\n",
        "Refrigerator Class (Inherits from Device):\n",
        "\n",
        "6. Inherits attributes brand and price from the Device class.\n",
        "\n",
        "7. Includes an extra attribute capacity to represent the storage capacity.\n",
        "\n",
        "8. Provides the calculateEnergy Efficiency method to calculate the energy efficiency.\n",
        "\n",
        "Formulas used:\n",
        "\n",
        "For Television:\n",
        "\n",
        "Screen size in cm = screen size in inches 2.54\n",
        "\n",
        "Pixel Density = (resolution width resolution height) / (screen size in cm screen size in cm)\n",
        "\n",
        "For Refrigerator:\n",
        "\n",
        "Capacity in Cubic Feet = capacity in liters * 0.0353\n",
        "\n",
        "Energy Efficiency = Energy consumption in.KWh /capacity cubic feet\n",
        "\n",
        "Input format:\n",
        "\n",
        "The first line consists of a string representing the TV brand, a double value representing the TV price, and an integer representing the TV screen size (in inches) separated by a space.\n",
        "\n",
        "The second line consists of a string representing the Refridgerator brand, a double value representing the Refridgerator price, and an integer representing the Refridgerator capacity separated by a space.\n",
        "\n",
        "The third line consists of an integer representing the TV Resolution Width (in cm) and an integer representing TV Resolution Height (in cm) separated by a space.\n",
        "\n",
        "The fourth line consists of a double value representing the refrigerator's energy consumption.\n",
        "\n",
        "Output format:\n",
        "\n",
        "The first line prints \"Television Information:\".\n",
        "\n",
        "The following three line prints the Television Information as follows:\n",
        "\n",
        "\"Device: [Brand], Price: $ [Price] where [Brand] is a string and [Price] is a double, displayed with two decimal places, representing the brand and price of the television.\n",
        "\n",
        "\"Screen Size: [Screen Size) inches ([Screen Size in CM] cm) where [Screen Size] is an integer, representing the screen size in inches, and [Screen Size in CM) is a double displayed with one decimal place, representing the screen size in centimeters.\n",
        "\n",
        "\"Pixel Density: [Pixel Density) pixels per square centimeter where [Pixel Density) is a double, displayed with one decimal place, representing the pixel density.\n",
        "\n",
        "After a new line, the next line prints \"Refrigerator Information:\"\n",
        "\n",
        "The following three line prints the Refrigerator Information as follows:\n",
        "\n",
        "\"Device: [Brand], Price: $(Price)\" where [Brand] is a string and (Price) is a double, displayed with one decimal place, representing the brand and price of the refrigerator.\n",
        "\n",
        "\"Capacity: [Capacity in Liters) liters ((Capacity in Cubic Feet) cubic feet)\" where (Capacity in Liters] is an integer, representing the capacity in liters, and (Capacity in Cubic Feet) is a double displayed with one decimal place, representing the capacity in cubic feet.\n",
        "\n",
        "A \"Energy Efficiency: Energy Efficiency) kWh per cubic foot where (Energy Efficiency) is a double displayed with one decimal place, representing the energy efficiency in kWh per cubic foot"
      ]
    },
    {
      "cell_type": "code",
      "execution_count": null,
      "metadata": {
        "colab": {
          "base_uri": "https://localhost:8080/"
        },
        "id": "b-_pJAGfKE2M",
        "outputId": "3b5275a0-3eba-4231-8bea-78356b4912ca"
      },
      "outputs": [
        {
          "name": "stdout",
          "output_type": "stream",
          "text": [
            "Overwriting program.c\n"
          ]
        }
      ],
      "source": [
        "%%writefile program.c\n",
        "#include<iostream>\n",
        "#include<iomanip>\n",
        "using namespace std;\n",
        "\n",
        "class Device {\n",
        "protected:\n",
        "  string brand;\n",
        "  double price;\n",
        "\n",
        "public:\n",
        "  Device(string bran, double pri){\n",
        "    brand = bran;\n",
        "    price = pri;\n",
        "  }\n",
        "\n",
        " void display() {\n",
        "        cout << \"Device: \" << brand << \", Price: $\" << fixed << setprecision(2) << price << endl;\n",
        "  }\n",
        "\n",
        "};\n",
        "\n",
        "class Television:public Device {\n",
        "int screenSize;\n",
        "public:\n",
        "  Television(string bran, int pri, int size): Device(bran, pri){\n",
        "    screenSize = size;\n",
        "  }\n",
        "\n",
        "  void calculatePixelDensity(int resol_width, int resol_height) {\n",
        "        double screenSizeCM = screenSize * 2.54;\n",
        "        double pixelDensity = (resol_width * resol_height) / (screenSizeCM * screenSizeCM);\n",
        "\n",
        "        Device::display();\n",
        "        cout << \"Screen Size: \" << screenSize << \" inches (\" << fixed << setprecision(1) << screenSizeCM << \" cm)\" << endl;\n",
        "        cout << \"Pixel Density: \" << fixed << setprecision(1) << pixelDensity << \" pixels per square centimeter\" << endl;\n",
        "    }\n",
        "};\n",
        "\n",
        "class Refrigerator:public Device {\n",
        "  int capacity;\n",
        "public:\n",
        "  Refrigerator(string bran, int pri, int cap): Device (bran, pri){\n",
        "    capacity = cap;\n",
        "  }\n",
        "\n",
        "  void calculateEnergyEfficiency(double energyConsumption) {\n",
        "        double capacityCubicFeet = capacity * 0.0353;\n",
        "        double energyEfficiency = energyConsumption / capacityCubicFeet;\n",
        "\n",
        "        Device::display();\n",
        "        cout << \"Capacity: \" << capacity << \" liters (\" << fixed << setprecision(1) << capacityCubicFeet << \" cubic feet)\" << endl;\n",
        "        cout << \"Energy Efficiency: \" << fixed << setprecision(1) << energyEfficiency << \" kWh per cubic foot\" << endl;\n",
        "    }\n",
        "\n",
        "};\n",
        "\n",
        "int main() {\n",
        "  string tvBrand, fridgeBrand;\n",
        "  double tvPrice, fridgePrice;\n",
        "  int screenSize, fridgeCapacity;\n",
        "  int resolutionWidth, resolutionHeight;\n",
        "  double energyConsumption;\n",
        "\n",
        "  cin>>tvBrand>>tvPrice>>screenSize;\n",
        "  cin>>fridgeBrand>>fridgePrice>>fridgeCapacity;\n",
        "  cin>>resolutionWidth>>resolutionHeight;\n",
        "  cin>>energyConsumption;\n",
        "\n",
        "  Television tv(tvBrand, tvPrice, screenSize);\n",
        "  Refrigerator fridge(fridgeBrand, fridgePrice, fridgeCapacity);\n",
        "\n",
        "  cout<<endl;\n",
        "  cout<<\"Television Information:\"<<endl;\n",
        "  tv.calculatePixelDensity(resolutionWidth,resolutionHeight);\n",
        "  cout<<endl;\n",
        "\n",
        "  cout<<\"Refrigerator Information:\"<<endl;\n",
        "  fridge.calculateEnergyEfficiency(energyConsumption);\n",
        "\n",
        "  return 0;\n",
        "\n",
        "}"
      ]
    },
    {
      "cell_type": "code",
      "execution_count": null,
      "metadata": {
        "colab": {
          "base_uri": "https://localhost:8080/"
        },
        "id": "xfOKjBl665O4",
        "outputId": "6cbec837-7b21-470c-9e46-0253bea74e09"
      },
      "outputs": [
        {
          "name": "stdout",
          "output_type": "stream",
          "text": [
            "SAMSUNG 700 45\n",
            "LG 900 350\n",
            "2000 1000\n",
            "750\n",
            "\n",
            "Television Information:\n",
            "Device: SAMSUNG, Price: $700.00\n",
            "Screen Size: 45 inches (114.3 cm)\n",
            "Pixel Density: 153.1 pixels per square centimeter\n",
            "\n",
            "Refrigerator Information:\n",
            "Device: LG, Price: $900.00\n",
            "Capacity: 350 liters (12.4 cubic feet)\n",
            "Energy Efficiency: 60.7 kWh per cubic foot\n"
          ]
        }
      ],
      "source": [
        "!g++ program.c -o program\n",
        "! ./program"
      ]
    },
    {
      "cell_type": "markdown",
      "metadata": {
        "id": "UBwbgccof-hx"
      },
      "source": [
        "Problem Statement\n",
        "\n",
        "You are given the cost and discount values for an electronic gadget and a mechanical device.\n",
        "\n",
        "Write a program using hierarchical inheritance to calculate their total costs after applying the discounts and print these costs.\n",
        "\n",
        "The program should contain three classes:\n",
        "\n",
        "1. class Product Contains cost and discount attributes.\n",
        "\n",
        "2. class ElectronicGadget - Derived from Product class for electronic gadgets with a method calcTotalE() to calculate the total cost specific to electronic gadgets.\n",
        "\n",
        "3. class Mechanical Device - Derived from Product class for mechanical devices with a method calcTotalM() to calculate the total cost specific to mechanical devices.\n",
        "\n",
        "\n",
        "Formula: Total Cost = Cost - (Cost Discount)\n",
        "\n",
        "Input format:\n",
        "\n",
        "The first line of input consists of two space-separated double values, representing the cost and discount for an electronic gadget.\n",
        "\n",
        "The second line consists of two space-separated double values, representing the cost and discount for a mechanical device.\n",
        "\n",
        "Output format:\n",
        "\n",
        "The first line of output prints \"Electronic Cost: Rs. X\" where X is a double value, rounded off to two decimal places.\n",
        "\n",
        "The second line prints \"Mechanical Cost: Rs. Y\" where Y is a double value, rounded off to two decimal places."
      ]
    },
    {
      "cell_type": "code",
      "execution_count": null,
      "metadata": {
        "colab": {
          "base_uri": "https://localhost:8080/"
        },
        "id": "7XfuhHQ0gUpa",
        "outputId": "6b52b71b-7612-4740-d6bf-5c45bb56e931"
      },
      "outputs": [
        {
          "name": "stdout",
          "output_type": "stream",
          "text": [
            "Overwriting program.c\n"
          ]
        }
      ],
      "source": [
        "%%writefile program.c\n",
        "#include<iostream>\n",
        "#include <iomanip>\n",
        "using namespace std;\n",
        "\n",
        "class Product {\n",
        "  protected:\n",
        "    double cost, discount;\n",
        "\n",
        "  public:\n",
        "    Product(double cos, double dis) {\n",
        "      cost=cos;\n",
        "      discount=dis;\n",
        "    }\n",
        "};\n",
        "\n",
        "class ElectronicGadget : public Product {\n",
        "  public:\n",
        "    ElectronicGadget(double cos, double dis):Product(cos,dis) {}\n",
        "\n",
        "    void calcTotalE() {\n",
        "      double totale = cost - (cost*discount);\n",
        "      cout<<\"Electronic Cost: Rs.\"<<fixed<<setprecision(2)<<totale<<endl;\n",
        "    }\n",
        "\n",
        "};\n",
        "\n",
        "class MechanicalDevice : public Product {\n",
        "  public:\n",
        "    MechanicalDevice(double cos, double dis):Product(cos,dis) {}\n",
        "\n",
        "    void calcTotalM() {\n",
        "      double totalm = cost - (cost*discount);\n",
        "      cout<<\"Mechanical Cost: Rs.\"<<fixed<<setprecision(2)<<totalm<<endl;\n",
        "    }\n",
        "\n",
        "};\n",
        "\n",
        "int main() {\n",
        "  double cosg, disg, cosm, dism;\n",
        "  cin>>cosg>>disg;\n",
        "  cin>>cosm>>dism;\n",
        "\n",
        "  ElectronicGadget eg(cosg, disg);\n",
        "  eg.calcTotalE();\n",
        "\n",
        "  MechanicalDevice md(cosm,dism);\n",
        "  md.calcTotalM();\n",
        "\n",
        "  return 0;\n",
        "\n",
        "\n",
        "}"
      ]
    },
    {
      "cell_type": "code",
      "execution_count": null,
      "metadata": {
        "colab": {
          "base_uri": "https://localhost:8080/"
        },
        "id": "wrFgwSDCgZFn",
        "outputId": "1e9fe8d0-e646-4121-c4db-5b363b317580"
      },
      "outputs": [
        {
          "name": "stdout",
          "output_type": "stream",
          "text": [
            "100.5 0.5\n",
            "200.0 0.1\n",
            "Electronic Cost: Rs.50.25\n",
            "Mechanical Cost: Rs.180.00\n"
          ]
        }
      ],
      "source": [
        "!g++ program.c -o program\n",
        "! ./program"
      ]
    },
    {
      "cell_type": "markdown",
      "metadata": {
        "id": "BR3zb0YgB6yf"
      },
      "source": [
        "MULTIPLE INHERITANCE\n"
      ]
    },
    {
      "cell_type": "markdown",
      "metadata": {
        "id": "CC4AY_jXCLqJ"
      },
      "source": [
        "Design a ticket booking system that handles both concert tickets and movie tickets. Implement the system using the concept of multiple inheritance. The system should allow the user to input the details of a concert ticket and a movie ticket, and display the booking details.\n",
        "\n",
        "Define a base class Ticket and two derived classes ConcertTicket and MovieTicket. The Ticket class stores the details of an event and its price, while the derived classes ConcertTicket and MovieTicket inherit from Ticket and provide specific implementations for their respective events.\n",
        "\n",
        "Define a class Booking, which inherits from both ConcertTicket and MovieTicket. The Booking class represents a booking that includes both a concert ticket and a movie ticket. It stores the details of both events and provides a function displayBooking Details to display the booking details.\n",
        "\n",
        "nput format:\n",
        "\n",
        "The first line of input consists of a string that represents the name of the concert event.\n",
        "\n",
        "The second line of input consists of an integer that represents the price of the concert ticket.\n",
        "\n",
        "The third line of input consists of a string that represents the name of the movie.\n",
        "\n",
        "The fourth line of input consists of an integer that represents the price of the movie ticket.\n",
        "\n",
        "Output format:\n",
        "\n",
        "The output should display the booking details as follows:\n",
        "\n",
        "The concert details, including the event name and ticket price.\n",
        "\n",
        "The movie details include the event name and ticket price.\n"
      ]
    },
    {
      "cell_type": "code",
      "execution_count": null,
      "metadata": {
        "colab": {
          "base_uri": "https://localhost:8080/"
        },
        "id": "k6_uJ9GmB7GZ",
        "outputId": "b049f2b0-be71-4937-d80b-d0810adfa98e"
      },
      "outputs": [
        {
          "name": "stdout",
          "output_type": "stream",
          "text": [
            "Overwriting program.c\n"
          ]
        }
      ],
      "source": [
        "%%writefile program.c\n",
        "#include<iostream>\n",
        "using namespace std;\n",
        "\n",
        "class Ticket {\n",
        "  protected:\n",
        "    int price;\n",
        "    string name;\n",
        "\n",
        "  public:\n",
        "    Ticket(string nam, int pri) {\n",
        "      price = pri;\n",
        "      name = nam;\n",
        "    }\n",
        "\n",
        "    void displayBookingdetails() {\n",
        "      cout<<\"Event name:\"<<name<<endl;\n",
        "      cout<<\"Event price:$\"<<price<<endl;\n",
        "    }\n",
        "};\n",
        "\n",
        "class ConcertTicket :virtual public Ticket {\n",
        "  public:\n",
        "    ConcertTicket(string nam, int pri) : Ticket(nam, pri) {}\n",
        "\n",
        "    void displayBookingdetails() {\n",
        "      cout<<\"Concert details: \"<<endl;\n",
        "      Ticket::displayBookingdetails();\n",
        "    }\n",
        "\n",
        "};\n",
        "\n",
        "\n",
        "class MovieTicket :virtual public Ticket {\n",
        "  public:\n",
        "    MovieTicket(string nam, int pri) : Ticket(nam,pri) {}\n",
        "\n",
        "    void displayBookingdetails() {\n",
        "      cout<<\"Movie details: \"<<endl;\n",
        "      Ticket::displayBookingdetails();\n",
        "  }\n",
        "};\n",
        "\n",
        "class Booking :virtual public ConcertTicket,virtual public MovieTicket {\n",
        "\n",
        "  public:\n",
        "      Booking(string cn, int cp, string mn, int mp) :ConcertTicket(cn,cp), MovieTicket(mn,mp)  {}\n",
        "\n",
        "      void displayBookingdetails() {\n",
        "        cout<<\"Booking details: \"<<endl;\n",
        "        ConcertTicket::displayBookingdetails();\n",
        "        MovieTicket::displayBookingdetails();\n",
        "    }\n",
        "\n",
        "};\n",
        "\n",
        "int main() {\n",
        "  string Concertname, Moviename;\n",
        "  int Concertprice, Movieprice;\n",
        "  cin>>Concertname;\n",
        "  cin>>Concertprice;\n",
        "  cin>>Moviename;\n",
        "  cin>>Movieprice;\n",
        "\n",
        "\n",
        "  Booking book(Concertname, Concertprice, Moviename, Movieprice);\n",
        "  book.displayBookingdetails();\n",
        "\n",
        "  return 0;\n",
        "\n",
        "}"
      ]
    },
    {
      "cell_type": "code",
      "execution_count": null,
      "metadata": {
        "id": "T4KjBWlm6YNJ"
      },
      "outputs": [],
      "source": [
        "// You are using GCC\n",
        "#include<iostream>\n",
        "using namespace std;\n",
        "\n",
        "class Ticket {\n",
        "    protected:\n",
        "        int price;\n",
        "        string name;\n",
        "\n",
        "    public:\n",
        "        Ticket(string nam, int pri) {\n",
        "            price = pri;\n",
        "            name = nam;\n",
        "        }\n",
        "\n",
        "        void display() {\n",
        "            cout<<\"Event: \"<<name<<endl;\n",
        "            cout<<\"Price: $\"<<price<<endl;\n",
        "            cout<<endl;\n",
        "        }\n",
        "};\n",
        "\n",
        "class ConcertTicket : public Ticket {\n",
        "    public:\n",
        "        ConcertTicket(string nam, int pri):Ticket(nam,pri) {}\n",
        "\n",
        "        void display() {\n",
        "            cout<<\"Concert Details:\"<<endl;\n",
        "            Ticket::display();\n",
        "        }\n",
        "};\n",
        "\n",
        "class MovieTicket : public Ticket {\n",
        "    public:\n",
        "        MovieTicket(string nam, int pri):Ticket(nam,pri) {}\n",
        "\n",
        "        void display() {\n",
        "            cout<<\"Movie Details: \"<<endl;\n",
        "            Ticket::display();\n",
        "        }\n",
        "};\n",
        "\n",
        "class Booking: public ConcertTicket, public MovieTicket {\n",
        "    public:\n",
        "        Booking(string cn, int cp, string mn, int mp):ConcertTicket(cn,cp),MovieTicket(mn,mp) {}\n",
        "\n",
        "        void display(){\n",
        "            ConcertTicket::display();\n",
        "            MovieTicket::display();\n",
        "        }\n",
        "};\n",
        "\n",
        "int main() {\n",
        "    string Concertname, Moviename;\n",
        "    int Concertprice, Movieprice;\n",
        "\n",
        "    getline(cin, Concertname);\n",
        "    cin>>Concertprice;\n",
        "    cin.ignore();\n",
        "\n",
        "    getline(cin, Moviename);\n",
        "    cin>>Movieprice;\n",
        "\n",
        "    Booking book(Concertname,Concertprice,Moviename,Movieprice);\n",
        "    book.display();\n",
        "\n",
        "    return 0;\n",
        "\n",
        "}"
      ]
    },
    {
      "cell_type": "code",
      "execution_count": null,
      "metadata": {
        "colab": {
          "base_uri": "https://localhost:8080/"
        },
        "id": "8MbAAIMkgwRB",
        "outputId": "30c8365a-b66c-4e6a-abd0-af7de0424e5c"
      },
      "outputs": [
        {
          "name": "stdout",
          "output_type": "stream",
          "text": [
            "abc\n",
            "100\n",
            "def\n",
            "200\n",
            "Booking details: \n",
            "default 123\n",
            "Concert details: \n",
            "Event name:default\n",
            "Event price:$123\n",
            "Movie details: \n",
            "Event name:default\n",
            "Event price:$123\n"
          ]
        }
      ],
      "source": [
        "!g++ program.c -o program\n",
        "! ./program"
      ]
    },
    {
      "cell_type": "markdown",
      "metadata": {
        "id": "DqaBX9bZCXWW"
      },
      "source": [
        "\n",
        "Harry, a recent graduate, is excited about buying his first car and considering a loan. To calculate the total interest paid, he wants to design a class structure using multiple inheritance.\n",
        "\n",
        "Create a class named Loan inheriting from the classes: Principal and InterestRate. This program calculates the total interest paid over the loan period, aiding Harry in understanding the financial implications.\n",
        "\n",
        "1. Principal class - stores the price as a protected attribute\n",
        "\n",
        "2. InterestRate class - stores interest rate as a protected attribute\n",
        "\n",
        "3. Loan class calculates total interest\n",
        "\n",
        "Note: Total Interest = price * interest rate * years.\n",
        "\n",
        "Input format:\n",
        "\n",
        "The first line of input consists of a double value, representing the car price.\n",
        "\n",
        "The second line consists of a double value, representing the interest rate.\n",
        "\n",
        "The third line consists of an integer, representing the loan duration in years.\n",
        "\n",
        "Output format:\n",
        "\n",
        "The output prints \"Total interest paid: Rs.X\" where X is the total interest paid over the years, rounded off to two decimal places.\n"
      ]
    },
    {
      "cell_type": "code",
      "execution_count": null,
      "metadata": {
        "colab": {
          "base_uri": "https://localhost:8080/"
        },
        "id": "f6ZJQAZACXr-",
        "outputId": "6c508b69-bb00-4f03-c094-0248698ea689"
      },
      "outputs": [
        {
          "name": "stdout",
          "output_type": "stream",
          "text": [
            "Overwriting program.c\n"
          ]
        }
      ],
      "source": [
        "%%writefile program.c\n",
        "#include<iostream>\n",
        "#include<iomanip>\n",
        "using namespace std;\n",
        "\n",
        "class Principal {\n",
        "  protected:\n",
        "    double price;\n",
        "\n",
        "  public:\n",
        "    Principal(double pri) {\n",
        "      price = pri;\n",
        "    }\n",
        "\n",
        "};\n",
        "\n",
        "class InterestRate {\n",
        "  protected:\n",
        "    double interestrate;\n",
        "\n",
        "  public:\n",
        "    InterestRate(double rate) {\n",
        "      interestrate = rate;\n",
        "    }\n",
        "\n",
        "};\n",
        "\n",
        "class Loan : public Principal, public InterestRate {\n",
        "  public:\n",
        "  Loan(double pri, double rate):Principal(pri),InterestRate(rate) {  }\n",
        "\n",
        "  double calcTotalInterest(int years) {\n",
        "    return price*interestrate*years;\n",
        "  }\n",
        "\n",
        "};\n",
        "\n",
        "int main() {\n",
        "  double pri, rate;\n",
        "  int years;\n",
        "  cin>>pri;\n",
        "  cin>>rate;\n",
        "  cin>>years;\n",
        "\n",
        "  Loan loan(pri,rate);\n",
        "  cout<<\"Total interest paid:Rs \"<<fixed<<setprecision(2)<<loan.calcTotalInterest(years)<<endl;\n",
        "\n",
        "  return 0;\n",
        "\n",
        "\n",
        "}\n",
        "\n"
      ]
    },
    {
      "cell_type": "code",
      "execution_count": null,
      "metadata": {
        "colab": {
          "base_uri": "https://localhost:8080/"
        },
        "id": "4iFxOoT9CX2J",
        "outputId": "10853bf7-3f8e-47ee-fc8d-0bae7c0ffba6"
      },
      "outputs": [
        {
          "name": "stdout",
          "output_type": "stream",
          "text": [
            "1234\n",
            "100\n",
            "5\n",
            "Total interest paid:Rs 617000.00\n"
          ]
        }
      ],
      "source": [
        "!g++ program.c -o program\n",
        "! ./program"
      ]
    },
    {
      "cell_type": "markdown",
      "metadata": {
        "id": "2xf_gRHmhXK4"
      },
      "source": [
        "Problem Statement\n",
        "\n",
        "Patrick, a student at ABC College, needs a program to track his academic performance.\n",
        "\n",
        "Design a program with multiple inheritance featuring a Student class inheriting attributes from the classes: GPA, CreditHours.\n",
        "\n",
        "1. class GPA - stores GPA value (double)\n",
        "\n",
        "2. class CreditHours - stores credit hours value (int)\n",
        "\n",
        "Calculate Patrick's total grade points by multiplying GPA by credit hours. If his attendance is above 80%, add 5 to his grade points.\n",
        "\n",
        "Input format:\n",
        "\n",
        "The first line of input consists of a double value, representing Patrick's GPA.\n",
        "\n",
        "The second line consists of an integer, representing Patrick's credit hours.\n",
        "\n",
        "The third line consists of a double value, representing Patrick's attendance percentage.\n",
        "\n",
        "Output format:\n",
        "\n",
        "The output prints a double value representing Patrick's total grade points, rounded off to one decimal place."
      ]
    },
    {
      "cell_type": "code",
      "execution_count": null,
      "metadata": {
        "colab": {
          "base_uri": "https://localhost:8080/"
        },
        "id": "fs28JWUXgp8T",
        "outputId": "daafb7c8-8e8f-455d-d433-4135cef1fd72"
      },
      "outputs": [
        {
          "name": "stdout",
          "output_type": "stream",
          "text": [
            "Overwriting program.c\n"
          ]
        }
      ],
      "source": [
        "%%writefile program.c\n",
        "#include<iostream>\n",
        "#include<iomanip>\n",
        "using namespace std;\n",
        "\n",
        "class GPA {\n",
        "  protected:\n",
        "    double gpa;\n",
        "\n",
        "  public:\n",
        "    GPA(double gp) {\n",
        "      gpa=gp;\n",
        "    }\n",
        "\n",
        "};\n",
        "\n",
        "class CreditHours {\n",
        "  protected:\n",
        "    int hours;\n",
        "\n",
        "  public:\n",
        "    CreditHours(int hrs) {\n",
        "      hours =hrs;\n",
        "    }\n",
        "\n",
        "};\n",
        "\n",
        "class Student : public GPA, public CreditHours {\n",
        "  public:\n",
        "    Student(double gp, int hrs):GPA(gp),CreditHours(hrs) {}\n",
        "\n",
        "    double calcPoints(double percen) {\n",
        "      double point = gpa*hours;\n",
        "      if(percen>80) {\n",
        "        return point+5;\n",
        "      }\n",
        "      else {\n",
        "        return point;\n",
        "      }\n",
        "    }\n",
        "\n",
        "};\n",
        "\n",
        "int main() {\n",
        "  double gp,percen;\n",
        "  int hrs;\n",
        "\n",
        "  cin>>gp;\n",
        "  cin>>hrs;\n",
        "  cin>>percen;\n",
        "\n",
        "  Student s(gp,hrs);\n",
        "  cout<<\"Total points: \"<<fixed<<setprecision(1)<<s.calcPoints(percen)<<endl;\n",
        "\n",
        "  return 0;\n",
        "}"
      ]
    },
    {
      "cell_type": "code",
      "execution_count": null,
      "metadata": {
        "colab": {
          "base_uri": "https://localhost:8080/"
        },
        "id": "CCHJpfF8gqF-",
        "outputId": "9d4e4a94-dba1-4ec7-86b2-1e2ca068692e"
      },
      "outputs": [
        {
          "name": "stdout",
          "output_type": "stream",
          "text": [
            "3.7\n",
            "45\n",
            "81.7\n",
            "Total points: 171.50\n"
          ]
        }
      ],
      "source": [
        "!g++ program.c -o program\n",
        "! ./program"
      ]
    },
    {
      "cell_type": "markdown",
      "metadata": {
        "id": "ENK-ctycDhvn"
      },
      "source": [
        "MULTILEVEL INHERITANCE"
      ]
    },
    {
      "cell_type": "markdown",
      "metadata": {
        "id": "wnTzL888DiAE"
      },
      "source": [
        "\n",
        "Mohit wants a financial calculator program for Fixed Deposits and Simple Interest. He needs a program that uses multi-level inheritance. The program should have three classes:\n",
        "\n",
        "1. class Investment - Holds the principal, interest rate, and time period as attributes.\n",
        "\n",
        "2. class Fixed Deposit - Derived from the Investment class, calculates the maturity amount using a method called calculate MaturityAmount().\n",
        "\n",
        "3. class SimpleInterest - Derived from Fixed Deposit class, prints the maturity amount using a method called printFD(). It then computes the simple interest and prints it using a method called calculateSimpleInterest().\n",
        "\n",
        "Formulas used:\n",
        "\n",
        "4. Maturity Amount = P * (1 + (R/100)) ^T where the power value is calculated using pow() function from the math library.\n",
        "\n",
        "5. Simple Interest = P * N * R/100\n",
        "\n",
        "where P - principal, R - interest rate, and N - time period in years.\n",
        "\n",
        "Input format:\n",
        "\n",
        "The first line consists of three double-point numbers separated by a space representing the principal amount, interest rate, and time period in years to calculate Fixed Deposit and Simple Interest.\n",
        "\n",
        "Output format:\n",
        "\n",
        "The first line displays \"Maturity Amount: \"followed by a double value which is the calculated Maturity amount rounded to two decimal places.\n",
        "\n",
        "The second line displays \"Simple Interest: \"followed by a double value which is the calculated Simple interest rounded to two decimal places"
      ]
    },
    {
      "cell_type": "code",
      "execution_count": null,
      "metadata": {
        "colab": {
          "base_uri": "https://localhost:8080/"
        },
        "id": "YJDa0cpHDuQI",
        "outputId": "e1b7b57d-db5f-4381-d405-6dda3944df72"
      },
      "outputs": [
        {
          "name": "stdout",
          "output_type": "stream",
          "text": [
            "Overwriting program.c\n"
          ]
        }
      ],
      "source": [
        "%%writefile program.c\n",
        "#include <iostream>\n",
        "#include <cmath>\n",
        "#include <iomanip>\n",
        "using namespace std;\n",
        "\n",
        "\n",
        "class Investment {\n",
        "  protected:\n",
        "    double principal;\n",
        "    double interestRate;\n",
        "    double timePeriod;\n",
        "\n",
        "  public:\n",
        "    Investment(double pri,double rate,double time) {\n",
        "      principal=pri;\n",
        "      interestRate=rate;\n",
        "      timePeriod=time;\n",
        "    }\n",
        "\n",
        "};\n",
        "\n",
        "class FixedDeposit : public Investment {\n",
        "  public:\n",
        "    FixedDeposit(double pri,double rate,double time):Investment(pri,rate,time) {}\n",
        "\n",
        "    double calcMaturityAmount() {\n",
        "      return principal*pow((1+(interestRate/100)),timePeriod);\n",
        "    }\n",
        "};\n",
        "\n",
        "class SimpleInterest : public FixedDeposit{\n",
        "  public:\n",
        "    SimpleInterest(double pri,double rate,double time):FixedDeposit(pri,rate,time) {}\n",
        "\n",
        "    void printFD() {\n",
        "      cout<<\"Maturity Amount: \"<<fixed<<setprecision(2)<<calcMaturityAmount()<<endl;\n",
        "    }\n",
        "\n",
        "    void calculateSimpleInterest() {\n",
        "      double SI = principal*timePeriod*(interestRate/100);\n",
        "      cout<<\"Simple Interest: \"<<fixed<<setprecision(2)<<SI<<endl;\n",
        "    }\n",
        "\n",
        "};\n",
        "\n",
        "int main() {\n",
        "  double pri, rate, time;\n",
        "  cin>>pri>>rate>>time;\n",
        "\n",
        "  SimpleInterest si(pri,rate,time);\n",
        "  si.printFD();\n",
        "  si.calculateSimpleInterest();\n",
        "\n",
        "  return 0;\n",
        "}"
      ]
    },
    {
      "cell_type": "code",
      "execution_count": null,
      "metadata": {
        "colab": {
          "base_uri": "https://localhost:8080/"
        },
        "id": "YmdhcyVpDuTm",
        "outputId": "62393727-c269-499e-80c7-1675682d1091"
      },
      "outputs": [
        {
          "name": "stdout",
          "output_type": "stream",
          "text": [
            "1000.0 5.0 2\n",
            "Maturity Amount: 1102.50\n",
            "Simple Interest: 100.00\n"
          ]
        }
      ],
      "source": [
        "!g++ program.c -o program\n",
        "! ./program"
      ]
    },
    {
      "cell_type": "markdown",
      "metadata": {
        "id": "4k89oUmWDz90"
      },
      "source": [
        "Amar needs a program to calculate order costs with discount options for James. Help Amar to write a program that uses multi-level inheritance.\n",
        "\n",
        "1. class Order - Holds item price, quantity, and discount as attributes.\n",
        "\n",
        "2. class FinalOrder - Derived from Order class which calculates the total cost for James with a given item price, quantity, and discount percentage.\n",
        "\n",
        "3. class DiscountedOrder - Derived from FinalOrder class which calculates the final cost for James, considering an additional discount on top of the regular discount.\n",
        "\n",
        "Formulas used:\n",
        "\n",
        "4. Total Cost = (Item Price x Quantity) - (Item Price x Quantity × Discount / 100.0)\n",
        "\n",
        "5. Final Cost = (Total Cost) - (Total Cost x Additional Discount / 100.0)\n",
        "\n",
        "Input format:\n",
        "\n",
        "The input consists of four space-separated values: a double value representing the price of the item, an integer representing the quantity of the item, a double value representing the discount to be applied, and a double value representing the additional discount to be applied.\n",
        "\n",
        "Output format:\n",
        "\n",
        "The first line displays \"Total Cost: \" followed by a double value representing the total cost for James's order rounded to two decimal places. The second line displays \"Final Cost: \"followed by a double value representing the final cost for James's order, rounded to two decimal places."
      ]
    },
    {
      "cell_type": "code",
      "execution_count": null,
      "metadata": {
        "colab": {
          "base_uri": "https://localhost:8080/"
        },
        "id": "vCf-rSAgD0Rc",
        "outputId": "4fcbca08-8d5c-4fa3-a47d-416575d93c56"
      },
      "outputs": [
        {
          "name": "stdout",
          "output_type": "stream",
          "text": [
            "Overwriting program.c\n"
          ]
        }
      ],
      "source": [
        "%%writefile program.c\n",
        "#include <iostream>\n",
        "using namespace std;\n",
        "\n",
        "class Order {\n",
        "  protected:\n",
        "    double price;\n",
        "    int quantity;\n",
        "    double discount;\n",
        "\n",
        "  public:\n",
        "    Order(double pri, int quan, double dis) {\n",
        "      price = pri;\n",
        "      quantity = quan;\n",
        "      discount = dis;\n",
        "    }\n",
        "\n",
        "};\n",
        "\n",
        "class FinalOrder : public Order {\n",
        "  public:\n",
        "    FinalOrder(double pri, int quan, double dis):Order(pri,quan,dis) {}\n",
        "\n",
        "    double calcTotalCost() {\n",
        "      return (price*quantity)-(price*quantity*discount/100.0);\n",
        "    }\n",
        "\n",
        "};\n",
        "\n",
        "class DiscountedOrder : public FinalOrder {\n",
        "  double adddis;\n",
        "  public:\n",
        "    DiscountedOrder(double pri, int quan, double dis, double ad):FinalOrder(pri,quan,dis) {\n",
        "      adddis=ad;\n",
        "    }\n",
        "\n",
        "    double calcFinalCost() {\n",
        "      return (calcTotalCost())-(calcTotalCost())*adddis/100.0;\n",
        "    }\n",
        "\n",
        "};\n",
        "\n",
        "int main() {\n",
        "  double pri;\n",
        "  int quan;\n",
        "  double dis;\n",
        "  double ad;\n",
        "\n",
        "  cin>>pri>>quan>>dis>>ad;\n",
        "\n",
        "  DiscountedOrder dor(pri,quan,dis,ad);\n",
        "  cout<<\"Total Cost: \"<<dor.calcTotalCost()<<endl;\n",
        "\n",
        "  cout<<\"Final Cost: \"<<dor.calcFinalCost()<<endl;\n",
        "\n",
        "  return 0;\n",
        "}"
      ]
    },
    {
      "cell_type": "code",
      "execution_count": null,
      "metadata": {
        "colab": {
          "base_uri": "https://localhost:8080/"
        },
        "id": "2DgEX4WqD0U1",
        "outputId": "a4fe30b4-d40a-49ca-cc9a-1cb08b39b377"
      },
      "outputs": [
        {
          "name": "stdout",
          "output_type": "stream",
          "text": [
            "75.00 5 15.5 5.5\n",
            "Total Cost: 316.875\n",
            "Final Cost: 299.447\n"
          ]
        }
      ],
      "source": [
        "!g++ program.c -o program\n",
        "! ./program"
      ]
    },
    {
      "cell_type": "markdown",
      "metadata": {
        "id": "Osd4Zp2bhov2"
      },
      "source": [
        "Single File Programming Question\n",
        "\n",
        "Problem Statement\n",
        "\n",
        "Design a social media system that allows users to create posts, manage followers, and display user profiles. Implement the system using multilevel inheritance with three classes: User, Blogger, and Influencer.\n",
        "\n",
        "Define the classes User, Blogger, and Influencer to represent these user types and their functionalities.\n",
        "\n",
        "The User class is the base class and represents a generic user. It stores the user's username (username) and name (name). The class I provides a function displayProfile to display the user's profile information.\n",
        "\n",
        "The Blogger class is derived from the User class and represents a blogger user. It inherits the username and name members from the User class. Additionally, it has an array of strings called posts to store the blogger's posts. The class provides functions createPost to add a new post to the posts array and displayProfile to display the blogger's profile information along with their posts.\n",
        "\n",
        "The Influencer class is derived from the Blogger class and represents an influencer user. It inherits the username, name, and posts members from the Blogger class. It also has an additional member followerCount to store the number of followers the influencer has. The class provides a function manageFollowers to update the follower count and overrides the displayProfile function to display the influencer's profile information along with their follower count.\n",
        "\n",
        "Input format:\n",
        "\n",
        "The first line contains the username (a string) of the influencer.\n",
        "\n",
        "The second line contains the name (a string) of the influencer.\n",
        "\n",
        "The third line contains an integer numPosts, representing the number of posts created by the influencer.\n",
        "\n",
        "The next numPosts lines contain the post content (strings) created by the influencer.\n",
        "\n",
        "The last line contains an integer followerCount, representing the number of followers of the influencer.\n",
        "\n",
        "Output format:\n",
        "\n",
        "The output consists of the influencer's profile details.\n",
        "\n",
        "The first line displays \"User Profile:\".\n",
        "\n",
        "The subsequent lines display the influencer's username, name, posts (each post on a new line), and followerCount."
      ]
    },
    {
      "cell_type": "code",
      "execution_count": null,
      "metadata": {
        "colab": {
          "base_uri": "https://localhost:8080/"
        },
        "id": "-P3ELDcvhpDv",
        "outputId": "d5094d16-0010-40b5-ebf8-c0662f165f9c"
      },
      "outputs": [
        {
          "name": "stdout",
          "output_type": "stream",
          "text": [
            "Overwriting program.c\n"
          ]
        }
      ],
      "source": [
        "%%writefile program.c\n",
        "#include <iostream>\n",
        "#include <string.h>\n",
        "using namespace std;\n",
        "\n",
        "class User {\n",
        "  protected:\n",
        "    string name, username;\n",
        "\n",
        "  public:\n",
        "    User(string n,string un) {\n",
        "      name = n;\n",
        "      username = un;\n",
        "    }\n",
        "\n",
        "    void displayProfile() {\n",
        "      cout<<\"User Profile: \"<<endl;\n",
        "      cout<<name<<endl;\n",
        "      cout<<username<<endl;\n",
        "    }\n",
        "\n",
        "};\n",
        "\n",
        "\n",
        "class Blogger : public User{\n",
        "  protected:\n",
        "    string post[100];\n",
        "    int np;\n",
        "\n",
        "  public:\n",
        "    Blogger(const string& n, const string& un, string pos[], int noofpost):User(n,un) {\n",
        "      np=noofpost;\n",
        "      for(int i=0; i<np; i++) {\n",
        "        post[i]=pos[i];\n",
        "      }\n",
        "    }\n",
        "\n",
        "    void displayProfile() {\n",
        "      User::displayProfile();\n",
        "      cout<<\"Post: \"<<endl;\n",
        "       for(int i=0; i<np; i++) {\n",
        "         cout<<post[i]<<endl;\n",
        "      }\n",
        "    }\n",
        "\n",
        "\n",
        "};\n",
        "\n",
        "class Influencer : public Blogger {\n",
        "  protected:\n",
        "    int followercount;\n",
        "\n",
        "  public:\n",
        "    Influencer(const string &u,const string &un, string pos[100],int np,int fc): Blogger(u,un,pos,np) {\n",
        "      followercount = fc;\n",
        "    }\n",
        "\n",
        "    void displayProfile() {\n",
        "       Blogger::displayProfile();\n",
        "       cout<<\"Follower count: \"<<endl;\n",
        "       cout<<followercount<<endl;\n",
        "    }\n",
        "\n",
        "};\n",
        "\n",
        "int main() {\n",
        "  string n, un, con;\n",
        "  int np, fc;\n",
        "  cin>>n;\n",
        "  cin>>un;\n",
        "  cin>>np;\n",
        "  string post[np];\n",
        "  cin.ignore();\n",
        "\n",
        "  for(int i=0;i<np;i++) {\n",
        "    getline(cin,post[i]);\n",
        "  }\n",
        "\n",
        "  cout<<\"followercount\"<<endl;\n",
        "  cin>>fc;\n",
        "\n",
        "\n",
        "\n",
        "  Influencer i(n,un,post,np,fc);\n",
        "\n",
        "  i.displayProfile();\n",
        "\n",
        "  return 0;\n",
        "\n",
        "}"
      ]
    },
    {
      "cell_type": "code",
      "execution_count": null,
      "metadata": {
        "colab": {
          "base_uri": "https://localhost:8080/"
        },
        "id": "wwo5Hpl5gxwZ",
        "outputId": "ecddef65-e605-4cdf-d662-4227cb4da81f"
      },
      "outputs": [
        {
          "name": "stdout",
          "output_type": "stream",
          "text": [
            "magi\n",
            "magi17\n",
            "3\n",
            "hi\n",
            "hey\n",
            "hello\n",
            "followercount\n",
            "500\n",
            "User Profile: \n",
            "magi\n",
            "magi17\n",
            "Post: \n",
            "hi\n",
            "hey\n",
            "hello\n",
            "Follower count: \n",
            "500\n"
          ]
        }
      ],
      "source": [
        "!g++ program.c -o program\n",
        "! ./program"
      ]
    },
    {
      "cell_type": "code",
      "execution_count": null,
      "metadata": {
        "id": "9iqWcHvfpocq"
      },
      "outputs": [],
      "source": [
        "%%writefile program.c\n",
        "\n",
        "#include<iostream>\n",
        "using namespace std;\n",
        "\n",
        "class User {\n",
        "    protected:\n",
        "        string name, username;\n",
        "\n",
        "    public:\n",
        "        User(string userUsername, string userName) {\n",
        "            name = userUsername;\n",
        "            username = userName;\n",
        "        }\n",
        "\n",
        "        void displayProfile() {\n",
        "            cout<<\"User Profile: \"<<endl;\n",
        "            cout<<\"Username: \"<<username<<endl;\n",
        "            cout<<\"Name: \"<<name<<endl;\n",
        "        }\n",
        "};\n",
        "class Blogger : public User{\n",
        "    protected:\n",
        "        string post[100];\n",
        "        int np;\n",
        "\n",
        "    public:\n",
        "        Blogger(const string& userUsername, const string& userName):User(userUsername,userName){\n",
        "        }\n",
        "\n",
        "        void setPosts(int noofpost, string pos[]) {\n",
        "            np = noofpost;\n",
        "            for(int i=0;i<np;i++) {\n",
        "                post[i]=pos[i];\n",
        "            }\n",
        "        }\n",
        "\n",
        "        void displayProfile() {\n",
        "            User::displayProfile();\n",
        "            cout<<\"Posts: \"<<endl;\n",
        "for(int i=0;i<np;i++){\n",
        "                cout<<post[i]<<endl;\n",
        "            }\n",
        "        }\n",
        "};\n",
        "class Influencer : public Blogger {\n",
        "    protected:\n",
        "        int followercount;\n",
        "\n",
        "    public:\n",
        "        Influencer(const string& userUsername,const string& userName, string pos[100], int np, int fc):Blogger(userUsername,userName) {\n",
        "            followercount=fc;\n",
        "            setPosts(np, pos);\n",
        "        }\n",
        "\n",
        "        void displayProfile() {\n",
        "            Blogger::displayProfile();\n",
        "            cout<<\"Follower Count: \"<<endl;\n",
        "            cout<<followercount<<endl;\n",
        "        }\n",
        "};\n",
        "int main() {\n",
        "    string n,un;\n",
        "    int np,fc;\n",
        "    cin>>n;\n",
        "    cin>>un;\n",
        "    cin>>np;\n",
        "    string post[np];\n",
        "    cin.ignore();\n",
        "\n",
        "    for(int i=0;i<np;i++) {\n",
        "        getline(cin,post[i]);\n",
        "    }\n",
        "\n",
        "    cin>>fc;\n",
        "\n",
        "    Influencer i(n,un,post,np,fc);\n",
        "    i.displayProfile();\n",
        "    return 0;\n",
        "\n",
        "}"
      ]
    },
    {
      "cell_type": "markdown",
      "metadata": {
        "id": "a5-BhY-IEDXz"
      },
      "source": [
        "SINGLE INHERITANCE"
      ]
    },
    {
      "cell_type": "markdown",
      "metadata": {
        "id": "0tVe-tpkEDbL"
      },
      "source": [
        "Problem Statement\n",
        "\n",
        "Rahul is a skilled sculptor who creates unique cylindrical art pieces. He needs a program to calculate the volume of these sculptures based on their radius and height. Your task is to design and implement this program using object-oriented principles.\n",
        "\n",
        "Create a base class named Circle with the protected attribute radius representing the radius of a circle. The class should provide a constructor to initialize the radius and a method to retrieve the radius value.\n",
        "\n",
        " Inherit from the Circle class to create a derived class named Cylinder. The Cylinder class should introduce a private attribute height representing the height of the cylindrical sculpture.\n",
        "\n",
        "Implement a volume() method inside the Cylinder class to calculate the volume of the cylinder.\n",
        "\n",
        "Formula: Volume = 3.14 radius² * height.\n",
        "\n",
        "Input format:\n",
        "\n",
        "The input consists of two space-separated double-point values, which represent the radius and height of the cylinder.\n",
        "\n",
        "Output format:\n",
        "\n",
        "The output prints the volume of the cylinder, rounded off to two decimal places."
      ]
    },
    {
      "cell_type": "code",
      "execution_count": null,
      "metadata": {
        "colab": {
          "base_uri": "https://localhost:8080/"
        },
        "id": "g2fQxXe7EDvB",
        "outputId": "e5bd27bb-da3d-4252-85be-256d3165394d"
      },
      "outputs": [
        {
          "name": "stdout",
          "output_type": "stream",
          "text": [
            "Overwriting program.c\n"
          ]
        }
      ],
      "source": [
        "%%writefile program.c\n",
        "#include <iostream>\n",
        "#include <iomanip>\n",
        "using namespace std;\n",
        "\n",
        "class Circle {\n",
        "  protected:\n",
        "    double radius;\n",
        "\n",
        "  public:\n",
        "    Circle(double r){\n",
        "      radius=r;\n",
        "    }\n",
        "\n",
        "};\n",
        "\n",
        "class Cylinder : public Circle {\n",
        "  double height;\n",
        "  public:\n",
        "    Cylinder(double r, double h):Circle(r) {\n",
        "      height = h;\n",
        "    }\n",
        "\n",
        "    double volume() {\n",
        "      return 3.14*radius*radius*height;\n",
        "    }\n",
        "};\n",
        "\n",
        "int main() {\n",
        "  double r,h;\n",
        "  cin>>r>>h;\n",
        "\n",
        "  Cylinder obj(r,h);\n",
        "  cout<<\"Volume: \"<<fixed<<setprecision(2)<<obj.volume()<<endl;\n",
        "\n",
        "  return 0;\n",
        "}"
      ]
    },
    {
      "cell_type": "code",
      "execution_count": null,
      "metadata": {
        "colab": {
          "base_uri": "https://localhost:8080/"
        },
        "id": "g_O53QCFEDyV",
        "outputId": "274d2faf-558f-442e-bf41-dc43ba540e29"
      },
      "outputs": [
        {
          "name": "stdout",
          "output_type": "stream",
          "text": [
            "3.4 6.2\n",
            "Volume: 225.05\n"
          ]
        }
      ],
      "source": [
        "!g++ program.c -o program\n",
        "! ./program\n",
        "\n"
      ]
    },
    {
      "cell_type": "markdown",
      "metadata": {
        "id": "1UGJAcpyEbzg"
      },
      "source": [
        "Problem Statement\n",
        "\n",
        "Arvind is designing a program to calculate electrical power and efficiency, and he needs your help. Create a base class P with voltage and current attributes to compute power. Implement a derived class PE with an efficiency attribute to determine useful and wasted power.\n",
        "\n",
        "Write a program to help him accomplish the task.\n",
        "\n",
        "Formulas\n",
        "\n",
        "Power = Voltage * Current\n",
        "\n",
        "Useful Power = Power Efficiency\n",
        "\n",
        "Wasted Power = Power * (1.0 - Efficiency)\n",
        "\n",
        "Input format:\n",
        "\n",
        "The input consists of three space-separated double values, representing the voltage, current, and efficiency.\n",
        "\n",
        "Output format:\n",
        "\n",
        "The first line of output prints the calculated electrical power in watts (W).\n",
        "\n",
        "The second line prints the useful electrical power in watts (W) after considering efficiency.\n",
        "\n",
        "The third line prints the wasted electrical power in watts (W) due to inefficiency.\n",
        "\n",
        "All the values are double values that are rounded to one decimal place."
      ]
    },
    {
      "cell_type": "code",
      "execution_count": null,
      "metadata": {
        "colab": {
          "base_uri": "https://localhost:8080/"
        },
        "id": "Xha218yLEcBw",
        "outputId": "0f085c76-21b5-4888-a2da-d88732102f10"
      },
      "outputs": [
        {
          "name": "stdout",
          "output_type": "stream",
          "text": [
            "Overwriting program.c\n"
          ]
        }
      ],
      "source": [
        "%%writefile program.c\n",
        "#include <iostream>\n",
        "#include <iomanip>\n",
        "using namespace std;\n",
        "\n",
        "class P {\n",
        "  protected:\n",
        "    double current;\n",
        "    double voltage;\n",
        "\n",
        "  public:\n",
        "    P(double I, double V){\n",
        "      current = I;\n",
        "      voltage = V;\n",
        "    }\n",
        "\n",
        "    double calcPower() {\n",
        "      return current*voltage;\n",
        "    }\n",
        "};\n",
        "\n",
        "class PE : public P {\n",
        "  double efficiency;\n",
        "  public:\n",
        "  PE(double I, double V, double E): P(I,V) {\n",
        "    efficiency=E;\n",
        "  }\n",
        "\n",
        "  double usefulPower() {\n",
        "    return (calcPower())*efficiency;\n",
        "  }\n",
        "\n",
        "  double wastedPower() {\n",
        "    return (calcPower())*(1.0-efficiency);\n",
        "  }\n",
        "};\n",
        "\n",
        "int main() {\n",
        "  double I,V,E;\n",
        "  cin>>I>>V>>E;\n",
        "\n",
        "  P p1(I,V);\n",
        "  cout<<\"Power: \"<<fixed<<setprecision(1)<<p1.calcPower()<<\"W\"<<endl;\n",
        "\n",
        "  PE p2(I,V,E);\n",
        "  cout<<\"Useful Power: \"<<fixed<<setprecision(1)<<p2.usefulPower()<<\"W\"<<endl;\n",
        "\n",
        "  cout<<\"Wasted Power: \"<<fixed<<setprecision(1)<<p2.wastedPower()<<\"W\"<<endl;\n",
        "\n",
        "  return 0;\n",
        "\n",
        "}"
      ]
    },
    {
      "cell_type": "code",
      "execution_count": null,
      "metadata": {
        "colab": {
          "base_uri": "https://localhost:8080/"
        },
        "id": "S-LvvqZNEcF3",
        "outputId": "4e844a0e-25d7-4eee-fe64-04fb8bbb2a9d"
      },
      "outputs": [
        {
          "name": "stdout",
          "output_type": "stream",
          "text": [
            "120.7 5.0 0.85\n",
            "Power: 603.5W\n",
            "Useful Power: 513.0W\n",
            "Wasted Power: 90.5W\n"
          ]
        }
      ],
      "source": [
        "!g++ program.c -o program\n",
        "! ./program"
      ]
    },
    {
      "cell_type": "markdown",
      "metadata": {
        "id": "swx2oaXqh5gp"
      },
      "source": [
        "Problem Statement\n",
        "\n",
        "Rahul is assigned with implementing a program to calculate the rental cost for a car and a motorcycle based on their daily rental rates and the number of days they are rented.\n",
        "\n",
        "Create a base class Vehicle and derived classes Car and Motorcycle.\n",
        "\n",
        "The rental cost is calculated differently for each vehicle type.\n",
        "\n",
        "1. Car rental cost = daily rental rate * number of days I\n",
        "\n",
        "2. Motorcycle rental cost = daily rental rate * number of days* 0.8 (Applying the 20% discount for motorcycles)\n",
        "\n",
        "Input format:\n",
        "\n",
        "The first line of input consists of a double-value, representing the daily rental rate for a car.\n",
        "\n",
        "The second line consists of a double-value, representing the daily rental rate for a motorcycle.\n",
        "\n",
        "The third line consists of an integer, representing the number of days to rent the car.\n",
        "\n",
        "The fourth line consists of an integer, representing the number of days to rent the motorcycle.\n",
        "\n",
        "Output format:\n",
        "\n",
        "The first line of output prints \"Total rental cost for the car: X\" where X is a double-value, rounded off to two decimal places.\n",
        "\n",
        "The second line prints \"Total rental cost for the motorcycle: Y\" where Y is a double-value, rounded off to two decimal places."
      ]
    },
    {
      "cell_type": "code",
      "execution_count": null,
      "metadata": {
        "colab": {
          "base_uri": "https://localhost:8080/"
        },
        "id": "VQF2QNkJh5wV",
        "outputId": "80968daf-7a52-458f-8433-21edfeba312a"
      },
      "outputs": [
        {
          "name": "stdout",
          "output_type": "stream",
          "text": [
            "Overwriting program.c\n"
          ]
        }
      ],
      "source": [
        "%%writefile program.c\n",
        "#include <iostream>\n",
        "#include <iomanip>\n",
        "using namespace std;\n",
        "\n",
        "class Vehicle {\n",
        "  protected:\n",
        "  double rate;\n",
        "  int days;\n",
        "\n",
        "  public:\n",
        "    Vehicle(double r, int d) {\n",
        "      rate = r;\n",
        "      days = d;\n",
        "    }\n",
        "\n",
        "};\n",
        "\n",
        "class Car:public Vehicle{\n",
        "  public:\n",
        "    Car(double r, int d):Vehicle(r,d) {}\n",
        "\n",
        "    void calcCR() {\n",
        "      double cr = rate*days;\n",
        "      cout<<\"Car rent: \"<<fixed<<setprecision(2)<<cr<<endl;\n",
        "    }\n",
        "\n",
        "\n",
        "};\n",
        "\n",
        "class Motorcycle:public Vehicle {\n",
        "  public:\n",
        "    Motorcycle(double r, int d):Vehicle(r,d) {}\n",
        "\n",
        "    void calcRM() {\n",
        "      double mr = rate*days*0.8;\n",
        "      cout<<\"Motor cycle rent: \"<<fixed<<setprecision(2)<<mr<<endl;\n",
        "    }\n",
        "\n",
        "};\n",
        "\n",
        "int main() {\n",
        "  double rc, rm;\n",
        "  int dc, dm;\n",
        "  cin>>rc;\n",
        "  cin>>rm;\n",
        "  cin>>dc;\n",
        "  cin>>dm;\n",
        "\n",
        "  Car c(rc,dc);\n",
        "  c.calcCR();\n",
        "\n",
        "  Motorcycle m(rm,dm);\n",
        "  m.calcRM();\n",
        "\n",
        "  return 0;\n",
        "}"
      ]
    },
    {
      "cell_type": "code",
      "execution_count": null,
      "metadata": {
        "colab": {
          "base_uri": "https://localhost:8080/"
        },
        "id": "Wp9xjE8ph50I",
        "outputId": "ef163f9c-db1d-4393-cd9c-b4c9147479a5"
      },
      "outputs": [
        {
          "name": "stdout",
          "output_type": "stream",
          "text": [
            "10.2\n",
            "8.3\n",
            "3\n",
            "2\n",
            "Car rent: 30.60\n",
            "Motor cycle rent: 13.28\n"
          ]
        }
      ],
      "source": [
        "!g++ program.c -o program\n",
        "! ./program"
      ]
    },
    {
      "cell_type": "markdown",
      "metadata": {
        "id": "V35eDUfIEjw9"
      },
      "source": [
        "MULTIPATH INHERITANCE"
      ]
    },
    {
      "cell_type": "markdown",
      "metadata": {
        "id": "2-qeZCGrEtpy"
      },
      "source": [
        "Problem Statement\n",
        "\n",
        "Create a class Parent that has a method \"add\" which prints the addition of two integers.\n",
        "\n",
        "Create a class child that is a child class of the Parent class. It has a method \"sub\" that prints the subtraction of two integers.\n",
        "\n",
        "Create a class child2 that is a child class of the Parent class. It has a method \"mul\" that prints the multiplication of two integers. I\n",
        "\n",
        "Create a class child3 that is a child class of the Parent class. It has a method \"div\" that prints the division of two integers.\n",
        "\n",
        "Create an object of the child3 class. Then, from this object, call the four methods add, sub, mul, and div inherited from the childl class and display the results.\n",
        "\n",
        "Input format:\n",
        "\n",
        "The input consists of two space-separated integers: a and b.\n",
        "\n",
        "Output format:\n",
        "\n",
        "The first line prints the addition of the given integers.\n",
        "\n",
        "The second line prints the subtraction of the given integers.\n",
        "\n",
        "The third line prints the multiplication of the given integers.\n",
        "\n",
        "The fourth line prints the division of the given integers rounded off to two decimal places."
      ]
    },
    {
      "cell_type": "code",
      "execution_count": null,
      "metadata": {
        "colab": {
          "base_uri": "https://localhost:8080/"
        },
        "id": "gOt_WD3vUS8r",
        "outputId": "2af9a648-6e06-494e-eed2-5bde9df6f979"
      },
      "outputs": [
        {
          "name": "stdout",
          "output_type": "stream",
          "text": [
            "Overwriting program.c\n"
          ]
        }
      ],
      "source": [
        "%%writefile program.c\n",
        "#include <iostream>\n",
        "#include <iomanip> // For std::setprecision\n",
        "using namespace std;\n",
        "\n",
        "// Base class\n",
        "class Parent {\n",
        "public:\n",
        "    void add(int a, int b) {\n",
        "        cout << a + b << endl;\n",
        "    }\n",
        "};\n",
        "\n",
        "// Derived class 1\n",
        "class Child :virtual public Parent {\n",
        "public:\n",
        "    void sub(int a, int b) {\n",
        "        cout << a - b << endl;\n",
        "    }\n",
        "};\n",
        "\n",
        "// Derived class 2\n",
        "class Child2 :virtual public Parent {\n",
        "public:\n",
        "    void mul(int a, int b) {\n",
        "        cout << a * b << endl;\n",
        "    }\n",
        "};\n",
        "\n",
        "// Derived class 3\n",
        "class Child3 :public Child, public Child2 {\n",
        "public:\n",
        "    void div(int a, int b) {\n",
        "        if (b != 0) {\n",
        "            cout << fixed << setprecision(2) << static_cast<float>(a) / b << endl;\n",
        "        } else {\n",
        "            cout << \"Division by zero error\" << endl;\n",
        "        }\n",
        "    }\n",
        "};\n",
        "\n",
        "int main() {\n",
        "    int a, b;\n",
        "    cin >> a >> b;\n",
        "\n",
        "    // Creating an object of Child3\n",
        "    Child3 obj;\n",
        "\n",
        "    // Calling methods\n",
        "    obj.add(a,b);\n",
        "    obj.sub(a,b);\n",
        "    obj.mul(a,b);\n",
        "    obj.div(a,b);\n",
        "}"
      ]
    },
    {
      "cell_type": "code",
      "execution_count": null,
      "metadata": {
        "colab": {
          "base_uri": "https://localhost:8080/"
        },
        "id": "YptH5XSFEr3q",
        "outputId": "a95e1605-9706-448d-f0f1-9dd8c4e2e1a4"
      },
      "outputs": [
        {
          "name": "stdout",
          "output_type": "stream",
          "text": [
            "10 2\n",
            "12\n",
            "8\n",
            "20\n",
            "5.00\n"
          ]
        }
      ],
      "source": [
        "!g++ program.c -o program\n",
        "! ./program"
      ]
    },
    {
      "cell_type": "code",
      "execution_count": null,
      "metadata": {
        "colab": {
          "base_uri": "https://localhost:8080/"
        },
        "id": "bWCKz3Qectlh",
        "outputId": "336993d9-49fc-4231-b56e-6f5930dc895d"
      },
      "outputs": [
        {
          "name": "stdout",
          "output_type": "stream",
          "text": [
            "Overwriting program.c\n"
          ]
        }
      ],
      "source": [
        "%%writefile program.c\n",
        "#include<iostream>\n",
        "#include<iomanip>\n",
        "using namespace std;\n",
        "\n",
        "// Base class\n",
        "class Parent {\n",
        "protected:\n",
        "  int a;\n",
        "  int b;\n",
        "\n",
        "public:\n",
        "    Parent(int A, int B) {\n",
        "      a = A;\n",
        "      b = B;\n",
        "    }\n",
        "\n",
        "    void add() {\n",
        "        cout << a + b << endl;\n",
        "    }\n",
        "};\n",
        "\n",
        "// Derived class 1\n",
        "class Child :virtual public Parent {\n",
        "public:\n",
        "    Child(int A, int B):Parent(A,B) {}\n",
        "    void sub() {\n",
        "        cout << a - b << endl;\n",
        "    }\n",
        "};\n",
        "\n",
        "// Derived class 2\n",
        "class Child2 :virtual public Parent {\n",
        "public:\n",
        "    Child2(int A, int B):Parent(A,B) {}\n",
        "    void mul() {\n",
        "        cout << a * b << endl;\n",
        "    }\n",
        "};\n",
        "\n",
        "// Derived class 3\n",
        "class Child3 :public Child, public Child2 {\n",
        "public:\n",
        "    Child3(int A, int B):Parent(A,B),Child(A,B),Child2(A,B) {}\n",
        "    void div() {\n",
        "        if (b != 0) {\n",
        "            cout << fixed << setprecision(2) << static_cast<float>(a) / b << endl;\n",
        "        } else {\n",
        "            cout << \"Division by zero error\" << endl;\n",
        "        }\n",
        "    }\n",
        "};\n",
        "\n",
        "int main() {\n",
        "    int A, B;\n",
        "    cin >> A >> B;\n",
        "\n",
        "    // Creating an object of Child3\n",
        "    Child3 obj(A,B);\n",
        "\n",
        "    // Calling methods\n",
        "    obj.add();\n",
        "    obj.sub();\n",
        "    obj.mul();\n",
        "    obj.div();\n",
        "}\n",
        "\n"
      ]
    },
    {
      "cell_type": "code",
      "execution_count": null,
      "metadata": {
        "colab": {
          "base_uri": "https://localhost:8080/"
        },
        "id": "pMV6pfZmeVXR",
        "outputId": "bc1638f1-bf16-4b2d-d329-10550de965b1"
      },
      "outputs": [
        {
          "name": "stdout",
          "output_type": "stream",
          "text": [
            "5 2\n",
            "7\n",
            "3\n",
            "10\n",
            "2.50\n"
          ]
        }
      ],
      "source": [
        "!g++ program.c -o program\n",
        "! ./program"
      ]
    },
    {
      "cell_type": "markdown",
      "metadata": {
        "id": "zAxR_pidE8vq"
      },
      "source": [
        "Problem Statement\n",
        "\n",
        "Robin wants to create a program to manage an individual's dual roles as a student and an employee. The monthly income is calculated based on her age. As a student, a stipend of age * 100 is received, and as an employee, a salary of age 500 is received.\n",
        "\n",
        "The program consists of four classes:\n",
        "\n",
        "1. Person - Contains individual's name and age as attributes.\n",
        "\n",
        "2. Student Inherits from Person class and calculates the stipend using calculateStipend() method.\n",
        "\n",
        "3. Employee - Inherits from Person class and calculates the salary using calculateSalary() method.\n",
        "\n",
        "4. Teaching Assistant - Inherits from Student and Employee classes. It calculates and displays the individual's total monthly income by calling Student or Employee class based on role.\n",
        "\n",
        "\n",
        "Input format:\n",
        "\n",
        "The first line consists of a string s representing the name of the individual.\n",
        "\n",
        "The second line consists of an integer value n representing the individual's age.\n",
        "\n",
        "The third line consists of a character c representing the type, where 'S' represents a student and 'E' represents an employee.\n",
        "\n",
        "Output format:\n",
        "\n",
        "The output displays the total monthly income calculated based on the type of role in the format:\n",
        "\n",
        "\"X's Income: Rs. Y\" where\n",
        "\n",
        "X - Name\n",
        "\n",
        "Y - Total monthly income rounded to two decimal places.\n",
        "\n",
        "If the type is neither 'S' nor 'E', the output displays \"Invalid status!\"."
      ]
    },
    {
      "cell_type": "code",
      "execution_count": null,
      "metadata": {
        "colab": {
          "base_uri": "https://localhost:8080/"
        },
        "id": "LG2T18GKE8-H",
        "outputId": "4541e936-0398-4d51-a40c-10ba1db41d02"
      },
      "outputs": [
        {
          "name": "stdout",
          "output_type": "stream",
          "text": [
            "Overwriting program.c\n"
          ]
        }
      ],
      "source": [
        "%%writefile program.c\n",
        "#include <iostream>\n",
        "#include <iomanip>\n",
        "using namespace std;\n",
        "\n",
        "class Person {\n",
        "  protected:\n",
        "    string name;\n",
        "    int age;\n",
        "\n",
        "  public:\n",
        "    Person(string s, int n) {\n",
        "      name = s;\n",
        "      age = n;\n",
        "    }\n",
        "\n",
        "};\n",
        "\n",
        "class Student : virtual public Person {\n",
        "  public:\n",
        "    Student(string s, int n):Person(s,n) {}\n",
        "\n",
        "    int calculateStipend() {\n",
        "      return age*100;\n",
        "    }\n",
        "\n",
        "};\n",
        "\n",
        "class Employee :virtual public Person {\n",
        "  public:\n",
        "    Employee(string s, int n):Person(s,n) {}\n",
        "\n",
        "  int calculateSalary() {\n",
        "    return age*500;\n",
        "  }\n",
        "\n",
        "};\n",
        "\n",
        "class TeachingAssisstant : public Student, public Employee {\n",
        "  public:\n",
        "    TeachingAssisstant(string s, int n):Person(s,n),Student(s,n),Employee(s,n) {}\n",
        "\n",
        "    void total(char c){\n",
        "      if(c=='S') {\n",
        "        cout<<name<<\" Monthly income: \"<<fixed<<setprecision(2)<<calculateStipend()<<endl;\n",
        "      }\n",
        "\n",
        "      else if(c=='E') {\n",
        "        cout<<name<<\" Monthly income: \"<<fixed<<setprecision(2)<<calculateSalary()<<endl;\n",
        "      }\n",
        "\n",
        "      else {\n",
        "       cout<<\"Invalid\"<<endl;\n",
        "      }\n",
        "   }\n",
        "\n",
        "};\n",
        "\n",
        "int main() {\n",
        "  string s;\n",
        "  int n;\n",
        "  char c;\n",
        "\n",
        "  cin>>s>>n>>c;\n",
        "\n",
        "  TeachingAssisstant ta(s,n);\n",
        "  ta.total(c);\n",
        "\n",
        "\n",
        "  return 0;\n",
        "\n",
        "}"
      ]
    },
    {
      "cell_type": "code",
      "execution_count": null,
      "metadata": {
        "colab": {
          "base_uri": "https://localhost:8080/"
        },
        "id": "y1_GgvLUE9Bw",
        "outputId": "007e5d24-936b-494b-acf8-9fe8e16b12b0"
      },
      "outputs": [
        {
          "name": "stdout",
          "output_type": "stream",
          "text": [
            "^C\n"
          ]
        }
      ],
      "source": [
        "!g++ program.c -o program\n",
        "! ./program"
      ]
    },
    {
      "cell_type": "markdown",
      "metadata": {
        "id": "mdr8hjORiG-E"
      },
      "source": [
        "Problem Statement\n",
        "\n",
        "Create a program for an online store that sells electronics and clothing. Calculate the total cost of an order, applying discounts for bulk purchases.\n",
        "\n",
        "class Product:\n",
        "\n",
        "1. Attributes: string name, double price, int quantity\n",
        "\n",
        "2. Method: double calculateCost() - Returns total cost (price * quantity)\n",
        "\n",
        "class Electronics (Derived from class Product):\n",
        "\n",
        "3. Method: double calculate Eleccost() -Calculates electronics cost with a 10% discount for 3 or more items.\n",
        "\n",
        "class Clothing (Derived from class Product):\n",
        "\n",
        "4. Method: double calculateClothCost() -Calculates clothing cost with a 5% discount for 5 or more items.\n",
        "\n",
        "class OrderCalculator (Derived from Electronics and Clothing classes):\n",
        "\n",
        "5. Method: double calculate TotalCost()-Calculates total order cost.\n",
        "\n",
        "Input format:\n",
        "\n",
        "The first line of input consists of a string, representing the name of the electronic product.\n",
        "\n",
        "The second line consists of a double value, representing the price of the electronic product.\n",
        "\n",
        "The third line consists of an integer, representing the quantity of the electronic product.\n",
        "\n",
        "The fourth line consists of a string, representing the name of the cloth product.\n",
        "\n",
        "The fifth line consists of a double value, representing the price of the cloth product.\n",
        "\n",
        "The sixth line consists of an integer, representing the quantity of the cloth product.\n",
        "\n",
        "Output format:\n",
        "\n",
        "The output prints \"Total Order Cost: Rs. X\" where X is a double value, rounded off to two decimal places."
      ]
    },
    {
      "cell_type": "code",
      "execution_count": null,
      "metadata": {
        "colab": {
          "base_uri": "https://localhost:8080/"
        },
        "id": "RgL0srVCiHM_",
        "outputId": "16f7e6b5-3102-48b9-f692-b9c981265c17"
      },
      "outputs": [
        {
          "name": "stdout",
          "output_type": "stream",
          "text": [
            "Overwriting program.c\n"
          ]
        }
      ],
      "source": [
        "%%writefile program.c\n",
        "#include <iostream>\n",
        "#include <iomanip>\n",
        "using namespace std;\n",
        "\n",
        "class Product {\n",
        "  protected:\n",
        "    string name;\n",
        "    double price;\n",
        "    int quantity;\n",
        "\n",
        "  public:\n",
        "    Product(string nam, double pri, int quan) {\n",
        "      name = nam;\n",
        "      price = pri;\n",
        "      quantity = quan;\n",
        "    }\n",
        "\n",
        "     double calculateCost() {\n",
        "      return price*quantity;\n",
        "     }\n",
        "\n",
        "};\n",
        "\n",
        "class Electronics: public Product {\n",
        "  public:\n",
        "    Electronics(string nam, double pri, int quan):Product(nam,pri,quan) {}\n",
        "\n",
        "    double calculateEleccost() {\n",
        "      if(quantity>=3) {\n",
        "        return calculateCost()-calculateCost()*0.1;\n",
        "      }\n",
        "      else{\n",
        "         return calculateCost();\n",
        "      }\n",
        "    }\n",
        "\n",
        "\n",
        "\n",
        "};\n",
        "\n",
        "class Clothing : public Product {\n",
        "  public:\n",
        "    Clothing(string nam, double pri, int quan):Product(nam,pri,quan) {}\n",
        "\n",
        "\n",
        "  double calculateClothCost() {\n",
        "    if(quantity>=5) {\n",
        "      return calculateCost()-calculateCost()*0.05;\n",
        "    }\n",
        "    else {\n",
        "      return calculateCost();\n",
        "    }\n",
        "  }\n",
        "\n",
        "};\n",
        "\n",
        "class Calculator:public Electronics, public Clothing {\n",
        "  public:\n",
        "    Calculator(string en,double ep, int eq, string cn, double cp, int cq):Electronics(en,ep,eq),Clothing(cn,cp,cq) {}\n",
        "\n",
        "     double calculateTotalCost(){\n",
        "      return calculateEleccost()+calculateClothCost();\n",
        "     }\n",
        "\n",
        "};\n",
        "\n",
        "int main() {\n",
        "  string en, cn;\n",
        "  double ep, cp;\n",
        "  int eq, cq;\n",
        "\n",
        "  cin>>en;\n",
        "  cin>>ep;\n",
        "  cin>>eq;\n",
        "\n",
        "  cin>>cn;\n",
        "  cin>>cp;\n",
        "  cin>>cq;\n",
        "\n",
        "  Calculator c(en,ep,eq,cn,cp,cq);\n",
        "  cout<<\"Total cost: \"<<c.calculateTotalCost()<<endl;\n",
        "\n",
        "  return 0;\n",
        "\n",
        "\n",
        "}"
      ]
    },
    {
      "cell_type": "code",
      "execution_count": null,
      "metadata": {
        "colab": {
          "base_uri": "https://localhost:8080/"
        },
        "id": "_fMkE6XTiHQm",
        "outputId": "0a560b41-5212-4422-924e-8f3012234bc5"
      },
      "outputs": [
        {
          "name": "stdout",
          "output_type": "stream",
          "text": [
            "keyboard\n",
            "930.0\n",
            "8\n",
            "shirt\n",
            "30.0\n",
            "5\n",
            "Total cost: 6838.5\n"
          ]
        }
      ],
      "source": [
        "!g++ program.c -o program\n",
        "! ./program"
      ]
    },
    {
      "cell_type": "markdown",
      "metadata": {
        "id": "WbmmQj5A4Xvh"
      },
      "source": [
        "CONSTRUCTOR OVERLOADING\n"
      ]
    },
    {
      "cell_type": "markdown",
      "metadata": {
        "id": "eYUO_bdm4YI4"
      },
      "source": [
        "Problem Statement\n",
        "\n",
        "Dev is a bank assistant who needs to calculate the simple interest for various customers. He wants to develop a simple program that calculates the simple interest based on the principal amount, interest rate, and time provided by the customers.\n",
        "\n",
        "Assist him by creating a program that uses a class SimpleInterest and constructor overloading.\n",
        "\n",
        "Constructor overloading Specifications:\n",
        "\n",
        "1. SimpleInterest(): Default constructor that initializes principal, rate, time, and simpleinterest to zero.\n",
        "\n",
        "2. Simpleinterest(double p, double r, int t): Parameterized constructor that takes the principal amount (p), interest rate (r), and time (t) as arguments.\n",
        "\n",
        "Input format:\n",
        "\n",
        "The first line of input consists of a double-point number, representing the principal amount.\n",
        "\n",
        "The second line consists of a double-point number, representing the interest rate.\n",
        "\n",
        "The third line consists of an integer, representing the time period in years.\n",
        "\n",
        "Output format:\n",
        "\n",
        "The output prints a double-point number, representing the calculated simple interest, rounded off to two decimal places."
      ]
    },
    {
      "cell_type": "code",
      "execution_count": null,
      "metadata": {
        "colab": {
          "base_uri": "https://localhost:8080/"
        },
        "id": "Prgi8DvD4ocI",
        "outputId": "f146a744-5a02-4dd2-b178-9d122c1edf04"
      },
      "outputs": [
        {
          "name": "stdout",
          "output_type": "stream",
          "text": [
            "Overwriting program.c\n"
          ]
        }
      ],
      "source": [
        "%%writefile program.c\n",
        "#include <iostream>\n",
        "#include <iomanip>\n",
        "using namespace std;\n",
        "\n",
        "class SimpleInterest {\n",
        "  protected:\n",
        "    double P;\n",
        "    double R;\n",
        "    int T;\n",
        "    double SI;\n",
        "\n",
        "  public:\n",
        "    SimpleInterest() {\n",
        "      P=0.0;\n",
        "      R=0.0;\n",
        "      T=0.0;\n",
        "      SI=0.0;\n",
        "    }\n",
        "\n",
        "    SimpleInterest(double p, double r, int t) {\n",
        "      P=p;\n",
        "      R=r;\n",
        "      T=t;\n",
        "    }\n",
        "\n",
        "    double calcSI() {\n",
        "      return (P*R*T)/100;\n",
        "    }\n",
        "\n",
        "};\n",
        "\n",
        "int main() {\n",
        "  double p,r;\n",
        "  int t;\n",
        "  cin>>p;\n",
        "  cin>>r;\n",
        "  cin>>t;\n",
        "\n",
        "  //SimpleInterest obj1;\n",
        "  SimpleInterest obj2(p,r,t);\n",
        "\n",
        "  cout<<\"Simple Interest: \"<<endl;\n",
        "  //cout<<obj1.calcSI()<<endl;\n",
        "  cout<<obj2.calcSI();\n",
        "\n",
        "  return 0;\n",
        "\n",
        "}"
      ]
    },
    {
      "cell_type": "code",
      "execution_count": null,
      "metadata": {
        "colab": {
          "base_uri": "https://localhost:8080/"
        },
        "id": "1u9uADYl4ogB",
        "outputId": "e66ee6cf-086b-4022-cb23-421e1d4a2570"
      },
      "outputs": [
        {
          "name": "stdout",
          "output_type": "stream",
          "text": [
            "1000\n",
            "9\n",
            "2\n",
            "Simple Interest: \n",
            "0\n",
            "180"
          ]
        }
      ],
      "source": [
        "!g++ program.c -o program\n",
        "! ./program"
      ]
    },
    {
      "cell_type": "markdown",
      "metadata": {
        "id": "8GJqc2xz4t6f"
      },
      "source": [
        "Problem Statement\n",
        "\n",
        "Dravid is managing a store and wants to calculate the total cost for different goods based on their weight and the rate per kilogram. He needs to write a program that takes user input for the weight (in kilograms) and the rate (in rupees per kilogram) of the goods and calculates the total cost. The program should display the weight, rate, and total cost with precision.\n",
        "\n",
        "The program should utilize constructor overloading in the CotRCal class, which should have two constructors:\n",
        "\n",
        "• The default constructor initializes the weight and rate to 0.0.\n",
        "\n",
        "• The parameterized constructor accepts the weight and rate as arguments and calculates the total cost.\n",
        "\n",
        "Input format:\n",
        "\n",
        "The first line of input consists of a double value, W, representing the weight of the goods in kilograms.\n",
        "\n",
        "The second line of input consists of a double value, R, representing the rate per kilogram in rupees.\n",
        "\n",
        "Output format:\n",
        "\n",
        "The first line prints \"Weight: W kg\".\n",
        "\n",
        "The second line prints \"Rate: Rs. R per kg\".\n",
        "\n",
        "The third line prints \"Total Cost: Rs. \" followed by the total cost as a double value rounded to two decimal places."
      ]
    },
    {
      "cell_type": "code",
      "execution_count": null,
      "metadata": {
        "colab": {
          "base_uri": "https://localhost:8080/"
        },
        "id": "rduWj_Wm4uMy",
        "outputId": "8c0c89db-82df-47c4-94ba-f09249f4494d"
      },
      "outputs": [
        {
          "name": "stdout",
          "output_type": "stream",
          "text": [
            "Overwriting program.c\n"
          ]
        }
      ],
      "source": [
        "%%writefile program.c\n",
        "#include <iostream>\n",
        "using namespace std;\n",
        "\n",
        "class CotRCal {\n",
        "  protected:\n",
        "    double weight;\n",
        "    double rate;\n",
        "\n",
        "  public:\n",
        "    CotRCal() {\n",
        "      weight = 0;\n",
        "      rate = 0;\n",
        "    }\n",
        "\n",
        "    CotRCal(double wt, double r) {\n",
        "      weight = wt;\n",
        "      rate = r;\n",
        "    }\n",
        "\n",
        "    double calcTotalCost() {\n",
        "      return weight*rate;\n",
        "    }\n",
        "\n",
        "};\n",
        "\n",
        "int main() {\n",
        "  double wt,r;\n",
        "  cin>>wt;\n",
        "  cin>>r;\n",
        "\n",
        "  CotRCal obj1;\n",
        "  CotRCal obj2(wt,r);\n",
        "\n",
        "  cout<<\"weight: \"<<wt<<\" per kg\"<<endl;\n",
        "  cout<<\"rate: Rs. \"<<r<<\" per kg\"<<endl;\n",
        "  cout<<\"total cost Rs. : \"<<endl;\n",
        "  cout<<obj1.calcTotalCost()<<endl;\n",
        "  cout<<obj2.calcTotalCost();\n",
        "\n",
        "  return 0;\n",
        "\n",
        "\n",
        "}"
      ]
    },
    {
      "cell_type": "code",
      "execution_count": null,
      "metadata": {
        "colab": {
          "base_uri": "https://localhost:8080/"
        },
        "id": "erdgnFWM4uRE",
        "outputId": "052d434b-38f3-43f5-d83e-c2534ced5487"
      },
      "outputs": [
        {
          "name": "stdout",
          "output_type": "stream",
          "text": [
            "45.9\n",
            "3.4\n",
            "weight: 45.9 per kg\n",
            "rate: Rs. 3.4 per kg\n",
            "total cost Rs. : \n",
            "0\n",
            "156.06"
          ]
        }
      ],
      "source": [
        "!g++ program.c -o program\n",
        "! ./program"
      ]
    },
    {
      "cell_type": "markdown",
      "metadata": {
        "id": "8-VqQRA1iVqL"
      },
      "source": [
        "Problem Statement\n",
        "\n",
        "Reema, an environmental enthusiast, is conducting research on forest ecosystems. She needs a program to calculate the annual rainfall for different forest areas.\n",
        "\n",
        "Write a program that can determine the annual rainfall for square and rectangular forests based on the provided dimensions (side length, length, and width) and the average annual rainfall in millimeters (mm)\n",
        "\n",
        "Create a class Forest and utilize constructor overloading in the Forest class to handle two types of forests:\n",
        "\n",
        "1. For Square Forest: annual rainfall = sideLength + sideLength * rainfallinmm\n",
        "\n",
        "2. For Rectangular Forest: annual rainfall = length * width * rainfallinmm\n",
        "\n",
        "Input format:\n",
        "\n",
        "The first input line of input contains the side length and average annual rainfall (in mm) for a square forest as double-point numbers.\n",
        "\n",
        "The second input line includes the length, width, and average annual rainfall (in mm) for a rectangular forest as double-point numbers.\n",
        "\n",
        "Output format:\n",
        "\n",
        "For each forest, the output displays the calculated annual rainfall in millimeters (mm) as a floating-point number with two decimal places, followed by \"mm\" (e.g., \"7500.50 mm\")."
      ]
    },
    {
      "cell_type": "code",
      "execution_count": null,
      "metadata": {
        "colab": {
          "base_uri": "https://localhost:8080/"
        },
        "id": "43ojoNtRiV5R",
        "outputId": "74834d6a-9a95-41a1-a729-5381e0bfc21b"
      },
      "outputs": [
        {
          "name": "stdout",
          "output_type": "stream",
          "text": [
            "Overwriting program.c\n"
          ]
        }
      ],
      "source": [
        "%%writefile program.c\n",
        "#include <iostream>\n",
        "#include <iomanip>\n",
        "using namespace std;\n",
        "\n",
        "class Forest {\n",
        "  protected:\n",
        "    double sidelength;\n",
        "    double length;\n",
        "    double width;\n",
        "    double rainfall;\n",
        "    double annualr;\n",
        "\n",
        "\n",
        "  public:\n",
        "    Forest(double sl,double rf) {\n",
        "      sidelength=sl;\n",
        "      rainfall=rf;\n",
        "      annualr = sidelength*sidelength*rainfall;\n",
        "    }\n",
        "\n",
        "    Forest(double l, double w, double rf) {\n",
        "      length=l;\n",
        "      width=w;\n",
        "      rainfall=rf;\n",
        "      annualr = length*width*rainfall;\n",
        "    }\n",
        "\n",
        "    double displayar() {\n",
        "      return annualr;\n",
        "    }\n",
        "\n",
        "};\n",
        "\n",
        "int main() {\n",
        "  double sl,l,w,rf1,rf2;\n",
        "\n",
        "  cin>>sl>>rf1;\n",
        "  cin>>l>>w>>rf2;\n",
        "\n",
        "  Forest f(sl,rf1);\n",
        "  cout<<\"Annual Square rainfall: \"<<fixed<<setprecision(2)<<f.displayar()<<\"mm\"<<endl;\n",
        "\n",
        "  Forest f2(l,w,rf2);\n",
        "  cout<<\"Annual Rectangle rainfall: \"<<fixed<<setprecision(2)<<f2.displayar()<<\"mm\"<<endl;\n",
        "\n",
        "  return 0;\n",
        "\n",
        "}\n",
        "\n",
        "\n",
        "\n"
      ]
    },
    {
      "cell_type": "code",
      "execution_count": null,
      "metadata": {
        "colab": {
          "base_uri": "https://localhost:8080/"
        },
        "id": "e-FWTICaxklj",
        "outputId": "4052d6d2-1b70-49a4-d7fb-7ebdb3663837"
      },
      "outputs": [
        {
          "name": "stdout",
          "output_type": "stream",
          "text": [
            "10 20\n",
            "5 5 30\n",
            "Annual Square rainfall: 2000.00mm\n",
            "Annual Rectangle rainfall: 750.00mm\n"
          ]
        }
      ],
      "source": [
        "!g++ program.c -o program\n",
        "! ./program"
      ]
    },
    {
      "cell_type": "markdown",
      "metadata": {
        "id": "71RLpuhaDyMx"
      },
      "source": [
        "POLYMORPHISM"
      ]
    },
    {
      "cell_type": "markdown",
      "metadata": {
        "id": "LPpr5gOvDyQN"
      },
      "source": [
        "FUNCTION OVERLOADING"
      ]
    },
    {
      "cell_type": "markdown",
      "metadata": {
        "id": "OpgNil7ODyTf"
      },
      "source": [
        "Problem Statement\n",
        "\n",
        "Teju is working on a unit converter application that can convert lengths from millimetres to centimetres and kilometres. The application uses function overloading to handle the different unit types.\n",
        "\n",
        "She wants to implement a UnitConverter class that contains two overloaded functions for conversion:\n",
        "\n",
        "1. double convert(double millimetres) - If the unit type is 1, convert the value to centimetres.\n",
        "\n",
        "2. double convert(int unitType, double value) - If the unit type is 2, convert the value to kilometres.\n",
        "\n",
        "Assist Teju in completing the converter application.\n",
        "\n",
        "Input format:\n",
        "\n",
        "The first line of input consists of an integer unitType (1 or 2) representing the unit type. The second line consists of a double value N, representing the value in millimetres to be converted.\n",
        "\n",
        "Output format:\n",
        "\n",
        "If the unit type is 1, print \"X cm\" where X is a double value, rounded off to two decimal places. If the unit type is 2, print \"Y km\" where Y is a double value, rounded off to two decimal places. If the unit type is not valid, print \"Invalid unit type!\""
      ]
    },
    {
      "cell_type": "code",
      "execution_count": null,
      "metadata": {
        "colab": {
          "base_uri": "https://localhost:8080/"
        },
        "id": "6G78vGroEXxa",
        "outputId": "34786f0c-11d5-4874-ad06-72bd37224e9f"
      },
      "outputs": [
        {
          "name": "stdout",
          "output_type": "stream",
          "text": [
            "Overwriting program.c\n"
          ]
        }
      ],
      "source": [
        "%%writefile program.c\n",
        "#include <iostream>\n",
        "#include <iomanip>\n",
        "using namespace std;\n",
        "\n",
        "class Convert{\n",
        "  public:\n",
        "\n",
        "  double convert(double N) {\n",
        "    return N/10;\n",
        "  }\n",
        "\n",
        "  double convert(int unitType,double N) {\n",
        "    return N/1000000;\n",
        "  }\n",
        "\n",
        "\n",
        "};\n",
        "\n",
        "int main() {\n",
        "  int unitType;\n",
        "  cin>>unitType;\n",
        "  double N;\n",
        "  cin>>N;\n",
        "\n",
        "  Convert c;\n",
        "\n",
        "  if(unitType==1) {\n",
        "    cout<<c.convert(N);\n",
        "  }\n",
        "\n",
        "  else if(unitType==2){\n",
        "   cout<<c.convert(unitType,N);\n",
        "  }\n",
        "\n",
        "  else {\n",
        "      cout<<\"Invalid\";\n",
        "    }\n",
        "\n",
        "\n",
        "  return 0;\n",
        "\n",
        "\n",
        "}"
      ]
    },
    {
      "cell_type": "code",
      "execution_count": null,
      "metadata": {
        "colab": {
          "base_uri": "https://localhost:8080/"
        },
        "id": "sZZchK5lEX5L",
        "outputId": "11e4206c-1995-4c46-93fe-7e318ede9875"
      },
      "outputs": [
        {
          "name": "stdout",
          "output_type": "stream",
          "text": [
            "2\n",
            "579709801\n",
            "579.71"
          ]
        }
      ],
      "source": [
        "!g++ program.c -o program\n",
        "! ./program"
      ]
    },
    {
      "cell_type": "markdown",
      "metadata": {
        "id": "Rcb6aFntDyW2"
      },
      "source": [
        "Problem Statement\n",
        "\n",
        "Vamsi is a young and curious student who is eager to learn about finding the minimum number among a set of integers and double values. He needs a program to find the minimum number from a given set of values.\n",
        "\n",
        "Help him solve the program by overloading the function named findMin.\n",
        "\n",
        "Input format:\n",
        "\n",
        "The first line of input consists of three space-separated integers.\n",
        "\n",
        "The second line consists of three space-separated ouble values.\n",
        "\n",
        "Output format:\n",
        "\n",
        "The first line of output prints \"Minimum integer: followed by the minimum integer among the given values.\n",
        "\n",
        "The second line prints \"Minimum double-point value: \"followed by the minimum double-point number among the given values, rounded off to two decimal places."
      ]
    },
    {
      "cell_type": "code",
      "execution_count": null,
      "metadata": {
        "colab": {
          "base_uri": "https://localhost:8080/"
        },
        "id": "ZQpaMxGsFdhO",
        "outputId": "c91ec873-a72d-416b-9b26-a9d5cb8428b3"
      },
      "outputs": [
        {
          "name": "stdout",
          "output_type": "stream",
          "text": [
            "Overwriting program.c\n"
          ]
        }
      ],
      "source": [
        "%%writefile program.c\n",
        "#include <iostream>\n",
        "#include <iomanip>\n",
        "using namespace std;\n",
        "\n",
        "class Min{\n",
        "  public:\n",
        "\n",
        "  int findMin(int n1, int n2, int n3) {\n",
        "    int min = n1;\n",
        "    if(n2<n1) {\n",
        "      if(n2<n3) {\n",
        "        min= n2;\n",
        "      }\n",
        "      else {\n",
        "        min=n3;\n",
        "      }\n",
        "    }\n",
        "    else {\n",
        "      if(n1<n3) {\n",
        "        min= n1;\n",
        "      }\n",
        "      else {\n",
        "        min= n3;\n",
        "      }\n",
        "    }\n",
        "\n",
        "    return min;\n",
        "  }\n",
        "\n",
        "  double findMin(double d1, double d2, double d3) {\n",
        "    double min = d1;\n",
        "    if(d2<d1) {\n",
        "      if(d2<d3) {\n",
        "        min= d2;\n",
        "      }\n",
        "      else {\n",
        "        min= d3;\n",
        "      }\n",
        "    }\n",
        "\n",
        "    else {\n",
        "      if(d1<d3) {\n",
        "        min= d1;\n",
        "      }\n",
        "\n",
        "      else {\n",
        "        min= d3;\n",
        "      }\n",
        "    }\n",
        "\n",
        "    return min;\n",
        "  }\n",
        "\n",
        "};\n",
        "\n",
        "int main() {\n",
        "  int n1,n2,n3;\n",
        "  cin>>n1>>n2>>n3;\n",
        "  double d1,d2,d3;\n",
        "  cin>>d1>>d2>>d3;\n",
        "\n",
        "  Min m;\n",
        "  cout<<\"Minimum integer: \"<<m.findMin(n1,n2,n3)<<endl;;\n",
        "  cout<<\"Minimum double: \"<<fixed<<setprecision(2)<<m.findMin(d1,d2,d3);\n",
        "\n",
        "  return 0;\n",
        "}"
      ]
    },
    {
      "cell_type": "code",
      "execution_count": null,
      "metadata": {
        "colab": {
          "base_uri": "https://localhost:8080/"
        },
        "id": "C8bSvbdgFdk1",
        "outputId": "996b5dad-a8b7-4d99-96a9-56f4378d5577"
      },
      "outputs": [
        {
          "name": "stdout",
          "output_type": "stream",
          "text": [
            "1 2 3\n",
            "3.4 1.2 1.113\n",
            "Minimum integer: 1\n",
            "Minimum double: 1.113"
          ]
        }
      ],
      "source": [
        "!g++ program.c -o program\n",
        "! ./program"
      ]
    },
    {
      "cell_type": "markdown",
      "metadata": {
        "id": "H7Ysf6QuSFkX"
      },
      "source": [
        "Problem Statement\n",
        "\n",
        "You are creating a shopping cart for an e-commerce website. Implement overloaded functions called calculate TotalPrice that can calculate the total price of different types of items, such as a single item, multiple items, or items with discounts. Each overloaded function should take the required parameters and return the calculated total price.\n",
        "\n",
        "1. Calculate the total price for a single item without quantity or discounts.\n",
        "\n",
        "2. Calculate the total price for multiple items in quantity without any discounts.\n",
        "\n",
        "3. Calculate the total price for multiple items with quantity and a discount percentage.\n",
        "\n",
        "The user should enter an integer corresponding to the desired option (1, 2, 3, or 4).\n",
        "\n",
        "If the choice is 1, the input consists of the price of the item, separated by a space.\n",
        "\n",
        "If the choice is 2, the input consists of the price of the item and the quantity, separated by a space.\n",
        "\n",
        "If the choice is 3, the program consists of the price of the item, the quantity, and the discount percentage, separated by a space.\n",
        "\n",
        "If the choice is 4, the program exits.\n",
        "\n",
        "If the choice is other than 1, 2, 3, or 4, it is considered an invalid choice.\n",
        "\n",
        "Output format:\n",
        "\n",
        "For the choices 1, 2, and 3, the output displays the calculated total price as a floating-point number with two decimal places.\n",
        "\n",
        "If the choice is 4, the program exits.\n",
        "\n",
        "If the choice is invalid, the output displays \"Invalid choice\".\n",
        "\n",
        "Server\n",
        "\n",
        "The output will be displayed on a new line."
      ]
    },
    {
      "cell_type": "code",
      "execution_count": null,
      "metadata": {
        "colab": {
          "base_uri": "https://localhost:8080/"
        },
        "id": "McJeHDWkSF2I",
        "outputId": "37edf147-6797-4533-e2d5-c33b8d2252d4"
      },
      "outputs": [
        {
          "name": "stdout",
          "output_type": "stream",
          "text": [
            "Overwriting program.c\n"
          ]
        }
      ],
      "source": [
        "%%writefile program.c\n",
        "#include <iostream>\n",
        "#include <iomanip>\n",
        "using namespace std;\n",
        "\n",
        "class Shopping{\n",
        "  public:\n",
        "\n",
        "  float calcTotalPrice(float price) {\n",
        "    return price;\n",
        "  }\n",
        "\n",
        "  float calcTotalPrice(float price, int quantity) {\n",
        "    return price*quantity;\n",
        "  }\n",
        "\n",
        "  float calcTotalPrice(float price, int quantity, float discountpercent) {\n",
        "    float total = price*quantity;\n",
        "    float discount = (discountpercent/100)*total;\n",
        "    return total-discount;\n",
        "  }\n",
        "\n",
        "};\n",
        "\n",
        "int main() {\n",
        "  float price;\n",
        "  int quantity;\n",
        "  float discountpercent;\n",
        "  int choice;\n",
        "\n",
        "\n",
        "  Shopping s;\n",
        "\n",
        "  while(true) {\n",
        "  cin>>choice;\n",
        "  switch(choice) {\n",
        "    case 1:\n",
        "      cin>>price;\n",
        "      cout<<fixed<<setprecision(2)<<s.calcTotalPrice(price)<<endl;\n",
        "      break;\n",
        "\n",
        "    case 2:\n",
        "      cin>>price;\n",
        "      cin>>quantity;\n",
        "      cout<<fixed<<setprecision(2)<<s.calcTotalPrice(price,quantity)<<endl;\n",
        "      break;\n",
        "\n",
        "    case 3:\n",
        "      cin>>price;\n",
        "      cin>>quantity;\n",
        "      cin>>discountpercent;\n",
        "      cout<<fixed<<setprecision(2)<<s.calcTotalPrice(price,quantity,discountpercent)<<endl;\n",
        "      break;\n",
        "\n",
        "    case 4:\n",
        "      return 0;\n",
        "\n",
        "\n",
        "    default:\n",
        "      cout<<\"Invalid choice\";\n",
        "      break;\n",
        "\n",
        "\n",
        "  }\n",
        "  }\n",
        "\n",
        "return 0;\n",
        "\n",
        "}"
      ]
    },
    {
      "cell_type": "code",
      "execution_count": null,
      "metadata": {
        "colab": {
          "base_uri": "https://localhost:8080/"
        },
        "id": "ciGGUWdISF6-",
        "outputId": "55e45088-6223-4f2e-f412-459bdb84051d"
      },
      "outputs": [
        {
          "name": "stdout",
          "output_type": "stream",
          "text": [
            "1\n",
            "10.5\n",
            "10.50\n",
            "2\n",
            "102.25\n",
            "3\n",
            "306.75\n",
            "3\n",
            "100\n",
            "10\n",
            "10\n",
            "900.00\n",
            "4\n"
          ]
        }
      ],
      "source": [
        "!g++ program.c -o program\n",
        "! ./program"
      ]
    },
    {
      "cell_type": "markdown",
      "metadata": {
        "id": "Ld2HlobyFd7V"
      },
      "source": [
        "OPERATOR OVERLOADING"
      ]
    },
    {
      "cell_type": "markdown",
      "metadata": {
        "id": "5Kya_OUuJi2G"
      },
      "source": [
        "Single File Programming Question\n",
        "\n",
        "Problem Statement\n",
        "\n",
        "Implement a Fraction class that represents a fraction with a numerator and a denominator.\n",
        "\n",
        "Overload the '+' operator to add two fractions and return the result as a simplified fraction.\n",
        "\n",
        "Function Specifications: Fraction operator+(const Fraction& other) const\n",
        "\n",
        "Input format:\n",
        "\n",
        "The input consists of two lines.\n",
        "\n",
        "Each line contains two integers separated by a space.\n",
        "\n",
        "\n",
        "The first line represents the numerator and denominator of the first fraction.\n",
        "\n",
        "The second line represents the numerator and denominator of the second fraction.\n",
        "\n",
        "Output format:\n",
        "\n",
        "The output displays the sum of the fractions of the given input as simplified values."
      ]
    },
    {
      "cell_type": "code",
      "execution_count": null,
      "metadata": {
        "colab": {
          "base_uri": "https://localhost:8080/"
        },
        "id": "ePctSYrfUoA6",
        "outputId": "119a2ac4-37ad-48d0-f0d4-c8908992d7b3"
      },
      "outputs": [
        {
          "name": "stdout",
          "output_type": "stream",
          "text": [
            "Overwriting program.c\n"
          ]
        }
      ],
      "source": [
        "%%writefile program.c\n",
        "#include <iostream>\n",
        "using namespace std;\n",
        "\n",
        "class Fraction{\n",
        "  private:\n",
        "    int n, d;\n",
        "\n",
        "  public:\n",
        "    Fraction() {\n",
        "      n=0;\n",
        "      d=0;\n",
        "    }\n",
        "\n",
        "    Fraction(int num, int den) {\n",
        "      n=num;\n",
        "      d=den;\n",
        "    }\n",
        "\n",
        "    int gcd(int a, int b) {\n",
        "      if (b == 0) return a;\n",
        "      return gcd(b, a % b);\n",
        "\n",
        "    }\n",
        "\n",
        "    int lcm(int a, int b) {\n",
        "      return a*b/gcd(a,b);\n",
        "    }\n",
        "\n",
        "\n",
        "    Fraction operator+(const Fraction& other){\n",
        "      Fraction result;\n",
        "      result.d = lcm(d, other.d);\n",
        "      result.n = n * result.d/d + other.n * result.d/other.d;\n",
        "      return result;\n",
        "    }\n",
        "\n",
        "    Fraction operator*(const Fraction& other) {\n",
        "      Fraction result;\n",
        "      result.d = d*other.d;\n",
        "      result.n = n*other.n;\n",
        "\n",
        "      int GCD = gcd(result.n, result.d);\n",
        "      result.d = result.d/GCD;\n",
        "      result.n = result.n/GCD;\n",
        "      return result;\n",
        "    }\n",
        "\n",
        "    Fraction operator/(const Fraction& other) {\n",
        "      Fraction result;\n",
        "      result.d = d* other.n;\n",
        "      result.n = n* other.d;\n",
        "\n",
        "      int GCD = gcd(result.n, result.d);\n",
        "      result.d = result.d/GCD;\n",
        "      result.n = result.n/GCD;\n",
        "      return result;\n",
        "\n",
        "    }\n",
        "\n",
        "    void display() {\n",
        "      cout<<n<<\"/\"<<d<<endl;\n",
        "    }\n",
        "};\n",
        "\n",
        "int main() {\n",
        "  int n1,d1,n2,d2;\n",
        "  cin>>n1>>d1;\n",
        "  cin>>n2>>d2;\n",
        "  Fraction obj1(n1,d1), obj2(n2,d2);\n",
        "  Fraction obj3 = obj1 + obj2;\n",
        "  obj3.display();\n",
        "\n",
        "  obj3 = obj1 * obj2;\n",
        "  obj3.display();\n",
        "\n",
        "  obj3 = obj1 / obj2;\n",
        "  obj3.display();\n",
        "\n",
        "  return 0;\n",
        "\n",
        "}"
      ]
    },
    {
      "cell_type": "code",
      "execution_count": null,
      "metadata": {
        "colab": {
          "base_uri": "https://localhost:8080/"
        },
        "id": "j_42LglCWY2a",
        "outputId": "0eb14f8a-6647-4fce-8c8b-1bf8c048c83a"
      },
      "outputs": [
        {
          "name": "stdout",
          "output_type": "stream",
          "text": [
            "1 2\n",
            "1 4\n",
            "3/4\n",
            "1/8\n",
            "2/1\n"
          ]
        }
      ],
      "source": [
        "!g++ program.c -o program\n",
        "! ./program\n"
      ]
    },
    {
      "cell_type": "markdown",
      "metadata": {
        "id": "RId81ztkRk79"
      },
      "source": [
        "Problem Statement\n",
        "\n",
        "John is driving a car with an initial velocity (in m/s) that suddenly accelerates at a constant rate (in m/s²) for a certain time (in seconds). He wants to write a program that calculates and displays the final velocity of the car.\n",
        "\n",
        "Help John calculate the final velocity by overloading the operator in the Acceleration class.\n",
        "\n",
        "Formula: Final velocity = Initial velocity + (Acceleration time)\n",
        "\n",
        "Input format:\n",
        "\n",
        "The input consists of three space-separated float\n",
        "\n",
        "Initial velocity (in m/s)\n",
        "Acceleration (in m/s²)\n",
        "Time (in s)\n",
        "\n",
        "Output format:\n",
        "\n",
        "The output displays a float value representing the final velocity followed by\" m/s\", rounded off to one decimal place."
      ]
    },
    {
      "cell_type": "code",
      "execution_count": null,
      "metadata": {
        "colab": {
          "base_uri": "https://localhost:8080/"
        },
        "id": "GVAOQPmNMZjm",
        "outputId": "6ecc818b-03a5-4bd9-cd76-93e8a4da6b7c"
      },
      "outputs": [
        {
          "name": "stdout",
          "output_type": "stream",
          "text": [
            "Overwriting program.c\n"
          ]
        }
      ],
      "source": [
        "%%writefile program.c\n",
        "#include <iostream>\n",
        "#include <iomanip>\n",
        "using namespace std;\n",
        "\n",
        "class Fraction{\n",
        "  public:\n",
        "    int n, d;\n",
        "\n",
        "  public:\n",
        "    Fraction() {\n",
        "      n=0;\n",
        "      d=0;\n",
        "    }\n",
        "\n",
        "    Fraction(int num, int den) {\n",
        "      n=num;\n",
        "      d=den;\n",
        "    }\n",
        "};\n",
        "\n",
        "class Acceleration{\n",
        "  private:\n",
        "    float velocity;\n",
        "    float acc;\n",
        "    int time;\n",
        "\n",
        "  public:\n",
        "    Acceleration(float v=0,float a=0, int t=0){\n",
        "      velocity=v;\n",
        "      acc=a;\n",
        "      time=t;\n",
        "    }\n",
        "\n",
        "    Acceleration operator+(const Acceleration& other) {\n",
        "      Acceleration result;\n",
        "      result.velocity=velocity+other.acc*other.time;\n",
        "      return result;\n",
        "    }\n",
        "\n",
        "     Acceleration operator+() {\n",
        "      Acceleration result;\n",
        "      result.velocity=velocity+acc*time;\n",
        "      result.acc=acc;\n",
        "      result.time=time;\n",
        "      return result;\n",
        "    }\n",
        "\n",
        "    Acceleration operator+(int var) {\n",
        "      Acceleration result;\n",
        "      result.velocity=velocity+var;\n",
        "      return result;\n",
        "    }\n",
        "\n",
        "    Acceleration operator+(const Fraction& f) {\n",
        "      Acceleration result;\n",
        "      result.velocity=velocity+ float(f.n)/f.d;\n",
        "      return result;\n",
        "    }\n",
        "\n",
        "\n",
        "\n",
        "    void display() {\n",
        "      cout<<velocity<<endl;\n",
        "      cout<<acc<<endl;\n",
        "      cout<<time<<endl;\n",
        "    }\n",
        "};\n",
        "\n",
        "int main() {\n",
        "  Acceleration obj1(10,2,20), obj2(1,2,3);\n",
        "  Acceleration obj3=obj1+obj2;\n",
        "  //obj3.display();\n",
        "\n",
        "  Fraction objf(1,2);\n",
        "  obj3=obj1+objf;\n",
        "  obj3.display();\n",
        "\n",
        "  obj3=obj1+4;\n",
        "  //obj3.display();\n",
        "\n",
        "  obj3 = +obj2;\n",
        "  obj3= +obj3;\n",
        "  //obj3.display();\n",
        "\n",
        "}\n",
        "\n"
      ]
    },
    {
      "cell_type": "code",
      "execution_count": null,
      "metadata": {
        "colab": {
          "base_uri": "https://localhost:8080/"
        },
        "id": "WoRKGnurRGot",
        "outputId": "5e85a4c9-e0ae-4946-993e-4e6b91814795"
      },
      "outputs": [
        {
          "name": "stdout",
          "output_type": "stream",
          "text": [
            "10.5\n",
            "0\n",
            "0\n"
          ]
        }
      ],
      "source": [
        "!g++ program.c -o program\n",
        "! ./program"
      ]
    },
    {
      "cell_type": "code",
      "execution_count": null,
      "metadata": {
        "id": "14TUnSTMRZhx"
      },
      "outputs": [],
      "source": [
        "%%writefile program.c\n",
        "#include <iostream>\n",
        "#include <iomanip>\n",
        "using namespace std;\n",
        "\n",
        "class Acceleration {\n",
        "private:\n",
        "    float acceleration;\n",
        "    float time;\n",
        "\n",
        "public:\n",
        "    Acceleration(float a, float t) {\n",
        "      acceleration=a;\n",
        "      time=t;\n",
        "    }\n",
        "\n",
        "    float operator+(float initialVelocity) {\n",
        "        return initialVelocity + (acceleration * time);\n",
        "    }\n",
        "};\n",
        "\n",
        "int main() {\n",
        "    float initialVelocity, acceleration, time;\n",
        "    cin >> initialVelocity >> acceleration >> time;\n",
        "\n",
        "    Acceleration a(acceleration, time);\n",
        "    float finalVelocity = a + initialVelocity;\n",
        "\n",
        "    cout << fixed << setprecision(1) << finalVelocity << \" m/s\" << endl;\n",
        "\n",
        "    return 0;\n",
        "}\n"
      ]
    },
    {
      "cell_type": "code",
      "execution_count": null,
      "metadata": {
        "id": "dTbO4AMfiaRh"
      },
      "outputs": [],
      "source": []
    },
    {
      "cell_type": "code",
      "execution_count": null,
      "metadata": {
        "id": "Cvu77iksRaQ2"
      },
      "outputs": [],
      "source": [
        "!g++ program.c -o program\n",
        "! ./program"
      ]
    },
    {
      "cell_type": "markdown",
      "metadata": {
        "id": "EPcJLqGyR1C6"
      },
      "source": [
        "Maria is developing a program to manage student records, with a specific focus on weight tracking. She has created a class named Student that represents student information and allows for the incrementing (++) of a student's weight by 1 kg through operator overloading with the friend function named operator.\n",
        "\n",
        "Assist her in completing the program.\n",
        "\n",
        "Input format:\n",
        "\n",
        "The first line of input consists of an integer, representing the student's ID.\n",
        "\n",
        "The second line consists of a double-point value, representing the initial weight of the student.\n",
        "\n",
        "Output format:\n",
        "\n",
        "The first line of output prints the student ID and initial weight of the student.\n",
        "\n",
        "The second line prints the student ID and the weight of the student after incrementing.\n",
        "\n",
        "Round off the weights to two decimal places."
      ]
    },
    {
      "cell_type": "code",
      "execution_count": null,
      "metadata": {
        "colab": {
          "base_uri": "https://localhost:8080/"
        },
        "id": "hgZo1MmFR1jK",
        "outputId": "e9ac3320-6cf8-410f-dc43-e7186ba4a2ad"
      },
      "outputs": [
        {
          "name": "stdout",
          "output_type": "stream",
          "text": [
            "Overwriting program.c\n"
          ]
        }
      ],
      "source": [
        "%%writefile program.c\n",
        "#include <iostream>\n",
        "using namespace std;\n",
        "\n",
        "class Student{\n",
        "  private:\n",
        "    int wt, id;\n",
        "\n",
        "  public:\n",
        "    Student(int ID, int weight) {\n",
        "      wt=weight;\n",
        "      id=ID;\n",
        "    }\n",
        "\n",
        "    friend Student operator++(Student& s) {\n",
        "      s.wt++;\n",
        "      return s;\n",
        "    }\n",
        "\n",
        "    friend Student operator++(Student& s, int) {\n",
        "      s.wt++;\n",
        "      return s;\n",
        "    }\n",
        "\n",
        "\n",
        "    void display() {\n",
        "      cout<<id<<endl;\n",
        "      cout<<wt<<endl;\n",
        "    }\n",
        "\n",
        "};\n",
        "\n",
        "\n",
        "\n",
        "int main() {\n",
        "  int ID;\n",
        "  int weight;\n",
        "\n",
        "  cin>>ID;\n",
        "  cin>>weight;\n",
        "\n",
        "  Student obj(ID, weight);\n",
        "  obj++;\n",
        "  obj.display();\n",
        "\n",
        "}"
      ]
    },
    {
      "cell_type": "code",
      "execution_count": null,
      "metadata": {
        "id": "UmryME1CpsXt"
      },
      "outputs": [],
      "source": [
        "%%writefile program.c\n",
        "#include <iostream>\n",
        "#include <iomanip>\n",
        "using namespace std;\n",
        "\n",
        "class Student {\n",
        "private:\n",
        "    int id;\n",
        "    double weight;\n",
        "\n",
        "public:\n",
        "    Student(int id, double weight) {\n",
        "        this->id = id;\n",
        "        this->weight = weight;\n",
        "    }\n",
        "\n",
        "    // Friend function to overload ++ operator\n",
        "    friend Student operator++(Student& s);\n",
        "\n",
        "    void display() {\n",
        "        cout << s.id << \" \" << fixed << setprecision(2) << s.weight << endl;\n",
        "    }\n",
        "\n",
        "    // Provide access for friend function\n",
        "    int getId() const { return id; }\n",
        "    double getWeight() const { return weight; }\n",
        "};\n",
        "\n",
        "// Overload the prefix ++ operator\n",
        "Student operator++(Student& s) {\n",
        "    s.weight += 1.0;\n",
        "    return s;\n",
        "}\n",
        "\n",
        "int main() {\n",
        "    int id;\n",
        "    double weight;\n",
        "\n",
        "    // Input student ID and weight\n",
        "    cin >> id >> weight;\n",
        "\n",
        "    // Create Student object\n",
        "    Student s(id, weight);\n",
        "\n",
        "    // Display initial data\n",
        "    cout << s.getId() << \" \" << fixed << setprecision(2) << s.getWeight() << endl;\n",
        "\n",
        "    // Increment weight\n",
        "    ++s;\n",
        "\n",
        "    // Display after increment\n",
        "    cout << s.getId() << \" \" << fixed << setprecision(2) << s.getWeight() << endl;\n",
        "\n",
        "    return 0;\n",
        "}"
      ]
    },
    {
      "cell_type": "markdown",
      "metadata": {
        "id": "4TtKOyrATM0i"
      },
      "source": []
    },
    {
      "cell_type": "code",
      "execution_count": null,
      "metadata": {
        "colab": {
          "base_uri": "https://localhost:8080/"
        },
        "id": "bhyGf9NbR1ng",
        "outputId": "ebd9c9d7-3590-4346-beca-556b16c5664f"
      },
      "outputs": [
        {
          "name": "stdout",
          "output_type": "stream",
          "text": [
            "123\n",
            "50\n",
            "123\n",
            "51\n"
          ]
        }
      ],
      "source": [
        "!g++ program.c -o program\n",
        "! ./program"
      ]
    },
    {
      "cell_type": "markdown",
      "metadata": {
        "id": "iy-m62rtL-tZ"
      },
      "source": [
        "VIRTUAL FUNCTIONS"
      ]
    },
    {
      "cell_type": "markdown",
      "metadata": {
        "id": "MYtcnnlaL_E3"
      },
      "source": [
        "Single File Programming Question\n",
        "\n",
        "Problem Statement\n",
        "\n",
        "Imagine you are creating a Sleep Tracker program that demonstrates the use of inheritance and virtual functions. The program helps users analyze their sleep patterns, distinguishing between weekday and weekend sleep durations.\n",
        "\n",
        "Implement a base class called Sleep Tracker with attributes for bedtime and wakeup times and virtual functions for input and duration calculation.\n",
        "\n",
        "Derive two subclasses, Weekdaysleep and WeekendSleep, inheriting from Sleep Tracker.\n",
        "\n",
        "Override the virtual functions for specific behavior on weekdays and weekends.\n",
        "\n",
        "Input Format:\n",
        "\n",
        "The first line consists of four space-separated integers, representing the bedtime hour, minute, wakeup hour, and minute for a weekday.\n",
        "\n",
        "The second line consists of four space-separated integers, representing the bedtime hour, minute, wakeup hour, and minute for a weekend.\n",
        "\n",
        "Output format:\n",
        "\n",
        "The first two lines are in the format \"Weekday: Xh Ym\" and \"Weekend: Xh Ym\", where:\n",
        "\n",
        "X is the number of hours.\n",
        "\n",
        "Y is the number of minutes.\n",
        "\n",
        "The third line is a statement comparing the sleep durations:\n",
        "\n",
        "If the user slept more on weekdays, it outputs:\n",
        "\n",
        "\"User slept more on weekdays.\"\n",
        "\n",
        "If the user slept more on the weekend, it outputs:\n",
        "\n",
        "\"User slept more on the weekend.\"\n",
        "\n",
        "If the user slept the same amount on weekdays and the weekend, it outputs: \"User slept the same amount on weekdays and the weekend.\""
      ]
    },
    {
      "cell_type": "code",
      "execution_count": null,
      "metadata": {
        "colab": {
          "base_uri": "https://localhost:8080/"
        },
        "id": "q8T1kD-lL_ZI",
        "outputId": "e52f9165-5f57-43a3-8277-27b246f6bec6"
      },
      "outputs": [
        {
          "name": "stdout",
          "output_type": "stream",
          "text": [
            "Overwriting program.c\n"
          ]
        }
      ],
      "source": [
        "%%writefile program.c\n",
        "#include <iostream>\n",
        "using namespace std;\n",
        "\n",
        "\n",
        "\n",
        "class SleepTracker {\n",
        "protected:\n",
        "    int bedHour, bedMin, wakeHour, wakeMin;\n",
        "\n",
        "public:\n",
        "    virtual void input()=0;\n",
        "    virtual int calculateDuration()=0;\n",
        "};\n",
        "\n",
        "\n",
        "class WeekdaySleep : public SleepTracker {\n",
        "public:\n",
        "    void input() override {\n",
        "        cin >> bedHour >> bedMin >> wakeHour >> wakeMin;\n",
        "    }\n",
        "\n",
        "    int calculateDuration() override {\n",
        "        int bedTime = bedHour * 60 + bedMin;\n",
        "        int wakeTime = wakeHour * 60 + wakeMin;\n",
        "        if (wakeTime <= bedTime) {\n",
        "         wakeTime += 24 * 60;\n",
        "    }\n",
        "\n",
        "        return wakeTime - bedTime;\n",
        "    }\n",
        "};\n",
        "\n",
        "\n",
        "class WeekendSleep : public SleepTracker {\n",
        "public:\n",
        "    void input() override {\n",
        "        cin >> bedHour >> bedMin >> wakeHour >> wakeMin;\n",
        "    }\n",
        "\n",
        "    int calculateDuration() override {\n",
        "        int bedTime = bedHour * 60 + bedMin;\n",
        "        int wakeTime = wakeHour * 60 + wakeMin;\n",
        "        if (wakeTime <= bedTime) {\n",
        "           wakeTime += 24 * 60;\n",
        "        }\n",
        "        return wakeTime - bedTime;\n",
        "    }\n",
        "};\n",
        "\n",
        "\n",
        "void displayDuration(string label, int totalMinutes) {\n",
        "    int hours = totalMinutes / 60;\n",
        "    int minutes = totalMinutes % 60;\n",
        "    cout << label << \": \" << hours << \"h \" << minutes << \"m\" << endl;\n",
        "}\n",
        "\n",
        "int main() {\n",
        "    WeekdaySleep weekday;\n",
        "    WeekendSleep weekend;\n",
        "\n",
        "\n",
        "    weekday.input();\n",
        "    weekend.input();\n",
        "\n",
        "    int weekdayDuration = weekday.calculateDuration();\n",
        "    int weekendDuration = weekend.calculateDuration();\n",
        "\n",
        "    displayDuration(\"Weekday\", weekdayDuration);\n",
        "    displayDuration(\"Weekend\", weekendDuration);\n",
        "\n",
        "    if (weekdayDuration > weekendDuration)\n",
        "        cout << \"User slept more on weekdays.\" << endl;\n",
        "    else if (weekendDuration > weekdayDuration)\n",
        "        cout << \"User slept more on the weekend.\" << endl;\n",
        "    else\n",
        "        cout << \"User slept the same amount on weekdays and the weekend.\" << endl;\n",
        "\n",
        "    return 0;\n",
        "}\n",
        "\n"
      ]
    },
    {
      "cell_type": "code",
      "execution_count": null,
      "metadata": {
        "colab": {
          "base_uri": "https://localhost:8080/"
        },
        "id": "sE1hpJP6lVu9",
        "outputId": "61a5baf4-89db-41f5-eed6-fd5177701249"
      },
      "outputs": [
        {
          "name": "stdout",
          "output_type": "stream",
          "text": [
            "22 00 08 00\n",
            "23 00 10 00\n",
            "Weekday: 10h 0m\n",
            "Weekend: 11h 0m\n",
            "User slept more on the weekend.\n"
          ]
        }
      ],
      "source": [
        "!g++ program.c -o program\n",
        "! ./program\n"
      ]
    },
    {
      "cell_type": "markdown",
      "metadata": {
        "id": "n6D-rV1KMANb"
      },
      "source": [
        "Problem Statement\n",
        "\n",
        "Renu works for a retail store that sells two types of items: wooden items and electronics. The store needs a program to calculate the total amount for a customer's purchase based on their choice of item type and the quantity or cost of the item(s).\n",
        "\n",
        "Create a base class, Item Type, with one virtual function.\n",
        "\n",
        "virtual double calculateAmount()\n",
        "\n",
        "Create a class called wooden that extends Item Type with a number of items and cost as its private attributes. Obtain the data members and override the virtual function.\n",
        "\n",
        "amount = number of items * cost\n",
        "\n",
        "Create a class for electronics that extends Item Type with cost as its private attribute. Obtain the data member and override the virtual function.\n",
        "\n",
        "amount = 80% of the amount (20% discount)\n",
        "\n",
        "In the main method, obtain a choice.\n",
        "\n",
        "If the choice is 1, create an object for the wooden class and call the method.\n",
        "\n",
        "If the choice is 2, create an object for the electronics class and call the method.\n",
        "\n",
        "Input format:\n",
        "\n",
        "The first line of input consists of an integer, choice (1 for Wooden, 2 for Electronics). If choice is 1 (Wodden), the second line consists of two values, an integer noOfItems representing the number of items and a floating-point number cost representing the cost per item, separated by a space. If choice is 2 (for Electronics items), a floating-point number cost is expected, representing the cost of the Electronics item.\n",
        "\n",
        "Output format:\n",
        "\n",
        "The program calculates the total amount for the chosen item type based on the given input. It then prints the calculated amount with exactly two decimal places.\n",
        "\n",
        "If the input choice is not 1 or 2, the program will print \"Invalid choice.\""
      ]
    },
    {
      "cell_type": "code",
      "execution_count": null,
      "metadata": {
        "colab": {
          "base_uri": "https://localhost:8080/"
        },
        "id": "FUEOrOl5MArV",
        "outputId": "9752b3de-45f9-45b2-ee42-d371954e8b6e"
      },
      "outputs": [
        {
          "name": "stdout",
          "output_type": "stream",
          "text": [
            "Overwriting program.c\n"
          ]
        }
      ],
      "source": [
        "%%writefile program.c\n",
        "#include <iostream>\n",
        "#include <iomanip>\n",
        "using namespace std;\n",
        "\n",
        "class ItemType {\n",
        "  public:\n",
        "    virtual double calculateAmount()=0;\n",
        "\n",
        "};\n",
        "\n",
        "class Wooden:public ItemType{\n",
        "  private:\n",
        "    double cost;\n",
        "    int noofitems;\n",
        "\n",
        "  public:\n",
        "    Wooden(double c, int n) {\n",
        "      cost=c;\n",
        "      noofitems=n;\n",
        "    }\n",
        "\n",
        "    double calculateAmount() override {\n",
        "      return cost*noofitems;\n",
        "    }\n",
        "\n",
        "};\n",
        "\n",
        "class Electronics : public ItemType{\n",
        "  private:\n",
        "    double cost;\n",
        "\n",
        "  public:\n",
        "    Electronics(double c){\n",
        "      cost=c;\n",
        "    }\n",
        "\n",
        "    double calculateAmount() override {\n",
        "      return cost*0.8;\n",
        "    }\n",
        "\n",
        "};\n",
        "\n",
        "int main() {\n",
        "  int choice;\n",
        "  cin>>choice;\n",
        "  int noofitems;\n",
        "  double cost;\n",
        "\n",
        "  if(choice==1) {\n",
        "    cin>>noofitems;\n",
        "    cin>>cost;\n",
        "    Wooden w(cost,noofitems);\n",
        "    cout<<fixed<<setprecision(2)<<w.calculateAmount()<<endl;;\n",
        "  }\n",
        "\n",
        "  else if(choice==2) {\n",
        "    cin>>cost;\n",
        "    Electronics e(cost);\n",
        "    cout<<fixed<<setprecision(2)<<e.calculateAmount()<<endl;\n",
        "  }\n",
        "\n",
        "  else{\n",
        "    cout<<\"invalid choice\"<<endl;\n",
        "  }\n",
        "\n",
        "\n",
        "}"
      ]
    },
    {
      "cell_type": "code",
      "execution_count": null,
      "metadata": {
        "colab": {
          "base_uri": "https://localhost:8080/"
        },
        "id": "5zZ1nr3EMAv0",
        "outputId": "9e40e532-2015-424c-9e8d-5c365c49cb09"
      },
      "outputs": [
        {
          "name": "stdout",
          "output_type": "stream",
          "text": [
            "1\n",
            "10\n",
            "20.0\n",
            "200.00\n"
          ]
        }
      ],
      "source": [
        "!g++ program.c -o program\n",
        "! ./program"
      ]
    },
    {
      "cell_type": "markdown",
      "metadata": {
        "id": "KVzglfmbSPVd"
      },
      "source": [
        "Problem Statement\n",
        "\n",
        "Create a program that manages student information and grades for two types of students: Undergraduate (U) and Graduate (G). The program allows users to input a student's name, roll number, and type ('U' for Undergraduate or 'G' for Graduate). Depending on the type, the program calculates and displays the total grade for the student.\n",
        "\n",
        "Classes and Virtual Functions: Student (Base Class)\n",
        "\n",
        "Virtual Functions\n",
        "\n",
        "virtual void inputGrades(): Handles grade input.\n",
        "\n",
        "virtual void calculateGrade(): Calculates and displays the total grade.\n",
        "\n",
        "Undergraduate Student (Derived Class):\n",
        "\n",
        "Inherits from Student.\n",
        "\n",
        "Overrides virtual functions for grade input and grade calculation for Undergraduate students.\n",
        "\n",
        "Graduate Student (Derived Class):\n",
        "\n",
        "Inherits from Student.\n",
        "\n",
        "Overrides virtual functions for grade input and grade calculation for Graduate students.\n",
        "\n",
        "Input format:\n",
        "\n",
        "The first line of input consists of a string, representing the student's name.\n",
        "\n",
        "The second line of input consists of a string, representing the student's roll number.\n",
        "\n",
        "The third line of input consists of a character 'U' for Undergraduate student or 'G' for Graduate student.\n",
        "\n",
        "If the student is an Undergraduate student, the next two lines contain two integers representing the midterm and final grades.\n",
        "\n",
        "If the student is a Graduate student, the next two lines contain two integers representing the research and presentation grades.\n",
        "\n",
        "Output format:\n",
        "\n",
        "The output displays the following information:\n",
        "\n",
        "The first line of output should display \"Name: \" followed by the student's name.\n",
        "\n",
        "The second line of output should display \"Roll Number: \"followed by the student's roll number.\n",
        "\n",
        "The third line of output should display \"Total Grade: \"followed by the calculated average grade."
      ]
    },
    {
      "cell_type": "code",
      "execution_count": null,
      "metadata": {
        "colab": {
          "base_uri": "https://localhost:8080/"
        },
        "id": "CBwx0LRZSQAp",
        "outputId": "8ae683ad-891e-4184-c86c-1924ee4ecf56"
      },
      "outputs": [
        {
          "name": "stdout",
          "output_type": "stream",
          "text": [
            "Overwriting program.c\n"
          ]
        }
      ],
      "source": [
        "%%writefile program.c\n",
        "#include <iostream>\n",
        "using namespace std;\n",
        "\n",
        "class Student {\n",
        "  protected:\n",
        "    string name,rollno;\n",
        "\n",
        "  public:\n",
        "    Student(string n, string r){\n",
        "      name=n;\n",
        "      rollno=r;\n",
        "    }\n",
        "\n",
        "    virtual void inputGrades()=0;\n",
        "    virtual int calculateGrade()=0;\n",
        "\n",
        "};\n",
        "\n",
        "class Undergraduate:public Student{\n",
        "  protected:\n",
        "    int midterm,final;\n",
        "\n",
        "  public:\n",
        "    Undergraduate(string n, string r, int m, int f):Student(n,r){\n",
        "      midterm=m;\n",
        "      final=f;\n",
        "    }\n",
        "\n",
        "    void inputGrades() override {\n",
        "      cin>>midterm;\n",
        "      cin>>final;\n",
        "    }\n",
        "\n",
        "    int calculateGrade() override {\n",
        "      return (midterm+final)/2;\n",
        "    }\n",
        "\n",
        "    void displayUG() {\n",
        "      cout<<\"Name:\"<<name<<endl;\n",
        "      cout<<\"Roll no:\"<<rollno<<endl;\n",
        "      cout<<\"Grade:\"<<calculateGrade()<<endl;\n",
        "    }\n",
        "\n",
        "\n",
        "};\n",
        "\n",
        "class Graduate:public Student{\n",
        "   protected:\n",
        "    int research,ppt;\n",
        "\n",
        "  public:\n",
        "    Graduate(string n, string r, int re, int p):Student(n,r){\n",
        "      research=re;\n",
        "      ppt=p;\n",
        "    }\n",
        "\n",
        "    void inputGrades() override {\n",
        "      cin>>research;\n",
        "      cin>>ppt;\n",
        "    }\n",
        "\n",
        "    int calculateGrade() override {\n",
        "      return (research+ppt)/2;\n",
        "    }\n",
        "\n",
        "    void displayG() {\n",
        "      cout<<\"Name:\"<<name<<endl;\n",
        "      cout<<\"Roll no:\"<<rollno<<endl;\n",
        "      cout<<\"Grade:\"<<calculateGrade()<<endl;\n",
        "    }\n",
        "\n",
        "\n",
        "};\n",
        "\n",
        "int main() {\n",
        "  string name,rollno;\n",
        "  char type;\n",
        "  int midterm,final,research,ppt;\n",
        "\n",
        "  cin>>name;\n",
        "  cin>>rollno;\n",
        "  cin>>type;\n",
        "\n",
        "\n",
        "  if(type=='U') {\n",
        "    Undergraduate ug(name,rollno,midterm,final);\n",
        "    ug.inputGrades();\n",
        "    ug.calculateGrade();\n",
        "    ug.displayUG();\n",
        "  }\n",
        "\n",
        "  else if(type=='G') {\n",
        "    Graduate g(name,rollno,research,ppt);\n",
        "    g.inputGrades();\n",
        "    g.calculateGrade();\n",
        "    g.displayG();\n",
        "  }\n",
        "\n",
        "  else{\n",
        "    cout<<\"invalid\"<<endl;\n",
        "  }\n",
        "\n",
        "\n",
        "return 0;\n",
        "\n",
        "}\n",
        "\n"
      ]
    },
    {
      "cell_type": "code",
      "execution_count": null,
      "metadata": {
        "colab": {
          "base_uri": "https://localhost:8080/"
        },
        "collapsed": true,
        "id": "CNNBy9y-SQFF",
        "outputId": "e09df373-d809-409f-e8a8-eae5f10e1e55"
      },
      "outputs": [
        {
          "name": "stdout",
          "output_type": "stream",
          "text": [
            "magi\n",
            "311\n",
            "U\n",
            "50 30\n",
            "Name:magi\n",
            "Roll no:311\n",
            "Grade:40\n"
          ]
        }
      ],
      "source": [
        "!g++ program.c -o program\n",
        "! ./program"
      ]
    },
    {
      "cell_type": "markdown",
      "metadata": {
        "id": "jS52_arKQP2g"
      },
      "source": [
        "PURE VIRTUAL FUNCTIONS"
      ]
    },
    {
      "cell_type": "markdown",
      "metadata": {
        "id": "qjjHmh4mQQOI"
      },
      "source": [
        "Problem Statement\n",
        "\n",
        "Rohith is designing a program that consists of a base class Expression with a pure virtual function evaluate().\n",
        "\n",
        "There are two derived classes PowerAB and PowerBA representing expressions of the form ab and ba respectively, where a and b are real numbers. The program takes the values of a and b as input and calculates and displays the power results for both types of expressions.\n",
        "\n",
        "Note: Use the pow function from the math library to calculate the power value.\n",
        "\n",
        "Input format:\n",
        "\n",
        "The input consists of two space-separated double values a and b.\n",
        "\n",
        "Output format:\n",
        "\n",
        "The first line of output prints the value of ab as a double-value, rounded off to two decimal places. The second line prints the value of bº as a double-value, rounded off to two decimal places."
      ]
    },
    {
      "cell_type": "code",
      "execution_count": null,
      "metadata": {
        "colab": {
          "base_uri": "https://localhost:8080/"
        },
        "id": "cTxw62xNQQf1",
        "outputId": "4bae77fc-ad4c-44c0-f0da-93a308435edf"
      },
      "outputs": [
        {
          "name": "stdout",
          "output_type": "stream",
          "text": [
            "Overwriting program.c\n"
          ]
        }
      ],
      "source": [
        "%%writefile program.c\n",
        "#include <iostream>\n",
        "#include <iomanip>\n",
        "#include <cmath>\n",
        "using namespace std;\n",
        "\n",
        "class Expression {\n",
        "\n",
        "  public:\n",
        "    virtual double evaluate(int a, int b) = 0;\n",
        "\n",
        "};\n",
        "\n",
        "class PowerAB:public Expression {\n",
        "  public:\n",
        "  virtual double evaluate(int a,int b) {\n",
        "    return pow(a,b);\n",
        "  }\n",
        "\n",
        "\n",
        "};\n",
        "\n",
        "class PowerBA:public Expression {\n",
        "  public:\n",
        "  virtual double evaluate(int a,int b) {\n",
        "    return pow(b,a);\n",
        "  }\n",
        "\n",
        "};\n",
        "\n",
        "int main() {\n",
        "  double a,b;\n",
        "  cin>>a>>b;\n",
        "\n",
        "  PowerAB obj1;\n",
        "  PowerBA obj2;\n",
        "\n",
        "  cout<<\"a power b: \"<<obj1.evaluate(a,b)<<endl;\n",
        "  cout<<\"b power a: \"<<obj2.evaluate(a,b)<<endl;\n",
        "\n",
        "  return 0;\n",
        "\n",
        "}"
      ]
    },
    {
      "cell_type": "code",
      "execution_count": null,
      "metadata": {
        "colab": {
          "base_uri": "https://localhost:8080/"
        },
        "id": "TGdJwNX8QQjp",
        "outputId": "a7ddbd67-889d-4e83-df65-875354629bdd"
      },
      "outputs": [
        {
          "name": "stdout",
          "output_type": "stream",
          "text": [
            "2 3\n",
            "a power b: 8\n",
            "b power a: 9\n"
          ]
        }
      ],
      "source": [
        "!g++ program.c -o program\n",
        "! ./program"
      ]
    },
    {
      "cell_type": "markdown",
      "metadata": {
        "id": "5rEtlBetQ8FX"
      },
      "source": [
        "Problem Statement\n",
        "\n",
        "Imagine you are creating a hotel room pricing system with a class Hotel featuring a pure virtual function calculatePrice() to calculate prices based on nights and guests. Derived classes SingleRoom and DoubleRoom implement this function.\n",
        "\n",
        "Base cost calculation:\n",
        "\n",
        "1. For Single room - Rs. 100 per night\n",
        "\n",
        "2. For Double room - Rs. 150 per night\n",
        "\n",
        "Additional cost calculation:\n",
        "\n",
        "3. If guests stay for more than 5 nights, they avail a 10% discount.\n",
        "\n",
        "4. If guests stay for 5 or fewer nights, add Rs. 15 service charge.\n",
        "\n",
        "The program takes user input for nights and guests and then calculates and displays costs for both room types.\n",
        "\n",
        "Input format:\n",
        "\n",
        "The first line of input consists of an integer n, representing the number of nights the guests will use the room.\n",
        "\n",
        "The second line consists of an integer p, representing the number of guests.\n",
        "\n",
        "Output format:\n",
        "\n",
        "The first line of output prints \"Single Room Cost: \" followed by an integer representing the cost for the single room.\n",
        "\n",
        "The second line prints \"Double Roord Cost: \" followed by an integer representing the cost for the double room."
      ]
    },
    {
      "cell_type": "code",
      "execution_count": null,
      "metadata": {
        "colab": {
          "base_uri": "https://localhost:8080/"
        },
        "id": "_lWIwa1sRAGs",
        "outputId": "50ada7c2-2526-46a5-f159-5590839cb1c9"
      },
      "outputs": [
        {
          "name": "stdout",
          "output_type": "stream",
          "text": [
            "Overwriting program.c\n"
          ]
        }
      ],
      "source": [
        "%%writefile program.c\n",
        "#include <iostream>\n",
        "using namespace std;\n",
        "\n",
        "class Hotel {\n",
        "  public:\n",
        "    virtual int calcprice(int n)=0;\n",
        "\n",
        "};\n",
        "\n",
        "class Single:public Hotel{\n",
        "  public:\n",
        "    int calcprice(int n) override{\n",
        "      if(n>5) {\n",
        "        return (100.0*n)-((100.0*n)*0.1);\n",
        "      }\n",
        "\n",
        "      else {\n",
        "        return (100.0*n)+15;\n",
        "      }\n",
        "    }\n",
        "\n",
        "};\n",
        "\n",
        "class Double:public Hotel {\n",
        "  public:\n",
        "    int calcprice(int n) override{\n",
        "      if(n>5) {\n",
        "        return (150.0*n)-0.1;\n",
        "      }\n",
        "\n",
        "      else {\n",
        "        return (150.0*n)+15;\n",
        "      }\n",
        "    }\n",
        "\n",
        "};\n",
        "\n",
        "int main() {\n",
        "  int n,p;\n",
        "  cin>>n;\n",
        "  cin>>p;\n",
        "\n",
        "  Single s;\n",
        "  Double d;\n",
        "\n",
        "  if(p==1){\n",
        "    cout<<\"single price:\"<<s.calcprice(n)<<endl;\n",
        "  }\n",
        "  else if(p==2){\n",
        "    cout<<\"double price:\"<<d.calcprice(n)<<endl;\n",
        "  }\n",
        "\n",
        "  return 0;\n",
        "\n",
        "}"
      ]
    },
    {
      "cell_type": "code",
      "execution_count": null,
      "metadata": {
        "colab": {
          "base_uri": "https://localhost:8080/"
        },
        "id": "KxgOFZzBRAK1",
        "outputId": "266f66aa-d486-4c3e-b8e8-53e55545c5b2"
      },
      "outputs": [
        {
          "name": "stdout",
          "output_type": "stream",
          "text": [
            "10\n",
            "2\n",
            "double price:1499\n"
          ]
        }
      ],
      "source": [
        "!g++ program.c -o program\n",
        "! ./program"
      ]
    },
    {
      "cell_type": "markdown",
      "metadata": {
        "id": "lca9xgykRAxi"
      },
      "source": [
        "ABSTRACT CLASSES"
      ]
    },
    {
      "cell_type": "markdown",
      "metadata": {
        "id": "IvWaS839RD-k"
      },
      "source": [
        "Problem Statement:\n",
        "\n",
        "Write a Program to calculate the current bill.\n",
        "\n",
        "Create a class currentBill with a virtual method\n",
        "\n",
        "double amount().\n",
        "\n",
        "Create a Fan\n",
        "\n",
        "Create a class Fan that extends currentBill with watts and hours as its public attributes and overrides the virtual function.\n",
        "\n",
        "Create a class Light that extends currentBill with watts and hours as its public attributes and overrides the virtual function.\n",
        "\n",
        "Create a class TV that extends currentBill with watts and hours as its public attributes and overrides the virtual function.\n",
        "\n",
        "In the main method, prompt the user to enter the power rate of the appliance and the total hours used then create the necessary objects and call the methods.\n",
        "\n",
        "Input format:\n",
        "\n",
        "The first line consists of the power rating of the fan and the total hours used separated by space.\n",
        "\n",
        "The second line consists of the power rating of Light and the total hours used separated by space.\n",
        "\n",
        "The third line consists of the power rating of the TV and the total hours used separated by space.\n",
        "\n",
        "Output format:\n",
        "\n",
        "The output prints the bill amount.\n",
        "\n",
        "Refer to the sample input and output for formatting specifications."
      ]
    },
    {
      "cell_type": "code",
      "execution_count": null,
      "metadata": {
        "colab": {
          "base_uri": "https://localhost:8080/"
        },
        "id": "qQiSt4uGRJ29",
        "outputId": "ce02a649-3e4a-4433-dab8-c6fa8346ca8e"
      },
      "outputs": [
        {
          "name": "stdout",
          "output_type": "stream",
          "text": [
            "Overwriting program.c\n"
          ]
        }
      ],
      "source": [
        "%%writefile program.c\n",
        "#include <iostream>\n",
        "using namespace std;\n",
        "\n",
        "class CurrentBill {\n",
        "  public:\n",
        "    virtual double amount()=0;\n",
        "\n",
        "};\n",
        "\n",
        "class Fan:public CurrentBill{\n",
        "  public:\n",
        "    double watts;\n",
        "    int hours;\n",
        "\n",
        "    Fan(double w, int h){\n",
        "      watts=w;\n",
        "      hours=h;\n",
        "    }\n",
        "\n",
        "    double amount()override{\n",
        "      return (watts*hours);\n",
        "    }\n",
        "\n",
        "};\n",
        "\n",
        "class Tv:public CurrentBill{\n",
        "  public:\n",
        "    double watts;\n",
        "    int hours;\n",
        "\n",
        "    Tv(double w, int h){\n",
        "      watts=w;\n",
        "      hours=h;\n",
        "    }\n",
        "\n",
        "    double amount()override{\n",
        "      return (watts*hours);\n",
        "\n",
        "    }\n",
        "\n",
        "};\n",
        "\n",
        "class Light:public CurrentBill{\n",
        "  public:\n",
        "    double watts;\n",
        "    int hours;\n",
        "\n",
        "    Light(double w, int h){\n",
        "      watts=w;\n",
        "      hours=h;\n",
        "    }\n",
        "    double amount()override{\n",
        "      return (watts*hours);\n",
        "    }\n",
        "\n",
        "};\n",
        "\n",
        "int main() {\n",
        "  int tf,tl,tt;\n",
        "  double pf,pl,pt;\n",
        "  cin>>pf>>tf;\n",
        "  cin>>pt>>tt;\n",
        "  cin>>pl>>tl;\n",
        "\n",
        "\n",
        "  Fan f(pf,tf);\n",
        "  Tv t(pt,tt);\n",
        "  Light l(pl,tl);\n",
        "\n",
        "\n",
        "\n",
        "  double total = f.amount()+ l.amount()+ t.amount();\n",
        "\n",
        "  cout<<\"total bill:\"<<total<<endl;\n",
        "\n",
        "  return 0;\n",
        "\n",
        "}"
      ]
    },
    {
      "cell_type": "code",
      "execution_count": null,
      "metadata": {
        "colab": {
          "base_uri": "https://localhost:8080/"
        },
        "id": "QeyQ4Y5mRJ7U",
        "outputId": "ab84577b-99df-4375-e6df-95e3ed152ef1"
      },
      "outputs": [
        {
          "name": "stdout",
          "output_type": "stream",
          "text": [
            "40 123\n",
            "55 200\n",
            "33 400\n",
            "total bill:29.12\n"
          ]
        }
      ],
      "source": [
        "!g++ program.c -o program\n",
        "! ./program"
      ]
    },
    {
      "cell_type": "markdown",
      "metadata": {
        "id": "LPxG2wJERKRC"
      },
      "source": [
        "Problem Statement:\n",
        "\n",
        "Create a base class named operationsBase with the following four virtual functions\n",
        "\n",
        "void addition()\n",
        "\n",
        "void subtraction()\n",
        "\n",
        "void multiplication()\n",
        "\n",
        "void division()\n",
        "\n",
        "Create a derived class named operations Derived\n",
        "\n",
        "that extends operationsBase with a and b as its private attributes and override the virtual functions.\n",
        "\n",
        "Input format:\n",
        "\n",
        "The input consists of two integers.\n",
        "\n",
        "Output format:\n",
        "\n",
        "The output prints the results of addition, subtraction, multiplication, and division separated by a space."
      ]
    },
    {
      "cell_type": "code",
      "execution_count": null,
      "metadata": {
        "colab": {
          "base_uri": "https://localhost:8080/"
        },
        "id": "UWKSs3J6RLN9",
        "outputId": "fbd669b5-e930-4d3e-8276-9c8be3331e20"
      },
      "outputs": [
        {
          "name": "stdout",
          "output_type": "stream",
          "text": [
            "Overwriting program.c\n"
          ]
        }
      ],
      "source": [
        "%%writefile program.c\n",
        "#include <iostream>\n",
        "using namespace std;\n",
        "\n",
        "class OperationBase{\n",
        "  public:\n",
        "    virtual int addition()=0;\n",
        "    virtual int subtraction()=0;\n",
        "    virtual int multiplication()=0;\n",
        "    virtual int division()=0;\n",
        "\n",
        "};\n",
        "\n",
        "class OperationDerived : public OperationBase{\n",
        "  private:\n",
        "    int a, b;\n",
        "  public:\n",
        "    OperationDerived(int A, int B){\n",
        "      a=A;\n",
        "      b=B;\n",
        "    }\n",
        "\n",
        "    int addition()override{\n",
        "      return a+b;\n",
        "\n",
        "    }\n",
        "\n",
        "    int subtraction()override{\n",
        "      return a-b;\n",
        "\n",
        "    }\n",
        "\n",
        "    int multiplication()override{\n",
        "      return a*b;\n",
        "\n",
        "    }\n",
        "\n",
        "    int division()override{\n",
        "      if (b != 0) {\n",
        "        return (a / b);\n",
        "      }\n",
        "      else{\n",
        "        return 0;\n",
        "      }\n",
        "\n",
        "    }\n",
        "\n",
        "};\n",
        "\n",
        "int main() {\n",
        "  int A,B;\n",
        "  cin>>A;\n",
        "  cin>>B;\n",
        "\n",
        "  OperationDerived od(A,B);\n",
        "\n",
        "  cout<<\"add:\"<<od.addition()<<endl;\n",
        "  cout<<\"sub:\"<<od.subtraction()<<endl;\n",
        "  cout<<\"mul:\"<<od.multiplication()<<endl;\n",
        "  cout<<\"div:\"<<od.division()<<endl;\n",
        "\n",
        "  return 0;\n",
        "}\n"
      ]
    },
    {
      "cell_type": "code",
      "execution_count": null,
      "metadata": {
        "colab": {
          "base_uri": "https://localhost:8080/"
        },
        "id": "I1Hup08QFzl-",
        "outputId": "af6a557c-fb67-4983-e201-bfdc2b088134"
      },
      "outputs": [
        {
          "name": "stdout",
          "output_type": "stream",
          "text": [
            "10 \n",
            "2\n",
            "add:12\n",
            "sub:8\n",
            "mul:20\n",
            "div:5\n"
          ]
        }
      ],
      "source": [
        "!g++ program.c -o program\n",
        "! ./program"
      ]
    },
    {
      "cell_type": "markdown",
      "metadata": {
        "id": "nsZDqNYcSZs8"
      },
      "source": [
        "FUNCTION TEMPLATES"
      ]
    },
    {
      "cell_type": "markdown",
      "metadata": {
        "id": "-I9M11UdSbkC"
      },
      "source": [
        "Pranav runs a small hotel and tracks the revenue generated from each booking. He keeps the booking amounts in an array and wants to calculate the total income from a given number of bookings.\n",
        "\n",
        "Help Pranav by writing a program that accepts the number of bookings and their respective amounts, and then calculates the total revenue using a function template. Ensure the total revenue is displayed in two decimal places.\n",
        "\n",
        "Input format:\n",
        "\n",
        "The first line contains an integer N, representing the number of bookings.\n",
        "\n",
        "The next line contains N space-separated double values, representing the booking amounts.\n",
        "\n",
        "Output format:\n",
        "\n",
        "The output displays a single double value representing the total income, displayed in two decimal places."
      ]
    },
    {
      "cell_type": "code",
      "execution_count": null,
      "metadata": {
        "colab": {
          "base_uri": "https://localhost:8080/"
        },
        "id": "qsz0_ZB1ScL0",
        "outputId": "a4d55ec1-22fa-4bde-e987-9ff3a1c3f288"
      },
      "outputs": [
        {
          "name": "stdout",
          "output_type": "stream",
          "text": [
            "Overwriting program.c\n"
          ]
        }
      ],
      "source": [
        "%%writefile program.c\n",
        "#include <iostream>\n",
        "#include<iomanip>\n",
        "using namespace std;\n",
        "\n",
        "//template <typename T>\n",
        "//T add(T a, T b) {\n",
        "//    return a + b;\n",
        "//}\n",
        "\n",
        "template <typename T>\n",
        "T calcTotalIncome(int N, T bookings) {\n",
        "  int total=0;\n",
        "  for(int i=0;i<N;i++){\n",
        "    total+=bookings[i];\n",
        "  }\n",
        "\n",
        "  return total;\n",
        "\n",
        "}\n",
        "\n",
        "int main() {\n",
        "  int N;\n",
        "  cin>>N;\n",
        "\n",
        "  double bookings[N];\n",
        "\n",
        "  for(int i=0;i<N;i++) {\n",
        "    cin>>bookings[i];\n",
        "  }\n",
        "\n",
        "  cout<<\"total income:\"<<fixed<<setprecision(2)<<calcTotalIncome<double>(N,bookings)<<endl;\n",
        "\n",
        "  return 0;\n",
        "\n",
        "}"
      ]
    },
    {
      "cell_type": "code",
      "execution_count": null,
      "metadata": {
        "colab": {
          "base_uri": "https://localhost:8080/"
        },
        "id": "Vr95wzR-ScQD",
        "outputId": "37d97046-1ad7-4866-94c9-52979db411f7"
      },
      "outputs": [
        {
          "name": "stdout",
          "output_type": "stream",
          "text": [
            "5\n",
            "total income:5\n"
          ]
        }
      ],
      "source": [
        "!g++ program.c -o program\n",
        "! ./program"
      ]
    },
    {
      "cell_type": "markdown",
      "metadata": {
        "id": "dYVvMGWCSrBS"
      },
      "source": [
        "Problem Statement\n",
        "\n",
        "\"PerfectMatch\" is a matrimony site that helps people find their life partners. Users can create profiles with three attributes: Age, Height, and Education Level. To enhance the user experience, the site wants to implement a compatibility score calculation function. The compatibility score will help users assess how well they match with potential partners based on their profiles.\n",
        "\n",
        "The compatibility score is calculated by comparing the attributes of the two profiles, and for each matching attribute, the score incileases by 10 points. If any of the attributes do not match, the score remains unchanged.\n",
        "\n",
        "Write a program that implements a function to calculate the compatibility score between two profiles.\n",
        "\n",
        "Input format:\n",
        "\n",
        "The first line of input consists of the attributes for Profile 1: age, height, and education level (separated by spaces).\n",
        "\n",
        "The second line of input consists of the attributes for Profile 2: age, height, and education level (separated by spaces).\n",
        "\n",
        "Output format:\n",
        "\n",
        "The output displays the compatibility Score between the two profiles.\n",
        "\n",
        "Refer to the problem statement on how the compatibility score is calculated."
      ]
    },
    {
      "cell_type": "code",
      "execution_count": null,
      "metadata": {
        "colab": {
          "base_uri": "https://localhost:8080/"
        },
        "id": "KpmbDYtsSwG8",
        "outputId": "f374045c-e6b8-4a4a-e220-3a0e136a27ba"
      },
      "outputs": [
        {
          "name": "stdout",
          "output_type": "stream",
          "text": [
            "Overwriting program.c\n"
          ]
        }
      ],
      "source": [
        "%%writefile program.c\n",
        "#include <iostream>\n",
        "using namespace std;\n",
        "\n",
        "template <typename T, typename T1>\n",
        "\n",
        "T calcCompatibility(T age1, T1 height1, T edu1, T age2, T1 height2, T edu2) {\n",
        "  int score=0;\n",
        "  if(age1==age2){\n",
        "    score+=10;\n",
        "  }\n",
        "  if(height1==height2){\n",
        "    score+=10;\n",
        "  }\n",
        "  if(edu1==edu2){\n",
        "    score+=10;\n",
        "  }\n",
        "\n",
        "  return score;\n",
        "\n",
        "}\n",
        "\n",
        "int main() {\n",
        "  int age1,height1,age2,height2;\n",
        "  int edu1,edu2;\n",
        "\n",
        "  cin>>age1>>height1>>edu1;\n",
        "  cin>>age2>>height2>>edu2;\n",
        "\n",
        "  cout<<\"total score:\"<<calcCompatibility<int,float>(age1,height1,edu1,age2,height2,edu2)<<endl;\n",
        "\n",
        "  return 0;\n",
        "}"
      ]
    },
    {
      "cell_type": "code",
      "execution_count": null,
      "metadata": {
        "colab": {
          "base_uri": "https://localhost:8080/"
        },
        "id": "xk7P8sDaSwLB",
        "outputId": "741bfb5c-db19-497e-e2e7-819e73e4b6cd"
      },
      "outputs": [
        {
          "name": "stdout",
          "output_type": "stream",
          "text": [
            "25 180 10\n",
            "25 0 10\n",
            "total score:20\n"
          ]
        }
      ],
      "source": [
        "!g++ program.c -o program\n",
        "! ./program"
      ]
    },
    {
      "cell_type": "markdown",
      "metadata": {
        "id": "iyq98YeGSd9n"
      },
      "source": [
        "CLASS TEMPLATES"
      ]
    },
    {
      "cell_type": "markdown",
      "metadata": {
        "id": "jFVJJQa7SeL4"
      },
      "source": [
        "Problem Statement\n",
        "\n",
        "Marton, a researcher, is working with two numerical data types: float and double. He needs a system using the class PairDerived to store these values and swap their positions when needed.\n",
        "\n",
        "Design a class template that allows Marton to input the two numbers, display them, and swap their values. The program should show-the values before and after the swap using the PairDerived class.\n",
        "\n",
        "Input format:\n",
        "\n",
        "The first line consists of a float value representing the first number.\n",
        "\n",
        "The second line consists of a double value representing the second number.\n",
        "\n",
        "Output format:\n",
        "\n",
        "Display \"Values before swap:\" followed by:\n",
        "\n",
        "\"First:\" followed by the first value.\n",
        "\n",
        "\"Second: \"followed by the second value.\n",
        "\n",
        "Display \"Values after swap:\" followed by: \"First: \" followed by the first value after swapping.\n",
        "\n",
        "\"Second: \"followed by the second value after swapping."
      ]
    },
    {
      "cell_type": "code",
      "execution_count": null,
      "metadata": {
        "colab": {
          "base_uri": "https://localhost:8080/"
        },
        "id": "1jqlxvniSexY",
        "outputId": "edc95b0a-f68d-4d04-cb43-a195b32b618c"
      },
      "outputs": [
        {
          "name": "stdout",
          "output_type": "stream",
          "text": [
            "Overwriting program.c\n"
          ]
        }
      ],
      "source": [
        "%%writefile program.c\n",
        "#include <iostream>\n",
        "using namespace std;\n",
        "\n",
        "template <typename T1, typename T2>\n",
        "\n",
        "class PairDerived{\n",
        "  private:\n",
        "    T1 num1;\n",
        "    T2 num2;\n",
        "\n",
        "  public:\n",
        "    PairDerived(T1 n1, T2 n2){\n",
        "      num1=n1;\n",
        "      num2=n2;\n",
        "    }\n",
        "\n",
        "    void display(){\n",
        "      cout<<\"Before swap:\"<<endl;\n",
        "      cout<<num1<<\",\"<<num2;\n",
        "    }\n",
        "\n",
        "    void swap(){\n",
        "      T2 temp;\n",
        "      temp=num1;\n",
        "      num1=num2;\n",
        "      num2=temp;\n",
        "\n",
        "      cout<<\"After swap:\"<<endl;\n",
        "      cout<<num1<<\",\"<<num2;\n",
        "    }\n",
        "\n",
        "\n",
        "\n",
        "};\n",
        "\n",
        "int main() {\n",
        "  float n1;\n",
        "  double n2;\n",
        "  cin>>n1;\n",
        "  cin>>n2;\n",
        "\n",
        "  PairDerived<float,double> pd(n1, n2);\n",
        "  pd.display();\n",
        "  pd.swap();\n",
        "\n",
        "  return 0;\n",
        "\n",
        "}"
      ]
    },
    {
      "cell_type": "code",
      "execution_count": null,
      "metadata": {
        "colab": {
          "base_uri": "https://localhost:8080/"
        },
        "id": "nfVjmvlNSe1_",
        "outputId": "86f72406-d4fb-4a45-ca61-74a15839a666"
      },
      "outputs": [
        {
          "name": "stdout",
          "output_type": "stream",
          "text": [
            "\u001b[01m\u001b[Kprogram.c:\u001b[m\u001b[K In function ‘\u001b[01m\u001b[Kint main()\u001b[m\u001b[K’:\n",
            "\u001b[01m\u001b[Kprogram.c:42:27:\u001b[m\u001b[K \u001b[01;31m\u001b[Kerror: \u001b[m\u001b[Kwrong number of template arguments (2, should be 1)\n",
            "   42 |   PairDerived<float,double\u001b[01;31m\u001b[K>\u001b[m\u001b[K pd(n1, n2);\n",
            "      |                           \u001b[01;31m\u001b[K^\u001b[m\u001b[K\n",
            "\u001b[01m\u001b[Kprogram.c:6:7:\u001b[m\u001b[K \u001b[01;36m\u001b[Knote: \u001b[m\u001b[Kprovided for ‘\u001b[01m\u001b[Ktemplate<class T> class PairDerived\u001b[m\u001b[K’\n",
            "    6 | class \u001b[01;36m\u001b[KPairDerived\u001b[m\u001b[K{\n",
            "      |       \u001b[01;36m\u001b[K^~~~~~~~~~~\u001b[m\u001b[K\n",
            "\u001b[01m\u001b[Kprogram.c:42:38:\u001b[m\u001b[K \u001b[01;31m\u001b[Kerror: \u001b[m\u001b[Kexpression list treated as compound expression in initializer [\u001b[01;31m\u001b[K\u001b]8;;https://gcc.gnu.org/onlinedocs/gcc/Warning-Options.html#index-fpermissive\u0007-fpermissive\u001b]8;;\u0007\u001b[m\u001b[K]\n",
            "   42 |   PairDerived<float,double> pd(n1, n2\u001b[01;31m\u001b[K)\u001b[m\u001b[K;\n",
            "      |                                      \u001b[01;31m\u001b[K^\u001b[m\u001b[K\n",
            "\u001b[01m\u001b[Kprogram.c:43:6:\u001b[m\u001b[K \u001b[01;31m\u001b[Kerror: \u001b[m\u001b[Krequest for member ‘\u001b[01m\u001b[Kdisplay\u001b[m\u001b[K’ in ‘\u001b[01m\u001b[Kpd\u001b[m\u001b[K’, which is of non-class type ‘\u001b[01m\u001b[Kint\u001b[m\u001b[K’\n",
            "   43 |   pd.\u001b[01;31m\u001b[Kdisplay\u001b[m\u001b[K();\n",
            "      |      \u001b[01;31m\u001b[K^~~~~~~\u001b[m\u001b[K\n",
            "\u001b[01m\u001b[Kprogram.c:44:6:\u001b[m\u001b[K \u001b[01;31m\u001b[Kerror: \u001b[m\u001b[Krequest for member ‘\u001b[01m\u001b[Kswap\u001b[m\u001b[K’ in ‘\u001b[01m\u001b[Kpd\u001b[m\u001b[K’, which is of non-class type ‘\u001b[01m\u001b[Kint\u001b[m\u001b[K’\n",
            "   44 |   pd.\u001b[01;31m\u001b[Kswap\u001b[m\u001b[K();\n",
            "      |      \u001b[01;31m\u001b[K^~~~\u001b[m\u001b[K\n",
            "^C\n"
          ]
        }
      ],
      "source": [
        "!g++ program.c -o program\n",
        "! ./program"
      ]
    },
    {
      "cell_type": "code",
      "execution_count": null,
      "metadata": {
        "colab": {
          "base_uri": "https://localhost:8080/"
        },
        "id": "Xb6QxFHb5cbp",
        "outputId": "44565041-99be-4ecc-e34b-4f07f2c1a3be"
      },
      "outputs": [
        {
          "name": "stdout",
          "output_type": "stream",
          "text": [
            "Overwriting program.c\n"
          ]
        }
      ],
      "source": [
        "%%writefile program.c\n",
        "#include <iostream>\n",
        "using namespace std;\n",
        "\n",
        "template <typename T1, typename T2>\n",
        "class PairDerived {\n",
        "private:\n",
        "    T1 first;\n",
        "    T2 second;\n",
        "\n",
        "public:\n",
        "    PairDerived(T1 f, T2 s) {\n",
        "      first=f;\n",
        "      second=s;\n",
        "    }\n",
        "\n",
        "    void displayValues(string msg) {\n",
        "        cout << msg << endl;\n",
        "        cout << \"First: \" << first << endl;\n",
        "        cout << \"Second: \" << second << endl;\n",
        "    }\n",
        "\n",
        "    void swapValues() {\n",
        "        T1 temp = first;\n",
        "        //first = static_cast<T1>(second);\n",
        "        //second = static_cast<T2>(temp);\n",
        "        first=T1(second);\n",
        "        second=T2(temp);\n",
        "    }\n",
        "};\n",
        "\n",
        "int main() {\n",
        "    float firstValue;\n",
        "    double secondValue;\n",
        "\n",
        "    cout << \"Enter the first value: \";\n",
        "    cin >> firstValue;\n",
        "    cout << \"Enter the second value: \";\n",
        "    cin >> secondValue;\n",
        "\n",
        "    PairDerived<float, double> pd(firstValue, secondValue);\n",
        "\n",
        "    pd.displayValues(\"Values before swap:\"); //msg\n",
        "    pd.swapValues();\n",
        "    pd.displayValues(\"Values after swap:\");\n",
        "\n",
        "    return 0;\n",
        "}"
      ]
    },
    {
      "cell_type": "code",
      "execution_count": null,
      "metadata": {
        "colab": {
          "base_uri": "https://localhost:8080/"
        },
        "id": "JXpmc34w7Lut",
        "outputId": "ea945f4a-9a78-4e2c-d5ac-5e738e9f2923"
      },
      "outputs": [
        {
          "name": "stdout",
          "output_type": "stream",
          "text": [
            "Enter the first value: 1\n",
            "Enter the second value: 2\n",
            "Values before swap:\n",
            "First: 1\n",
            "Second: 2\n",
            "Values after swap:\n",
            "First: 2\n",
            "Second: 1\n"
          ]
        }
      ],
      "source": [
        "!g++ program.c -o program\n",
        "! ./program"
      ]
    },
    {
      "cell_type": "markdown",
      "metadata": {
        "id": "T347ELDsJ9E-"
      },
      "source": [
        "#Struct Sample Programs\n",
        " Define a structure for a Car with the following fields: model, year, and price. Create an array of 5 Car structures and initialize it with sample data. Write a program to find and print the details of the car with the highest price."
      ]
    },
    {
      "cell_type": "code",
      "execution_count": null,
      "metadata": {
        "id": "FwcgjC-HK56j"
      },
      "outputs": [],
      "source": [
        "#include <stdio.h>\n",
        "\n",
        "struct Car {\n",
        "    char model[50];\n",
        "    int year;\n",
        "    float price;\n",
        "};\n",
        "\n",
        "int main() {\n",
        "    struct Car cars[5] = {\n",
        "        {\"Toyota Camry\", 2020, 24000.0},\n",
        "        {\"Honda Accord\", 2019, 22000.0},\n",
        "        {\"Tesla Model S\", 2021, 75000.0},\n",
        "        {\"Ford Mustang\", 2018, 26000.0},\n",
        "        {\"Chevrolet Malibu\", 2020, 23000.0}\n",
        "    };\n",
        "\n",
        "    int index = 0;\n",
        "    for(int i = 1; i < 5; i++) {\n",
        "        if(cars[i].price > cars[index].price) {\n",
        "            index = i;\n",
        "        }\n",
        "    }\n",
        "\n",
        "    printf(\"Car with the highest price:\\n\");\n",
        "    printf(\"Model: %s, Year: %d, Price: $%.2f\\n\", cars[index].model, cars[index].year, cars[index].price);\n",
        "\n",
        "    return 0;\n",
        "}"
      ]
    },
    {
      "cell_type": "markdown",
      "metadata": {
        "id": "Gn_QE6HPK5J8"
      },
      "source": [
        "Define a structure for a Person with the following fields: name, age, and height. Create an array of 4 Person structures and initialize it with sample data. Write a program to sort the array based on age in ascending order and print the sorted details.\n"
      ]
    },
    {
      "cell_type": "code",
      "execution_count": null,
      "metadata": {
        "id": "gqQbWsSSJ6ES"
      },
      "outputs": [],
      "source": [
        "\n",
        "#include <stdio.h>\n",
        "#include <string.h>\n",
        "\n",
        "struct Person {\n",
        "    char name[50];\n",
        "    int age;\n",
        "    float height;\n",
        "};\n",
        "\n",
        "void swap(struct Person *a, struct Person *b) {\n",
        "    struct Person temp = *a;\n",
        "    *a = *b;\n",
        "    *b = temp;\n",
        "}\n",
        "\n",
        "int main() {\n",
        "    struct Person people[4] = {\n",
        "        {\"Alice\", 30, 5.5},\n",
        "        {\"Bob\", 25, 5.8},\n",
        "        {\"Charlie\", 35, 5.7},\n",
        "        {\"Dave\", 28, 6.0}\n",
        "    };\n",
        "\n",
        "    for(int i = 0; i < 4-1; i++) {\n",
        "        for(int j = 0; j < 4-i-1; j++) {\n",
        "            if(people[j].age > people[j+1].age) {\n",
        "                swap(&people[j], &people[j+1]);\n",
        "            }\n",
        "        }\n",
        "    }\n",
        "\n",
        "    printf(\"Sorted by age:\\n\");\n",
        "    for(int i = 0; i < 4; i++) {\n",
        "        printf(\"Name: %s, Age: %d, Height: %.1f\\n\", people[i].name, people[i].age, people[i].height);\n",
        "    }\n",
        "\n",
        "    return 0;\n",
        "}\n"
      ]
    },
    {
      "cell_type": "markdown",
      "metadata": {
        "id": "XDrZR38rJ-yD"
      },
      "source": [
        "**Library Management System**\n",
        "Task: Define a structure for a Book with fields: title, author, ISBN, and availability. Create an array of 10 Book structures and initialize it with sample data. Write a program to:\n",
        "\n",
        "1. Search for a book by its ISBN.\n",
        "2. Update the availability status of a book.\n",
        "3. Print the details of all available books."
      ]
    },
    {
      "cell_type": "code",
      "execution_count": null,
      "metadata": {
        "id": "5Kk7LBFvJ6IO"
      },
      "outputs": [],
      "source": [
        "#include <stdio.h>\n",
        "#include <string.h>\n",
        "\n",
        "struct Book {\n",
        "    char title[100];\n",
        "    char author[100];\n",
        "    char ISBN[13];\n",
        "    int availability; // 1 for available, 0 for not available\n",
        "};\n",
        "\n",
        "void searchBook(struct Book books[], int size, char ISBN[]) {\n",
        "    for(int i = 0; i < size; i++) {\n",
        "        if(strcmp(books[i].ISBN, ISBN) == 0) {\n",
        "            printf(\"Book found:\\nTitle: %s\\nAuthor: %s\\nISBN: %s\\nAvailability: %s\\n\",\n",
        "                   books[i].title, books[i].author, books[i].ISBN,\n",
        "                   books[i].availability ? \"Available\" : \"Not Available\");\n",
        "            return;\n",
        "        }\n",
        "    }\n",
        "    printf(\"Book not found.\\n\");\n",
        "}\n",
        "\n",
        "void updateAvailability(struct Book books[], int size, char ISBN[], int status) {\n",
        "    for(int i = 0; i < size; i++) {\n",
        "        if(strcmp(books[i].ISBN, ISBN) == 0) {\n",
        "            books[i].availability = status;\n",
        "            printf(\"Availability updated.\\n\");\n",
        "            return;\n",
        "        }\n",
        "    }\n",
        "    printf(\"Book not found.\\n\");\n",
        "}\n",
        "\n",
        "void printAvailableBooks(struct Book books[], int size) {\n",
        "    printf(\"Available books:\\n\");\n",
        "    for(int i = 0; i < size; i++) {\n",
        "        if(books[i].availability) {\n",
        "            printf(\"Title: %s, Author: %s, ISBN: %s\\n\", books[i].title, books[i].author, books[i].ISBN);\n",
        "        }\n",
        "    }\n",
        "}\n",
        "\n",
        "int main() {\n",
        "    struct Book books[10] = {\n",
        "        {\"Book1\", \"Author1\", \"1234567890123\", 1},\n",
        "        {\"Book2\", \"Author2\", \"1234567890124\", 0},\n",
        "        {\"Book3\", \"Author3\", \"1234567890125\", 1},\n",
        "        {\"Book4\", \"Author4\", \"1234567890126\", 1},\n",
        "        {\"Book5\", \"Author5\", \"1234567890127\", 0},\n",
        "        {\"Book6\", \"Author6\", \"1234567890128\", 1},\n",
        "        {\"Book7\", \"Author7\", \"1234567890129\", 1},\n",
        "        {\"Book8\", \"Author8\", \"1234567890130\", 0},\n",
        "        {\"Book9\", \"Author9\", \"1234567890131\", 1},\n",
        "        {\"Book10\", \"Author10\", \"1234567890132\", 1}\n",
        "    };\n",
        "\n",
        "    char ISBN[13];\n",
        "    int status;\n",
        "\n",
        "    // Example usage\n",
        "    printf(\"Enter ISBN to search: \");\n",
        "    scanf(\"%s\", ISBN);\n",
        "    searchBook(books, 10, ISBN);\n",
        "\n",
        "    printf(\"Enter ISBN to update availability: \");\n",
        "    scanf(\"%s\", ISBN);\n",
        "    printf(\"Enter availability status (1 for available, 0 for not available): \");\n",
        "    scanf(\"%d\", &status);\n",
        "    updateAvailability(books, 10, ISBN, status);\n",
        "\n",
        "    printAvailableBooks(books, 10);\n",
        "\n",
        "    return 0;\n",
        "}"
      ]
    },
    {
      "cell_type": "markdown",
      "metadata": {
        "id": "Eo2hBt1eKU2i"
      },
      "source": [
        "**Student Grade Management**\n",
        "Task: Define a structure for a Student with fields: name, rollNumber, grades (an array of 5 floats). Create an array of 5 Student structures and initialize it with sample data. Write a program to:\n",
        "\n",
        "1. Calculate the average grade for each student.\n",
        "2. Find the student with the highest average grade.\n",
        "3. Print the details of all students along with their average grades."
      ]
    },
    {
      "cell_type": "code",
      "execution_count": null,
      "metadata": {
        "id": "A2W3XoIpKbBI"
      },
      "outputs": [],
      "source": [
        "#include <stdio.h>\n",
        "#include <string.h>\n",
        "\n",
        "struct Student {\n",
        "    char name[50];\n",
        "    int rollNumber;\n",
        "    float grades[5];\n",
        "};\n",
        "\n",
        "float calculateAverage(float grades[], int size) {\n",
        "    float sum = 0;\n",
        "    for(int i = 0; i < size; i++) {\n",
        "        sum += grades[i];\n",
        "    }\n",
        "    return sum / size;\n",
        "}\n",
        "\n",
        "void findHighestAverage(struct Student students[], int size) {\n",
        "    int index = 0;\n",
        "    float highestAverage = calculateAverage(students[0].grades, 5);\n",
        "    for(int i = 1; i < size; i++) {\n",
        "        float average = calculateAverage(students[i].grades, 5);\n",
        "        if(average > highestAverage) {\n",
        "            highestAverage = average;\n",
        "            index = i;\n",
        "        }\n",
        "    }\n",
        "    printf(\"Student with the highest average grade:\\nName: %s, Roll Number: %d, Average Grade: %.2f\\n\",\n",
        "           students[index].name, students[index].rollNumber, highestAverage);\n",
        "}\n",
        "\n",
        "void printStudentDetails(struct Student students[], int size) {\n",
        "    for(int i = 0; i < size; i++) {\n",
        "        float average = calculateAverage(students[i].grades, 5);\n",
        "        printf(\"Name: %s, Roll Number: %d, Average Grade: %.2f\\n\", students[i].name, students[i].rollNumber, average);\n",
        "    }\n",
        "}\n",
        "\n",
        "int main() {\n",
        "    struct Student students[5] = {\n",
        "        {\"Alice\", 1, {85.5, 90.0, 78.5, 88.0, 92.0}},\n",
        "        {\"Bob\", 2, {80.0, 85.0, 88.0, 90.0, 86.0}},\n",
        "        {\"Charlie\", 3, {78.5, 82.0, 85.0, 80.0, 79.0}},\n",
        "        {\"Dave\", 4, {92.0, 90.0, 88.0, 85.0, 87.0}},\n",
        "        {\"Eve\", 5, {88.0, 85.0, 90.0, 92.0, 89.0}}\n",
        "    };\n",
        "\n",
        "    printStudentDetails(students, 5);\n",
        "    findHighestAverage(students, 5);\n",
        "\n",
        "    return 0;\n",
        "}"
      ]
    },
    {
      "cell_type": "markdown",
      "metadata": {
        "id": "usojN2sfKcAq"
      },
      "source": [
        "**Inventory Management System**\n",
        "Task: Define a structure for a Product with fields: name, productID, quantity, and price. Create an array of 10 Product structures and initialize it with sample data. Write a program to:\n",
        "\n",
        "1. Search for a product by its productID.\n",
        "2. Update the quantity of a product.\n",
        "3. Calculate the total value of the inventory."
      ]
    },
    {
      "cell_type": "code",
      "execution_count": null,
      "metadata": {
        "id": "rW8sY67sKjR3"
      },
      "outputs": [],
      "source": [
        "#include <stdio.h>\n",
        "#include <string.h>\n",
        "\n",
        "struct Product {\n",
        "    char name[50];\n",
        "    int productID;\n",
        "    int quantity;\n",
        "    float price;\n",
        "};\n",
        "\n",
        "void searchProduct(struct Product products[], int size, int productID) {\n",
        "    for(int i = 0; i < size; i++) {\n",
        "        if(products[i].productID == productID) {\n",
        "            printf(\"Product found:\\nName: %s\\nProduct ID: %d\\nQuantity: %d\\nPrice: $%.2f\\n\",\n",
        "                   products[i].name, products[i].productID, products[i].quantity, products[i].price);\n",
        "            return;\n",
        "        }\n",
        "    }\n",
        "    printf(\"Product not found.\\n\");\n",
        "}\n",
        "\n",
        "void updateQuantity(struct Product products[], int size, int productID, int quantity) {\n",
        "    for(int i = 0; i < size; i++) {\n",
        "        if(products[i].productID == productID) {\n",
        "            products[i].quantity = quantity;\n",
        "            printf(\"Quantity updated.\\n\");\n",
        "            return;\n",
        "        }\n",
        "    }\n",
        "    printf(\"Product not found.\\n\");\n",
        "}\n",
        "\n",
        "float calculateTotalValue(struct Product products[], int size) {\n",
        "    float totalValue = 0;\n",
        "    for(int i = 0; i < size; i++) {\n",
        "        totalValue += products[i].quantity * products[i].price;\n",
        "    }\n",
        "    return totalValue;\n",
        "}\n",
        "\n",
        "int main() {\n",
        "    struct Product products[10] = {\n",
        "        {\"Product1\", 101, 50, 10.0},\n",
        "        {\"Product2\", 102, 30, 20.0},\n",
        "        {\"Product3\", 103, 20, 15.0},\n",
        "        {\"Product4\", 104, 40, 25.0},\n",
        "        {\"Product5\", 105, 10, 30.0},\n",
        "        {\"Product6\", 106, 60, 12.0},\n",
        "        {\"Product7\", 107, 70, 18.0},\n",
        "        {\"Product8\", 108, 80, 22.0},\n",
        "        {\"Product9\", 109, 90, 28.0},\n",
        "        {\"Product10\", 110, 100, 35.0}\n",
        "    };\n",
        "\n",
        "    int productID, quantity;\n",
        "\n",
        "    // Example usage\n",
        "    printf(\"Enter product ID to search: \");\n",
        "    scanf(\"%d\", &productID);\n",
        "    searchProduct(products, 10, productID);\n",
        "\n",
        "    printf(\"Enter product ID to update quantity: \");\n",
        "    scanf(\"%d\", &productID);\n",
        "    printf(\"Enter new quantity: \");\n",
        "    scanf(\"%d\", &quantity);\n",
        "    updateQuantity(products, 10, productID, quantity);\n",
        "\n",
        "    float totalValue = calculateTotalValue(products, 10);\n",
        "    printf(\"Total value of inventory: $%.2f\\n\", totalValue);\n",
        "\n",
        "    return 0;\n",
        "}"
      ]
    },
    {
      "cell_type": "markdown",
      "metadata": {
        "id": "RMIXdkKluIVI"
      },
      "source": [
        "5 sub marks of n students and calc sum and avg of each student"
      ]
    },
    {
      "cell_type": "code",
      "execution_count": null,
      "metadata": {
        "colab": {
          "base_uri": "https://localhost:8080/"
        },
        "id": "5zROEah-uJU_",
        "outputId": "7aed0ab7-d67a-4ffd-ce01-36ddbacf0da2"
      },
      "outputs": [
        {
          "name": "stdout",
          "output_type": "stream",
          "text": [
            "Overwriting program.c\n"
          ]
        }
      ],
      "source": [
        "%%writefile program.c\n",
        "#include<stdio.h>\n",
        "\n",
        "struct Student {\n",
        "  char name[50];\n",
        "  int m1,m2;\n",
        "  int sum;\n",
        "  int avg;\n",
        "};\n",
        "\n",
        "int main() {\n",
        "  int n;\n",
        "  scanf(\"%d\", &n);\n",
        "  struct Student s[n];\n",
        "  for(int i=0;i<n;i++) {\n",
        "    scanf(\"%s\", s[i].name);\n",
        "    scanf(\"%d %d\", &s[i].m1, &s[i].m2);\n",
        "    s[i].sum=s[i].m1+s[i].m2;\n",
        "    s[i].avg=s[i].sum/2;\n",
        "  }\n",
        "\n",
        "\n",
        "  for(int i=0;i<n;i++) {\n",
        "    printf(\"Name %s\\n\", s[i].name);\n",
        "    printf(\"Marks %d %d\\n\", s[i].m1, s[i].m2);\n",
        "    //printf(\"Sum %d\\n\", s[i].sum);\n",
        "    printf(\"Avg %d\\n\", s[i].avg);\n",
        "  }\n",
        "\n",
        "    int highestavg=s[0].avg;\n",
        "   for(int i=0;i<n;i++) {\n",
        "    if(s[i].avg>highestavg) {\n",
        "      highestavg=s[i].avg;\n",
        "    }\n",
        "   }\n",
        "   printf(\"Highest avg %d\\n\", highestavg);\n",
        "\n",
        "  return 0;\n",
        "\n",
        "}"
      ]
    },
    {
      "cell_type": "code",
      "execution_count": null,
      "metadata": {
        "colab": {
          "base_uri": "https://localhost:8080/"
        },
        "id": "iVQW0e7QxFV9",
        "outputId": "1f87ed22-ac73-40be-c9d2-4f97364055e0"
      },
      "outputs": [
        {
          "name": "stdout",
          "output_type": "stream",
          "text": [
            "2\n",
            "bhav\n",
            "0 10\n",
            "navya\n",
            "10 10\n",
            "Name bhav\n",
            "Marks 0 10\n",
            "Avg 5\n",
            "Name navya\n",
            "Marks 10 10\n",
            "Avg 10\n",
            "Highest avg 10\n"
          ]
        }
      ],
      "source": [
        "!g++ program.c -o program\n",
        "! ./program"
      ]
    },
    {
      "cell_type": "markdown",
      "metadata": {
        "id": "Pjjjr9DrxcHh"
      },
      "source": [
        "nested structure to read info of student"
      ]
    },
    {
      "cell_type": "code",
      "execution_count": null,
      "metadata": {
        "id": "J9OVqvZPxcat"
      },
      "outputs": [],
      "source": [
        "%%writefile program.c\n",
        "#include<stdio.h>\n",
        "\n",
        "struct Student {\n",
        "  int rollno;\n",
        "  char name[50];\n",
        "\n",
        "  struct Date{\n",
        "    int d;\n",
        "    int m;\n",
        "    int y;\n",
        "  }da;\n",
        "\n",
        "}st;\n",
        "\n",
        "st.rollno\n",
        "st.da.d\n",
        "\n"
      ]
    },
    {
      "cell_type": "markdown",
      "metadata": {
        "id": "9sJ6kQy8y_LI"
      },
      "source": [
        "Inventory Management System Task: Define a structure for a Product with fields: name, productID, quantity, and price. Create an array of 10 Product structures and initialize it with sample data. Write a program to:\n",
        "\n",
        "Search for a product by its productID.\n",
        "Update the quantity of a product.\n",
        "Calculate the total value of the inventory."
      ]
    },
    {
      "cell_type": "code",
      "execution_count": null,
      "metadata": {
        "colab": {
          "base_uri": "https://localhost:8080/"
        },
        "id": "CvpdlLssxcfP",
        "outputId": "cbbc9035-d939-4f37-86ab-a8edfc59e5da"
      },
      "outputs": [
        {
          "name": "stdout",
          "output_type": "stream",
          "text": [
            "Overwriting program.c\n"
          ]
        }
      ],
      "source": [
        "%%writefile program.c\n",
        "#include<stdio.h>\n",
        "\n",
        "struct Product {\n",
        "  char name[50];\n",
        "  int id;\n",
        "  int quan;\n",
        "  int price;\n",
        "};\n",
        "\n",
        "void SearchProduct(struct Product p[],int searchid,int n ) {\n",
        "  for(int i=0; i<n; i++) {\n",
        "    if(p[i].id==searchid) {\n",
        "      printf(\"Found: %s\\n %d\\n %d\\n %d\\n\", p[i].name, p[i].id, p[i].quan, p[i].price);\n",
        "    }\n",
        "    else {\n",
        "      printf(\"Not found\");\n",
        "    }\n",
        "  }\n",
        "}\n",
        "\n",
        "void updateQuantity(struct Product p[], int n, int searchid, int quantity) {\n",
        "    for(int i = 0; i < n; i++) {\n",
        "        if(p[i].id== searchid) {\n",
        "            p[i].quan = quantity;\n",
        "            printf(\"Quantity updated.\\n\");\n",
        "        }\n",
        "    }\n",
        "}\n",
        "\n",
        "void calculateTotalValue(struct Product p[], int n) {\n",
        "    int totalValue = 0;\n",
        "    for(int i = 0; i < n; i++) {\n",
        "        totalValue += p[i].quan*p[i].price;\n",
        "        printf(\"%d\", totalValue);\n",
        "    }\n",
        "\n",
        "}\n",
        "\n",
        "\n",
        "int main() {\n",
        "  int n;\n",
        "  scanf(\"%d\", &n);\n",
        "  struct Product p[n];\n",
        "\n",
        "  for(int i=0; i<n; i++) {\n",
        "    scanf(\"%s\", p[i].name);\n",
        "    scanf(\"%d\", &p[i].id);\n",
        "    scanf(\"%d\", &p[i].quan);\n",
        "    scanf(\"%d\", &p[i].price);\n",
        "  }\n",
        "\n",
        "  int searchid, quantity;\n",
        "\n",
        "  scanf(\"%d\", &searchid);\n",
        "  scanf(\"%d\", &quantity);\n",
        "\n",
        "  SearchProduct(p,searchid, n);\n",
        "  updateQuantity(p,n, searchid, quantity);\n",
        "  calculateTotalValue(p,n);\n",
        "\n",
        "  return 0;\n",
        "\n",
        "}"
      ]
    },
    {
      "cell_type": "code",
      "execution_count": null,
      "metadata": {
        "colab": {
          "base_uri": "https://localhost:8080/"
        },
        "id": "ILy5CJiH4sp2",
        "outputId": "ea1cae59-377e-46f2-9835-d9c8825679a9"
      },
      "outputs": [
        {
          "name": "stdout",
          "output_type": "stream",
          "text": [
            "2\n",
            "ball\n",
            "123\n",
            "2\n",
            "50\n",
            "bat\n",
            "456\n",
            "3\n",
            "20\n",
            "123\n",
            "2\n",
            "Found: ball\n",
            " 123\n",
            " 2\n",
            " 50\n",
            "Not foundQuantity updated.\n",
            "100160"
          ]
        }
      ],
      "source": [
        "!g++ program.c -o program\n",
        "! ./program"
      ]
    },
    {
      "cell_type": "markdown",
      "metadata": {
        "id": "vtoFbuLpP0dx"
      },
      "source": [
        "/*An agricultural officer maintains records of fertilizer supplies\n",
        "sent to various farmers in different villages.\n",
        "Each record contains:\n",
        "Supply ID,Farmer's name,Village name,Quantity of fertilizer\n",
        "supplied (in kilograms)\n",
        "The officer wants to calculate the total quantity of fertilizer\n",
        "supplied to a specific village.*/"
      ]
    },
    {
      "cell_type": "code",
      "execution_count": null,
      "metadata": {
        "colab": {
          "base_uri": "https://localhost:8080/"
        },
        "id": "trI-gNvl5vej",
        "outputId": "07d0b349-9ef8-477d-876b-3fcca2e3b7a4"
      },
      "outputs": [
        {
          "name": "stdout",
          "output_type": "stream",
          "text": [
            "Overwriting program.c\n"
          ]
        }
      ],
      "source": [
        "%%writefile program.c\n",
        "#include<stdio.h>\n",
        "#include<string.h>\n",
        "\n",
        "struct Farmer {\n",
        "  int supplyID;\n",
        "  char fname[50];\n",
        "  char vname[50];\n",
        "  int quantity;\n",
        "};\n",
        "\n",
        "int main() {\n",
        "  int n;\n",
        "  printf(\"enter no of rec:\");\n",
        "  scanf(\"%d\", &n);\n",
        "  struct Supply f[n];\n",
        "\n",
        "  for(int i=0;i<n;i++) {\n",
        "    scanf(\"%d\", &f[i].supplyID);\n",
        "    scanf(\"%s\", f[i].fname);\n",
        "    scanf(\"%s\", f[i].vname);\n",
        "    scanf(\"%d\", &f[i].quantity);\n",
        "  }\n",
        "\n",
        "\n",
        "  char searchVillage[50];\n",
        "  printf(\"enter village to be searched: \");\n",
        "  scanf(\"%s\", searchVillage);\n",
        "\n",
        "  int totalquan=0;\n",
        "   for(int i=0;i<n;i++) {\n",
        "    if(strcmp(f[i].vname,searchVillage)==0) {\n",
        "      totalquan+=f[i].quantity;\n",
        "    }\n",
        "   }\n",
        "\n",
        "   printf(\"Total supply to the village %s is %d\\n\", searchVillage, totalquan);\n",
        "\n",
        "   return 0;\n",
        "\n",
        "\n",
        "\n",
        "}"
      ]
    },
    {
      "cell_type": "code",
      "execution_count": null,
      "metadata": {
        "colab": {
          "base_uri": "https://localhost:8080/"
        },
        "id": "X7_bql8uW00y",
        "outputId": "4301e15f-179b-4f4c-a859-aa2f4d92f6cf"
      },
      "outputs": [
        {
          "name": "stdout",
          "output_type": "stream",
          "text": [
            "Overwriting program.c\n"
          ]
        }
      ],
      "source": [
        "%%writefile program.c\n",
        "#include <stdio.h>\n",
        "#include <string.h>\n",
        "\n",
        "#define MAX 100\n",
        "\n",
        "struct Supply {\n",
        "    int supply_id;\n",
        "    char farmer_name[50];\n",
        "    char village[50];\n",
        "    float quantity;\n",
        "};\n",
        "\n",
        "int main() {\n",
        "    struct Supply supplies[MAX];\n",
        "    int n, i;\n",
        "    char target_village[50];\n",
        "    float total_quantity = 0;\n",
        "\n",
        "    printf(\"Enter number of supply records: \");\n",
        "    scanf(\"%d\", &n);\n",
        "\n",
        "    // Input supply records\n",
        "    for (i = 0; i < n; i++) {\n",
        "        printf(\"\\nSupply #%d:\\n\", i + 1);\n",
        "        printf(\"Supply ID: \");\n",
        "        scanf(\"%d\", &supplies[i].supply_id);\n",
        "        printf(\"Farmer Name: \");\n",
        "        scanf(\" %[^\\n]\", supplies[i].farmer_name);\n",
        "        printf(\"Village Name: \");\n",
        "        scanf(\" %[^\\n]\", supplies[i].village);\n",
        "        printf(\"Quantity (kg): \");\n",
        "        scanf(\"%f\", &supplies[i].quantity);\n",
        "    }\n",
        "\n",
        "    // Input target village\n",
        "    printf(\"\\nEnter village name to calculate total fertilizer supplied: \");\n",
        "    scanf(\" %[^\\n]\", target_village);\n",
        "\n",
        "    // Calculate total quantity\n",
        "    for (i = 0; i < n; i++) {\n",
        "        if (strcmp(supplies[i].village, target_village) == 0) {\n",
        "            total_quantity = supplies[i].quantity;\n",
        "        }\n",
        "    }\n",
        "\n",
        "    printf(\"\\nTotal fertilizer supplied to %s: %.2f kg\\n\", target_village, total_quantity);\n",
        "\n",
        "    return 0;\n",
        "}\n",
        "\n"
      ]
    },
    {
      "cell_type": "code",
      "execution_count": null,
      "metadata": {
        "colab": {
          "base_uri": "https://localhost:8080/"
        },
        "id": "Nf4Mbvk2V2wP",
        "outputId": "d8dbd757-64d0-4f7a-e9da-a20cf794b745"
      },
      "outputs": [
        {
          "name": "stdout",
          "output_type": "stream",
          "text": [
            "Enter number of supply records: 2\n",
            "\n",
            "Supply #1:\n",
            "Supply ID: 12\n",
            "Farmer Name: bhavna\n",
            "Village Name: dholakpur\n",
            "Quantity (kg): 1345\n",
            "\n",
            "Supply #2:\n",
            "Supply ID: 2\n",
            "Farmer Name: navyaa\n",
            "Village Name: gugulu\n",
            "Quantity (kg): 12345\n",
            "\n",
            "Enter village name to calculate total fertilizer supplied: dholakpur\n",
            "\n",
            "Total fertilizer supplied to dholakpur: 1345.00 kg\n"
          ]
        }
      ],
      "source": [
        "!g++ program.c -o program\n",
        "! ./program"
      ]
    },
    {
      "cell_type": "code",
      "execution_count": null,
      "metadata": {
        "colab": {
          "base_uri": "https://localhost:8080/"
        },
        "id": "Pygcm-3BZhgZ",
        "outputId": "3a7e3967-0286-4ea4-d10d-a4cea78556af"
      },
      "outputs": [
        {
          "name": "stdout",
          "output_type": "stream",
          "text": [
            "Overwriting program.c\n"
          ]
        }
      ],
      "source": [
        "%%writefile program.c\n",
        "#include <iostream>\n",
        "using namespace std;\n",
        "\n",
        "class MathBattle {\n",
        "public:\n",
        "    string player1, player2;\n",
        "    int score1 = 0, score2 = 0;\n",
        "\n",
        "    void startGame() {\n",
        "        cout << \"Enter Player 1 name: \";\n",
        "        cin >> player1;\n",
        "        cout << \"Enter Player 2 name: \";\n",
        "        cin >> player2;\n",
        "\n",
        "        int ans;\n",
        "        cout << player1 << \", what is 5 + 3? \";\n",
        "        cin >> ans;\n",
        "        if (ans == 8) score1++;\n",
        "\n",
        "        cout << player2 << \", what is 6 * 2? \";\n",
        "        cin >> ans;\n",
        "        if (ans == 12) score2++;\n",
        "\n",
        "        cout << player1 << \", what is 10 - 4? \";\n",
        "        cin >> ans;\n",
        "        if (ans == 6) score1++;\n",
        "\n",
        "        cout << player2 << \", what is 9 / 3? \";\n",
        "        cin >> ans;\n",
        "        if (ans == 3) score2++;\n",
        "    }\n",
        "\n",
        "    void showResult() {\n",
        "        cout << \"\\nScores:\\n\";\n",
        "        cout << player1 << \": \" << score1 << endl;\n",
        "        cout << player2 << \": \" << score2 << endl;\n",
        "\n",
        "        if (score1 > score2)\n",
        "            cout << player1 << \" wins!\\n\";\n",
        "        else if (score2 > score1)\n",
        "            cout << player2 << \" wins!\\n\";\n",
        "        else\n",
        "            cout << \"It's a draw!\\n\";\n",
        "    }\n",
        "};\n",
        "\n",
        "int main() {\n",
        "    MathBattle game;\n",
        "    game.startGame();\n",
        "    game.showResult();\n",
        "    return 0;\n",
        "}\n",
        "\n"
      ]
    },
    {
      "cell_type": "code",
      "execution_count": null,
      "metadata": {
        "colab": {
          "base_uri": "https://localhost:8080/"
        },
        "id": "YgYmmLMXZmSk",
        "outputId": "fbb0fd4b-58c7-41f6-c6a3-8fbaafb86500"
      },
      "outputs": [
        {
          "name": "stdout",
          "output_type": "stream",
          "text": [
            "Enter Player 1 name: ^C\n"
          ]
        }
      ],
      "source": [
        "!g++ program.c -o program\n",
        "! ./program"
      ]
    },
    {
      "cell_type": "code",
      "execution_count": null,
      "metadata": {
        "colab": {
          "base_uri": "https://localhost:8080/"
        },
        "id": "DIvvWeoCaf6K",
        "outputId": "ca436797-3ba8-47fe-ebf9-a023c5bcf49c"
      },
      "outputs": [
        {
          "name": "stdout",
          "output_type": "stream",
          "text": [
            "Overwriting program.c\n"
          ]
        }
      ],
      "source": [
        "%%writefile program.c\n",
        "#include <iostream>\n",
        "using namespace std;\n",
        "\n",
        "class ReadingChallenge {\n",
        "public:\n",
        "    int totalBooks;\n",
        "    int booksRead;\n",
        "\n",
        "    void input() {\n",
        "        cout << \"Enter total number of books: \";\n",
        "        cin >> totalBooks;\n",
        "\n",
        "        cout << \"Enter number of books read: \";\n",
        "        cin >> booksRead;\n",
        "    }\n",
        "\n",
        "    float getPercentage() {\n",
        "        return (booksRead * 100.0) / totalBooks;\n",
        "    }\n",
        "};\n",
        "\n",
        "class BookwormAward {\n",
        "public:\n",
        "    void checkAward(ReadingChallenge rc) {\n",
        "        if (rc.booksRead == rc.totalBooks) {\n",
        "            cout << \"You earned the Bookworm Award!\" << endl;\n",
        "        } else {\n",
        "            cout << \"Keep reading to earn the award!\" << endl;\n",
        "        }\n",
        "    }\n",
        "};\n",
        "\n",
        "int main() {\n",
        "    ReadingChallenge rc;\n",
        "    rc.input();\n",
        "\n",
        "    cout << \"Reading Completion: \" << rc.getPercentage() << \"%\" << endl;\n",
        "\n",
        "    BookwormAward award;\n",
        "    award.checkAward(rc);\n",
        "\n",
        "    return 0;\n",
        "}\n",
        "\n"
      ]
    },
    {
      "cell_type": "code",
      "execution_count": null,
      "metadata": {
        "colab": {
          "base_uri": "https://localhost:8080/"
        },
        "id": "av81VUdcau_L",
        "outputId": "f51a6115-2331-40c8-c283-a60f61993691"
      },
      "outputs": [
        {
          "name": "stdout",
          "output_type": "stream",
          "text": [
            "Enter total number of books: 3\n",
            "Enter number of books read: 3\n",
            "Reading Completion: 100%\n",
            "You earned the Bookworm Award!\n"
          ]
        }
      ],
      "source": [
        "!g++ program.c -o program\n",
        "! ./program"
      ]
    },
    {
      "cell_type": "code",
      "execution_count": null,
      "metadata": {
        "colab": {
          "base_uri": "https://localhost:8080/"
        },
        "id": "rvs7LvuJbbH3",
        "outputId": "cbe3c767-7ae3-4a2a-e388-11e7a673aa15"
      },
      "outputs": [
        {
          "name": "stdout",
          "output_type": "stream",
          "text": [
            "Overwriting program.c\n"
          ]
        }
      ],
      "source": [
        "%%writefile program.c\n",
        "#include <iostream>\n",
        "using namespace std;\n",
        "\n",
        "class Employee {\n",
        "public:\n",
        "    int id;\n",
        "    string name;\n",
        "    float basicSalary, hra, da, pf, netSalary;\n",
        "\n",
        "    // Default Constructor\n",
        "    Employee() {\n",
        "        id = 0;\n",
        "        name = \"\";\n",
        "        basicSalary = hra = da = pf = netSalary = 0.0;\n",
        "    }\n",
        "\n",
        "    // Parameterized Constructor (Not used for array initialization)\n",
        "    Employee(int empId, string empName, float salary) {\n",
        "        id = empId;\n",
        "        name = empName;\n",
        "        basicSalary = salary;\n",
        "\n",
        "    }\n",
        "\n",
        "    // Method to calculate salary components\n",
        "    void calculateSalary() {\n",
        "        hra = 0.20 * basicSalary;\n",
        "        da  = 0.10 * basicSalary;\n",
        "        pf  = 0.08 * basicSalary;\n",
        "        netSalary = basicSalary + hra + da - pf;\n",
        "    }\n",
        "\n",
        "    // Method to take input (instead of parameterized constructor)\n",
        "    void input() {\n",
        "        cout << \"\\nEnter Employee ID: \";\n",
        "        cin >> id;\n",
        "        cin.ignore();  // Clear newline buffer\n",
        "\n",
        "        cout << \"Enter Employee Name: \";\n",
        "        getline(cin, name);  // Allows full name input\n",
        "\n",
        "        cout << \"Enter Basic Salary: \";\n",
        "        cin >> basicSalary;\n",
        "\n",
        "        // Calculate Salary\n",
        "         calculateSalary() ;\n",
        "\n",
        "\n",
        "    }\n",
        "\n",
        "    // Function to display Employee details\n",
        "    void display() {\n",
        "        cout << \"\\nID: \" << id << \"\\nName: \" << name;\n",
        "        cout << \"\\nBasic Salary: \" << basicSalary;\n",
        "        cout << \"\\nHRA (20%): \" << hra;\n",
        "        cout << \"\\nDA  (10%): \" << da;\n",
        "        cout << \"\\nPF   (8%): \" << pf;\n",
        "        cout << \"\\nNet Salary: \" << netSalary << endl;\n",
        "    }\n",
        "};\n",
        "\n",
        "int main() {\n",
        "    int n;\n",
        "\n",
        "    cout << \"Enter number of employees: \";\n",
        "    cin >> n;\n",
        "\n",
        "    if (n <= 0 || n > 10) {\n",
        "        cout << \"Invalid number of employees! Please enter between 1 and 10.\" << endl;\n",
        "        return 1;\n",
        "    }\n",
        "\n",
        "    Employee emp[n]; // Declare an array of Employee objects\n",
        "\n",
        "\n",
        "    // Taking input from the user\n",
        "    for (int i = 0; i < n; i++) {\n",
        "        cout << \"\\nEntering details for Employee \" << (i + 1) << \":\";\n",
        "        emp[i].input();  // Call input function instead of constructor\n",
        "    }\n",
        "\n",
        "    // Display all employees\n",
        "    cout << \"\\nEmployee Salary Details:\";\n",
        "    for (int i = 0; i < n; i++) {\n",
        "        emp[i].display();\n",
        "    }\n",
        "\n",
        "    return 0;\n",
        "}\n",
        "\n"
      ]
    },
    {
      "cell_type": "code",
      "execution_count": null,
      "metadata": {
        "colab": {
          "base_uri": "https://localhost:8080/"
        },
        "id": "vyU6tpYqodal",
        "outputId": "2b0a00eb-5be9-44b0-b928-f1fd2947c259"
      },
      "outputs": [
        {
          "name": "stdout",
          "output_type": "stream",
          "text": [
            "Overwriting program.c\n"
          ]
        }
      ],
      "source": [
        "%%writefile program.c\n",
        "#include <iostream>\n",
        "using namespace std;\n",
        "\n",
        "class Employee {\n",
        "public:\n",
        "    int id;\n",
        "    string name;\n",
        "    float basicSalary, hra, da, pf, netSalary;\n",
        "\n",
        "    // Default Constructor\n",
        "    Employee() {\n",
        "        id = 0;\n",
        "        name = \"\";\n",
        "        basicSalary = hra = da = pf = netSalary = 0.0;\n",
        "    }\n",
        "\n",
        "    // Parameterized Constructor (Not used for array initialization)\n",
        "    Employee(int empId, string empName, float salary) {\n",
        "        id = empId;\n",
        "        name = empName;\n",
        "        basicSalary = salary;\n",
        "\n",
        "    }\n",
        "\n",
        "    // Method to calculate salary components\n",
        "    void calculateSalary() {\n",
        "        hra = 0.20 * basicSalary;\n",
        "        da  = 0.10 * basicSalary;\n",
        "        pf  = 0.08 * basicSalary;\n",
        "        netSalary = basicSalary + hra + da - pf;\n",
        "    }\n",
        "\n",
        "    // Method to take input (instead of parameterized constructor)\n",
        "    void input() {\n",
        "        cout << \"\\nEnter Employee ID: \";\n",
        "        cin >> id;\n",
        "        cin.ignore();  // Clear newline buffer\n",
        "\n",
        "        cout << \"Enter Employee Name: \";\n",
        "        getline(cin, name);  // Allows full name input\n",
        "\n",
        "        cout << \"Enter Basic Salary: \";\n",
        "        cin >> basicSalary;\n",
        "\n",
        "        // Calculate Salary\n",
        "        calculateSalary();\n",
        "    }\n",
        "\n",
        "    // Function to display Employee details\n",
        "    void display() {\n",
        "        cout << \"\\nID: \" << id << \"\\nName: \" << name;\n",
        "        cout << \"\\nBasic Salary: \" << basicSalary;\n",
        "        cout << \"\\nHRA (20%): \" << hra;\n",
        "        cout << \"\\nDA  (10%): \" << da;\n",
        "        cout << \"\\nPF   (8%): \" << pf;\n",
        "        cout << \"\\nNet Salary: \" << netSalary << endl;\n",
        "    }\n",
        "};\n",
        "\n",
        "int main() {\n",
        "    int n;\n",
        "\n",
        "    cout << \"Enter number of employees: \";\n",
        "    cin >> n;\n",
        "\n",
        "    if (n <= 0 || n > 10) {\n",
        "        cout << \"Invalid number of employees! Please enter between 1 and 10.\" << endl;\n",
        "        return 1;\n",
        "    }\n",
        "\n",
        "    Employee emp[n]; // Declare an array of Employee objects\n",
        "\n",
        "    // Taking input from the user\n",
        "    for (int i = 0; i < n; i++) {\n",
        "        cout << \"\\nEntering details for Employee \" << (i + 1) << \":\";\n",
        "        emp[i].input();  // Call input function instead of constructor\n",
        "    }\n",
        "\n",
        "    // Display all employees\n",
        "    cout << \"\\nEmployee Salary Details:\";\n",
        "    for (int i = 0; i < n; i++) {\n",
        "        emp[i].display();\n",
        "    }\n",
        "\n",
        "    return 0;\n",
        "}\n",
        "\n"
      ]
    },
    {
      "cell_type": "code",
      "execution_count": null,
      "metadata": {
        "colab": {
          "base_uri": "https://localhost:8080/"
        },
        "id": "3hVbjfKFf-hd",
        "outputId": "f59f79e1-e7c3-46b6-f8bc-da63f03536de"
      },
      "outputs": [
        {
          "name": "stdout",
          "output_type": "stream",
          "text": [
            "Enter number of employees: 1\n",
            "\n",
            "Entering details for Employee 1:\n",
            "Enter Employee ID: 1\n",
            "Enter Employee Name: magi\n",
            "Enter Basic Salary: 100\n",
            "\n",
            "Employee Salary Details:\n",
            "ID: 1\n",
            "Name: magi\n",
            "Basic Salary: 100\n",
            "HRA (20%): 20\n",
            "DA  (10%): 10\n",
            "PF   (8%): 8\n",
            "Net Salary: 122\n"
          ]
        }
      ],
      "source": [
        "!g++ program.c -o program\n",
        "! ./program"
      ]
    },
    {
      "cell_type": "code",
      "execution_count": null,
      "metadata": {
        "colab": {
          "base_uri": "https://localhost:8080/"
        },
        "id": "hIot8WzDTPdO",
        "outputId": "28737e3b-9f1c-4d20-b9a9-e12752d0824f"
      },
      "outputs": [
        {
          "name": "stdout",
          "output_type": "stream",
          "text": [
            "Overwriting program.c\n"
          ]
        }
      ],
      "source": [
        "%%writefile program.c\n",
        "#include <iostream>\n",
        "using namespace std;\n",
        "\n",
        "class Matrix {\n",
        "  protected:\n",
        "    int r,c;\n",
        "    int mat[10][10];\n",
        "\n",
        "  public:\n",
        "\n",
        "    Matrix(int row, int col) {\n",
        "      r=row;\n",
        "      c=col;\n",
        "    }\n",
        "\n",
        "    void input() {\n",
        "      for(int i=0;i<r;i++) {\n",
        "        for(int j=0;j<c;j++){\n",
        "          cin>>mat[i][j];\n",
        "        }\n",
        "      }\n",
        "    }\n",
        "\n",
        "    Matrix operator+(Matrix& second) {\n",
        "      Matrix result(r,c);\n",
        "      for(int i=0;i<r;i++) {\n",
        "        for(int j=0;j<c;j++){\n",
        "          result.mat[i][j]=mat[i][j]+second.mat[i][j];\n",
        "        }\n",
        "      }\n",
        "       return result;\n",
        "    }\n",
        "\n",
        "     Matrix operator-(Matrix& second) {\n",
        "      Matrix result(r,c);\n",
        "      for(int i=0;i<r;i++) {\n",
        "        for(int j=0;j<c;j++){\n",
        "          result.mat[i][j]=mat[i][j]-second.mat[i][j];\n",
        "        }\n",
        "      }\n",
        "      return result;\n",
        "    }\n",
        "\n",
        "    void display() {\n",
        "        for (int i = 0; i < r; i++) {\n",
        "            for (int j = 0; j < c; j++) {\n",
        "                cout << mat[i][j] << \" \";\n",
        "            }\n",
        "            cout << \"\\n\";\n",
        "        }\n",
        "    }\n",
        "\n",
        "};\n",
        "\n",
        "int main() {\n",
        "  int r, c;\n",
        "  cin>>r>>c;\n",
        "  Matrix obj1(r,c),obj2(r,c);\n",
        "  obj1.input();\n",
        "  obj2.input();\n",
        "\n",
        "  Matrix obj3(r,c);\n",
        "\n",
        "  obj3=obj1+obj2;\n",
        "  cout<<\"addition:\"<<endl;\n",
        "  obj3.display();\n",
        "\n",
        "  obj3=obj1-obj2;\n",
        "  cout<<\"subtraction:\"<<endl;\n",
        "  obj3.display();\n",
        "\n",
        "  return 0;\n",
        "}"
      ]
    },
    {
      "cell_type": "code",
      "execution_count": null,
      "metadata": {
        "colab": {
          "base_uri": "https://localhost:8080/"
        },
        "id": "CAbct0uB32R3",
        "outputId": "26eb381b-a897-457d-b747-07140efe5017"
      },
      "outputs": [
        {
          "name": "stdout",
          "output_type": "stream",
          "text": [
            "3 3\n",
            "1 1 1 1 1 1 1 1 1\n",
            "1 1 1 1 1 1 1 1 1\n",
            "addition:\n",
            "2 2 2 \n",
            "2 2 2 \n",
            "2 2 2 \n",
            "subtraction:\n",
            "0 0 0 \n",
            "0 0 0 \n",
            "0 0 0 \n"
          ]
        }
      ],
      "source": [
        "!g++ program.c -o program\n",
        "! ./program"
      ]
    },
    {
      "cell_type": "markdown",
      "metadata": {
        "id": "uyCne-oGTP5f"
      },
      "source": [
        "1. Matrix Addition and Subtraction:\n",
        "\n",
        "Create a class Matrix that represents a 2D matrix. Overload the + and -  operator to add and subtract two matrices.\n",
        "\n",
        "2. Bank Account Management:\n",
        "\n",
        "Create a class BankAccount that represents a bank account with a balance. Overload the += operator to allow deposits and the -= operator to allow withdrawals.\n",
        "\n",
        "```\n",
        "int main() {\n",
        "    BankAccount account(1000);\n",
        "\n",
        "    account += 500; // Deposit $500\n",
        "    account.display(); // Output: Balance: $1500\n",
        "\n",
        "    account -= 200; // Withdraw $200\n",
        "    account.display(); // Output: Balance: $1300\n",
        "\n",
        "    return 0;\n",
        "}\n",
        "```\n",
        "\n",
        "\n",
        "3. Fraction (Rational Number) Comparison:\n",
        "\n",
        "Create a class Fraction that represents numerator and denominator. Overload the ==, !=, <, >, <=, and >= operators to compare factions.\n",
        "\n",
        "4. Date Comparison:\n",
        "\n",
        "Create a class Date that represents dates. Overload the ==, !=, <, >, <=, and >= operators to compare dates.\n",
        "\n",
        "\n",
        "5. Create a class Vector3D that represents a 3D vector. Overload the + and - operators to add and subtract vectors, and the * operator to perform dot product and scalar multiplication.\n",
        "\n",
        "```\n",
        "\n",
        "int main() {\n",
        "    Vector3D v1(1.0, 2.0, 3.0);\n",
        "    Vector3D v2(4.0, 5.0, 6.0);\n",
        "\n",
        "    Vector3D v3 = v1 + v2; // Add vectors\n",
        "    Vector3D v4 = v1 - v2; // Subtract vectors\n",
        "    double dotProduct = v1 * v2; // Dot product\n",
        "    Vector3D v5 = v1 * 2.0; // Scalar multiplication\n",
        "\n",
        "    v3.display(); // Output: Vector(5, 7, 9)\n",
        "    v4.display(); // Output: Vector(-3, -3, -3)\n",
        "    std::cout << \"Dot Product: \" << dotProduct << std::endl; // Output: Dot Product: 32\n",
        "    v5.display(); // Output: Vector(2, 4, 6)\n",
        "\n",
        "    return 0;\n",
        "}\n",
        "```\n",
        "\n",
        "\n",
        "\n",
        "\n",
        "\n"
      ]
    },
    {
      "cell_type": "markdown",
      "metadata": {
        "id": "QBDT6kysnwjS"
      },
      "source": [
        "PYQ's"
      ]
    },
    {
      "cell_type": "markdown",
      "metadata": {
        "id": "Qcv4duMPKaQ7"
      },
      "source": [
        "Create a base class called shape. Use this class to store two double type values that could be called triangle and rectangle from the base shape. Add to the base class, a member function get_data() to initialize base class data members and another member function display_area() to compute and display the area of figures. Make display_area() as a virtual function and redefine this function in the derived classes to suit their requirements.\n",
        "\n",
        "Using these three classes, design a program that will accept dimensions of a triangle or a rectangle interactively, and display the area.\n",
        "\n",
        "Remember the two values given as input will be treated as lengths of two sides in the case of rectangles, and as base and height in the case of triangles, and used as follows:\n",
        "\n",
        "Area of rectangle = x * y\n",
        "\n",
        "Area of triangle=%*x*y"
      ]
    },
    {
      "cell_type": "code",
      "execution_count": null,
      "metadata": {
        "colab": {
          "base_uri": "https://localhost:8080/"
        },
        "id": "mMd136lQKa5D",
        "outputId": "1cda5d7c-6da4-4735-e3b0-d1ede9a18f46"
      },
      "outputs": [
        {
          "name": "stdout",
          "output_type": "stream",
          "text": [
            "Overwriting program.c\n"
          ]
        }
      ],
      "source": [
        "%%writefile program.c\n",
        "#include <iostream>\n",
        "using namespace std;\n",
        "\n",
        "class Shape {\n",
        "  protected:\n",
        "  double l,b;\n",
        "\n",
        "  public:\n",
        "    Shape(double x, double y){\n",
        "      l=x;\n",
        "      b=y;\n",
        "    }\n",
        "\n",
        "    void getdata() {\n",
        "      cin>>l;\n",
        "      cin>>b;\n",
        "    }\n",
        "\n",
        "     virtual void displayarea() {\n",
        "\n",
        "\n",
        "    }\n",
        "\n",
        "};\n",
        "\n",
        "class Triangle:public Shape{\n",
        "  public:\n",
        "    Triangle(double x, double y):Shape(x,y){}\n",
        "\n",
        "    void displayarea() override {\n",
        "      cout<<0.5*l*b;\n",
        "    }\n",
        "\n",
        "};\n",
        "\n",
        "class Rectangle:public Shape{\n",
        "  public:\n",
        "    Rectangle(double x, double y):Shape(x,y){}\n",
        "\n",
        "    void displayarea() override{\n",
        "      cout<<l*b;\n",
        "    }\n",
        "\n",
        "};\n",
        "\n",
        "int main() {\n",
        "  double x,y;\n",
        "\n",
        "  Rectangle rect(x,y);\n",
        "  Triangle tri(x,y);\n",
        "\n",
        "  rect.getdata();\n",
        "  rect.displayarea();\n",
        "  tri.getdata();\n",
        "  tri.displayarea();\n",
        "\n",
        "    return 0;\n",
        "\n",
        "}"
      ]
    },
    {
      "cell_type": "code",
      "execution_count": null,
      "metadata": {
        "colab": {
          "base_uri": "https://localhost:8080/"
        },
        "id": "jFJ_8QSwKa9k",
        "outputId": "f0ac59cb-525e-4108-ed8f-53048070bd3c"
      },
      "outputs": [
        {
          "name": "stdout",
          "output_type": "stream",
          "text": [
            "10.00\n",
            "10.00\n",
            "100\n",
            "10.00\n",
            "10.00\n",
            "50"
          ]
        }
      ],
      "source": [
        "!g++ program.c -o program\n",
        "! ./program"
      ]
    },
    {
      "cell_type": "markdown",
      "metadata": {
        "id": "zhlnckIVSR3V"
      },
      "source": [
        "Make a class student with the name and registration number of each student. Create a derived class marks using the data members' scores in six subjects. Make a non-member function compute that displays Information about the student, such as the name, total and average of six subjects. Also display the grade for the student, assume\n",
        "\n",
        "Avg. Marks Grade\n",
        "\n",
        "90 or more S\n",
        "\n",
        "80-89 A\n",
        "\n",
        "79-60 B\n",
        "\n",
        "Below 60 F"
      ]
    },
    {
      "cell_type": "code",
      "execution_count": null,
      "metadata": {
        "colab": {
          "base_uri": "https://localhost:8080/"
        },
        "id": "Rp7gBYplSSmt",
        "outputId": "ed8eeaad-468e-4620-afb3-8d3816ced959"
      },
      "outputs": [
        {
          "name": "stdout",
          "output_type": "stream",
          "text": [
            "Overwriting program.c\n"
          ]
        }
      ],
      "source": [
        "%%writefile program.c\n",
        "#include <iostream>\n",
        "using namespace std;\n",
        "\n",
        "class Student{\n",
        "  protected:\n",
        "  string name;\n",
        "  int regno;\n",
        "\n",
        "  public:\n",
        "  Student(string n, int no){\n",
        "    name=n;\n",
        "    regno=no;\n",
        "  }\n",
        "\n",
        "};\n",
        "\n",
        "class Marks:public Student{\n",
        "  public:\n",
        "    int marks[6];\n",
        "    int sum=0;\n",
        "    int avg=0;\n",
        "    char grade;\n",
        "\n",
        "    Marks(string n, int no):Student(n,no){ }\n",
        "\n",
        "    void getdetails(){\n",
        "        for(int i=0;i<6;i++){\n",
        "            cin>>marks[i];\n",
        "        }\n",
        "    }\n",
        "    void calc(){\n",
        "         for(int i=0;i<6;i++){\n",
        "            sum+=marks[i];\n",
        "        }\n",
        "\n",
        "        avg=sum/6.0;\n",
        "\n",
        "        if(avg>=90){\n",
        "            grade = 'S';\n",
        "        }else if(avg>=80 && avg<=89){\n",
        "            grade = 'A';\n",
        "        }else if(avg>=60 && avg<=79){\n",
        "            grade = 'B';\n",
        "        }else{\n",
        "            grade = 'F';\n",
        "        }\n",
        "    }\n",
        "\n",
        "    void display (){\n",
        "        calc();\n",
        "        cout<<\"Name:\"<<name<<endl;\n",
        "        cout<<\"Registration number:\"<<regno<<endl;\n",
        "        cout<<\"Total:\"<<sum<<endl;\n",
        "        cout<<\"Average:\"<<avg<<endl;\n",
        "        cout<<\"Grade:\"<<grade;\n",
        "\n",
        "    }\n",
        "\n",
        "};\n",
        "\n",
        "int main() {\n",
        "  string n;\n",
        "  cin>>n;\n",
        "  int no;\n",
        "  cin>>no;\n",
        "\n",
        "  Marks m(n,no);\n",
        "  m.getdetails();\n",
        "  m.display();\n",
        "\n",
        "}"
      ]
    },
    {
      "cell_type": "code",
      "execution_count": null,
      "metadata": {
        "colab": {
          "base_uri": "https://localhost:8080/"
        },
        "id": "xa7cXMhTSRF-",
        "outputId": "cac6b3a5-c596-420a-ff1c-3d386627e757"
      },
      "outputs": [
        {
          "name": "stdout",
          "output_type": "stream",
          "text": [
            "magi\n",
            "311\n",
            "10 20 30 40 50 60\n",
            "Name:magi\n",
            "Registration number:311\n",
            "Total:210\n",
            "Average:35\n",
            "Grade:F"
          ]
        }
      ],
      "source": [
        "!g++ program.c -o program\n",
        "! ./program"
      ]
    },
    {
      "cell_type": "markdown",
      "metadata": {
        "id": "chpS9pJCSc0y"
      },
      "source": [
        "A software company sells a package that retails for $100. Quantity discount are given below.\n",
        "\n",
        "10% discount if purchase between 10-19 packages.\n",
        "\n",
        "20% discount if purchase between 20-49 packages.\n",
        "\n",
        "30% discount if purchase between 50-99 packages.\n",
        "\n",
        "40% discount if purchase 100 packages or more.\n",
        "\n",
        "Develop a C++ code using class and object creation to read the numbers of units purchased and computes the total cost of the purchase."
      ]
    },
    {
      "cell_type": "code",
      "execution_count": null,
      "metadata": {
        "colab": {
          "base_uri": "https://localhost:8080/"
        },
        "id": "Y8EuuXsvSfM-",
        "outputId": "c466cf26-ab1f-4c5e-aed2-434e3e16b848"
      },
      "outputs": [
        {
          "name": "stdout",
          "output_type": "stream",
          "text": [
            "Overwriting program.c\n"
          ]
        }
      ],
      "source": [
        "%%writefile program.c\n",
        "#include <iostream>\n",
        "using namespace std;\n",
        "\n",
        "class software {\n",
        "  private:\n",
        "    int n;\n",
        "    float totalcost;\n",
        "\n",
        "  public:\n",
        "    software(int num){\n",
        "      n=num;\n",
        "      totalcost=0;\n",
        "    }\n",
        "\n",
        "     void calculateCost() {\n",
        "        float discount = 0.0;\n",
        "\n",
        "        if (n >= 100) {\n",
        "            discount = 0.40;\n",
        "        } else if (n >= 50) {\n",
        "            discount = 0.30;\n",
        "        } else if (n >= 20) {\n",
        "            discount = 0.20;\n",
        "        } else if (n >= 10) {\n",
        "            discount = 0.10;\n",
        "        }\n",
        "\n",
        "        float costBeforeDiscount = n * 100.00;\n",
        "        totalcost = costBeforeDiscount - (costBeforeDiscount * discount);\n",
        "    }\n",
        "\n",
        "    void display() {\n",
        "        cout << \"Number of packages purchased: \" << n << endl;\n",
        "        cout << \"Total cost after discount: $\" << totalcost << endl;\n",
        "    }\n",
        "\n",
        "};\n",
        "\n",
        "int main() {\n",
        "  int num;\n",
        "  cin>>num;\n",
        "\n",
        "  software s(num);\n",
        "  s.calculateCost();\n",
        "  s.display();\n",
        "}\n",
        "\n"
      ]
    },
    {
      "cell_type": "code",
      "execution_count": null,
      "metadata": {
        "colab": {
          "base_uri": "https://localhost:8080/"
        },
        "id": "4w-3skNrSfWA",
        "outputId": "3dca86c4-ab59-4664-e507-82fcc6960f65"
      },
      "outputs": [
        {
          "name": "stdout",
          "output_type": "stream",
          "text": [
            "3\n",
            "Number of packages purchased: 3\n",
            "Total cost after discount: $300\n"
          ]
        }
      ],
      "source": [
        "!g++ program.c -o program\n",
        "! ./program"
      ]
    },
    {
      "cell_type": "markdown",
      "metadata": {
        "id": "iIIB9JOZm7Hm"
      },
      "source": [
        "By adopting the similar system followed in VIT to fix the course result, Implement the following hybrid inheritance with the minimum data members and member functions. Assume, there are only two internal assessments called as CAT1 and CAT2 with the weightage of 25 marks each and Final Assessment Test (FAT) performance with the weightage of 50 marks. To assign the result as \"Pass\", Final Assessment Test (FAT) Performance should be more than 40% and the Overall Performance (CAT1+ CAT2+ FAT) should be more than 50%, otherwise, print the result as \"Fail\". Further, your implementation in C++ should display the result as \"Pass\" or \"Fail\" for the \"n\" students enrolled in a course."
      ]
    },
    {
      "cell_type": "code",
      "execution_count": null,
      "metadata": {
        "colab": {
          "base_uri": "https://localhost:8080/"
        },
        "id": "flKv5iPzm9GP",
        "outputId": "7a4c3824-3147-4cc5-ce4e-0c49118ce608"
      },
      "outputs": [
        {
          "name": "stdout",
          "output_type": "stream",
          "text": [
            "Overwriting program.c\n"
          ]
        }
      ],
      "source": [
        "%%writefile program.c\n",
        "#include <iostream>\n",
        "using namespace std;\n",
        "\n",
        "base Internaln External, Derived student, create obj for student\n",
        "\n",
        "class Student{\n",
        "  protected:\n",
        "    string name;\n",
        "    int regno;\n",
        "\n",
        "  public:\n",
        "    Student(string n, int no) {\n",
        "      name=n;\n",
        "      regno=no;\n",
        "    }\n",
        "\n",
        "};\n",
        "\n",
        "class Internal:virtual public Student{\n",
        "  protected:\n",
        "    int cat1,cat2;\n",
        "  public:\n",
        "    Internal(string n, int no,int c1,int c2):Student(n,no){\n",
        "      cat1=c1;\n",
        "      cat2=c2;\n",
        "    }\n",
        "\n",
        "\n",
        "};\n",
        "\n",
        "class External:virtual public Student{\n",
        "  protected:\n",
        "    int fat;\n",
        "  public:\n",
        "    External(string n, int no, int f):Student(n,no){\n",
        "      fat=f;\n",
        "    }\n",
        "\n",
        "};\n",
        "\n",
        "class Result: public Internal,public External{\n",
        "  public:\n",
        "    Result(string n, int no, int c1, int c2, int f):Student(n,no),Internal( n,no,c1, c2), External( n, no,f){}\n",
        "\n",
        "    void display(){\n",
        "      cout<<name<<endl;\n",
        "      cout<<regno<<endl;\n",
        "      cout<<cat1+cat2<<endl;\n",
        "      cout<<fat<<endl;\n",
        "\n",
        "      if(fat>=20 && cat1+cat2>50) {\n",
        "        cout<<\"Pass\"<<endl;\n",
        "      } //check logic\n",
        "\n",
        "      else{\n",
        "        cout<<\"Fail\"<<endl;\n",
        "      }\n",
        "    }\n",
        "};\n",
        "\n",
        "int main() {\n",
        "  int noofs;\n",
        "  cin>>noofs;\n",
        "  for(int i=0;i<noofs;i++){\n",
        "    cout<<\"student \"<<i+1<<endl;\n",
        "    string n;\n",
        "    cin>>n;\n",
        "    int no,c1,c2,f;\n",
        "    cin>>no;\n",
        "    cin>>c1;\n",
        "    cin>>c2;\n",
        "    cin>>f;\n",
        "\n",
        "    Result r(n,no,c1,c2,f);\n",
        "    r.display();\n",
        "  }\n",
        "\n",
        "  return 0;\n",
        "\n",
        "\n",
        "\n",
        "}\n",
        "\n",
        "\n"
      ]
    },
    {
      "cell_type": "code",
      "execution_count": null,
      "metadata": {
        "colab": {
          "base_uri": "https://localhost:8080/"
        },
        "id": "U9IQQQ4ym9K5",
        "outputId": "4f61d37d-9401-48e2-e0ed-2c26485405f7"
      },
      "outputs": [
        {
          "name": "stdout",
          "output_type": "stream",
          "text": [
            "2\n",
            "student 1\n",
            "magi\n",
            "311\n",
            "10\n",
            "20\n",
            "60\n",
            "magi\n",
            "311\n",
            "30\n",
            "60\n",
            "Pass\n",
            "student 2\n",
            "navya'\n",
            "234\n",
            "40\n",
            "10\n",
            "70\n",
            "navya'\n",
            "234\n",
            "50\n",
            "70\n",
            "Pass\n"
          ]
        }
      ],
      "source": [
        "!g++ program.c -o program\n",
        "! ./program"
      ]
    },
    {
      "cell_type": "markdown",
      "metadata": {
        "id": "vHAw-NHQ0td3"
      },
      "source": [
        "A business man deposited his huge money in his Saving Bank Account at State Bank of India and a Current Account in his City Union Bank. Surprisingly, Income Tax Department wants to identify the bank balance of the business man in different bank accounts. To enable the balance access, Banks allows a new common outside function with the name \"Income_Tax_Checking\" as the friend to know the balance in all the Bank's accounts and identify the total balance. Here, function with the name of \"Income_Tax_Checking\" is restricted to access only the balance and not to update the balance of Bank Accounts. Develop an object oriented program to implement the above scenario and print the total balance of the Business man."
      ]
    },
    {
      "cell_type": "code",
      "execution_count": null,
      "metadata": {
        "colab": {
          "base_uri": "https://localhost:8080/"
        },
        "id": "dUsPXy-P0uMS",
        "outputId": "22eb446c-e31a-4f16-a151-48fcdbfcb95b"
      },
      "outputs": [
        {
          "name": "stdout",
          "output_type": "stream",
          "text": [
            "Overwriting program.c\n"
          ]
        }
      ],
      "source": [
        "%%writefile program.c\n",
        "#include <iostream>\n",
        "using namespace std;\n",
        "\n",
        "class CurrentAccount;//\n",
        "class SavingsAccount{\n",
        "  protected:\n",
        "    float balance;\n",
        "\n",
        "  public:\n",
        "    SavingsAccount(float b){\n",
        "      balance=b;\n",
        "    }\n",
        "\n",
        "    friend void Income_Tax_Checking(SavingsAccount sa,CurrentAccount ca);\n",
        "\n",
        "};\n",
        "\n",
        "class CurrentAccount{\n",
        "  protected:\n",
        "    float balance;\n",
        "\n",
        "  public:\n",
        "    CurrentAccount(float b){\n",
        "      balance=b;\n",
        "    }\n",
        "\n",
        "    friend void Income_Tax_Checking(SavingsAccount sa,CurrentAccount ca);\n",
        "\n",
        "\n",
        "};\n",
        "\n",
        "void Income_Tax_Checking(SavingsAccount sa, CurrentAccount ca) {\n",
        "  float total = sa.balance + ca.balance;\n",
        "  cout << \"Balance in Savings Account (SBI): ₹\" << sa.balance << endl;\n",
        "  cout << \"Balance in Current Account (CUB): ₹\" << ca.balance << endl;\n",
        "  cout << \"Total Balance: ₹\" << total << endl;\n",
        "\n",
        "}\n",
        "\n",
        "int main() {\n",
        "  float balance1, balance2;\n",
        "  cin>>balance1;\n",
        "  cin>>balance2;\n",
        "\n",
        "  SavingsAccount sa(balance1);\n",
        "  CurrentAccount ca(balance2);\n",
        "\n",
        "  Income_Tax_Checking(sa,ca);\n",
        "\n",
        "  return 0;\n",
        "\n",
        "\n",
        "}"
      ]
    },
    {
      "cell_type": "code",
      "execution_count": null,
      "metadata": {
        "colab": {
          "base_uri": "https://localhost:8080/"
        },
        "id": "oBo78-FY0uQM",
        "outputId": "5543a936-c856-48cc-c887-b69f159ffdb5"
      },
      "outputs": [
        {
          "name": "stdout",
          "output_type": "stream",
          "text": [
            "100.00\n",
            "200.00\n",
            "Balance in Savings Account (SBI): ₹100\n",
            "Balance in Current Account (CUB): ₹200\n",
            "Total Balance: ₹300\n"
          ]
        }
      ],
      "source": [
        "!g++ program.c -o program\n",
        "! ./program"
      ]
    },
    {
      "cell_type": "markdown",
      "metadata": {
        "id": "yxWR8Xw81Npi"
      },
      "source": [
        "A car rental shop has two plans. In the first plan, you can rent a car for Rs.4000 per day with unlimited kilometer. In the second plan, you can rent a car for Rs.1500 per day with an extra charge of Rs.9 per kilometer. The shop maintains a database of car details such as Car Brand Name, No of days and plan type (A/B) and and customer details such as Name, Aadhaar Number. Given a set of customers, Calculate the rent for the cars based on Plan A or Plan B on a particular day and display the customer and car details along with rent for the cars by developing a C++ code(Class and Object). Also calculate and display the total rent for that day.\n",
        "\n",
        "Output:\n",
        "\n",
        "S.No Name Aadhar No Car Name No of Days Plan Rent"
      ]
    },
    {
      "cell_type": "code",
      "execution_count": null,
      "metadata": {
        "colab": {
          "base_uri": "https://localhost:8080/"
        },
        "id": "A4zG5iZa1OTx",
        "outputId": "9d511547-a5cd-469b-96f1-632567f033ff"
      },
      "outputs": [
        {
          "name": "stdout",
          "output_type": "stream",
          "text": [
            "Overwriting program.c\n"
          ]
        }
      ],
      "source": [
        "%%writefile program.c\n",
        "#include <iostream>\n",
        "using namespace std;\n",
        "\n",
        "class Customer{\n",
        "  protected:\n",
        "    string brand;\n",
        "    int num;\n",
        "    char type;\n",
        "    string name;\n",
        "    int aadhar;\n",
        "    float km;\n",
        "\n",
        "\n",
        "  public:\n",
        "    Customer(string br,int n,char ty,string nam,int aad,float kilo){\n",
        "      brand=br;\n",
        "      num=n;\n",
        "      type=ty;\n",
        "      name=nam;\n",
        "      aadhar=aad;\n",
        "      km=kilo;\n",
        "\n",
        "    }\n",
        "\n",
        "    void getinput(){\n",
        "      cin>>brand;\n",
        "      cin>>num;\n",
        "      cin>>type;\n",
        "      cin>>name;\n",
        "      cin>>aadhar;\n",
        "      cin>>km;\n",
        "    }\n",
        "\n",
        "    float calcrent() {\n",
        "      if(type=='A'){\n",
        "        return 4000*num;\n",
        "      }\n",
        "      else if(type=='B'){\n",
        "        return (1500*num)+(9*km);\n",
        "      }\n",
        "      else{\n",
        "        return 0;\n",
        "      }\n",
        "    }\n",
        "\n",
        "    void display(int serial) {\n",
        "      cout<<serial<<\":\"<<endl;\n",
        "      cout<<name<<endl;\n",
        "      cout<<aadhar<<endl;\n",
        "      cout<<brand<<endl;\n",
        "      cout<<num<<endl;\n",
        "      cout<<type<<endl;\n",
        "      cout<<calcrent()<<endl;\n",
        "    }\n",
        "\n",
        "\n",
        "};\n",
        "\n",
        "int main() {\n",
        "  int serial;\n",
        "  cin>>serial;\n",
        "  string br,nam;\n",
        "  int n,aad;\n",
        "  char ty;\n",
        "  float kilo;\n",
        "\n",
        "  Customer c(br,n,ty,nam,aad,kilo);\n",
        "  c.getinput();\n",
        "  c.display(serial);\n",
        "\n",
        "  return 0;\n",
        "\n",
        "}\n",
        "\n"
      ]
    },
    {
      "cell_type": "code",
      "execution_count": null,
      "metadata": {
        "colab": {
          "base_uri": "https://localhost:8080/"
        },
        "id": "7UewW-KnTGER",
        "outputId": "62e6242d-536c-4b2c-b625-848f8f618d0d"
      },
      "outputs": [
        {
          "name": "stdout",
          "output_type": "stream",
          "text": [
            "Overwriting program.c\n"
          ]
        }
      ],
      "source": [
        "%%writefile program.c\n",
        "#include <iostream>\n",
        "using namespace std;\n",
        "\n",
        "class Customer{\n",
        "  protected:\n",
        "    string brand;\n",
        "    int num;\n",
        "    char type;\n",
        "    string name;\n",
        "    int aadhar;\n",
        "    float km;\n",
        "\n",
        "\n",
        "  public:\n",
        "    Customer(){\n",
        "      brand=\"\";\n",
        "      num=0;\n",
        "      type='A';\n",
        "      name=\"\";\n",
        "      aadhar=0;\n",
        "      km=0;\n",
        "\n",
        "    }\n",
        "\n",
        "    void getinput(){\n",
        "      cout<<\"enter brand\"<<endl;\n",
        "      cin>>brand;\n",
        "      cout<<\"enter no of days\"<<endl;\n",
        "      cin>>num;\n",
        "      cout<<\"enter type\"<<endl;\n",
        "      cin>>type;\n",
        "      cout<<\"enter name\"<<endl;\n",
        "      cin>>name;\n",
        "      cout<<\"enter aadhar\"<<endl;\n",
        "      cin>>aadhar;\n",
        "      cout<<\"enter km\"<<endl;\n",
        "      cin>>km;\n",
        "    }\n",
        "\n",
        "    float calcrent() {\n",
        "      if(type=='A'){\n",
        "        return 4000*num;\n",
        "      }\n",
        "      else if(type=='B'){\n",
        "        return (1500*num)+(9*km);\n",
        "      }\n",
        "      else{\n",
        "        return 0;\n",
        "      }\n",
        "    }\n",
        "\n",
        "    void display(int serial) {\n",
        "      cout<<serial<<\":\"<<endl;\n",
        "      cout<<name<<endl;\n",
        "      cout<<aadhar<<endl;\n",
        "      cout<<brand<<endl;\n",
        "      cout<<num<<endl;\n",
        "      cout<<type<<endl;\n",
        "      cout<<calcrent()<<endl;\n",
        "    }\n",
        "\n",
        "\n",
        "};\n",
        "\n",
        "int main() {\n",
        "  int N;\n",
        "  cin>>N;\n",
        "  int serial;\n",
        "\n",
        "\n",
        "  Customer c[N];\n",
        "  for(int i=0;i<N;i++){\n",
        "    cin>>serial;\n",
        "    c[i].getinput();\n",
        "  }\n",
        "  for(int i=0;i<N;i++){\n",
        "    c[i].display(serial);\n",
        "  }\n",
        "\n",
        "\n",
        "  return 0;\n",
        "\n",
        "}\n",
        "\n"
      ]
    },
    {
      "cell_type": "code",
      "execution_count": null,
      "metadata": {
        "colab": {
          "base_uri": "https://localhost:8080/"
        },
        "id": "P6kVZTRg1OX8",
        "outputId": "7df53e23-a6b5-422a-c709-4d5ff8eb60d4"
      },
      "outputs": [
        {
          "name": "stdout",
          "output_type": "stream",
          "text": [
            "2\n",
            "1\n",
            "enter brand\n",
            "Benz\n",
            "enter no of days\n",
            "50\n",
            "enter type\n",
            "A\n",
            "enter name\n",
            "Magi\n",
            "enter aadhar\n",
            "311\n",
            "enter km\n",
            "10\n",
            "enter brand\n",
            "Audi\n",
            "enter no of days\n",
            "20\n",
            "enter type\n",
            "B\n",
            "enter name\n",
            "Zuu\n",
            "enter aadhar\n",
            "456\n",
            "enter km\n",
            "20\n",
            "1:\n",
            "Magi\n",
            "311\n",
            "Benz\n",
            "50\n",
            "A\n",
            "200000\n",
            "1:\n",
            "Zuu\n",
            "456\n",
            "Audi\n",
            "20\n",
            "B\n",
            "30180\n"
          ]
        }
      ],
      "source": [
        "!g++ program.c -o program\n",
        "! ./program"
      ]
    },
    {
      "cell_type": "markdown",
      "metadata": {
        "id": "isfEBHNg1a9w"
      },
      "source": [
        "Write a C++ program using function template to find the product of two integers or floating point type of data."
      ]
    },
    {
      "cell_type": "code",
      "execution_count": null,
      "metadata": {
        "colab": {
          "base_uri": "https://localhost:8080/"
        },
        "id": "_RfYOs3j1fIS",
        "outputId": "fda91ab1-c911-4177-c7c5-b6f4cc0a71dc"
      },
      "outputs": [
        {
          "name": "stdout",
          "output_type": "stream",
          "text": [
            "Overwriting program.c\n"
          ]
        }
      ],
      "source": [
        "%%writefile program.c\n",
        "#include <iostream>\n",
        "#include <iomanip>\n",
        "using namespace std;\n",
        "\n",
        "//either both int or both float\n",
        "\n",
        "template <typename T>\n",
        "T product(T a, T b) {\n",
        "    return a * b;\n",
        "}\n",
        "\n",
        "int main() {\n",
        "  int inum1, inum2;\n",
        "  float fnum1, fnum2;\n",
        "  cin>>inum1>>inum2;\n",
        "  cin>>fnum1>>fnum2;\n",
        "\n",
        "  cout<<\"integer pro \"<<product(inum1,inum2)<<endl;\n",
        "  cout<<\"float pro \"<<fixed<<setprecision(2)<<product(fnum1,fnum2)<<endl;\n",
        "\n",
        "  return 0;\n",
        "}"
      ]
    },
    {
      "cell_type": "code",
      "execution_count": null,
      "metadata": {
        "colab": {
          "base_uri": "https://localhost:8080/"
        },
        "id": "Tn9PT-3s1fN0",
        "outputId": "8c636ece-b345-49ca-f3c5-fd5f3ce2f7cd"
      },
      "outputs": [
        {
          "name": "stdout",
          "output_type": "stream",
          "text": [
            "2 5\n",
            "2.0\n",
            "5.0\n",
            "integer pro 10\n",
            "float pro 10.00\n"
          ]
        }
      ],
      "source": [
        "!g++ program.c -o program\n",
        "! ./program"
      ]
    },
    {
      "cell_type": "markdown",
      "metadata": {
        "id": "ifAo1XOr1fdo"
      },
      "source": [
        "Develop an OOP to get the monthly income of Father and Son and check whether they are Tax Payer or not by incorporating the function \"isTaxpayer()\" in \"Father\" and \"Son\" class using virtual functions. Assume, if the person's yearly income is more than 2.5 Lakhs rupees, he become as the Tax Payer."
      ]
    },
    {
      "cell_type": "code",
      "execution_count": null,
      "metadata": {
        "colab": {
          "base_uri": "https://localhost:8080/"
        },
        "id": "eTvcndnV1gFl",
        "outputId": "c1e7e509-1d5f-4c35-db7d-d7c73d1bbcd9"
      },
      "outputs": [
        {
          "name": "stdout",
          "output_type": "stream",
          "text": [
            "Overwriting program.c\n"
          ]
        }
      ],
      "source": [
        "%%writefile program.c\n",
        "#include <iostream>\n",
        "using namespace std;\n",
        "\n",
        "class Person{\n",
        "  protected:\n",
        "  int monthlyIncome;\n",
        "\n",
        "  public:\n",
        "    Person(int mi) {\n",
        "      monthlyIncome=mi;\n",
        "    }\n",
        "\n",
        "    virtual void isTaxpayer() {};\n",
        "\n",
        "};\n",
        "\n",
        "class Father:public Person{\n",
        "  public:\n",
        "    Father(int mi):Person(mi){}\n",
        "\n",
        "      void isTaxpayer() override {\n",
        "      float yearlyIncome = monthlyIncome * 12;\n",
        "\n",
        "      if (yearlyIncome > 250000) {\n",
        "        cout << \"Father is a Tax Payer.\" << endl;\n",
        "      } else {\n",
        "        cout << \"Father is not a Tax Payer.\" << endl;\n",
        "      }\n",
        "    }\n",
        "\n",
        "};\n",
        "\n",
        "class Son:public Person{\n",
        "  public:\n",
        "    Son(int mi):Person(mi){}\n",
        "\n",
        "      void isTaxpayer() override {\n",
        "      float yearlyIncome = monthlyIncome * 12;\n",
        "\n",
        "      if (yearlyIncome > 250000) {\n",
        "        cout << \"Son is a Tax Payer.\" << endl;\n",
        "      } else {\n",
        "        cout << \"Son is not a Tax Payer.\" << endl;\n",
        "      }\n",
        "     }\n",
        "\n",
        "\n",
        "};\n",
        "\n",
        "int main() {\n",
        "  int fmi,smi;\n",
        "  cin>>fmi;\n",
        "  cin>>smi;\n",
        "\n",
        "  Father f(fmi);\n",
        "  f.isTaxpayer();\n",
        "\n",
        "  Son s(smi);\n",
        "  s.isTaxpayer();\n",
        "\n",
        "  return 0;\n",
        "\n",
        "}\n",
        "\n"
      ]
    },
    {
      "cell_type": "code",
      "execution_count": null,
      "metadata": {
        "colab": {
          "base_uri": "https://localhost:8080/"
        },
        "id": "EXAO7Gw91gKY",
        "outputId": "d9ef86e4-153d-4773-8098-306a560aa781"
      },
      "outputs": [
        {
          "name": "stdout",
          "output_type": "stream",
          "text": [
            "30000\n",
            "10000\n",
            "Father is a Tax Payer.\n",
            "Son is not a Tax Payer.\n"
          ]
        }
      ],
      "source": [
        "!g++ program.c -o program\n",
        "! ./program"
      ]
    },
    {
      "cell_type": "markdown",
      "metadata": {
        "id": "zyQF-cUoUIxX"
      },
      "source": [
        "--A shape base class should created. To determine a shape's area and perimeter, use this class. Draw three distinct classes-square, rectangle and circle-from the fundamental shape. Create the member functions perimeter and area as pure virtual functions, then redefine them in the resulting classes."
      ]
    },
    {
      "cell_type": "code",
      "execution_count": null,
      "metadata": {
        "colab": {
          "base_uri": "https://localhost:8080/"
        },
        "id": "ASG6leQKCFGa",
        "outputId": "8d3219bc-5ddc-4b51-df41-9b9b4dcecb90"
      },
      "outputs": [
        {
          "name": "stdout",
          "output_type": "stream",
          "text": [
            "Overwriting program.c\n"
          ]
        }
      ],
      "source": [
        "%%writefile program.c\n",
        "#include <iostream>\n",
        "using namespace std;\n",
        "\n",
        "class Shape{\n",
        "  public:\n",
        "\n",
        "    virtual float calcarea()=0;\n",
        "    virtual float calcperimeter()=0;\n",
        "\n",
        "};\n",
        "\n",
        "class Square:public Shape{\n",
        "  public:\n",
        "    float side;\n",
        "\n",
        "    Square(float s){\n",
        "      side=s;\n",
        "    }\n",
        "\n",
        "    float calcarea() override{\n",
        "      return side*side;\n",
        "\n",
        "\n",
        "    }\n",
        "\n",
        "    float calcperimeter() override{\n",
        "      return 4*side;\n",
        "\n",
        "    }\n",
        "\n",
        "};\n",
        "\n",
        "class Rectangle:public Shape{\n",
        "  public:\n",
        "    float x,y;\n",
        "\n",
        "    Rectangle(float l, float b){\n",
        "      x=l;\n",
        "      y=b;\n",
        "    }\n",
        "\n",
        "    float calcarea() override{\n",
        "      return x*y;\n",
        "\n",
        "    }\n",
        "\n",
        "    float calcperimeter() override{\n",
        "      return 2*(x+y);\n",
        "\n",
        "    }\n",
        "\n",
        "};\n",
        "\n",
        "class Circle:public Shape{\n",
        "  public:\n",
        "    float r;\n",
        "\n",
        "    Circle(float rad){\n",
        "      r=rad;\n",
        "    }\n",
        "\n",
        "    float calcarea() override{\n",
        "      return 3.14*r*r;\n",
        "\n",
        "    }\n",
        "\n",
        "    float calcperimeter() override{\n",
        "      return 2*3.14*r;\n",
        "\n",
        "    }\n",
        "\n",
        "};\n",
        "\n",
        "int main() {\n",
        "  float s,l,b,rad;\n",
        "  cin>>s;\n",
        "  cin>>l>>b;\n",
        "  cin>>rad;\n",
        "\n",
        "  Square sq(s);\n",
        "  cout<<sq.calcarea()<<endl;\n",
        "  cout<<sq.calcperimeter()<<endl;\n",
        "\n",
        "  Rectangle rec(l,b);\n",
        "  cout<<rec.calcarea()<<endl;\n",
        "  cout<<rec.calcperimeter()<<endl;\n",
        "\n",
        "  Circle c(rad);\n",
        "  cout<<c.calcarea()<<endl;\n",
        "  cout<<c.calcperimeter()<<endl;\n",
        "\n",
        "  return 0;\n",
        "}"
      ]
    },
    {
      "cell_type": "code",
      "execution_count": null,
      "metadata": {
        "colab": {
          "base_uri": "https://localhost:8080/"
        },
        "id": "GD7Jt91TCFLp",
        "outputId": "a55f80f5-8f4f-4a2f-910a-42dec8517c75"
      },
      "outputs": [
        {
          "name": "stdout",
          "output_type": "stream",
          "text": [
            "10\n",
            "2 2\n",
            "10\n",
            "100\n",
            "40\n",
            "4\n",
            "8\n",
            "314\n",
            "62.8\n"
          ]
        }
      ],
      "source": [
        "!g++ program.c -o program\n",
        "! ./program"
      ]
    },
    {
      "cell_type": "markdown",
      "metadata": {
        "id": "BqfLIgJqUI8m"
      },
      "source": [
        "Assume that you are developing a banking application software.\n",
        "\n",
        "Create a class named \"Bank\" with bank balance, customer name, Account number, customer balance and PAN number as data members.\n",
        "\n",
        "Derive two classes such as \"CreditTransaction\" with a member named \"deposit amt\" and \"DebitTransaction\" with a member named \"withdraw amt\" from the \"Bank\" class.\n",
        "\n",
        "Derive another class \"Transaction\" from \"CreditTransaction\" and \"DebitTransaction\" classes and define suitable methods to perform credit and debit operations and to display the bank balance, customer_balance with the customer details.\n",
        "\n",
        "You need to check whether the balance amount is sufficient or not while implementing the debit operation.\n",
        "\n",
        "Remember, the bank_balance in the \"Bank\" class should be changed for every credit and debit transaction of every customer.\n",
        "\n",
        "Write a C++ code to implement the above scenario for 2 customers."
      ]
    },
    {
      "cell_type": "code",
      "execution_count": null,
      "metadata": {
        "colab": {
          "base_uri": "https://localhost:8080/"
        },
        "id": "ElS1-hJ8eUYC",
        "outputId": "54f1d16e-e38b-49cd-a65a-cad834ccf81d"
      },
      "outputs": [
        {
          "name": "stdout",
          "output_type": "stream",
          "text": [
            "Overwriting program.c\n"
          ]
        }
      ],
      "source": [
        "%%writefile program.c\n",
        "#include <iostream>\n",
        "using namespace std;\n",
        "\n",
        "class Bank {\n",
        "  protected:\n",
        "    float bank_balance, customer_balance;\n",
        "    string name;\n",
        "    int accno;\n",
        "    string panno;\n",
        "\n",
        "  public:\n",
        "    Bank(){\n",
        "      bank_balance=0.0;\n",
        "      customer_balance=0.0;\n",
        "      name=\"\";\n",
        "      accno=0;\n",
        "      panno=\"\";\n",
        "    }\n",
        "\n",
        "    void getinput() {\n",
        "        cout << \"Enter Customer Name: \";\n",
        "        cin >> name;\n",
        "        cout << \"Enter Account Number: \";\n",
        "        cin >> accno;\n",
        "        cout << \"Enter PAN Number: \";\n",
        "        cin >> panno;\n",
        "        cout << \"Enter Initial Customer Balance: \";\n",
        "        cin >> customer_balance;\n",
        "        bank_balance += customer_balance;\n",
        "    }\n",
        "\n",
        "\n",
        "};\n",
        "\n",
        "class CreditTransaction:virtual public Bank {\n",
        "  public:\n",
        "\n",
        "    void deposit(float amnt) {\n",
        "        customer_balance += amnt;\n",
        "        bank_balance += amnt;\n",
        "        cout << \"Deposited: \" << amnt << endl;\n",
        "    }\n",
        "\n",
        "\n",
        "};\n",
        "\n",
        "class DebitTransaction:virtual public Bank {\n",
        "  public:\n",
        "\n",
        "    void withdraw(float amnt) {\n",
        "        if(amnt <= customer_balance) {\n",
        "            customer_balance -= amnt;\n",
        "            bank_balance -= amnt;\n",
        "            cout << \"Withdrawn: \" << amnt << endl;\n",
        "        } else {\n",
        "            cout << \"Insufficient Balance\\n\";\n",
        "        }\n",
        "    }\n",
        "\n",
        "\n",
        "\n",
        "};\n",
        "\n",
        "class Transaction:public CreditTransaction, public DebitTransaction {\n",
        "  public:\n",
        "\n",
        "    void display(){\n",
        "    cout<<name<<endl;\n",
        "    cout<<accno<<endl;\n",
        "    cout<<panno<<endl;\n",
        "    cout<<customer_balance<<endl;\n",
        "    cout<<bank_balance<<endl;\n",
        "\n",
        "  }\n",
        "\n",
        "};\n",
        "\n",
        "int main() {\n",
        "  Transaction customer[2];\n",
        "\n",
        "  for (int i = 0; i < 2; i++) {\n",
        "        cout << \"\\nEnter details for customer \" << i + 1 << \":\\n\";\n",
        "        customer[i].getinput();\n",
        "    }\n",
        "\n",
        "    int choice;\n",
        "    float amnt;\n",
        "    cout << \"\\nEnter 1 for Deposit, 2 for Withdraw: \";\n",
        "    cin >> choice;\n",
        "    cout << \"Enter amount: \";\n",
        "    cin >> amnt;\n",
        "\n",
        "    for (int i = 0; i < 2; i++) {\n",
        "        cout << \"\\nTransaction for customer \" << i + 1 << \":\\n\";\n",
        "        if (choice == 1) {\n",
        "            customer[i].deposit(amnt);\n",
        "        } else if (choice == 2) {\n",
        "            customer[i].withdraw(amnt);\n",
        "        } else {\n",
        "            cout << \"Invalid choice\\n\";\n",
        "        }\n",
        "\n",
        "        customer[i].display();\n",
        "    }\n",
        "\n",
        "  return 0;\n",
        "\n",
        "}"
      ]
    },
    {
      "cell_type": "code",
      "execution_count": null,
      "metadata": {
        "colab": {
          "base_uri": "https://localhost:8080/"
        },
        "id": "xbYMyG2GeUde",
        "outputId": "595fc61a-6fd3-4335-83da-2b3387a7f1a6"
      },
      "outputs": [
        {
          "name": "stdout",
          "output_type": "stream",
          "text": [
            "\n",
            "Enter details for customer 1:\n",
            "Enter Customer Name: Magi\n",
            "Enter Account Number: 123\n",
            "Enter PAN Number: abc\n",
            "Enter Initial Customer Balance: 5000\n",
            "\n",
            "Enter details for customer 2:\n",
            "Enter Customer Name: urcha\n",
            "Enter Account Number: 456\n",
            "Enter PAN Number: def\n",
            "Enter Initial Customer Balance: 10000\n",
            "\n",
            "Enter 1 for Deposit, 2 for Withdraw: 1\n",
            "Enter amount: 1000\n",
            "\n",
            "Transaction for customer 1:\n",
            "Deposited: 1000\n",
            "Magi\n",
            "123\n",
            "abc\n",
            "6000\n",
            "6000\n",
            "\n",
            "Transaction for customer 2:\n",
            "Deposited: 1000\n",
            "urcha\n",
            "456\n",
            "def\n",
            "11000\n",
            "11000\n"
          ]
        }
      ],
      "source": [
        "!g++ program.c -o program\n",
        "! ./program"
      ]
    },
    {
      "cell_type": "markdown",
      "metadata": {
        "id": "2xKzTop2UJEg"
      },
      "source": [
        "Write a C++ program to implement generic methods for the following operations.\n",
        "\n",
        "L. Finding the squares of 2 nos. of 3 different data types.\n",
        "\n",
        "IL Reversing an array of 3 different data types."
      ]
    },
    {
      "cell_type": "code",
      "execution_count": null,
      "metadata": {
        "colab": {
          "base_uri": "https://localhost:8080/"
        },
        "id": "EuEnBn7Upi7g",
        "outputId": "3ce6e483-3e79-48a5-97c3-4f94bbf6fa78"
      },
      "outputs": [
        {
          "name": "stdout",
          "output_type": "stream",
          "text": [
            "Overwriting program.c\n"
          ]
        }
      ],
      "source": [
        "%%writefile program.c\n",
        "#include <iostream>\n",
        "using namespace std;\n",
        "\n",
        "template <typename T>\n",
        "\n",
        "void square(T a, T b){\n",
        "  cout<<\"1st \"<<a*a<<endl;\n",
        "  cout<<\"2nd \"<<b*b<<endl;\n",
        "}\n",
        "\n",
        "int main() {\n",
        "  int i1,i2;\n",
        "  float f1,f2;\n",
        "  double d1,d2;\n",
        "\n",
        "  cin>>i1>>i2;\n",
        "  cin>>f1>>f2;\n",
        "  cin>>d1>>d2;\n",
        "\n",
        "  cout<<\"integer\"<<endl;\n",
        "  square(i1,i2);\n",
        "  cout<<\"float\"<<endl;\n",
        "  square(f1,f2);\n",
        "  cout<<\"double\"<<endl;\n",
        "  square(d1,d2);\n",
        "\n",
        "  return 0;\n",
        "\n",
        "}"
      ]
    },
    {
      "cell_type": "code",
      "execution_count": null,
      "metadata": {
        "colab": {
          "base_uri": "https://localhost:8080/"
        },
        "id": "9Jg3Y_f4pjBi",
        "outputId": "53640c3f-5cfb-4ed0-b22c-2b706d2c0986"
      },
      "outputs": [
        {
          "name": "stdout",
          "output_type": "stream",
          "text": [
            "2 3\n",
            "3.2 4.5\n",
            "5.123 7.456\n",
            "integer\n",
            "1st 4\n",
            "2nd 9\n",
            "float\n",
            "1st 10.24\n",
            "2nd 20.25\n",
            "double\n",
            "1st 26.2451\n",
            "2nd 55.5919\n"
          ]
        }
      ],
      "source": [
        "!g++ program.c -o program\n",
        "! ./program"
      ]
    },
    {
      "cell_type": "code",
      "execution_count": null,
      "metadata": {
        "colab": {
          "base_uri": "https://localhost:8080/"
        },
        "id": "O05oohOAtMhF",
        "outputId": "7b8572cf-45cb-4de3-bffc-4813785f4180"
      },
      "outputs": [
        {
          "name": "stdout",
          "output_type": "stream",
          "text": [
            "Overwriting program.c\n"
          ]
        }
      ],
      "source": [
        "%%writefile program.c\n",
        "#include <iostream>\n",
        "using namespace std;\n",
        "\n",
        "template <typename T>\n",
        "\n",
        "void reverse(T a){\n",
        "\n",
        "  for(int i=0;i<10;i++){\n",
        "    cin>>a[i];\n",
        "  }\n",
        "  for(int i=9 ;i>=0;i--){\n",
        "    cout<<a[i]<<\" \";\n",
        "  }\n",
        "}\n",
        "\n",
        "int main() {\n",
        "\n",
        "  int a1[10];\n",
        "  float a2[10];\n",
        "  double a3[10];\n",
        "\n",
        "  cout<<\"integer:\"<<endl;\n",
        "  reverse(a1);\n",
        "\n",
        "  cout<<\"float:\"<<endl;\n",
        "  reverse(a2);\n",
        "\n",
        "  cout<<\"double:\"<<endl;\n",
        "  reverse(a3);\n",
        "\n",
        "\n",
        "  return 0;\n",
        "\n",
        "}"
      ]
    },
    {
      "cell_type": "code",
      "execution_count": null,
      "metadata": {
        "id": "DxKk5EleSDoT"
      },
      "outputs": [],
      "source": [
        "%%writefile program.c\n",
        "#include <iostream>\n",
        "using namespace std;\n",
        "#include <iostream>\n",
        "using namespace std;\n",
        "\n",
        "// Generic function to find the square of two numbers\n",
        "template <typename T>\n",
        "void printSquares(T a, T b) {\n",
        "    cout << \"Square of \" << a << \" is: \" << a * a << endl;\n",
        "    cout << \"Square of \" << b << \" is: \" << b * b << endl;\n",
        "    cout << \"-----------------------------\" << endl;\n",
        "}\n",
        "\n",
        "// Generic function to reverse an array\n",
        "template <typename T>\n",
        "void reverseArray(T arr[], int size) {\n",
        "    cout << \"Original array: \";\n",
        "    for (int i = 0; i < size; ++i)\n",
        "        cout << arr[i] << \" \";\n",
        "\n",
        "    // Reverse the array\n",
        "    for (int i = 0; i < size / 2; ++i)\n",
        "        swap(arr[i], arr[size - 1 - i]);\n",
        "\n",
        "    cout << \"\\nReversed array: \";\n",
        "    for (int i = 0; i < size; ++i)\n",
        "        cout << arr[i] << \" \";\n",
        "\n",
        "    cout << \"\\n-----------------------------\" << endl;\n",
        "}\n",
        "\n",
        "int main() {\n",
        "    // Part I: Squares of 2 numbers of 3 different types\n",
        "    cout << \"=== Squares ===\" << endl;\n",
        "    printSquares<int>(3, 4);\n",
        "    printSquares<float>(2.5f, 3.2f);\n",
        "    printSquares<double>(1.111, 2.222);\n",
        "\n",
        "    // Part II: Reverse arrays of 3 different types\n",
        "    cout << \"\\n=== Array Reversal ===\" << endl;\n",
        "\n",
        "    int arrInt[] = {1, 2, 3, 4, 5};\n",
        "    reverseArray<int>(arrInt, 5);\n",
        "\n",
        "    float arrFloat[] = {1.1f, 2.2f, 3.3f};\n",
        "    reverseArray<float>(arrFloat, 3);\n",
        "\n",
        "    char arrChar[] = {'a', 'b', 'c', 'd'};\n",
        "    reverseArray<char>(arrChar, 4);\n",
        "\n",
        "    return 0;\n",
        "}\n"
      ]
    },
    {
      "cell_type": "code",
      "execution_count": null,
      "metadata": {
        "colab": {
          "base_uri": "https://localhost:8080/"
        },
        "id": "xPUo6A5YtMqN",
        "outputId": "fa9c8ccc-f182-4dbe-e8d4-41ad9dfc8476"
      },
      "outputs": [
        {
          "name": "stdout",
          "output_type": "stream",
          "text": [
            "integer:\n",
            "0 1 2 3 4 5 6 7 8 9\n",
            "9 8 7 6 5 4 3 2 1 0 float:\n",
            "0.0 1.2 2.3 4.5 5.6 7.8 9.0 3.5 7.6 8.9\n",
            "8.9 7.6 3.5 9 7.8 5.6 4.5 2.3 1.2 0 double:\n",
            "1.234 4.543 7.65 9.876 0.987 7.764 3.213 6.543 8.765 9.087\n",
            "9.087 8.765 6.543 3.213 7.764 0.987 9.876 7.65 4.543 1.234 "
          ]
        }
      ],
      "source": [
        "!g++ program.c -o program\n",
        "! ./program"
      ]
    },
    {
      "cell_type": "markdown",
      "metadata": {
        "id": "mGUC5waAUJmM"
      },
      "source": [
        "Consider a class to check for the strength of a password. In this regard a function password_strength() is to be implemented. Assume that the function password_strength() has to print the total number of blank spaces, consonants and vowels in the given string. Implement the mentioned example in C++ using pure virtual function."
      ]
    },
    {
      "cell_type": "code",
      "execution_count": null,
      "metadata": {
        "colab": {
          "base_uri": "https://localhost:8080/"
        },
        "id": "1aTs3T-ta8Wu",
        "outputId": "b76573e1-de12-4992-c71a-c1566179fc4d"
      },
      "outputs": [
        {
          "name": "stdout",
          "output_type": "stream",
          "text": [
            "Overwriting program.c\n"
          ]
        }
      ],
      "source": [
        "%%writefile program.c\n",
        "#include <iostream>\n",
        "using namespace std;\n",
        "\n",
        "class PasswordChecker {\n",
        "  public:\n",
        "    virtual void pwstrength(string pw)=0;\n",
        "\n",
        "};\n",
        "\n",
        "class PasswordAnalyzer:public PasswordChecker {\n",
        "  public:\n",
        "    void pwstrength(string pw)override{\n",
        "      int scount=0;\n",
        "      int ccount=0;\n",
        "      int vcount=0;\n",
        "\n",
        "\n",
        "      for (int i=0;i<pw.length();i++) {\n",
        "            if (pw[i] == ' ') {\n",
        "                scount++;\n",
        "            }\n",
        "            else if ((pw[i] >= 'A' && pw[i]<= 'Z') || (pw[i] >= 'a' && pw[i] <= 'z')) {\n",
        "                if (pw[i] == 'a' || pw[i] == 'e' || pw[i] == 'i' || pw[i] == 'o' || pw[i] == 'u' || pw[i] == 'A' || pw[i] == 'E' || pw[i] == 'I' || pw[i] == 'O' || pw[i] == 'U') {\n",
        "                    vcount++;\n",
        "                } else {\n",
        "                    ccount++;\n",
        "                }\n",
        "            }\n",
        "        }\n",
        "\n",
        "        cout<<scount<<endl;\n",
        "        cout<<ccount<<endl;\n",
        "        cout<<vcount<<endl;\n",
        "\n",
        "    }\n",
        "\n",
        "};\n",
        "\n",
        "int main() {\n",
        "\n",
        "  string pw;\n",
        "  getline(cin, pw);\n",
        "\n",
        "  PasswordAnalyzer p;\n",
        "  p.pwstrength(pw);\n",
        "\n",
        "  return 0;\n",
        "}\n",
        "\n"
      ]
    },
    {
      "cell_type": "code",
      "execution_count": null,
      "metadata": {
        "colab": {
          "base_uri": "https://localhost:8080/"
        },
        "id": "NraWD4xia8cr",
        "outputId": "a56a06ea-665a-4c4b-95ab-d52dd93626a2"
      },
      "outputs": [
        {
          "name": "stdout",
          "output_type": "stream",
          "text": [
            "Magi bog\n",
            "1\n",
            "4\n",
            "3\n"
          ]
        }
      ],
      "source": [
        "!g++ program.c -o program\n",
        "! ./program"
      ]
    },
    {
      "cell_type": "markdown",
      "metadata": {
        "id": "DYXeiAvPUJty"
      },
      "source": [
        "The Forest department of India has decided to promote the forester grade employees to \"Ranger (Grade 1 or Grade 11)\" designation based on certain qualifications. For Ranger Grade 1: The forester should have secured more than 60% of the marks in the UG and more than 75% of the marks in PG. For Ranger Grade 2: The forester should have secured more than 80% of the marks in both the UG and PG. If the marks are less than the requirement, their designation remains same.\n",
        "\n",
        "Design four classes' Employee, UG, PG and Ranger. The Employee class should have data members such as emp_id (int) and name (char). Use member functions to initialize the data members. Create a new class UG by inheriting the Employee class and get the percentage of marks secured for all the employees. Create another new class PG by inheriting the Employee class and get the PG percentage of marks for all the employees, Create another class Ranger by inheriting the classes UG and PG and compute the ranger grades as per the eligibility criteria. Write a C++ program (using inheritance) with required number of data members and member functions to display the employee's id and designation."
      ]
    },
    {
      "cell_type": "code",
      "execution_count": null,
      "metadata": {
        "colab": {
          "base_uri": "https://localhost:8080/"
        },
        "id": "Fl409GUzRww7",
        "outputId": "16d9f8e3-5b18-4ea7-d965-f95835183733"
      },
      "outputs": [
        {
          "name": "stdout",
          "output_type": "stream",
          "text": [
            "Overwriting program.c\n"
          ]
        }
      ],
      "source": [
        "%%writefile program.c\n",
        "#include <iostream>\n",
        "using namespace std;\n",
        "\n",
        "class Employee{\n",
        "  protected:\n",
        "    int empid;\n",
        "    string name;\n",
        "\n",
        "  public:\n",
        "    Employee(){\n",
        "      empid=0;\n",
        "      name=\"\";\n",
        "    }\n",
        "\n",
        "    void getinput() {\n",
        "      cin>>empid;\n",
        "      cin>>name;\n",
        "    }\n",
        "\n",
        "};\n",
        "\n",
        "class UG:virtual public Employee {\n",
        "  protected:\n",
        "    int umarks;\n",
        "\n",
        "  public:\n",
        "    void inputug(int u) {\n",
        "        umarks = u;\n",
        "    }\n",
        "\n",
        "    int getug() {\n",
        "        return umarks;\n",
        "    }\n",
        "\n",
        "\n",
        "};\n",
        "\n",
        "class PG:virtual public Employee{\n",
        "    protected:\n",
        "    int pmarks;\n",
        "\n",
        "    public:\n",
        "    void inputpg(int p) {\n",
        "        pmarks = p;\n",
        "    }\n",
        "\n",
        "    int getpg() {\n",
        "        return pmarks;\n",
        "    }\n",
        "\n",
        "};\n",
        "\n",
        "class Ranger:public UG,public PG {\n",
        "  public:\n",
        "\n",
        "    void display() {\n",
        "      cout<<\"Name:\"<<name<<endl;\n",
        "      cout<<\"ID:\"<<empid<<endl;\n",
        "\n",
        "        string grade;\n",
        "        if (getpg()>=75 && getug()>= 70){\n",
        "            grade = \"A (Excellent)\";\n",
        "        }\n",
        "        else if (getug()>= 60 && getug()>= 60) {\n",
        "            grade = \"B (Good)\";\n",
        "        }\n",
        "        else {\n",
        "            grade = \"C (Needs Improvement)\";\n",
        "        }\n",
        "\n",
        "        cout << \"Ranger Grade: \" << grade << endl;\n",
        "\n",
        "        string designation;\n",
        "        if (grade[0] == 'A')\n",
        "            designation = \"Senior Ranger\";\n",
        "        else if (grade[0] == 'B')\n",
        "            designation = \"Junior Ranger\";\n",
        "        else\n",
        "            designation = \"Trainee\";\n",
        "\n",
        "        cout << \"Designation: \" << designation << endl;\n",
        "    }\n",
        "\n",
        "};\n",
        "\n",
        "int main() {\n",
        "  int N;\n",
        "  cin>>N;\n",
        "\n",
        "  int u,p;\n",
        "\n",
        "\n",
        "  Ranger employee[N];\n",
        "\n",
        "  for(int i=0;i<N;i++){\n",
        "    employee[i].getinput();\n",
        "    cin>>u>>p;\n",
        "    employee[i].inputug(u);\n",
        "    employee[i].inputpg(p);\n",
        "  }\n",
        "\n",
        "  for(int i=0;i<N;i++){\n",
        "    employee[i].display();\n",
        "  }\n",
        "\n",
        "}"
      ]
    },
    {
      "cell_type": "code",
      "execution_count": null,
      "metadata": {
        "colab": {
          "base_uri": "https://localhost:8080/"
        },
        "id": "v5Sp9fvZaLGa",
        "outputId": "56ccf9ce-93a6-4ed6-ed76-5db8ec779d32"
      },
      "outputs": [
        {
          "name": "stdout",
          "output_type": "stream",
          "text": [
            "Overwriting program.c\n"
          ]
        }
      ],
      "source": [
        "\n",
        "%%writefile program.c\n",
        "#include <iostream>\n",
        "using namespace std;\n",
        "\n",
        "class Employee {\n",
        "protected:\n",
        "    int empid;\n",
        "    string name;\n",
        "\n",
        "public:\n",
        "    Employee() {\n",
        "        empid = 0;\n",
        "        name = \"\";\n",
        "    }\n",
        "\n",
        "    void getinput() {\n",
        "        cin >> empid >> name;\n",
        "    }\n",
        "};\n",
        "\n",
        "class UG : virtual public Employee {\n",
        "public:\n",
        "    int umarks;\n",
        "};\n",
        "\n",
        "class PG : virtual public Employee {\n",
        "public:\n",
        "    int pmarks;\n",
        "};\n",
        "\n",
        "class Ranger : public UG, public PG {\n",
        "public:\n",
        "    void display() {\n",
        "        cout << \"Name: \" << name << endl;\n",
        "        cout << \"ID: \" << empid << endl;\n",
        "        cout << \"UG Marks: \" << umarks << endl;\n",
        "        cout << \"PG Marks: \" << pmarks << endl;\n",
        "\n",
        "        string grade;\n",
        "        if (pmarks >= 75 && umarks >= 70) {\n",
        "            grade = \"A (Excellent)\";\n",
        "        } else if (pmarks >= 60 && umarks >= 60) {\n",
        "            grade = \"B (Good)\";\n",
        "        } else {\n",
        "            grade = \"C (Needs Improvement)\";\n",
        "        }\n",
        "\n",
        "        cout << \"Ranger Grade: \" << grade << endl;\n",
        "\n",
        "        string designation;\n",
        "        if (grade[0] == 'A')\n",
        "            designation = \"Senior Ranger\";\n",
        "        else if (grade[0] == 'B')\n",
        "            designation = \"Junior Ranger\";\n",
        "        else\n",
        "            designation = \"Trainee\";\n",
        "\n",
        "        cout << \"Designation: \" << designation << endl;\n",
        "\n",
        "    }\n",
        "};\n",
        "\n",
        "int main() {\n",
        "    int N;\n",
        "    cin >> N;\n",
        "\n",
        "    Ranger employee[N];\n",
        "\n",
        "    for (int i = 0; i < N; i++) {\n",
        "        employee[i].getinput();\n",
        "        cin >> employee[i].umarks >> employee[i].pmarks; // direct access\n",
        "    }\n",
        "\n",
        "    for (int i = 0; i < N; i++) {\n",
        "        employee[i].display();\n",
        "    }\n",
        "\n",
        "    return 0;\n",
        "}\n"
      ]
    },
    {
      "cell_type": "code",
      "execution_count": null,
      "metadata": {
        "colab": {
          "base_uri": "https://localhost:8080/"
        },
        "id": "Qi_-wwdIRw3O",
        "outputId": "04404985-4eae-4a77-be71-9af984b212de"
      },
      "outputs": [
        {
          "name": "stdout",
          "output_type": "stream",
          "text": [
            "1\n",
            "311\n",
            "Magi\n",
            "100 200\n",
            "Name: Magi\n",
            "ID: 311\n",
            "UG Marks: 100\n",
            "PG Marks: 200\n",
            "Ranger Grade: A (Excellent)\n",
            "Designation: Senior Ranger\n"
          ]
        }
      ],
      "source": [
        "!g++ program.c -o program\n",
        "! ./program"
      ]
    },
    {
      "cell_type": "markdown",
      "metadata": {
        "id": "6jVZyM39pwFO"
      },
      "source": [
        "Consider there are two structures \"Employee\" (inner structure) and \"Organisation\" (Outer structure). The structure \"Organisation\" has data members like org name, org number. The \"Employee\" structure has data members like emp_id, emp name and salary. Illustrate the two different ways of accessing these data members of nested structures with a driver code"
      ]
    },
    {
      "cell_type": "code",
      "execution_count": null,
      "metadata": {
        "id": "3ijz31a_5hVy"
      },
      "outputs": [],
      "source": [
        "%%writefile program.c\n",
        "#include <iostream>\n",
        "using namespace std;\n",
        "\n",
        "//method1-->dot operator\n",
        "\n",
        "struct Organisation{\n",
        "  char orgname[30];\n",
        "  int orgno;\n",
        "  struct Employee{\n",
        "    int id;\n",
        "    char name[20];\n",
        "    float salary;\n",
        "  }e1;\n",
        "}o1;\n",
        "\n",
        "void input() {\n",
        "  scanf(\"%s\", o1.orgname);\n",
        "  scanf(\"%d\", &o1.orgno);\n",
        "  scanf(\"%d\", &o1.e1.id);\n",
        "  scanf(\"%s\", o1.e1.name);\n",
        "  scanf(\"%f\", &o1.e1.salary);\n",
        "}\n",
        "\n",
        "method 2--->seperate\n",
        "\n",
        "struct Employee e1 = o1.emp;\n",
        "    scanf(\"%d\", &e.emp_id);\n",
        "    scanf(\"%s\", e.emp_name);\n",
        "    scanf(\"%f\", &e.salary);\n",
        "\n"
      ]
    },
    {
      "cell_type": "code",
      "execution_count": null,
      "metadata": {
        "id": "TCVpKQhd5hbW"
      },
      "outputs": [],
      "source": [
        "!g++ program.c -o program\n",
        "! ./program"
      ]
    },
    {
      "cell_type": "markdown",
      "metadata": {
        "id": "G3VE84Ypp07I"
      },
      "source": [
        "Create a structure using C to store the student details like register number, name, marks in five subjects, total, average and grade. Read the register number, name, and marks in five subjects and calculate the total, average and grade obtained for 'n' students. Print the details of the students in the descending order of rank obtained"
      ]
    },
    {
      "cell_type": "code",
      "execution_count": null,
      "metadata": {
        "id": "qZJooWif5ksQ"
      },
      "outputs": [],
      "source": [
        "%%writefile program.c\n",
        "#include <iostream>\n",
        "using namespace std;\n",
        "\n",
        "struct Student{\n",
        "  int regno;\n",
        "  char name[20];\n",
        "  int marks[5];\n",
        "  int total;\n",
        "  int avg;\n",
        "  char grade;\n",
        "};\n",
        "\n",
        "void input(struct Student s[], int n) {\n",
        "  for(int i=0;i<n;i++){\n",
        "    scanf(\"%d\", &s[i].regno);\n",
        "    scanf(\"%s\", s[i].name);\n",
        "    for(int j=0;j<5;j++){\n",
        "      scanf(\"%d\", &s[i].marks[j])\n",
        "    }\n",
        "  }\n",
        "}\n",
        "\n",
        "void calc(struct Student s[], int n) {\n",
        "  for(int i=0;i<n;i++){\n",
        "    s[i].total=0;\n",
        "    for(int j=0;j<5;j++){\n",
        "      s[i].total+=s[i].marks[j];\n",
        "    }\n",
        "  }\n",
        "\n",
        "  s[i].avg=s[i].total/5;\n",
        "\n",
        "   if (s[i].average >= 90) {\n",
        "    s[i].grade = 'A';\n",
        "   }\n",
        "   else if (s[i].average >= 80){\n",
        "     s[i].grade = 'B';\n",
        "   }\n",
        "   else if (s[i].average >= 70){\n",
        "     s[i].grade = 'C';\n",
        "   }\n",
        "   else if (s[i].average >= 60){\n",
        "     s[i].grade = 'D';\n",
        "   }\n",
        "   else if (s[i].average >= 50){\n",
        "     s[i].grade = 'E';\n",
        "   }\n",
        "   else {\n",
        "    s[i].grade = 'F';\n",
        "   }\n",
        "}\n",
        "\n",
        "void sort(struct Student s, int n) {\n",
        "\n",
        "  for(int i=0; i<n; i++){\n",
        "    s[0].total=highest;\n",
        "    if(s[i].total>s[0].total){\n",
        "      highest=s[i].total;\n",
        "    }\n",
        "    else{\n",
        "      highest=s[]\n",
        "    }\n",
        "  }\n",
        "\n",
        "}\n",
        "\n",
        "int main() {\n",
        "  int n;\n",
        "  scanf(\"%d\", &n);\n",
        "\n",
        "  struct Student s[n];\n",
        "\n",
        "\n",
        "\n",
        "  input(s,n);\n",
        "  calc(s, n);\n",
        "  sort(s,n);\n",
        "  display(s,n);\n",
        "\n",
        "  return 0;\n",
        "\n",
        "}"
      ]
    },
    {
      "cell_type": "code",
      "execution_count": null,
      "metadata": {
        "id": "hlqKE62i5kyY"
      },
      "outputs": [],
      "source": [
        "!g++ program.c -o program\n",
        "! ./program"
      ]
    },
    {
      "cell_type": "markdown",
      "metadata": {
        "id": "-WSburFfqFaz"
      },
      "source": [
        "Implement a C program using a structure named shopping bill. Consider necessary members like itemName, itemUnitPrice as members. Prepare the shopping bill considering array of structures to implement the items purchased.\n",
        "\n",
        "Note: Implement the scenario using functions."
      ]
    },
    {
      "cell_type": "code",
      "execution_count": null,
      "metadata": {
        "colab": {
          "base_uri": "https://localhost:8080/"
        },
        "id": "c7gSK9QF5rGw",
        "outputId": "ae87ce98-b019-4c46-b9d4-1d34a82906b1"
      },
      "outputs": [
        {
          "name": "stdout",
          "output_type": "stream",
          "text": [
            "Overwriting program.c\n"
          ]
        }
      ],
      "source": [
        "%%writefile program.c\n",
        "#include <stdio.h>\n",
        "using namespace std;\n",
        "\n",
        "struct Shopping {\n",
        "  char name[20];\n",
        "  float price;\n",
        "  int quantity;\n",
        "  float total;\n",
        "};\n",
        "\n",
        "void input(struct Shopping items[],int n){\n",
        "  for(int i=0;i<n;i++) {\n",
        "    scanf(\"%s\", items[i].name);\n",
        "    scanf(\"%f\", &items[i].price);\n",
        "    scanf(\"%d\", &items[i].quantity);\n",
        "  }\n",
        "}\n",
        "\n",
        "void calc(struct Shopping items[],int n){\n",
        "  for(int i=0;i<n;i++){\n",
        "    items[i].total=items[i].price * items[i].quantity;\n",
        "\n",
        "  }\n",
        "}\n",
        "\n",
        "void display(struct Shopping items[],int n){\n",
        "  float grandtotal=0;\n",
        "  for(int i=0;i<n;i++) {\n",
        "    printf(\"%s\\n\", items[i].name);\n",
        "    printf(\"%.2f\\n\", items[i].price);\n",
        "    printf(\"%d\\n\", items[i].quantity);\n",
        "    printf(\"%.2f\\n\", items[i].total);\n",
        "    grandtotal+=items[i].total;\n",
        "  }\n",
        "\n",
        "  printf(\"%.2f\", grandtotal);\n",
        "}\n",
        "\n",
        "int main(){\n",
        "  int n;\n",
        "  printf(\"enter no of items:\");\n",
        "  scanf(\"%d\", &n);\n",
        "\n",
        "  struct Shopping items[n];\n",
        "\n",
        "  input(items, n);\n",
        "  calc(items, n);\n",
        "  display(items, n);\n",
        "\n",
        "  return 0;\n",
        "}\n"
      ]
    },
    {
      "cell_type": "code",
      "execution_count": null,
      "metadata": {
        "colab": {
          "base_uri": "https://localhost:8080/"
        },
        "id": "CmkSTx5Z5rMH",
        "outputId": "f7f385eb-cc73-4fd5-a137-9e90aca5b5c2"
      },
      "outputs": [
        {
          "name": "stdout",
          "output_type": "stream",
          "text": [
            "enter no of items:2\n",
            "tv\n",
            "10000\n",
            "2\n",
            "phone\n",
            "5000\n",
            "1\n",
            "tv\n",
            "10000.00\n",
            "2\n",
            "20000.00\n",
            "phone\n",
            "5000.00\n",
            "1\n",
            "5000.00\n",
            "25000.000000"
          ]
        }
      ],
      "source": [
        "!g++ program.c -o program\n",
        "! ./program"
      ]
    },
    {
      "cell_type": "markdown",
      "metadata": {
        "id": "CACPG-J56RBO"
      },
      "source": [
        "Devise a C code to find and print the largest double number entered by the user in a dynamically allocated memory."
      ]
    },
    {
      "cell_type": "code",
      "execution_count": null,
      "metadata": {
        "id": "O_wmMjp1FTU7",
        "colab": {
          "base_uri": "https://localhost:8080/"
        },
        "outputId": "84a6a789-d08a-4dff-e82e-44278b3880ed"
      },
      "outputs": [
        {
          "output_type": "stream",
          "name": "stdout",
          "text": [
            "Overwriting program.c\n"
          ]
        }
      ],
      "source": [
        "%%writefile program.c\n",
        "#include <stdio.h>\n",
        "#include <stdlib.h>\n",
        "\n",
        "int main() {\n",
        "    int n;\n",
        "    double *arr;\n",
        "    double largest;\n",
        "\n",
        "    // Prompt the user to enter the number of elements\n",
        "    printf(\"Enter the number of double numbers: \");\n",
        "    scanf(\"%d\", &n);\n",
        "\n",
        "    // Dynamically allocate memory for the array\n",
        "    arr = (double*)malloc(n * sizeof(double));\n",
        "    if (arr == NULL) {\n",
        "        printf(\"Memory allocation failed.\\n\");\n",
        "        return 1;\n",
        "    }\n",
        "\n",
        "    // Prompt the user to enter the double numbers\n",
        "    printf(\"Enter the double numbers:\\n\");\n",
        "    for (int i = 0; i < n; ++i) {\n",
        "        scanf(\"%lf\", &arr[i]);\n",
        "    }\n",
        "\n",
        "    // Find the largest double number\n",
        "    largest = arr[0];\n",
        "    for (int i = 1; i < n; ++i) {\n",
        "        if (arr[i] > largest) {\n",
        "            largest = arr[i];\n",
        "        }\n",
        "    }\n",
        "\n",
        "    // Print the largest double number\n",
        "    printf(\"The largest double number is: %.2lf\\n\", largest);\n",
        "\n",
        "    // Free the allocated memory\n",
        "    free(arr);\n",
        "\n",
        "    return 0;\n",
        "}\n"
      ]
    },
    {
      "cell_type": "code",
      "execution_count": null,
      "metadata": {
        "id": "lFwESGiCFTbR",
        "colab": {
          "base_uri": "https://localhost:8080/"
        },
        "outputId": "017399c2-799b-4bc8-b455-b716fe15bf4c"
      },
      "outputs": [
        {
          "output_type": "stream",
          "name": "stdout",
          "text": [
            "Enter the number of double numbers: 5\n",
            "Enter the double numbers:\n",
            "12.3432\n",
            "19.323\n",
            "9.2342\n",
            "8.8907\n",
            "12.00000\n",
            "The largest double number is: 19.32\n"
          ]
        }
      ],
      "source": [
        "!g++ program.c -o program\n",
        "! ./program"
      ]
    },
    {
      "cell_type": "markdown",
      "metadata": {
        "id": "r2JryZMg6v_e"
      },
      "source": [
        ":Write a C program to count the frequency of each element of the given 2D integer array."
      ]
    },
    {
      "cell_type": "code",
      "execution_count": null,
      "metadata": {
        "id": "vbpiLVuQNGrp"
      },
      "outputs": [],
      "source": [
        "%%writefile program.c\n",
        "#include <stdio.h>\n",
        "using namespace std;"
      ]
    },
    {
      "cell_type": "code",
      "execution_count": null,
      "metadata": {
        "id": "QeyMPml2NGxJ"
      },
      "outputs": [],
      "source": [
        "!g++ program.c -o program\n",
        "! ./program"
      ]
    },
    {
      "cell_type": "markdown",
      "metadata": {
        "id": "BEBQ6n3t6RIa"
      },
      "source": [
        "An army camp is recruiting trainees by considering different parameters such as height, weight, age and chest measurement. The selection will be based on the following conditions,\n",
        "\n",
        "Age should be greater than 18 and less than 25\n",
        "\n",
        "Height should be between 5.2 to 5.6 inches\n",
        "\n",
        "Weight should be between 45 to 60 kg\n",
        "\n",
        "Chest should be greater than 45 cm\n",
        "\n",
        "Develop C code to find whether the person is fit to the army or not. Print the reason for disqualification otherwise. The possible messages that can be given for disqualification are: Disqualified due to age, Disqualified due to height, Disqualified due to weight and Disqualified due to chest."
      ]
    },
    {
      "cell_type": "code",
      "execution_count": null,
      "metadata": {
        "colab": {
          "base_uri": "https://localhost:8080/"
        },
        "id": "c3R88I22NHoE",
        "outputId": "e8a11050-2742-4297-ec48-7e398f494b5b"
      },
      "outputs": [
        {
          "name": "stdout",
          "output_type": "stream",
          "text": [
            "Overwriting program.c\n"
          ]
        }
      ],
      "source": [
        "%%writefile program.c\n",
        "#include <stdio.h>\n",
        "using namespace std;\n",
        "\n",
        "void calc(int a, int w,int c, float h) {\n",
        "  int wt,age,chest;\n",
        "  float ht;\n",
        "\n",
        "  if(age<=18 || age>=25 ){\n",
        "    printf(\"due to age\");\n",
        "  }\n",
        "  else if(ht<=5.2 || ht>=5.6){\n",
        "    printf(\"due to height\");\n",
        "\n",
        "  }\n",
        "  else if(wt<=45 || wt>=60){\n",
        "    printf(\"due to weight\");\n",
        "\n",
        "  }\n",
        "  else if(chest<=45){\n",
        "    printf(\"due to chest\");\n",
        "  }\n",
        "\n",
        "  else{\n",
        "    printf(\"fit\");\n",
        "  }\n",
        "\n",
        "}\n",
        "\n",
        "int main() {\n",
        "  int a;\n",
        "  int w;\n",
        "  int c;\n",
        "  float h;\n",
        "\n",
        "  scanf(\"%d\", &a);\n",
        "  scanf(\"%d\", &w);\n",
        "  scanf(\"%d\", &c);\n",
        "  scanf(\"%f\", &h);\n",
        "\n",
        "  calc(a,w,c,h);\n",
        "\n",
        "  return 0;\n",
        "\n",
        "\n",
        "}"
      ]
    },
    {
      "cell_type": "code",
      "execution_count": null,
      "metadata": {
        "colab": {
          "background_save": true,
          "base_uri": "https://localhost:8080/"
        },
        "id": "9X3MtDb8NHtr",
        "outputId": "c65be2a7-1db0-4aac-a745-70997e3d76a3"
      },
      "outputs": [
        {
          "name": "stdout",
          "output_type": "stream",
          "text": [
            "18\n",
            "60\n",
            "^C\n"
          ]
        }
      ],
      "source": [
        "!g++ program.c -o program\n",
        "! ./program"
      ]
    },
    {
      "cell_type": "markdown",
      "metadata": {
        "id": "lc1dEZCY6RPu"
      },
      "source": [
        "Suppose there are two players Amal and Bimal. They are playing a game. The game rules are as follows:\n",
        "\n",
        "Both players have a same string s.\n",
        "\n",
        "Both of them have to make substrings using the letters of s.\n",
        "\n",
        "Bimal has to make words starting with consonants.\n",
        "\n",
        "Amal has to make words starting with vowels.\n",
        "\n",
        "The game will end when both players have made all possible substrings.\n",
        "\n",
        "Now the scoring criteria are like: a player gains 1 point for each occurrence of the substring in the string s. Find the winner of this game and his score by using an Interactive C code."
      ]
    },
    {
      "cell_type": "code",
      "execution_count": null,
      "metadata": {
        "id": "9GM5-8xnNInu",
        "colab": {
          "base_uri": "https://localhost:8080/"
        },
        "outputId": "e6349c19-da89-4351-e496-1eb27b944913"
      },
      "outputs": [
        {
          "output_type": "stream",
          "name": "stdout",
          "text": [
            "Overwriting program.c\n"
          ]
        }
      ],
      "source": [
        "%%writefile program.c\n",
        "#include <stdio.h>\n",
        "#include <string.h>\n",
        "#include <ctype.h>\n",
        "\n",
        "// Function to check if a character is a vowel\n",
        "int isVowel(char ch) {\n",
        "    ch = tolower(ch);\n",
        "    return (ch == 'a' || ch == 'e' || ch == 'i' || ch == 'o' || ch == 'u');\n",
        "}\n",
        "\n",
        "// Function to count occurrences of a substring in a string\n",
        "int countOccurrences(char str[], char substr[]) {\n",
        "    int count = 0;\n",
        "    int lenStr = strlen(str);\n",
        "    int lenSubstr = strlen(substr);\n",
        "\n",
        "    for (int i = 0; i <= lenStr - lenSubstr; ++i) {\n",
        "        if (strncmp(&str[i], substr, lenSubstr) == 0) {\n",
        "            count++;\n",
        "        }\n",
        "    }\n",
        "    return count;\n",
        "}\n",
        "\n",
        "int main() {\n",
        "    char s[100];\n",
        "    printf(\"Enter the string: \");\n",
        "    scanf(\"%s\", s);\n",
        "\n",
        "    int len = strlen(s);\n",
        "    int amalScore = 0, bimalScore = 0;\n",
        "\n",
        "    // Generate all possible substrings and calculate scores\n",
        "    for (int i = 0; i < len; ++i) {\n",
        "        for (int j = 1; j <= len - i; ++j) {\n",
        "            char substr[100];\n",
        "            strncpy(substr, s + i, j);\n",
        "            substr[j] = '\\0';\n",
        "\n",
        "            if (isVowel(substr[0])) {\n",
        "                amalScore += countOccurrences(s, substr);\n",
        "            } else {\n",
        "                bimalScore += countOccurrences(s, substr);\n",
        "            }\n",
        "        }\n",
        "    }\n",
        "\n",
        "    printf(\"Amal's score: %d\\n\", amalScore);\n",
        "    printf(\"Bimal's score: %d\\n\", bimalScore);\n",
        "\n",
        "    if (amalScore > bimalScore) {\n",
        "        printf(\"Amal is the winner with a score of %d.\\n\", amalScore);\n",
        "    } else if (bimalScore > amalScore) {\n",
        "        printf(\"Bimal is the winner with a score of %d.\\n\", bimalScore);\n",
        "    } else {\n",
        "        printf(\"It's a tie with both players scoring %d.\\n\", amalScore);\n",
        "    }\n",
        "\n",
        "    return 0;\n",
        "}\n"
      ]
    },
    {
      "cell_type": "code",
      "execution_count": null,
      "metadata": {
        "id": "S2jro3_hNIuG",
        "colab": {
          "base_uri": "https://localhost:8080/"
        },
        "outputId": "23648877-3914-4b65-b036-38d1406d3bcd"
      },
      "outputs": [
        {
          "output_type": "stream",
          "name": "stdout",
          "text": [
            "Enter the string: magizhchi\n",
            "Amal's score: 17\n",
            "Bimal's score: 32\n",
            "Bimal is the winner with a score of 32.\n"
          ]
        }
      ],
      "source": [
        "!g++ program.c -o program\n",
        "! ./program"
      ]
    },
    {
      "cell_type": "markdown",
      "metadata": {
        "id": "5aEdiX3S6RXL"
      },
      "source": [
        ". Write a C program to create a 1D integer array dynamically and store rules in it. Write a function that uses pointers to find the second largest and second smallest element in the array. Also, write another function that uses pointers to search for a given element and returns the index of the element if the element is found, otherwise returns - 1."
      ]
    },
    {
      "cell_type": "code",
      "execution_count": null,
      "metadata": {
        "id": "b4catWuqNJsY",
        "colab": {
          "base_uri": "https://localhost:8080/"
        },
        "outputId": "7d40418e-d2ec-4e98-b86b-5fa66ed746d5"
      },
      "outputs": [
        {
          "output_type": "stream",
          "name": "stdout",
          "text": [
            "Overwriting program.c\n"
          ]
        }
      ],
      "source": [
        "%%writefile program.c\n",
        "#include <stdio.h>\n",
        "#include <stdlib.h>\n",
        "#define INT_MAX 2147483647  // Maximum value for a 32-bit signed integer\n",
        "#define INT_MIN -2147483648 // Minimum value for a 32-bit signed integer\n",
        "\n",
        "// Function to find the second largest and second smallest elements\n",
        "void findSecondLargestAndSmallest(int* arr, int n, int* secondLargest, int* secondSmallest) {\n",
        "    int largest = INT_MIN, smallest = INT_MAX;\n",
        "    *secondLargest = INT_MIN;\n",
        "    *secondSmallest = INT_MAX;\n",
        "\n",
        "    for (int i = 0; i < n; ++i) {\n",
        "        if (arr[i] > largest) {\n",
        "            *secondLargest = largest;\n",
        "            largest = arr[i];\n",
        "        } else if (arr[i] > *secondLargest && arr[i] != largest) {\n",
        "            *secondLargest = arr[i];\n",
        "        }\n",
        "\n",
        "        if (arr[i] < smallest) {\n",
        "            *secondSmallest = smallest;\n",
        "            smallest = arr[i];\n",
        "        } else if (arr[i] < *secondSmallest && arr[i] != smallest) {\n",
        "            *secondSmallest = arr[i];\n",
        "        }\n",
        "    }\n",
        "}\n",
        "\n",
        "// Function to search for a given element and return its index\n",
        "int searchElement(int* arr, int n, int element) {\n",
        "    for (int i = 0; i < n; ++i) {\n",
        "        if (arr[i] == element) {\n",
        "            return i;\n",
        "        }\n",
        "    }\n",
        "    return -1;\n",
        "}\n",
        "\n",
        "int main() {\n",
        "    int n, element;\n",
        "    int* arr;\n",
        "\n",
        "    printf(\"Enter the number of elements in the array: \");\n",
        "    scanf(\"%d\", &n);\n",
        "\n",
        "    // Dynamically allocate memory for the array\n",
        "    arr = (int*)malloc(n * sizeof(int));\n",
        "    if (arr == NULL) {\n",
        "        printf(\"Memory allocation failed.\\n\");\n",
        "        return 1;\n",
        "    }\n",
        "\n",
        "    printf(\"Enter the elements of the array:\\n\");\n",
        "    for (int i = 0; i < n; ++i) {\n",
        "        scanf(\"%d\", &arr[i]);\n",
        "    }\n",
        "\n",
        "    int secondLargest, secondSmallest;\n",
        "    findSecondLargestAndSmallest(arr, n, &secondLargest, &secondSmallest);\n",
        "\n",
        "    printf(\"Second largest element: %d\\n\", secondLargest);\n",
        "    printf(\"Second smallest element: %d\\n\", secondSmallest);\n",
        "\n",
        "    printf(\"Enter the element to search for: \");\n",
        "    scanf(\"%d\", &element);\n",
        "\n",
        "    int index = searchElement(arr, n, element);\n",
        "    if (index != -1) {\n",
        "        printf(\"Element found at index: %d\\n\", index);\n",
        "    } else {\n",
        "        printf(\"Element not found.\\n\");\n",
        "    }\n",
        "\n",
        "    // Free the allocated memory\n",
        "    free(arr);\n",
        "\n",
        "    return 0;\n",
        "}\n"
      ]
    },
    {
      "cell_type": "code",
      "execution_count": null,
      "metadata": {
        "id": "PLkCxXnENJys",
        "colab": {
          "base_uri": "https://localhost:8080/"
        },
        "outputId": "98345f12-c6bd-40e0-c9c5-ed837254895e"
      },
      "outputs": [
        {
          "output_type": "stream",
          "name": "stdout",
          "text": [
            "Enter the number of elements in the array: 5\n",
            "Enter the elements of the array:\n",
            "10\n",
            "60\n",
            "39\n",
            "90\n",
            "75\n",
            "Second largest element: 75\n",
            "Second smallest element: 39\n",
            "Enter the element to search for: 90\n",
            "Element found at index: 3\n"
          ]
        }
      ],
      "source": [
        "!g++ program.c -o program\n",
        "! ./program"
      ]
    },
    {
      "cell_type": "markdown",
      "metadata": {
        "id": "B5rHi0Hm6RdT"
      },
      "source": [
        "The employer wishes to appreciate the employees based on their 7 performance as EP. Each employee's performance is graded based on their Product Selling score(PS) and customer feedback score(CF). Following are the conditions:\n",
        "\n",
        "If product selling (PS) score is above 50/100 then the employee can be considered for EP. PS+CF50\n",
        "\n",
        "ii) Incentive calculation: Incentive (% of EP) + 50% of salary.\n",
        "\n",
        "Determine how many employees are eligible for EP and what is the total Incentive to be supported in Rupees."
      ]
    },
    {
      "cell_type": "code",
      "execution_count": null,
      "metadata": {
        "id": "jUPY9wTENKoZ"
      },
      "outputs": [],
      "source": [
        "%%writefile program.c\n",
        "#include <stdio.h>\n",
        "using namespace std;"
      ]
    },
    {
      "cell_type": "code",
      "execution_count": null,
      "metadata": {
        "id": "Bq2ZPbdmNKvG"
      },
      "outputs": [],
      "source": [
        "!g++ program.c -o program\n",
        "! ./program"
      ]
    },
    {
      "cell_type": "markdown",
      "metadata": {
        "id": "KJ-EgDY8o6Li"
      },
      "source": [
        "Using the concept of array of pointers in C, implement a program to sort and print the list of city names in ascending order with the two options such as (i) sorting by the alphabetical order of the city names (ii) sorting by the length of the city names."
      ]
    },
    {
      "cell_type": "code",
      "execution_count": null,
      "metadata": {
        "id": "VjxF8vhRNMIn",
        "colab": {
          "base_uri": "https://localhost:8080/"
        },
        "outputId": "0524e9fb-833f-437b-e784-3d20b011496f"
      },
      "outputs": [
        {
          "output_type": "stream",
          "name": "stdout",
          "text": [
            "Overwriting program.c\n"
          ]
        }
      ],
      "source": [
        "%%writefile program.c\n",
        "#include <stdio.h>\n",
        "#include <string.h>\n",
        "\n",
        "#define MAX_CITIES 100\n",
        "#define MAX_NAME_LENGTH 100\n",
        "\n",
        "// Function to sort city names alphabetically\n",
        "void sortAlphabetically(char* cities[], int n) {\n",
        "    for (int i = 0; i < n - 1; ++i) {\n",
        "        for (int j = i + 1; j < n; ++j) {\n",
        "            if (strcmp(cities[i], cities[j]) > 0) {\n",
        "                char* temp = cities[i];\n",
        "                cities[i] = cities[j];\n",
        "                cities[j] = temp;\n",
        "            }\n",
        "        }\n",
        "    }\n",
        "}\n",
        "\n",
        "// Function to sort city names by length\n",
        "void sortByLength(char* cities[], int n) {\n",
        "    for (int i = 0; i < n - 1; ++i) {\n",
        "        for (int j = i + 1; j < n; ++j) {\n",
        "            if (strlen(cities[i]) > strlen(cities[j])) {\n",
        "                char* temp = cities[i];\n",
        "                cities[i] = cities[j];\n",
        "                cities[j] = temp;\n",
        "            }\n",
        "        }\n",
        "    }\n",
        "}\n",
        "\n",
        "// Function to print city names\n",
        "void printCities(char* cities[], int n) {\n",
        "    for (int i = 0; i < n; ++i) {\n",
        "        printf(\"%s\\n\", cities[i]);\n",
        "    }\n",
        "}\n",
        "\n",
        "int main() {\n",
        "    int n;\n",
        "    char* cities[MAX_CITIES];\n",
        "    char cityNames[MAX_CITIES][MAX_NAME_LENGTH];\n",
        "\n",
        "    printf(\"Enter the number of cities: \");\n",
        "    scanf(\"%d\", &n);\n",
        "    getchar();  // To consume the newline character after the number input\n",
        "\n",
        "    printf(\"Enter the names of the cities:\\n\");\n",
        "    for (int i = 0; i < n; ++i) {\n",
        "        fgets(cityNames[i], MAX_NAME_LENGTH, stdin);\n",
        "        cityNames[i][strcspn(cityNames[i], \"\\n\")] = '\\0';  // Remove newline character\n",
        "        cities[i] = cityNames[i];\n",
        "    }\n",
        "\n",
        "    int choice;\n",
        "    printf(\"Choose sorting option:\\n\");\n",
        "    printf(\"1. Sort by alphabetical order\\n\");\n",
        "    printf(\"2. Sort by length of city names\\n\");\n",
        "    scanf(\"%d\", &choice);\n",
        "\n",
        "    if (choice == 1) {\n",
        "        sortAlphabetically(cities, n);\n",
        "    } else if (choice == 2) {\n",
        "        sortByLength(cities, n);\n",
        "    } else {\n",
        "        printf(\"Invalid choice.\\n\");\n",
        "        return 1;\n",
        "    }\n",
        "\n",
        "    printf(\"\\nSorted city names:\\n\");\n",
        "    printCities(cities, n);\n",
        "\n",
        "    return 0;\n",
        "}\n"
      ]
    },
    {
      "cell_type": "code",
      "execution_count": null,
      "metadata": {
        "id": "1R1aGQo9NMzE",
        "colab": {
          "base_uri": "https://localhost:8080/"
        },
        "outputId": "4f8da747-decb-4c01-a610-41339dc76184"
      },
      "outputs": [
        {
          "output_type": "stream",
          "name": "stdout",
          "text": [
            "Enter the number of cities: 5\n",
            "Enter the names of the cities:\n",
            "Vellore\n",
            "Salem\n",
            "Coimbatore\n",
            "Nilgiris\n",
            "Chennai\n",
            "Choose sorting option:\n",
            "1. Sort by alphabetical order\n",
            "2. Sort by length of city names\n",
            "2\n",
            "\n",
            "Sorted city names:\n",
            "Salem\n",
            "Vellore\n",
            "Chennai\n",
            "Nilgiris\n",
            "Coimbatore\n"
          ]
        }
      ],
      "source": [
        "!g++ program.c -o program\n",
        "! ./program"
      ]
    },
    {
      "cell_type": "markdown",
      "metadata": {
        "id": "GVi5BAdU6-H_"
      },
      "source": [
        "Given an array of integers, return a new array such that each element at index i of the new array is the product of all the numbers in the original array except index the i. For example, if input is [1, 2, 3, 4, 5], the expected output would be [120, 60, 40, 30, 24). If our input was [3, 2, 11, the expected output would be [2, 3, 6]. Write a C program to solve the above."
      ]
    },
    {
      "cell_type": "code",
      "execution_count": null,
      "metadata": {
        "id": "6bUDTc5nNNhP",
        "colab": {
          "base_uri": "https://localhost:8080/"
        },
        "outputId": "6d8c1fd8-6280-438f-c305-dd9f4370f7fd"
      },
      "outputs": [
        {
          "output_type": "stream",
          "name": "stdout",
          "text": [
            "Overwriting program.c\n"
          ]
        }
      ],
      "source": [
        "%%writefile program.c\n",
        "#include <stdio.h>\n",
        "\n",
        "void productArray(int arr[], int n, int result[]) {\n",
        "    for (int i = 0; i < n; ++i) {\n",
        "        int product = 1;\n",
        "        for (int j = 0; j < n; ++j) {\n",
        "            if (i != j) {\n",
        "                product *= arr[j];\n",
        "            }\n",
        "        }\n",
        "        result[i] = product;\n",
        "    }\n",
        "}\n",
        "\n",
        "int main() {\n",
        "    int arr[] = {1, 2, 3, 4, 5};\n",
        "    int n = sizeof(arr) / sizeof(arr[0]);\n",
        "    int result[n];\n",
        "\n",
        "    productArray(arr, n, result);\n",
        "\n",
        "    printf(\"Result array: \");\n",
        "    for (int i = 0; i < n; ++i) {\n",
        "        printf(\"%d \", result[i]);\n",
        "    }\n",
        "    printf(\"\\n\");\n",
        "\n",
        "    return 0;\n",
        "}\n"
      ]
    },
    {
      "cell_type": "code",
      "execution_count": null,
      "metadata": {
        "id": "2kOkRbScNNoh",
        "colab": {
          "base_uri": "https://localhost:8080/"
        },
        "outputId": "0b357489-caab-4ab3-9f4a-eadd2b2b19a8"
      },
      "outputs": [
        {
          "output_type": "stream",
          "name": "stdout",
          "text": [
            "Result array: 120 60 40 30 24 \n"
          ]
        }
      ],
      "source": [
        "!g++ program.c -o program\n",
        "! ./program"
      ]
    },
    {
      "cell_type": "markdown",
      "metadata": {
        "id": "2duWsKYg6-Oo"
      },
      "source": [
        "Develop a C program to find the smallest and largest prime number exist in the range of two integers X and Y given by the user. Then, by subtracting one from the smallest prime number as well as the largest prime number, calculate their Greatest Common Divisor (GCD) and print it as the result.\n",
        "\n",
        "Note: Suppose, if the two prime numbers does not exist in given range of X and Y, enable the user to enter the different range of X and Y which includes at least two prime numbers."
      ]
    },
    {
      "cell_type": "code",
      "execution_count": null,
      "metadata": {
        "id": "DyKB2r7ZNObh",
        "colab": {
          "base_uri": "https://localhost:8080/"
        },
        "outputId": "7f9b9732-f409-4f40-87b5-aac036ba9d26"
      },
      "outputs": [
        {
          "output_type": "stream",
          "name": "stdout",
          "text": [
            "Overwriting program.c\n"
          ]
        }
      ],
      "source": [
        "%%writefile program.c\n",
        "#include <stdio.h>\n",
        "#include <stdbool.h>\n",
        "\n",
        "// Function to check if a number is prime\n",
        "bool isPrime(int num) {\n",
        "    if (num <= 1) return false;\n",
        "    for (int i = 2; i * i <= num; ++i) {\n",
        "        if (num % i == 0) return false;\n",
        "    }\n",
        "    return true;\n",
        "}\n",
        "\n",
        "// Function to find the GCD of two numbers\n",
        "int gcd(int a, int b) {\n",
        "    while (b != 0) {\n",
        "        int temp = b;\n",
        "        b = a % b;\n",
        "        a = temp;\n",
        "    }\n",
        "    return a;\n",
        "}\n",
        "\n",
        "int main() {\n",
        "    int x, y;\n",
        "    int smallestPrime = -1, largestPrime = -1;\n",
        "\n",
        "    while (true) {\n",
        "        printf(\"Enter the range (X Y): \");\n",
        "        scanf(\"%d %d\", &x, &y);\n",
        "\n",
        "        // Find the smallest and largest prime numbers in the range\n",
        "        for (int i = x; i <= y; ++i) {\n",
        "            if (isPrime(i)) {\n",
        "                if (smallestPrime == -1) {\n",
        "                    smallestPrime = i;\n",
        "                }\n",
        "                largestPrime = i;\n",
        "            }\n",
        "        }\n",
        "\n",
        "        if (smallestPrime != -1 && largestPrime != -1 && smallestPrime != largestPrime) {\n",
        "            break;\n",
        "        } else {\n",
        "            printf(\"The range must include at least two prime numbers. Please enter a different range.\\n\");\n",
        "            smallestPrime = -1;\n",
        "            largestPrime = -1;\n",
        "        }\n",
        "    }\n",
        "\n",
        "    // Subtract one from the smallest and largest prime numbers\n",
        "    int smallestPrimeMinusOne = smallestPrime - 1;\n",
        "    int largestPrimeMinusOne = largestPrime - 1;\n",
        "\n",
        "    // Calculate the GCD\n",
        "    int resultGCD = gcd(smallestPrimeMinusOne, largestPrimeMinusOne);\n",
        "\n",
        "    // Print the result\n",
        "    printf(\"Smallest prime number: %d\\n\", smallestPrime);\n",
        "    printf(\"Largest prime number: %d\\n\", largestPrime);\n",
        "    printf(\"GCD of %d and %d: %d\\n\", smallestPrimeMinusOne, largestPrimeMinusOne, resultGCD);\n",
        "\n",
        "    return 0;\n",
        "}\n"
      ]
    },
    {
      "cell_type": "code",
      "execution_count": null,
      "metadata": {
        "id": "l7rtVes_NOh4",
        "colab": {
          "base_uri": "https://localhost:8080/"
        },
        "outputId": "b9b2e1a6-1309-49cd-f619-d7b8e515cb6c"
      },
      "outputs": [
        {
          "output_type": "stream",
          "name": "stdout",
          "text": [
            "Enter the range (X Y): 5 6\n",
            "The range must include at least two prime numbers. Please enter a different range.\n",
            "Enter the range (X Y): 5 7\n",
            "Smallest prime number: 5\n",
            "Largest prime number: 7\n",
            "GCD of 4 and 6: 2\n"
          ]
        }
      ],
      "source": [
        "!g++ program.c -o program\n",
        "! ./program"
      ]
    },
    {
      "cell_type": "markdown",
      "metadata": {
        "id": "sEsREevh7M1N"
      },
      "source": [
        "Write a C program\n",
        "a) Read radius of a circle (in main function)\n",
        "\n",
        "b) Create a function calculate() which will calculate area and perimeter of circle\n",
        "\n",
        "c) Display area and perimeter (in main function)"
      ]
    },
    {
      "cell_type": "code",
      "execution_count": null,
      "metadata": {
        "colab": {
          "base_uri": "https://localhost:8080/"
        },
        "id": "orGCl2ZUNPYu",
        "outputId": "3debbb54-c0a5-44a2-8074-2deed9cf4eeb"
      },
      "outputs": [
        {
          "name": "stdout",
          "output_type": "stream",
          "text": [
            "Overwriting program.c\n"
          ]
        }
      ],
      "source": [
        "%%writefile program.c\n",
        "#include <stdio.h>\n",
        "using namespace std;\n",
        "#define PI 3.14159\n",
        "\n",
        "//should use pointer and pass reference\n",
        "\n",
        "\n",
        "void calculate(float r, float *area, float *perimeter) {\n",
        "    *area = PI * r * r;\n",
        "    *perimeter = 2 * PI * r;\n",
        "}\n",
        "\n",
        "int main() {\n",
        "    float radius, area, perimeter;\n",
        "\n",
        "    printf(\"Enter the radius of the circle: \");\n",
        "    scanf(\"%f\", &radius);\n",
        "\n",
        "    calculate(radius, &area, &perimeter);\n",
        "\n",
        "    printf(\"Area of the circle = %.2f\\n\", area);\n",
        "    printf(\"Perimeter of the circle = %.2f\\n\", perimeter);\n",
        "\n",
        "    return 0;\n",
        "}\n"
      ]
    },
    {
      "cell_type": "code",
      "execution_count": null,
      "metadata": {
        "colab": {
          "base_uri": "https://localhost:8080/"
        },
        "id": "ndwk0HpDNPew",
        "outputId": "01a7f502-2c23-4402-b762-2e1ab7b902ab"
      },
      "outputs": [
        {
          "name": "stdout",
          "output_type": "stream",
          "text": [
            "Enter the radius of the circle: 10\n",
            "Area of the circle = 314.16\n",
            "Perimeter of the circle = 62.83\n"
          ]
        }
      ],
      "source": [
        "!g++ program.c -o program\n",
        "! ./program"
      ]
    },
    {
      "cell_type": "markdown",
      "metadata": {
        "id": "eDTSF05i7M8a"
      },
      "source": [
        "Write a C program for the meteorological centre that reads the noon day temperature (in degrees Celsius) for each day of a week and then reports the weeks average temperature as well as the hottest and coolest days"
      ]
    },
    {
      "cell_type": "code",
      "execution_count": null,
      "metadata": {
        "id": "N_wmhgsUNQX-",
        "colab": {
          "base_uri": "https://localhost:8080/"
        },
        "outputId": "2a413bb0-8e53-426c-8f20-8e55a94ae84e"
      },
      "outputs": [
        {
          "output_type": "stream",
          "name": "stdout",
          "text": [
            "Overwriting program.c\n"
          ]
        }
      ],
      "source": [
        "%%writefile program.c\n",
        "#include <stdio.h>\n",
        "\n",
        "#define DAYS_IN_WEEK 7\n",
        "\n",
        "int main() {\n",
        "    float temperatures[DAYS_IN_WEEK];\n",
        "    float sum = 0.0;\n",
        "    float average;\n",
        "    int hottestDay = 0, coolestDay = 0;\n",
        "\n",
        "    // Read temperatures for each day of the week\n",
        "    printf(\"Enter the noon day temperature for each day of the week (in degrees Celsius):\\n\");\n",
        "    for (int i = 0; i < DAYS_IN_WEEK; ++i) {\n",
        "        printf(\"Day %d: \", i + 1);\n",
        "        scanf(\"%f\", &temperatures[i]);\n",
        "        sum += temperatures[i];\n",
        "    }\n",
        "\n",
        "    // Calculate average temperature\n",
        "    average = sum / DAYS_IN_WEEK;\n",
        "\n",
        "    // Find hottest and coolest days\n",
        "    for (int i = 1; i < DAYS_IN_WEEK; ++i) {\n",
        "        if (temperatures[i] > temperatures[hottestDay]) {\n",
        "            hottestDay = i;\n",
        "        }\n",
        "        if (temperatures[i] < temperatures[coolestDay]) {\n",
        "            coolestDay = i;\n",
        "        }\n",
        "    }\n",
        "\n",
        "    // Report results\n",
        "    printf(\"\\nWeek's average temperature: %.2f degrees Celsius\\n\", average);\n",
        "    printf(\"Hottest day: Day %d with %.2f degrees Celsius\\n\", hottestDay + 1, temperatures[hottestDay]);\n",
        "    printf(\"Coolest day: Day %d with %.2f degrees Celsius\\n\", coolestDay + 1, temperatures[coolestDay]);\n",
        "\n",
        "    return 0;\n",
        "}\n"
      ]
    },
    {
      "cell_type": "code",
      "execution_count": null,
      "metadata": {
        "id": "9HC8D4qyNQeY",
        "colab": {
          "base_uri": "https://localhost:8080/"
        },
        "outputId": "b473e7ac-2f3b-4eca-dace-52f74607175f"
      },
      "outputs": [
        {
          "output_type": "stream",
          "name": "stdout",
          "text": [
            "Enter the noon day temperature for each day of the week (in degrees Celsius):\n",
            "Day 1: 90\n",
            "Day 2: 94\n",
            "Day 3: 92\n",
            "Day 4: 99\n",
            "Day 5: 97\n",
            "Day 6: 95\n",
            "Day 7: 99\n",
            "\n",
            "Week's average temperature: 95.14 degrees Celsius\n",
            "Hottest day: Day 4 with 99.00 degrees Celsius\n",
            "Coolest day: Day 1 with 90.00 degrees Celsius\n"
          ]
        }
      ],
      "source": [
        "!g++ program.c -o program\n",
        "! ./program"
      ]
    },
    {
      "cell_type": "markdown",
      "metadata": {
        "id": "6eB3sfLo6-Wd"
      },
      "source": [
        "For the given range of numbers (a, b), compute and print the occurrence of values that are divisible by both m and n. Write a C program to compute and sum all such occurrences in a function and print the output"
      ]
    },
    {
      "cell_type": "code",
      "execution_count": null,
      "metadata": {
        "id": "3fnillkZNRSK",
        "colab": {
          "base_uri": "https://localhost:8080/"
        },
        "outputId": "1dd5678c-ff05-40c2-caad-8dec6e734f9f"
      },
      "outputs": [
        {
          "output_type": "stream",
          "name": "stdout",
          "text": [
            "Overwriting program.c\n"
          ]
        }
      ],
      "source": [
        "%%writefile program.c\n",
        "#include <stdio.h>\n",
        "\n",
        "// Function to compute and sum occurrences of values divisible by both m and n\n",
        "int compute_and_sum_occurrences(int a, int b, int m, int n) {\n",
        "    int sum = 0;\n",
        "    int count = 0;\n",
        "\n",
        "    for (int i = a; i <= b; ++i) {\n",
        "        if (i % m == 0 && i % n == 0) {\n",
        "            sum += i;\n",
        "            count++;\n",
        "        }\n",
        "    }\n",
        "\n",
        "    printf(\"Number of occurrences: %d\\n\", count);\n",
        "    return sum;\n",
        "}\n",
        "\n",
        "int main() {\n",
        "    int a, b, m, n;\n",
        "\n",
        "    // Input range and divisors\n",
        "    printf(\"Enter the range (a b): \");\n",
        "    scanf(\"%d %d\", &a, &b);\n",
        "    printf(\"Enter the divisors (m n): \");\n",
        "    scanf(\"%d %d\", &m, &n);\n",
        "\n",
        "    // Compute and sum occurrences\n",
        "    int sum = compute_and_sum_occurrences(a, b, m, n);\n",
        "\n",
        "    // Print the sum of occurrences\n",
        "    printf(\"Sum of occurrences: %d\\n\", sum);\n",
        "\n",
        "    return 0;\n",
        "}\n"
      ]
    },
    {
      "cell_type": "code",
      "execution_count": null,
      "metadata": {
        "id": "rp9HliTGNRYX",
        "colab": {
          "base_uri": "https://localhost:8080/"
        },
        "outputId": "fa83e546-8f2b-443f-af74-6647353f4179"
      },
      "outputs": [
        {
          "output_type": "stream",
          "name": "stdout",
          "text": [
            "Enter the range (a b): 4 20\n",
            "Enter the divisors (m n): 2 3\n",
            "Number of occurrences: 3\n",
            "Sum of occurrences: 36\n"
          ]
        }
      ],
      "source": [
        "!g++ program.c -o program\n",
        "! ./program"
      ]
    },
    {
      "cell_type": "markdown",
      "metadata": {
        "id": "6JUoXfIK7enI"
      },
      "source": [
        "D\n"
      ]
    },
    {
      "cell_type": "markdown",
      "metadata": {
        "id": "GIEyGg6oLm2K"
      },
      "source": [
        "Make a structure called Time that stores information about time intervals like seconds, minutes, and hours. In order to store two time periods in the structural variables t1 and 12, the user is asked to enter them. The main () function then displays the outcome of the compute_Time_Difference() function's calculation of the difference between the time periods. Create a C programme to calculate the difference between two times"
      ]
    },
    {
      "cell_type": "code",
      "source": [
        "%%writefile program.c\n",
        "#include <stdio.h>\n",
        "\n",
        "struct Time {\n",
        "    int hours;\n",
        "    int minutes;\n",
        "    int seconds;\n",
        "};\n",
        "\n",
        "struct Time compute_Time_Difference(struct Time t1, struct Time t2) {\n",
        "    struct Time diff;\n",
        "\n",
        "    // Convert both times to seconds\n",
        "    int t1_seconds = t1.hours * 3600 + t1.minutes * 60 + t1.seconds;\n",
        "    int t2_seconds = t2.hours * 3600 + t2.minutes * 60 + t2.seconds;\n",
        "\n",
        "    // Calculate the difference in seconds\n",
        "    int diff_seconds = t1_seconds - t2_seconds;\n",
        "\n",
        "    // Convert the difference back to hours, minutes, and seconds\n",
        "    diff.hours = diff_seconds / 3600;\n",
        "    diff_seconds %= 3600;\n",
        "    diff.minutes = diff_seconds / 60;\n",
        "    diff.seconds = diff_seconds % 60;\n",
        "\n",
        "    return diff;\n",
        "}\n",
        "\n",
        "int main() {\n",
        "    struct Time t1, t2, diff;\n",
        "\n",
        "    // Input time periods\n",
        "    printf(\"Enter the first time period (hours minutes seconds): \");\n",
        "    scanf(\"%d %d %d\", &t1.hours, &t1.minutes, &t1.seconds);\n",
        "\n",
        "    printf(\"Enter the second time period (hours minutes seconds): \");\n",
        "    scanf(\"%d %d %d\", &t2.hours, &t2.minutes, &t2.seconds);\n",
        "\n",
        "    // Compute the difference\n",
        "    diff = compute_Time_Difference(t1, t2);\n",
        "\n",
        "    // Display the difference\n",
        "    printf(\"Difference: %d hours %d minutes %d seconds\\n\", diff.hours, diff.minutes, diff.seconds);\n",
        "\n",
        "    return 0;\n",
        "}\n"
      ],
      "metadata": {
        "colab": {
          "base_uri": "https://localhost:8080/"
        },
        "id": "SPzhJe_3r40n",
        "outputId": "2c403b8b-95b0-4c2c-85d4-7155b2485319"
      },
      "execution_count": null,
      "outputs": [
        {
          "output_type": "stream",
          "name": "stdout",
          "text": [
            "Overwriting program.c\n"
          ]
        }
      ]
    },
    {
      "cell_type": "code",
      "source": [
        "!g++ program.c -o program\n",
        "! ./program"
      ],
      "metadata": {
        "colab": {
          "base_uri": "https://localhost:8080/"
        },
        "id": "UB_JUtpsr4p1",
        "outputId": "339d6759-2027-4d92-f7c7-ce39ae077c04"
      },
      "execution_count": null,
      "outputs": [
        {
          "output_type": "stream",
          "name": "stdout",
          "text": [
            "Enter the first time period (hours minutes seconds): 4 10 20\n",
            "Enter the second time period (hours minutes seconds): 1 50 40\n",
            "Difference: 2 hours 19 minutes 40 seconds\n"
          ]
        }
      ]
    },
    {
      "cell_type": "markdown",
      "metadata": {
        "id": "n4_XU3o3FoTc"
      },
      "source": [
        "Design a C++ programme to sort doubles and integers and show how to develop a template function for bubble sorting."
      ]
    },
    {
      "cell_type": "code",
      "source": [
        "%%writefile program.c\n",
        "#include <iostream>\n",
        "\n",
        "using namespace std;\n",
        "\n",
        "// Template function for bubble sort\n",
        "template <typename T>\n",
        "void bubbleSort(T arr[], int size) {\n",
        "    bool swapped;\n",
        "    for (int i = 0; i < size - 1; ++i) {\n",
        "        swapped = false;\n",
        "        for (int j = 0; j < size - i - 1; ++j) {\n",
        "            if (arr[j] > arr[j + 1]) {\n",
        "                swap(arr[j], arr[j + 1]);\n",
        "                swapped = true;\n",
        "            }\n",
        "        }\n",
        "        if (!swapped) {\n",
        "            break;\n",
        "        }\n",
        "    }\n",
        "}\n",
        "\n",
        "// Function to display the array\n",
        "template <typename T>\n",
        "void displayArray(T arr[], int size) {\n",
        "    for (int i = 0; i < size; ++i) {\n",
        "        cout << arr[i] << \" \";\n",
        "    }\n",
        "    cout << endl;\n",
        "}\n",
        "\n",
        "int main() {\n",
        "    int intArray[] = {64, 34, 25, 12, 22, 11, 90};\n",
        "    double doubleArray[] = {64.5, 34.2, 25.1, 12.3, 22.4, 11.6, 90.7};\n",
        "\n",
        "    int intSize = sizeof(intArray) / sizeof(intArray[0]);\n",
        "    int doubleSize = sizeof(doubleArray) / sizeof(doubleArray[0]);\n",
        "\n",
        "    cout << \"Original integer array: \";\n",
        "    displayArray(intArray, intSize);\n",
        "\n",
        "    cout << \"Original double array: \";\n",
        "    displayArray(doubleArray, doubleSize);\n",
        "\n",
        "    bubbleSort(intArray, intSize);\n",
        "    bubbleSort(doubleArray, doubleSize);\n",
        "\n",
        "    cout << \"\\nSorted integer array: \";\n",
        "    displayArray(intArray, intSize);\n",
        "\n",
        "    cout << \"\\nSorted double array: \";\n",
        "    displayArray(doubleArray, doubleSize);\n",
        "\n",
        "    return 0;\n",
        "}\n"
      ],
      "metadata": {
        "colab": {
          "base_uri": "https://localhost:8080/"
        },
        "id": "JW2PuM-0r3cn",
        "outputId": "67e33ba4-ace8-4b65-d002-6beeba5a9d59"
      },
      "execution_count": null,
      "outputs": [
        {
          "output_type": "stream",
          "name": "stdout",
          "text": [
            "Overwriting program.c\n"
          ]
        }
      ]
    },
    {
      "cell_type": "code",
      "source": [
        "!g++ program.c -o program\n",
        "! ./program"
      ],
      "metadata": {
        "colab": {
          "base_uri": "https://localhost:8080/"
        },
        "id": "vH3V49Lxr3CP",
        "outputId": "b1499873-d252-451c-b31d-f03d7aabf5e8"
      },
      "execution_count": null,
      "outputs": [
        {
          "output_type": "stream",
          "name": "stdout",
          "text": [
            "Original integer array: 64 34 25 12 22 11 90 \n",
            "Original double array: 64.5 34.2 25.1 12.3 22.4 11.6 90.7 \n",
            "\n",
            "Sorted integer array: 11 12 22 25 34 64 90 \n",
            "\n",
            "Sorted double array: 11.6 12.3 22.4 25.1 34.2 64.5 90.7 \n"
          ]
        }
      ]
    },
    {
      "cell_type": "markdown",
      "metadata": {
        "id": "SI50wR5upD4k"
      },
      "source": [
        "You are working on a project to manage a library. You have a class called 'Book' that stores information about the book such as title, author and publication date. Write a C++ code to overload \"<\" and \">\" operators to compare the books by their publication date. Also overload \"+\" operator to find the book requested by the user by checking the title of the book and display all the details of that book."
      ]
    },
    {
      "cell_type": "code",
      "source": [
        "%%writefile program.c\n",
        "#include <iostream>\n",
        "#include <string>\n",
        "\n",
        "using namespace std;\n",
        "\n",
        "class Book {\n",
        "private:\n",
        "    string title;\n",
        "    string author;\n",
        "    string publicationDate;\n",
        "\n",
        "public:\n",
        "    Book() : title(\"\"), author(\"\"), publicationDate(\"\") {}\n",
        "\n",
        "    Book(const string& t, const string& a, const string& p) : title(t), author(a), publicationDate(p) {}\n",
        "\n",
        "    string getTitle(){\n",
        "        return title;\n",
        "    }\n",
        "    // Overload < operator to compare books by publication date\n",
        "    bool operator<(const Book& other) const {\n",
        "        return publicationDate < other.publicationDate;\n",
        "    }\n",
        "\n",
        "    // Overload > operator to compare books by publication date\n",
        "    bool operator>(const Book& other) const {\n",
        "        return publicationDate > other.publicationDate;\n",
        "    }\n",
        "\n",
        "    // Overload + operator to find a book by title\n",
        "    Book operator+(const string& requestedTitle) const {\n",
        "        if (title == requestedTitle) {\n",
        "            return *this;\n",
        "        }\n",
        "        return Book();  // Return an empty book if not found\n",
        "    }\n",
        "\n",
        "    void display() const {\n",
        "        if (title.empty()) {\n",
        "            cout << \"Book not found.\" << endl;\n",
        "        } else {\n",
        "            cout << \"Title: \" << title << endl;\n",
        "            cout << \"Author: \" << author << endl;\n",
        "            cout << \"Publication Date: \" << publicationDate << endl;\n",
        "        }\n",
        "    }\n",
        "\n",
        "    void readBook() {\n",
        "        cout << \"Enter book title: \";\n",
        "        getline(cin, title);\n",
        "        cout << \"Enter book author: \";\n",
        "        getline(cin, author);\n",
        "        cout << \"Enter publication date (YYYY-MM-DD): \";\n",
        "        getline(cin, publicationDate);\n",
        "    }\n",
        "};\n",
        "\n",
        "int main() {\n",
        "    int numBooks;\n",
        "    cout << \"Enter the number of books: \";\n",
        "    cin >> numBooks;\n",
        "    cin.ignore();  // To ignore the newline character after the number input\n",
        "\n",
        "    Book books[numBooks];\n",
        "\n",
        "    for (int i = 0; i < numBooks; ++i) {\n",
        "        cout << \"Enter details for Book \" << i + 1 << \":\" << endl;\n",
        "        books[i].readBook();\n",
        "    }\n",
        "\n",
        "\n",
        "    cout << \"\\nComparing publication dates:\" << endl;\n",
        "    if (books[0] < books[1]) {\n",
        "        cout << \"Book 1 was published before Book 2.\" << endl;\n",
        "    } else if (books[0] > books[1]) {\n",
        "        cout << \"Book 1 was published after Book 2.\" << endl;\n",
        "    } else {\n",
        "        cout << \"Both books were published on the same date.\" << endl;\n",
        "    }\n",
        "\n",
        "    string requestedTitle;\n",
        "    cout << \"\\nEnter the title of the book you are looking for: \";\n",
        "    getline(cin, requestedTitle);\n",
        "\n",
        "\n",
        "    Book foundBook;\n",
        "    bool bookFound = false;\n",
        "    for (int i = 0; i < numBooks; ++i) {\n",
        "        foundBook = books[i] + requestedTitle;\n",
        "        if (!foundBook.getTitle().empty()) {\n",
        "            bookFound = true;\n",
        "            break;\n",
        "        }\n",
        "    }\n",
        "\n",
        "    cout << \"\\nBook details:\" << endl;\n",
        "    if (bookFound) {\n",
        "        foundBook.display();\n",
        "    } else {\n",
        "        cout << \"Book not found.\" << endl;\n",
        "    }\n",
        "\n",
        "\n",
        "    return 0;\n",
        "}\n",
        "\n",
        "\n",
        "\n"
      ],
      "metadata": {
        "colab": {
          "base_uri": "https://localhost:8080/"
        },
        "id": "7yBPlzB3r1D2",
        "outputId": "f855149b-03b5-455d-d4cb-4e681fe9b7f8"
      },
      "execution_count": null,
      "outputs": [
        {
          "output_type": "stream",
          "name": "stdout",
          "text": [
            "Overwriting program.c\n"
          ]
        }
      ]
    },
    {
      "cell_type": "code",
      "source": [
        "!g++ program.c -o program\n",
        "! ./program"
      ],
      "metadata": {
        "colab": {
          "base_uri": "https://localhost:8080/"
        },
        "id": "gQZ7SGv6r06Z",
        "outputId": "7bb28f34-ccdd-42e3-f71d-dfd07162ebd8"
      },
      "execution_count": null,
      "outputs": [
        {
          "output_type": "stream",
          "name": "stdout",
          "text": [
            "Enter the number of books: 3\n",
            "Enter details for Book 1:\n",
            "Enter book title: book1\n",
            "Enter book author: auth1\n",
            "Enter publication date (YYYY-MM-DD): 2022-04-23\n",
            "Enter details for Book 2:\n",
            "Enter book title: book2\n",
            "Enter book author: 2011-08-09\n",
            "Enter publication date (YYYY-MM-DD): 2011-08-09\n",
            "Enter details for Book 3:\n",
            "Enter book title: book3\n",
            "Enter book author: auth3\n",
            "Enter publication date (YYYY-MM-DD): 2017-11-29\n",
            "\n",
            "Comparing publication dates:\n",
            "Book 1 was published after Book 2.\n",
            "\n",
            "Enter the title of the book you are looking for: book3\n",
            "\n",
            "Book details:\n",
            "Title: book3\n",
            "Author: auth3\n",
            "Publication Date: 2017-11-29\n"
          ]
        }
      ]
    },
    {
      "cell_type": "code",
      "source": [
        "%%writefile program.c\n",
        "#include <iostream>\n",
        "#include <string>\n",
        "\n",
        "using namespace std;\n",
        "\n",
        "class Book {\n",
        "private:\n",
        "    string title;\n",
        "    string author;\n",
        "    string publicationDate;\n",
        "\n",
        "public:\n",
        "    Book() : title(\"\"), author(\"\"), publicationDate(\"\") {}\n",
        "\n",
        "    Book(const string& t, const string& a, const string& p) : title(t), author(a), publicationDate(p) {}\n",
        "\n",
        "    string getTitle(){\n",
        "        return title;\n",
        "    }\n",
        "    // Overload < operator to compare books by publication date\n",
        "    bool operator<(const Book& other) const {\n",
        "        return publicationDate < other.publicationDate;\n",
        "    }\n",
        "\n",
        "    // Overload > operator to compare books by publication date\n",
        "    bool operator>(const Book& other) const {\n",
        "        return publicationDate > other.publicationDate;\n",
        "    }\n",
        "\n",
        "    // Overload << operator to find a book by title\n",
        "    Book operator<<(const string& requestedTitle) const {\n",
        "        if (title == requestedTitle) {\n",
        "            return *this;\n",
        "        }\n",
        "        return Book();  // Return an empty book if not found\n",
        "    }\n",
        "\n",
        "    void display() const {\n",
        "        if (title.empty()) {\n",
        "            cout << \"Book not found.\" << endl;\n",
        "        } else {\n",
        "            cout << \"Title: \" << title << endl;\n",
        "            cout << \"Author: \" << author << endl;\n",
        "            cout << \"Publication Date: \" << publicationDate << endl;\n",
        "        }\n",
        "    }\n",
        "\n",
        "    void readBook() {\n",
        "        cout << \"Enter book title: \";\n",
        "        getline(cin, title);\n",
        "        cout << \"Enter book author: \";\n",
        "        getline(cin, author);\n",
        "        cout << \"Enter publication date (YYYY-MM-DD): \";\n",
        "        getline(cin, publicationDate);\n",
        "    }\n",
        "};\n",
        "\n",
        "int main() {\n",
        "    int numBooks;\n",
        "    cout << \"Enter the number of books: \";\n",
        "    cin >> numBooks;\n",
        "    cin.ignore();  // To ignore the newline character after the number input\n",
        "\n",
        "    Book books[numBooks];\n",
        "\n",
        "    for (int i = 0; i < numBooks; ++i) {\n",
        "        cout << \"Enter details for Book \" << i + 1 << \":\" << endl;\n",
        "        books[i].readBook();\n",
        "    }\n",
        "\n",
        "\n",
        "    cout << \"\\nComparing publication dates:\" << endl;\n",
        "    if (books[0] < books[1]) {\n",
        "        cout << \"Book 1 was published before Book 2.\" << endl;\n",
        "    } else if (books[0] > books[1]) {\n",
        "        cout << \"Book 1 was published after Book 2.\" << endl;\n",
        "    } else {\n",
        "        cout << \"Both books were published on the same date.\" << endl;\n",
        "    }\n",
        "\n",
        "    string requestedTitle;\n",
        "    cout << \"\\nEnter the title of the book you are looking for: \";\n",
        "    getline(cin, requestedTitle);\n",
        "\n",
        "\n",
        "    Book foundBook;\n",
        "    bool bookFound = false;\n",
        "    for (int i = 0; i < numBooks; ++i) {\n",
        "        foundBook = books[i] << requestedTitle;\n",
        "        if (!foundBook.getTitle().empty()) {\n",
        "            bookFound = true;\n",
        "            break;\n",
        "        }\n",
        "    }\n",
        "\n",
        "    cout << \"\\nBook details:\" << endl;\n",
        "    if (bookFound) {\n",
        "        foundBook.display();\n",
        "    } else {\n",
        "        cout << \"Book not found.\" << endl;\n",
        "    }\n",
        "\n",
        "\n",
        "    return 0;\n",
        "}\n",
        "\n",
        "\n",
        "\n"
      ],
      "metadata": {
        "colab": {
          "base_uri": "https://localhost:8080/"
        },
        "id": "uI72OYvyrzia",
        "outputId": "9ed4b845-97b3-482a-beff-d43ab4ad71bf"
      },
      "execution_count": null,
      "outputs": [
        {
          "output_type": "stream",
          "name": "stdout",
          "text": [
            "Overwriting program.c\n"
          ]
        }
      ]
    },
    {
      "cell_type": "code",
      "source": [
        "!g++ program.c -o program\n",
        "! ./program"
      ],
      "metadata": {
        "colab": {
          "base_uri": "https://localhost:8080/"
        },
        "id": "yzMPDcENrzZZ",
        "outputId": "9f8975b2-78d5-4f51-86a5-70cbf40d4991"
      },
      "execution_count": null,
      "outputs": [
        {
          "output_type": "stream",
          "name": "stdout",
          "text": [
            "Enter the number of books: 2\n",
            "Enter details for Book 1:\n",
            "Enter book title: book1\n",
            "Enter book author: auth1\n",
            "Enter publication date (YYYY-MM-DD): 2022-02-03\n",
            "Enter details for Book 2:\n",
            "Enter book title: book2\n",
            "Enter book author: auth2\n",
            "Enter publication date (YYYY-MM-DD): 2000-09-05\n",
            "\n",
            "Comparing publication dates:\n",
            "Book 1 was published after Book 2.\n",
            "\n",
            "Enter the title of the book you are looking for: book2\n",
            "\n",
            "Book details:\n",
            "Title: book2\n",
            "Author: auth2\n",
            "Publication Date: 2000-09-05\n"
          ]
        }
      ]
    },
    {
      "cell_type": "markdown",
      "metadata": {
        "id": "5H1yRJ_RUJyH"
      },
      "source": [
        "Define a structure data type called time_struct containing three member's hour (int), minute (int) and second (int). Write a C program that would assign values to the individual members and display the time in seconds. Do the operations in a function by passing the structure.\n",
        "\n",
        "For example:\n",
        "\n",
        "1 hour, 1 minute, 1 second should display as 3661 (i.e. 3600 + 60 + 1)"
      ]
    },
    {
      "cell_type": "code",
      "source": [],
      "metadata": {
        "id": "AeoxxeMS905E"
      },
      "execution_count": null,
      "outputs": []
    },
    {
      "cell_type": "code",
      "source": [],
      "metadata": {
        "id": "qF1ku8NK90vU"
      },
      "execution_count": null,
      "outputs": []
    },
    {
      "cell_type": "markdown",
      "metadata": {
        "id": "zgORUKqWUJ2P"
      },
      "source": [
        "Write a C++ program to define a class string. Use overloaded == operator to compare two strings and print whether they are same or not. Use necessary data members and member functions to implement the same. Write the input and output for the developed program."
      ]
    },
    {
      "cell_type": "code",
      "source": [
        "%%writefile program.c\n",
        "#include <iostream>\n",
        "#include <string>\n",
        "\n",
        "using namespace std;\n",
        "\n",
        "class String {\n",
        "private:\n",
        "    string str;\n",
        "\n",
        "public:\n",
        "    String() : str(\"\") {}\n",
        "\n",
        "    String(const string& s) : str(s) {}\n",
        "\n",
        "    // Overload == operator to compare two strings\n",
        "    // bool operator==(const String& other) {\n",
        "    //     return strcmp(str, other.str) == 0;\n",
        "    // }\n",
        "\n",
        "    // Overload == operator to compare two strings using a for loop\n",
        "    bool operator==(const String& other) {\n",
        "        if (str.length() != other.str.length()) {\n",
        "            return false;\n",
        "        }\n",
        "        for (size_t i = 0; i < str.length(); ++i) {\n",
        "            if (str[i] != other.str[i]) {\n",
        "                return false;\n",
        "            }\n",
        "        }\n",
        "        return true;\n",
        "    }\n",
        "\n",
        "    void readString() {\n",
        "        cout << \"Enter a string: \";\n",
        "        getline(cin, str);\n",
        "    }\n",
        "\n",
        "    void displayString() const {\n",
        "        cout << str << endl;\n",
        "    }\n",
        "};\n",
        "\n",
        "int main() {\n",
        "    String str1, str2;\n",
        "\n",
        "    cout << \"Input for String 1:\" << endl;\n",
        "    str1.readString();\n",
        "    cout << \"Input for String 2:\" << endl;\n",
        "    str2.readString();\n",
        "\n",
        "    cout << \"String 1: \";\n",
        "    str1.displayString();\n",
        "    cout << \"String 2: \";\n",
        "    str2.displayString();\n",
        "\n",
        "    if (str1 == str2) {\n",
        "        cout << \"The strings are the same.\" << endl;\n",
        "    } else {\n",
        "        cout << \"The strings are different.\" << endl;\n",
        "    }\n",
        "\n",
        "    return 0;\n",
        "}\n",
        "\n"
      ],
      "metadata": {
        "colab": {
          "base_uri": "https://localhost:8080/"
        },
        "id": "ourdciXtryGB",
        "outputId": "1d2336ba-a809-4883-a840-f12163df2bf9"
      },
      "execution_count": null,
      "outputs": [
        {
          "output_type": "stream",
          "name": "stdout",
          "text": [
            "Overwriting program.c\n"
          ]
        }
      ]
    },
    {
      "cell_type": "code",
      "source": [
        "\n",
        "!g++ program.c -o program\n",
        "! ./program"
      ],
      "metadata": {
        "colab": {
          "base_uri": "https://localhost:8080/"
        },
        "id": "sYIQEOLirx8O",
        "outputId": "ecc94fb2-ccc6-4b93-dd30-d1fec1c25947"
      },
      "execution_count": null,
      "outputs": [
        {
          "output_type": "stream",
          "name": "stdout",
          "text": [
            "Input for String 1:\n",
            "Enter a string: string check\n",
            "Input for String 2:\n",
            "Enter a string: string check\n",
            "String 1: string check\n",
            "String 2: string check\n",
            "The strings are the same.\n"
          ]
        }
      ]
    },
    {
      "cell_type": "markdown",
      "metadata": {
        "id": "hn4LjO2hUJ6a"
      },
      "source": [
        "C++ program to Check Whether a Number can be Express as Sum of Two Prime Numbers or not"
      ]
    },
    {
      "cell_type": "code",
      "source": [
        "%%writefile program.c\n",
        "#include <iostream>\n",
        "#include <cmath>\n",
        "\n",
        "using namespace std;\n",
        "\n",
        "// Function to check if a number is prime\n",
        "bool isPrime(int num) {\n",
        "    if (num <= 1) return false;\n",
        "    if (num == 2) return true;\n",
        "    if (num % 2 == 0) return false;\n",
        "    for (int i = 3; i <= sqrt(num); i += 2) {\n",
        "        if (num % i == 0) return false;\n",
        "    }\n",
        "    return true;\n",
        "}\n",
        "\n",
        "// Function to check if a number can be expressed as the sum of two prime numbers\n",
        "bool canBeExpressedAsSumOfTwoPrimes(int num) {\n",
        "    for (int i = 2; i <= num / 2; ++i) {\n",
        "        if (isPrime(i) && isPrime(num - i)) {\n",
        "            cout << num << \" can be expressed as the sum of \" << i << \" and \" << (num - i) << \" which are both prime numbers.\" << endl;\n",
        "            return true;\n",
        "        }\n",
        "    }\n",
        "    cout << num << \" cannot be expressed as the sum of two prime numbers.\" << endl;\n",
        "    return false;\n",
        "}\n",
        "\n",
        "int main() {\n",
        "    int num;\n",
        "    cout << \"Enter a number: \";\n",
        "    cin >> num;\n",
        "\n",
        "    canBeExpressedAsSumOfTwoPrimes(num);\n",
        "\n",
        "    return 0;\n",
        "}\n"
      ],
      "metadata": {
        "colab": {
          "base_uri": "https://localhost:8080/"
        },
        "id": "M2WvkIusrwnK",
        "outputId": "ee3d3c5b-5f1d-4861-e25e-ab612d117989"
      },
      "execution_count": null,
      "outputs": [
        {
          "output_type": "stream",
          "name": "stdout",
          "text": [
            "Overwriting program.c\n"
          ]
        }
      ]
    },
    {
      "cell_type": "code",
      "source": [
        "!g++ program.c -o program\n",
        "! ./program"
      ],
      "metadata": {
        "colab": {
          "base_uri": "https://localhost:8080/"
        },
        "id": "6XKshbzBrwjt",
        "outputId": "8204d119-0ebf-4493-e28a-257792577347"
      },
      "execution_count": null,
      "outputs": [
        {
          "output_type": "stream",
          "name": "stdout",
          "text": [
            "Enter a number: 5\n",
            "5 can be expressed as the sum of 2 and 3 which are both prime numbers.\n"
          ]
        }
      ]
    },
    {
      "cell_type": "markdown",
      "metadata": {
        "id": "jrQN49uTUKI-"
      },
      "source": [
        "For the purpose of storing the matrix information, create a class matrix with data members that include a 2D array, rows and columns. Functions for writing operations that read and display matrices are available. Addition, subtraction and multiplication functions for matrices should be defined as operator member functions."
      ]
    },
    {
      "cell_type": "code",
      "source": [
        "%%writefile program.c\n",
        "#include <iostream>\n",
        "\n",
        "using namespace std;\n",
        "\n",
        "class Matrix {\n",
        "private:\n",
        "    static const int MAX_SIZE = 100;  // Assuming a maximum size for simplicity\n",
        "    int mat[MAX_SIZE][MAX_SIZE];\n",
        "    int rows;\n",
        "    int cols;\n",
        "\n",
        "public:\n",
        "    Matrix(int r, int c) : rows(r), cols(c) {}\n",
        "\n",
        "    void readMatrix() {\n",
        "        cout << \"Enter elements of the matrix (\" << rows << \"x\" << cols << \"):\" << endl;\n",
        "        for (int i = 0; i < rows; ++i) {\n",
        "            for (int j = 0; j < cols; ++j) {\n",
        "                cin >> mat[i][j];\n",
        "            }\n",
        "        }\n",
        "    }\n",
        "\n",
        "    void displayMatrix() const {\n",
        "        cout << \"Matrix (\" << rows << \"x\" << cols << \"):\" << endl;\n",
        "        for (int i = 0; i < rows; ++i) {\n",
        "            for (int j = 0; j < cols; ++j) {\n",
        "                cout << mat[i][j] << \" \";\n",
        "            }\n",
        "            cout << endl;\n",
        "        }\n",
        "    }\n",
        "\n",
        "    // Overload addition operator\n",
        "    Matrix operator+(const Matrix& other) const {\n",
        "        Matrix result(rows, cols);\n",
        "        for (int i = 0; i < rows; ++i) {\n",
        "            for (int j = 0; j < cols; ++j) {\n",
        "                result.mat[i][j] = mat[i][j] + other.mat[i][j];\n",
        "            }\n",
        "        }\n",
        "        return result;\n",
        "    }\n",
        "\n",
        "    // Overload subtraction operator\n",
        "    Matrix operator-(const Matrix& other) const {\n",
        "        Matrix result(rows, cols);\n",
        "        for (int i = 0; i < rows; ++i) {\n",
        "            for (int j = 0; j < cols; ++j) {\n",
        "                result.mat[i][j] = mat[i][j] - other.mat[i][j];\n",
        "            }\n",
        "        }\n",
        "        return result;\n",
        "    }\n",
        "\n",
        "    // Overload multiplication operator\n",
        "    Matrix operator*(const Matrix& other) const {\n",
        "        Matrix result(rows, other.cols);\n",
        "        for (int i = 0; i < rows; ++i) {\n",
        "            for (int j = 0; j < other.cols; ++j) {\n",
        "                result.mat[i][j] = 0;\n",
        "                for (int k = 0; k < cols; ++k) {\n",
        "                    result.mat[i][j] += mat[i][k] * other.mat[k][j];\n",
        "                }\n",
        "            }\n",
        "        }\n",
        "        return result;\n",
        "    }\n",
        "};\n",
        "\n",
        "int main() {\n",
        "    int rows, cols;\n",
        "\n",
        "    cout << \"Enter number of rows and columns for the matrices: \";\n",
        "    cin >> rows >> cols;\n",
        "\n",
        "    Matrix mat1(rows, cols);\n",
        "    Matrix mat2(rows, cols);\n",
        "\n",
        "    cout << \"Matrix 1:\" << endl;\n",
        "    mat1.readMatrix();\n",
        "    mat1.displayMatrix();\n",
        "\n",
        "    cout << \"Matrix 2:\" << endl;\n",
        "    mat2.readMatrix();\n",
        "    mat2.displayMatrix();\n",
        "\n",
        "    Matrix sum = mat1 + mat2;\n",
        "    Matrix diff = mat1 - mat2;\n",
        "    Matrix prod = mat1 * mat2;\n",
        "\n",
        "    cout << \"Sum of matrices:\" << endl;\n",
        "    sum.displayMatrix();\n",
        "\n",
        "    cout << \"Difference of matrices:\" << endl;\n",
        "    diff.displayMatrix();\n",
        "\n",
        "    cout << \"Product of matrices:\" << endl;\n",
        "    prod.displayMatrix();\n",
        "\n",
        "    return 0;\n",
        "}\n"
      ],
      "metadata": {
        "colab": {
          "base_uri": "https://localhost:8080/"
        },
        "id": "FR4lCUvPsdOG",
        "outputId": "1eff1416-be2b-4c7f-bce3-0e2c70d2f04e"
      },
      "execution_count": null,
      "outputs": [
        {
          "output_type": "stream",
          "name": "stdout",
          "text": [
            "Overwriting program.c\n"
          ]
        }
      ]
    },
    {
      "cell_type": "code",
      "source": [
        "%%writefile program.c\n",
        "// Same with pointers\n",
        "#include <iostream>\n",
        "\n",
        "using namespace std;\n",
        "\n",
        "class Matrix {\n",
        "private:\n",
        "    int rows;\n",
        "    int cols;\n",
        "    int** mat;\n",
        "\n",
        "public:\n",
        "    Matrix(int r, int c) : rows(r), cols(c) {\n",
        "        mat = new int*[rows];\n",
        "        for (int i = 0; i < rows; ++i) {\n",
        "            mat[i] = new int[cols];\n",
        "        }\n",
        "    }\n",
        "\n",
        "    ~Matrix() {\n",
        "        for (int i = 0; i < rows; ++i) {\n",
        "            delete[] mat[i];\n",
        "        }\n",
        "        delete[] mat;\n",
        "    }\n",
        "\n",
        "    void readMatrix() {\n",
        "        cout << \"Enter elements of the matrix (\" << rows << \"x\" << cols << \"):\" << endl;\n",
        "        for (int i = 0; i < rows; ++i) {\n",
        "            for (int j = 0; j < cols; ++j) {\n",
        "                cin >> mat[i][j];\n",
        "            }\n",
        "        }\n",
        "    }\n",
        "\n",
        "    void displayMatrix() const {\n",
        "        cout << \"Matrix (\" << rows << \"x\" << cols << \"):\" << endl;\n",
        "        for (int i = 0; i < rows; ++i) {\n",
        "            for (int j = 0; j < cols; ++j) {\n",
        "                cout << mat[i][j] << \" \";\n",
        "            }\n",
        "            cout << endl;\n",
        "        }\n",
        "    }\n",
        "\n",
        "    // Overload addition operator\n",
        "    Matrix operator+(const Matrix& other) const {\n",
        "        Matrix result(rows, cols);\n",
        "        for (int i = 0; i < rows; ++i) {\n",
        "            for (int j = 0; j < cols; ++j) {\n",
        "                result.mat[i][j] = mat[i][j] + other.mat[i][j];\n",
        "            }\n",
        "        }\n",
        "        return result;\n",
        "    }\n",
        "\n",
        "    // Overload subtraction operator\n",
        "    Matrix operator-(const Matrix& other) const {\n",
        "        Matrix result(rows, cols);\n",
        "        for (int i = 0; i < rows; ++i) {\n",
        "            for (int j = 0; j < cols; ++j) {\n",
        "                result.mat[i][j] = mat[i][j] - other.mat[i][j];\n",
        "            }\n",
        "        }\n",
        "        return result;\n",
        "    }\n",
        "\n",
        "    // Overload multiplication operator\n",
        "    Matrix operator*(const Matrix& other) const {\n",
        "        Matrix result(rows, other.cols);\n",
        "        for (int i = 0; i < rows; ++i) {\n",
        "            for (int j = 0; j < other.cols; ++j) {\n",
        "                result.mat[i][j] = 0;\n",
        "                for (int k = 0; k < cols; ++k) {\n",
        "                    result.mat[i][j] += mat[i][k] * other.mat[k][j];\n",
        "                }\n",
        "            }\n",
        "        }\n",
        "        return result;\n",
        "    }\n",
        "};\n",
        "\n",
        "int main() {\n",
        "    int rows, cols;\n",
        "\n",
        "    cout << \"Enter number of rows and columns for the matrices: \";\n",
        "    cin >> rows >> cols;\n",
        "\n",
        "    Matrix mat1(rows, cols);\n",
        "    Matrix mat2(rows, cols);\n",
        "\n",
        "    cout << \"Matrix 1:\" << endl;\n",
        "    mat1.readMatrix();\n",
        "    mat1.displayMatrix();\n",
        "\n",
        "    cout << \"Matrix 2:\" << endl;\n",
        "    mat2.readMatrix();\n",
        "    mat2.displayMatrix();\n",
        "\n",
        "    Matrix sum = mat1 + mat2;\n",
        "    Matrix diff = mat1 - mat2;\n",
        "    Matrix prod = mat1 * mat2;\n",
        "\n",
        "    cout << \"Sum of matrices:\" << endl;\n",
        "    sum.displayMatrix();\n",
        "\n",
        "    cout << \"Difference of matrices:\" << endl;\n",
        "    diff.displayMatrix();\n",
        "\n",
        "    cout << \"Product of matrices:\" << endl;\n",
        "    prod.displayMatrix();\n",
        "\n",
        "    return 0;\n",
        "}\n"
      ],
      "metadata": {
        "id": "vZntH3Tjqsom"
      },
      "execution_count": null,
      "outputs": []
    },
    {
      "cell_type": "code",
      "source": [
        "!g++ program.c -o program\n",
        "! ./program"
      ],
      "metadata": {
        "colab": {
          "base_uri": "https://localhost:8080/"
        },
        "id": "0JEaFyPDrsw-",
        "outputId": "a5200ce0-8467-4401-a591-610bdb18e55c"
      },
      "execution_count": null,
      "outputs": [
        {
          "output_type": "stream",
          "name": "stdout",
          "text": [
            "Enter number of rows and columns for the matrices: 2 2\n",
            "Matrix 1:\n",
            "Enter elements of the matrix (2x2):\n",
            "9 8 7 6\n",
            "Matrix (2x2):\n",
            "9 8 \n",
            "7 6 \n",
            "Matrix 2:\n",
            "Enter elements of the matrix (2x2):\n",
            "5 4 3 2\n",
            "Matrix (2x2):\n",
            "5 4 \n",
            "3 2 \n",
            "Sum of matrices:\n",
            "Matrix (2x2):\n",
            "14 12 \n",
            "10 8 \n",
            "Difference of matrices:\n",
            "Matrix (2x2):\n",
            "4 4 \n",
            "4 4 \n",
            "Product of matrices:\n",
            "Matrix (2x2):\n",
            "69 52 \n",
            "53 40 \n"
          ]
        }
      ]
    },
    {
      "cell_type": "markdown",
      "metadata": {
        "id": "k7jpfLUtUKND"
      },
      "source": [
        "Govt of India wishes to give scholarship for students who are falling under specific category\n",
        "\n",
        "Category 1: if Grade > B and Age 22 Scholarship- 10,000.\n",
        "\n",
        "Category 2: if Grade Band Age 20 Scholarship 8,000.\n",
        "\n",
        "Category 3: If Grade C, Age 20 Scholarship 6,000.\n",
        "\n",
        "Implement a C++ code, using functional overloading and explain."
      ]
    },
    {
      "cell_type": "code",
      "source": [
        "here Grade > B .. it means Grade A or C to Z?\n",
        "function overloading is not required at all here\n"
      ],
      "metadata": {
        "id": "YWA1L2WHqthm"
      },
      "execution_count": null,
      "outputs": []
    },
    {
      "cell_type": "code",
      "source": [
        "!g++ program.c -o program\n",
        "! ./program"
      ],
      "metadata": {
        "id": "xs7UugUHmVZi"
      },
      "execution_count": null,
      "outputs": []
    },
    {
      "cell_type": "markdown",
      "metadata": {
        "id": "UZ_d81zoUKRs"
      },
      "source": [
        "a) Implement a C++ program to reverse the case of each alphabet in the given string by overloading the logical NOT operator i.e. !"
      ]
    },
    {
      "cell_type": "code",
      "source": [
        "%%writefile program.c\n",
        "#include <iostream>\n",
        "#include <string>\n",
        "#include <cctype>\n",
        "\n",
        "using namespace std;\n",
        "\n",
        "class CaseReverser {\n",
        "public:\n",
        "    string str;\n",
        "\n",
        "    CaseReverser(const string& s) : str(s) {}\n",
        "\n",
        "    void operator!() {\n",
        "        // for (char& ch : str) {\n",
        "        // for (size_t i = 0; i < str.length(); ++i) {\n",
        "        for (int i = 0; i < str.length(); ++i) {\n",
        "            if (isalpha(str[i])) {\n",
        "                if (islower(str[i])) {\n",
        "                    str[i] = toupper(str[i]);\n",
        "                } else {\n",
        "                    str[i] = tolower(str[i]);\n",
        "                }\n",
        "            }\n",
        "        }\n",
        "    }\n",
        "\n",
        "    void display() const {\n",
        "        cout << str << endl;\n",
        "    }\n",
        "};\n",
        "\n",
        "int main() {\n",
        "    string input;\n",
        "    cout << \"Enter a string: \";\n",
        "    getline(cin, input);\n",
        "\n",
        "    CaseReverser reverser(input);\n",
        "    !reverser;  // Overloaded operator to reverse case\n",
        "    reverser.display();\n",
        "\n",
        "    return 0;\n",
        "}\n"
      ],
      "metadata": {
        "colab": {
          "base_uri": "https://localhost:8080/"
        },
        "id": "MgDx_nDvmeLr",
        "outputId": "7646c198-8d57-485b-8ffd-091835a8c89a"
      },
      "execution_count": null,
      "outputs": [
        {
          "output_type": "stream",
          "name": "stdout",
          "text": [
            "Overwriting program.c\n"
          ]
        }
      ]
    },
    {
      "cell_type": "code",
      "source": [
        "!g++ program.c -o program\n",
        "! ./program"
      ],
      "metadata": {
        "colab": {
          "base_uri": "https://localhost:8080/"
        },
        "id": "ARRWCNESnEUB",
        "outputId": "d7ccc826-6601-419a-a04f-76ae1e43654c"
      },
      "execution_count": null,
      "outputs": [
        {
          "output_type": "stream",
          "name": "stdout",
          "text": [
            "Enter a string: Vaibogam\n",
            "vAIBOGAM\n"
          ]
        }
      ]
    },
    {
      "cell_type": "markdown",
      "source": [
        "b) Consider the system of measuring the distance by feet and inches. Develop an OOP to create two Distance objects and compare them to produce the results between the Distance object as \"Equal\" or \"Unequal\" by overloading the equality operator. Here, define the operator function for operator."
      ],
      "metadata": {
        "id": "P2FEaqunmdUY"
      }
    },
    {
      "cell_type": "code",
      "source": [
        "%%writefile program.c\n",
        "#include <iostream>\n",
        "\n",
        "using namespace std;\n",
        "\n",
        "class Distance {\n",
        "private:\n",
        "    int feet;\n",
        "    int inches;\n",
        "\n",
        "public:\n",
        "    Distance(int f, int i) : feet(f), inches(i) {\n",
        "        normalize();\n",
        "    }\n",
        "\n",
        "    void normalize() {\n",
        "        if (inches >= 12) {\n",
        "            feet += inches / 12;\n",
        "            inches %= 12;\n",
        "        }\n",
        "    }\n",
        "\n",
        "    bool operator==(const Distance& other) const {\n",
        "        return (feet == other.feet && inches == other.inches);\n",
        "    }\n",
        "\n",
        "    void display() const {\n",
        "        cout << feet << \" feet \" << inches << \" inches\" << endl;\n",
        "    }\n",
        "};\n",
        "\n",
        "int main() {\n",
        "    Distance d1(5, 14);  // 5 feet 14 inches\n",
        "    Distance d2(6, 2);   // 6 feet 2 inches\n",
        "\n",
        "    d1.display();\n",
        "    d2.display();\n",
        "\n",
        "    if (d1 == d2) {\n",
        "        cout << \"Distances are Equal\" << endl;\n",
        "    } else {\n",
        "        cout << \"Distances are Unequal\" << endl;\n",
        "    }\n",
        "\n",
        "    return 0;\n",
        "}\n"
      ],
      "metadata": {
        "colab": {
          "base_uri": "https://localhost:8080/"
        },
        "id": "vXbRG4OXmWLs",
        "outputId": "5631a24d-40a0-489e-ac10-6baabffc50c9"
      },
      "execution_count": null,
      "outputs": [
        {
          "output_type": "stream",
          "name": "stdout",
          "text": [
            "Overwriting program.c\n"
          ]
        }
      ]
    },
    {
      "cell_type": "code",
      "source": [
        "!g++ program.c -o program\n",
        "! ./program"
      ],
      "metadata": {
        "id": "XQH1RzXQUwLb",
        "colab": {
          "base_uri": "https://localhost:8080/"
        },
        "outputId": "0f702cdb-1e67-4fa9-c5f2-8cb64789f2c7"
      },
      "execution_count": null,
      "outputs": [
        {
          "output_type": "stream",
          "name": "stdout",
          "text": [
            "6 feet 2 inches\n",
            "6 feet 2 inches\n",
            "Distances are Equal\n"
          ]
        }
      ]
    },
    {
      "cell_type": "markdown",
      "metadata": {
        "id": "1J3TjjmXUKVX"
      },
      "source": [
        "Assume a class named Distance with \"feet\" and \"inch\" as data members in it\n",
        "\n",
        "With this data members and class implement a C++ program that can perform decrementation of \"feet\" and \"inch\" values by overloading unary operator\" and can perform addition of \"feet\" and \"inch\" values of two Distance objects by overloading binary operator\"+\"."
      ]
    },
    {
      "cell_type": "code",
      "source": [
        "%%writefile program.c\n",
        "#include <iostream>\n",
        "\n",
        "using namespace std;\n",
        "\n",
        "class Distance {\n",
        "private:\n",
        "    int feet;\n",
        "    int inch;\n",
        "\n",
        "public:\n",
        "    Distance(int f = 0, int i = 0) : feet(f), inch(i) {\n",
        "        normalize();\n",
        "    }\n",
        "\n",
        "    void normalize() {\n",
        "        if (inch >= 12) {\n",
        "            feet += inch / 12;\n",
        "            inch %= 12;\n",
        "        } else if (inch < 0) {\n",
        "            feet -= (-inch) / 12 + 1;\n",
        "            inch = 12 - (-inch) % 12;\n",
        "        }\n",
        "    }\n",
        "\n",
        "    // Overload prefix decrement operator\n",
        "    Distance& operator--() {\n",
        "        --inch;\n",
        "        if (inch < 0) {\n",
        "            inch = 11;\n",
        "            --feet;5\n",
        "        }\n",
        "        return *this;\n",
        "    }\n",
        "\n",
        "    // Overload postfix decrement operator\n",
        "    Distance operator--(int) {\n",
        "        Distance temp = *this;\n",
        "        --inch;\n",
        "        if (inch < 0) {\n",
        "            inch = 11;\n",
        "            --feet;\n",
        "        }\n",
        "        return temp;\n",
        "    }\n",
        "\n",
        "    // Overload binary addition operator\n",
        "    Distance operator+(const Distance& other) const {\n",
        "        Distance result;\n",
        "        result.feet = feet + other.feet;\n",
        "        result.inch = inch + other.inch;\n",
        "        result.normalize();\n",
        "        return result;\n",
        "    }\n",
        "\n",
        "    void display() const {\n",
        "        cout << feet << \" feet \" << inch << \" inches\" << endl;\n",
        "    }\n",
        "};\n",
        "\n",
        "int main() {\n",
        "    Distance d1(5, 13);  // 5 feet 14 inches\n",
        "    Distance d2(3, 8);   // 3 feet 8 inches\n",
        "\n",
        "    cout << \"Original distances:\" << endl;\n",
        "    d1.display();\n",
        "    d2.display();\n",
        "\n",
        "    cout << \"\\nAfter prefix decrementing d1:\" << endl;\n",
        "    --d1;\n",
        "    d1.display();\n",
        "\n",
        "    cout << \"\\nAfter postfix decrementing d1:\" << endl;\n",
        "    d1--;\n",
        "    d1.display();\n",
        "\n",
        "    cout << \"\\nAfter adding d1 and d2:\" << endl;\n",
        "    Distance d3 = d1 + d2;\n",
        "    d3.display();\n",
        "\n",
        "    return 0;\n",
        "}\n"
      ],
      "metadata": {
        "id": "xATjJT3-Uw4-",
        "colab": {
          "base_uri": "https://localhost:8080/"
        },
        "outputId": "c0ed11dc-813b-4846-87f7-f0e432dbd72f"
      },
      "execution_count": null,
      "outputs": [
        {
          "output_type": "stream",
          "name": "stdout",
          "text": [
            "Overwriting program.c\n"
          ]
        }
      ]
    },
    {
      "cell_type": "code",
      "source": [
        "!g++ program.c -o program\n",
        "! ./program"
      ],
      "metadata": {
        "colab": {
          "base_uri": "https://localhost:8080/"
        },
        "id": "bRWE-fSwp7GW",
        "outputId": "247a4c7f-e860-4b3d-b424-d3d7198d1d67"
      },
      "execution_count": null,
      "outputs": [
        {
          "output_type": "stream",
          "name": "stdout",
          "text": [
            "Original distances:\n",
            "6 feet 1 inches\n",
            "3 feet 8 inches\n",
            "\n",
            "After prefix decrementing d1:\n",
            "6 feet 0 inches\n",
            "\n",
            "After postfix decrementing d1:\n",
            "5 feet 11 inches\n",
            "\n",
            "After adding d1 and d2:\n",
            "9 feet 7 inches\n"
          ]
        }
      ]
    },
    {
      "cell_type": "markdown",
      "metadata": {
        "id": "YQvIoUEaoI7Y"
      },
      "source": [
        "Create a class for an electricity board that charges the following rates to users\n",
        "a) For first 100 units : 40p per unit\n",
        "b) For next 200 units : 50p per unit\n",
        "c) Beyond 300 units: 60p per unit\n",
        "All users are charged a minimum of Rs.500. If the total cost is more than Rs.250.00 then an additional charges of 15% are added.Write a C++ program using class to read the names of users & number of units consumed & print out the charges with names.\n",
        "\n",
        "\n"
      ]
    },
    {
      "cell_type": "code",
      "source": [
        "%%writefile program.c\n",
        "#include <iostream>\n",
        "#include <string>\n",
        "\n",
        "using namespace std;\n",
        "\n",
        "class ElectricityBoard {\n",
        "private:\n",
        "    string name;\n",
        "    int units;\n",
        "    double charges;\n",
        "\n",
        "\n",
        "public:\n",
        "    ElectricityBoard() : name(\"\"), units(0), charges(0) {}\n",
        "\n",
        "    ElectricityBoard(string userName, int userUnits) : name(userName), units(userUnits), charges(0) {}\n",
        "\n",
        "    void calculateCharges() {\n",
        "        if (units <= 100) {\n",
        "            charges = units * 0.40;\n",
        "        } else if (units <= 300) {\n",
        "            charges = 100 * 0.40 + (units - 100) * 0.50;\n",
        "        } else {\n",
        "            charges = 100 * 0.40 + 200 * 0.50 + (units - 300) * 0.60;\n",
        "        }\n",
        "\n",
        "        if (charges > 250) {\n",
        "            charges += charges * 0.15;\n",
        "        }\n",
        "        if (charges < 500) {\n",
        "            charges = 500;\n",
        "        }\n",
        "    }\n",
        "\n",
        "    void displayCharges() const {\n",
        "        cout << \"Name: \" << name << \", Units Consumed: \" << units << \", Charges: Rs.\" << charges << endl;\n",
        "    }\n",
        "};\n",
        "\n",
        "int main() {\n",
        "    int numUsers;\n",
        "    cout << \"Enter the number of users: \";\n",
        "    cin >> numUsers;\n",
        "\n",
        "    ElectricityBoard users[numUsers];\n",
        "\n",
        "    for (int i = 0; i < numUsers; ++i) {\n",
        "        string name;\n",
        "        int units;\n",
        "        cout << \"Enter name of user \" << i + 1 << \": \";\n",
        "        cin >> name;\n",
        "        cout << \"Enter units consumed by \" << name << \": \";\n",
        "        cin >> units;\n",
        "\n",
        "        users[i] = ElectricityBoard(name, units);\n",
        "        users[i].calculateCharges();\n",
        "    }\n",
        "\n",
        "    cout << \"\\nElectricity Charges:\\n\";\n",
        "    for (int i = 0; i < numUsers; ++i) {\n",
        "        users[i].displayCharges();\n",
        "    }\n",
        "\n",
        "    return 0;\n",
        "}\n"
      ],
      "metadata": {
        "colab": {
          "base_uri": "https://localhost:8080/"
        },
        "id": "aFZmulV1NSKe",
        "outputId": "ea745271-b786-430b-88f3-907cdca89553"
      },
      "execution_count": null,
      "outputs": [
        {
          "output_type": "stream",
          "name": "stdout",
          "text": [
            "Overwriting program.c\n"
          ]
        }
      ]
    },
    {
      "cell_type": "code",
      "source": [
        "!g++ program.c -o program\n",
        "! ./program"
      ],
      "metadata": {
        "colab": {
          "base_uri": "https://localhost:8080/"
        },
        "id": "vP9XikZXXDJ1",
        "outputId": "b42e0403-0877-4251-e5ac-fbd91edf61c9"
      },
      "execution_count": null,
      "outputs": [
        {
          "output_type": "stream",
          "name": "stdout",
          "text": [
            "Enter the number of users: 4\n",
            "Enter name of user 1: u1\n",
            "Enter units consumed by u1: 75\n",
            "Enter name of user 2: u2\n",
            "Enter units consumed by u2: 275\n",
            "Enter name of user 3: u3\n",
            "Enter units consumed by u3: 475\n",
            "Enter name of user 4: u4\n",
            "Enter units consumed by u4: 975\n",
            "\n",
            "Electricity Charges:\n",
            "Name: u1, Units Consumed: 75, Charges: Rs.500\n",
            "Name: u2, Units Consumed: 275, Charges: Rs.500\n",
            "Name: u3, Units Consumed: 475, Charges: Rs.500\n",
            "Name: u4, Units Consumed: 975, Charges: Rs.626.75\n"
          ]
        }
      ]
    },
    {
      "cell_type": "code",
      "source": [
        "og"
      ],
      "metadata": {
        "id": "3tuFqRtIXE4n"
      },
      "execution_count": null,
      "outputs": []
    },
    {
      "cell_type": "code",
      "source": [
        "#include <iostream>\n",
        "using namespace std;\n",
        "\n",
        "class Multiply {\n",
        "    int first, second;\n",
        "\n",
        "public:\n",
        "    void getNum(int a, int b) {\n",
        "        first = a;\n",
        "        second = b;\n",
        "    }\n",
        "\n",
        "    void dispNum() {\n",
        "        cout << \"Result = \" << first << \" * \" << second << \" = \" << first * second << endl;\n",
        "    }\n",
        "\n",
        "    Multiply operator*(Multiply m) {\n",
        "        return Multiply(first * m.first,second * m.second )\n",
        "        Multiply temp;\n",
        "        temp.first = first * m.first;\n",
        "        temp.second = second * m.second;\n",
        "        return temp;\n",
        "    }\n",
        "};\n",
        "\n",
        "int main() {\n",
        "    Multiply m1, m2, result;\n",
        "    m1.getNum(2, 3);\n",
        "    m2.getNum(4, 5);\n",
        "    result = m1 * m2;\n",
        "    result.dispNum();\n",
        "    return 0;\n",
        "}\n"
      ],
      "metadata": {
        "id": "5bzCSoAIS-k6"
      },
      "execution_count": null,
      "outputs": []
    },
    {
      "cell_type": "code",
      "source": [
        "#include <stdio.h>\n",
        "\n",
        "int main() {\n",
        "    int current_floor = 0;\n",
        "    int user_floor, dest_floor;\n",
        "\n",
        "    // Input validation\n",
        "    do {\n",
        "        printf(\"Enter user's current floor (0 to 12): \");\n",
        "        scanf(\"%d\", &user_floor);\n",
        "    } while (user_floor < 0 || user_floor > 12);\n",
        "\n",
        "    do {\n",
        "        printf(\"Enter user's destination floor (0 to 12): \");\n",
        "        scanf(\"%d\", &dest_floor);\n",
        "    } while (dest_floor < 0 || dest_floor > 12);\n",
        "\n",
        "    printf(\"\\nElevator starting from Ground Floor (0)...\\n\");\n",
        "\n",
        "    // Move elevator to user's floor\n",
        "    while (current_floor != user_floor) {\n",
        "        if (current_floor < user_floor) {\n",
        "            current_floor++;\n",
        "        } else {\n",
        "            current_floor--;\n",
        "        }\n",
        "\n",
        "        switch (current_floor) {\n",
        "            case 0: printf(\"Reached Floor 0\\n\"); break;\n",
        "            case 1: printf(\"Reached Floor 1\\n\"); break;\n",
        "            case 2: printf(\"Reached Floor 2\\n\"); break;\n",
        "            case 3: printf(\"Reached Floor 3\\n\"); break;\n",
        "            case 4: printf(\"Reached Floor 4\\n\"); break;\n",
        "            case 5: printf(\"Reached Floor 5\\n\"); break;\n",
        "            case 6: printf(\"Reached Floor 6\\n\"); break;\n",
        "            case 7: printf(\"Reached Floor 7\\n\"); break;\n",
        "            case 8: printf(\"Reached Floor 8\\n\"); break;\n",
        "            case 9: printf(\"Reached Floor 9\\n\"); break;\n",
        "            case 10: printf(\"Reached Floor 10\\n\"); break;\n",
        "            case 11: printf(\"Reached Floor 11\\n\"); break;\n",
        "            case 12: printf(\"Reached Floor 12\\n\"); break;\n",
        "        }\n",
        "    }\n",
        "\n",
        "    printf(\"\\nWelcome! You can board the elevator now.\\n\");\n",
        "\n",
        "    // Move to destination floor\n",
        "    while (current_floor != dest_floor) {\n",
        "        if (current_floor < dest_floor) {\n",
        "            current_floor++;\n",
        "        } else {\n",
        "            current_floor--;\n",
        "        }\n",
        "\n",
        "        switch (current_floor) {\n",
        "            case 0: printf(\"Reached Floor 0\\n\"); break;\n",
        "            case 1: printf(\"Reached Floor 1\\n\"); break;\n",
        "            case 2: printf(\"Reached Floor 2\\n\"); break;\n",
        "            case 3: printf(\"Reached Floor 3\\n\"); break;\n",
        "            case 4: printf(\"Reached Floor 4\\n\"); break;\n",
        "            case 5: printf(\"Reached Floor 5\\n\"); break;\n",
        "            case 6: printf(\"Reached Floor 6\\n\"); break;\n",
        "            case 7: printf(\"Reached Floor 7\\n\"); break;\n",
        "            case 8: printf(\"Reached Floor 8\\n\"); break;\n",
        "            case 9: printf(\"Reached Floor 9\\n\"); break;\n",
        "            case 10: printf(\"Reached Floor 10\\n\"); break;\n",
        "            case 11: printf(\"Reached Floor 11\\n\"); break;\n",
        "            case 12: printf(\"Reached Floor 12\\n\"); break;\n",
        "        }\n",
        "    }\n",
        "\n",
        "    printf(\"\\nReached Floor %d. Have a nice time!\\n\", dest_floor);\n",
        "\n",
        "    return 0;\n",
        "}\n"
      ],
      "metadata": {
        "id": "fJ_kw4fdPv-e"
      },
      "execution_count": null,
      "outputs": []
    },
    {
      "cell_type": "markdown",
      "source": [
        "Q9. Define a class String. Use overloaded <= operator to compare two strings using a friend function."
      ],
      "metadata": {
        "id": "-bLLpQUm5XCI"
      }
    },
    {
      "cell_type": "code",
      "source": [
        "#include <iostream>\n",
        "#include <cstring>\n",
        "using namespace std;\n",
        "\n",
        "class String {\n",
        "    char str[100];\n",
        "\n",
        "public:\n",
        "    String(const char* s = \"\") {\n",
        "        strcpy(str, s);\n",
        "    }\n",
        "\n",
        "    void display() {\n",
        "        cout << str << endl;\n",
        "    }\n",
        "\n",
        "    // Friend function to overload <= operator\n",
        "    friend bool operator<=(const String& s1, const String& s2);\n",
        "};\n",
        "\n",
        "// Definition of friend function\n",
        "bool operator<=(const String& s1, const String& s2) {\n",
        "    return strcmp(s1.str, s2.str) <= 0;\n",
        "}\n",
        "\n",
        "int main() {\n",
        "    String s1(\"Apple\"), s2(\"Banana\");\n",
        "\n",
        "    if (s1 <= s2)\n",
        "        cout << \"s1 is less than or equal to s2\" << endl;\n",
        "    else\n",
        "        cout << \"s1 is greater than s2\" << endl;\n",
        "\n",
        "    return 0;\n",
        "}"
      ],
      "metadata": {
        "id": "SQ_M7UDr5WH2"
      },
      "execution_count": null,
      "outputs": []
    }
  ],
  "metadata": {
    "colab": {
      "provenance": [],
      "include_colab_link": true
    },
    "kernelspec": {
      "display_name": "Python 3",
      "name": "python3"
    },
    "language_info": {
      "name": "python"
    }
  },
  "nbformat": 4,
  "nbformat_minor": 0
}