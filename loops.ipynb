{
  "nbformat": 4,
  "nbformat_minor": 0,
  "metadata": {
    "colab": {
      "provenance": [],
      "authorship_tag": "ABX9TyMhPaN59JOO9fGpcufEg6ty",
      "include_colab_link": true
    },
    "kernelspec": {
      "name": "python3",
      "display_name": "Python 3"
    },
    "language_info": {
      "name": "python"
    }
  },
  "cells": [
    {
      "cell_type": "markdown",
      "metadata": {
        "id": "view-in-github",
        "colab_type": "text"
      },
      "source": [
        "<a href=\"https://colab.research.google.com/github/vmagizhchi/C-Programs/blob/main/loops.ipynb\" target=\"_parent\"><img src=\"https://colab.research.google.com/assets/colab-badge.svg\" alt=\"Open In Colab\"/></a>"
      ]
    },
    {
      "cell_type": "code",
      "execution_count": null,
      "metadata": {
        "id": "kZB5LGiksusG"
      },
      "outputs": [],
      "source": []
    },
    {
      "cell_type": "code",
      "source": [
        "!g++ program.c -o program\n",
        "! ./program"
      ],
      "metadata": {
        "id": "pMaWwlsbswFn"
      },
      "execution_count": null,
      "outputs": []
    },
    {
      "cell_type": "code",
      "source": [],
      "metadata": {
        "id": "LLNskzOIswCK"
      },
      "execution_count": null,
      "outputs": []
    },
    {
      "cell_type": "code",
      "source": [
        "!g++ program.c -o program\n",
        "! ./program"
      ],
      "metadata": {
        "id": "UcPzgYFlsv_q"
      },
      "execution_count": null,
      "outputs": []
    },
    {
      "cell_type": "code",
      "source": [],
      "metadata": {
        "id": "ViYbwYGTsv9N"
      },
      "execution_count": null,
      "outputs": []
    },
    {
      "cell_type": "code",
      "source": [
        "!g++ program.c -o program\n",
        "! ./program"
      ],
      "metadata": {
        "id": "3G4fnt2Rsv6k"
      },
      "execution_count": null,
      "outputs": []
    },
    {
      "cell_type": "code",
      "source": [],
      "metadata": {
        "id": "wg-PhR_Xsv4C"
      },
      "execution_count": null,
      "outputs": []
    },
    {
      "cell_type": "code",
      "source": [
        "!g++ program.c -o program\n",
        "! ./program"
      ],
      "metadata": {
        "id": "PSadbegFsv1j"
      },
      "execution_count": null,
      "outputs": []
    },
    {
      "cell_type": "code",
      "source": [],
      "metadata": {
        "id": "Os3gAO_hsvys"
      },
      "execution_count": null,
      "outputs": []
    },
    {
      "cell_type": "markdown",
      "source": [
        "## Continue\n",
        "Write a C program that uses a for loop to print numbers from 1 to 10. The program should skip printing the number 6 using the continue statement. Ensure that the program does not print any message when skipping the number 6."
      ],
      "metadata": {
        "id": "ef3z2MylsxQB"
      }
    },
    {
      "cell_type": "code",
      "source": [
        "%%writefile program.c\n",
        "// continue\n",
        "#include <stdio.h>\n",
        "\n",
        "int main() {\n",
        "  int i;\n",
        "  for(i=1;i<=10;i++) {\n",
        "    if(i==6) {\n",
        "      continue;\n",
        "    }\n",
        "    printf(\"%d \",i);\n",
        "  }\n",
        "\n",
        "  return 0;\n",
        "}\n"
      ],
      "metadata": {
        "id": "KH-rtdXvsvwA"
      },
      "execution_count": null,
      "outputs": []
    },
    {
      "cell_type": "code",
      "source": [
        "!g++ program.c -o program\n",
        "! ./program"
      ],
      "metadata": {
        "id": "d4YeBPf8svtl"
      },
      "execution_count": null,
      "outputs": []
    },
    {
      "cell_type": "markdown",
      "source": [
        "## break\n",
        "Write a C program that uses a for loop to print numbers from 1 to 10. The program should break the loop when the number 6 is encountered, and print a message indicating that the loop is being broken at that point."
      ],
      "metadata": {
        "id": "pbU1TNiCs-Pc"
      }
    },
    {
      "cell_type": "code",
      "source": [
        "%%writefile program.c\n",
        "// continue\n",
        "#include <stdio.h>\n",
        "\n",
        "int main() {\n",
        "  int i;\n",
        "  for(i=1;i<=10;i++) {\n",
        "     if(i==6) {\n",
        "      break;\n",
        "    }\n",
        "    printf(\"%d \",i);\n",
        "  }\n",
        "  printf(\"\\nloop is broken\");\n",
        "\n",
        "  return 0;\n",
        "}\n"
      ],
      "metadata": {
        "id": "K03rLRAZsvrD"
      },
      "execution_count": null,
      "outputs": []
    },
    {
      "cell_type": "code",
      "source": [
        "!g++ program.c -o program\n",
        "! ./program"
      ],
      "metadata": {
        "id": "kIzp43WDsvok"
      },
      "execution_count": null,
      "outputs": []
    },
    {
      "cell_type": "code",
      "source": [],
      "metadata": {
        "id": "x3OxQnfBsvl_"
      },
      "execution_count": null,
      "outputs": []
    },
    {
      "cell_type": "code",
      "source": [
        "!g++ program.c -o program\n",
        "! ./program"
      ],
      "metadata": {
        "id": "a20GUv0Asvjd"
      },
      "execution_count": null,
      "outputs": []
    },
    {
      "cell_type": "code",
      "source": [],
      "metadata": {
        "id": "U2Vhgm9MsvhJ"
      },
      "execution_count": null,
      "outputs": []
    },
    {
      "cell_type": "code",
      "source": [
        "!g++ program.c -o program\n",
        "! ./program"
      ],
      "metadata": {
        "id": "shfHtdCpsveo"
      },
      "execution_count": null,
      "outputs": []
    },
    {
      "cell_type": "code",
      "source": [],
      "metadata": {
        "id": "FEL6F1NWsvcO"
      },
      "execution_count": null,
      "outputs": []
    }
  ]
}