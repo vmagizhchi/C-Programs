{
  "nbformat": 4,
  "nbformat_minor": 0,
  "metadata": {
    "colab": {
      "provenance": [],
      "authorship_tag": "ABX9TyOtnVZnjW/Fm4kaVqY1a9ZI",
      "include_colab_link": true
    },
    "kernelspec": {
      "name": "python3",
      "display_name": "Python 3"
    },
    "language_info": {
      "name": "python"
    }
  },
  "cells": [
    {
      "cell_type": "markdown",
      "metadata": {
        "id": "view-in-github",
        "colab_type": "text"
      },
      "source": [
        "<a href=\"https://colab.research.google.com/github/vmagizhchi/C-Programs/blob/main/basics.ipynb\" target=\"_parent\"><img src=\"https://colab.research.google.com/assets/colab-badge.svg\" alt=\"Open In Colab\"/></a>"
      ]
    },
    {
      "cell_type": "markdown",
      "source": [
        "5 b) Develop a C function to swap two numbers without using a temporary variable. The swapping operation should be performed using bitwise operators. And explain why bit wise operatator is helpful when compare to other arthimatic operators like addition, subration, multiplication, etc.\n",
        "\n",
        "// using XOR, we can avoid going the values beyond the range of the data type when do sum, multplication, etc\n",
        "// For example if the given numbers are close the range of integer data type which we define, the value will overflow when"
      ],
      "metadata": {
        "id": "CnWy-J8Pvemz"
      }
    },
    {
      "cell_type": "code",
      "execution_count": null,
      "metadata": {
        "id": "MzmyxhH4vc8_"
      },
      "outputs": [],
      "source": [
        "%%writefile program.c\n",
        "// swapping two numbers using XOR\n",
        "// using XOR, we can avoid going the values beyond the range of the data type when do sum, multplication, etc\n",
        "#include <stdio.h>\n",
        "\n",
        "int main() {\n",
        "    int num1, num2;\n",
        "\n",
        "    // Read two numbers from the user\n",
        "    printf(\"Enter the first number: \");\n",
        "    scanf(\"%d\", &num1);\n",
        "    printf(\"Enter the second number: \");\n",
        "    scanf(\"%d\", &num2);\n",
        "\n",
        "    // Print the numbers before swapping\n",
        "    printf(\"Before swapping: num1 = %d, num2 = %d\\n\", num1, num2);\n",
        "\n",
        "    // Swap the numbers using XOR\n",
        "    if (num1 != num2) { // Check to avoid self-swap\n",
        "        num1 = num1 ^ num2;\n",
        "        num2 = num1 ^ num2;\n",
        "        num1 = num1 ^ num2;\n",
        "    }\n",
        "\n",
        "    // Print the numbers after swapping\n",
        "    printf(\"After swapping: num1 = %d, num2 = %d\\n\", num1, num2);\n",
        "\n",
        "    return 0;\n",
        "}\n"
      ]
    },
    {
      "cell_type": "code",
      "source": [
        "!g++ program.c -o program\n",
        "! ./program"
      ],
      "metadata": {
        "id": "uwWOt9M1vdno"
      },
      "execution_count": null,
      "outputs": []
    },
    {
      "cell_type": "code",
      "source": [],
      "metadata": {
        "id": "ZtPFTIl0vdqA"
      },
      "execution_count": null,
      "outputs": []
    },
    {
      "cell_type": "code",
      "source": [
        "!g++ program.c -o program\n",
        "! ./program"
      ],
      "metadata": {
        "id": "cOeYK6rhvdsW"
      },
      "execution_count": null,
      "outputs": []
    },
    {
      "cell_type": "code",
      "source": [],
      "metadata": {
        "id": "XmebqHgNvdur"
      },
      "execution_count": null,
      "outputs": []
    },
    {
      "cell_type": "code",
      "source": [
        "!g++ program.c -o program\n",
        "! ./program"
      ],
      "metadata": {
        "id": "6JJbiNPCvdwx"
      },
      "execution_count": null,
      "outputs": []
    },
    {
      "cell_type": "code",
      "source": [],
      "metadata": {
        "id": "1b8KTF1qvdy7"
      },
      "execution_count": null,
      "outputs": []
    },
    {
      "cell_type": "code",
      "source": [
        "!g++ program.c -o program\n",
        "! ./program"
      ],
      "metadata": {
        "id": "y2NznSHhvd1O"
      },
      "execution_count": null,
      "outputs": []
    },
    {
      "cell_type": "code",
      "source": [],
      "metadata": {
        "id": "4IwjAiLBvd3w"
      },
      "execution_count": null,
      "outputs": []
    }
  ]
}