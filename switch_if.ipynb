{
  "nbformat": 4,
  "nbformat_minor": 0,
  "metadata": {
    "colab": {
      "provenance": [],
      "authorship_tag": "ABX9TyMdJgPMXg+c8BSAY5e55JTz",
      "include_colab_link": true
    },
    "kernelspec": {
      "name": "python3",
      "display_name": "Python 3"
    },
    "language_info": {
      "name": "python"
    }
  },
  "cells": [
    {
      "cell_type": "markdown",
      "metadata": {
        "id": "view-in-github",
        "colab_type": "text"
      },
      "source": [
        "<a href=\"https://colab.research.google.com/github/vmagizhchi/C-Programs/blob/main/switch_if.ipynb\" target=\"_parent\"><img src=\"https://colab.research.google.com/assets/colab-badge.svg\" alt=\"Open In Colab\"/></a>"
      ]
    },
    {
      "cell_type": "markdown",
      "source": [
        "## Switch 2\n",
        "Write a C program that displays a menu with three options: \"Display Hello\", \"Display Goodbye\", and \"Display Welcome\". The program should prompt the user to enter their choice and then display the corresponding message based on the user's input. If the user enters an invalid choice, the program should display an error message.\n"
      ],
      "metadata": {
        "id": "fvHin82bovyJ"
      }
    },
    {
      "cell_type": "code",
      "execution_count": null,
      "metadata": {
        "id": "LcVN-uPVooSP"
      },
      "outputs": [],
      "source": [
        "%%writefile program.c\n",
        "// Switch 1\n",
        "#include <stdio.h>\n",
        "\n",
        "int main() {\n",
        "    int choice;\n",
        "    printf(\"Choose an option:\\n\");\n",
        "    printf(\"1.Display Hello\\n\");\n",
        "    printf(\"2.Display Goodbye\\n\");\n",
        "    printf(\"3.Display Welcome\\n\");\n",
        "    printf(\"Enter your choice (1/2/3): \");\n",
        "    scanf(\"%d\", &choice);\n",
        "\n",
        "    switch(choice) {\n",
        "        case 1:\n",
        "            printf(\"Hello!\\n\");\n",
        "            break;\n",
        "        case 2:\n",
        "            printf(\"Goodbye!\\n\");\n",
        "            break;\n",
        "        case 3:\n",
        "            printf(\"Welcome!\\n\");\n",
        "            break;\n",
        "        default:\n",
        "            printf(\"Invalid choice!\\n\");\n",
        "            break;\n",
        "    }\n",
        "\n",
        "    return 0;\n",
        "}\n",
        "\n",
        "\n"
      ]
    },
    {
      "cell_type": "code",
      "source": [
        "!g++ program.c -o program\n",
        "! ./program"
      ],
      "metadata": {
        "id": "_qa67tojpgKU"
      },
      "execution_count": null,
      "outputs": []
    },
    {
      "cell_type": "markdown",
      "source": [
        "## Switch 1\n",
        "Write a C program that allows the user to calculate the area of different shapes (Circle, Triangle, Rectangle) based on their choice. The program should display a menu with options to select the shape (1-Circle, 2-Triangle, 3-Rectangle, 0-Exit), take the necessary inputs (radius, breath, width, etc) for the selected shape, calculate the area, and display the result. The program should continue to prompt the user until they choose to exit."
      ],
      "metadata": {
        "id": "FoSpFdVEp_Il"
      }
    },
    {
      "cell_type": "code",
      "source": [
        "%%writefile program.c\n",
        "// Switch 2\n",
        "\n",
        "#include <stdio.h>\n",
        "#include <math.h>\n",
        "#define PI 22.0/7\n",
        "\n",
        "int main() {\n",
        "    int choice;\n",
        "    float area;\n",
        "\n",
        "    while(1) {\n",
        "        printf(\"Select the shape: \");\n",
        "        printf(\"0.Exit\\n\");\n",
        "        printf(\"1.Circle\\n\");\n",
        "        printf(\"2.Triangle\\n\");\n",
        "        printf(\"3.Rectangle\\n\");\n",
        "        printf(\"Enter your choice (0/1/2/3): \");\n",
        "        scanf(\"%d\", &choice);\n",
        "\n",
        "\n",
        "        switch(choice) {\n",
        "            case 0:\n",
        "                   printf(\"Exit\\n\");\n",
        "                   break;\n",
        "\n",
        "            case 1:\n",
        "                    float r;\n",
        "                    printf(\"Enter radius of the circle: \");\n",
        "                    scanf(\"%f\", &r);\n",
        "                    area = PI*r*r;\n",
        "                    printf(\"Area of Circle: %.2f\\n\", area);\n",
        "                    break;\n",
        "\n",
        "            case 2:\n",
        "                    float b, h;\n",
        "                    printf(\"Enter the base and height of the triangle: \");\n",
        "                    scanf(\"%f\\n %f\", &b, &h);\n",
        "                    area = 0.5*b*h;\n",
        "                    printf(\"Area of Triangle: %.2f\\n\", area);\n",
        "                    break;\n",
        "\n",
        "            case 3:\n",
        "                    float l, w;\n",
        "                    printf(\"Enter the length and width of the rectangle: \");\n",
        "                    scanf(\"%f\\n %f\", &l, &w);\n",
        "                    area = l*w;\n",
        "                    printf(\"Area of Rectangle: %.2f\\n\", area);\n",
        "                    break;\n",
        "\n",
        "            default:\n",
        "                printf(\"Invalid\\n\");\n",
        "                break;\n",
        "        }\n",
        "    }\n",
        "\n",
        "    return 0;\n",
        "}\n",
        "\n",
        "\n"
      ],
      "metadata": {
        "id": "ql-sZNGgpgMn"
      },
      "execution_count": null,
      "outputs": []
    },
    {
      "cell_type": "code",
      "source": [
        "!g++ program.c -o program\n",
        "! ./program"
      ],
      "metadata": {
        "id": "IHHKglVhpgPA"
      },
      "execution_count": null,
      "outputs": []
    },
    {
      "cell_type": "markdown",
      "source": [
        "## if-else - Leap year check\n",
        "Write a C program that checks whether a given year is a leap year using if-else statements. The program should prompt the user to enter a year, determine if it is a leap year, and then display the result."
      ],
      "metadata": {
        "id": "AUyL4WOJqJBf"
      }
    },
    {
      "cell_type": "code",
      "source": [
        "%%writefile program.c\n",
        "// if-else - find Leap year\n",
        "#include <stdio.h>\n",
        "int main() {\n",
        "  int year;\n",
        "  printf(\"enter year: \");\n",
        "  scanf(\"%d\", &year);\n",
        "  if ((year%4 == 0 && year%100!=0) || year%400==0) {\n",
        "    printf(\"%d is a leap year\", year);\n",
        "  }\n",
        "  else {\n",
        "     printf(\"%d is not a leap year\", year);\n",
        "  }\n",
        "\n",
        "    return 0;\n",
        "}\n"
      ],
      "metadata": {
        "id": "Gw_RO7L2pgRX"
      },
      "execution_count": null,
      "outputs": []
    },
    {
      "cell_type": "code",
      "source": [
        "!g++ program.c -o program\n",
        "! ./program"
      ],
      "metadata": {
        "id": "INM4Dh9UpgTv"
      },
      "execution_count": null,
      "outputs": []
    },
    {
      "cell_type": "markdown",
      "source": [
        "## if-else - find grade\n",
        "Write a C program that assigns a grade based on a given score using if-else statements. The program should prompt the user to enter a score between 0 and 100, determine the corresponding grade based on the following thresholds, and then display the grade:\n",
        "```\n",
        "Score >= 90: Grade A\n",
        "Score >= 80: Grade B\n",
        "Score >= 70: Grade C\n",
        "Score >= 60: Grade D\n",
        "Score >= 50: Grade E\n",
        "Score < 50: Grade F\n",
        "```"
      ],
      "metadata": {
        "id": "PLatUGJAqPvF"
      }
    },
    {
      "cell_type": "code",
      "source": [
        "%%writefile program.c\n",
        "// if-else - find grade\n",
        "#include <stdio.h>\n",
        "int main() {\n",
        "  int score;\n",
        "  printf(\"enter score: \");\n",
        "  scanf(\"%d\", &score);\n",
        "\n",
        "  if (score >= 90) {\n",
        "    printf(\"grade A\");\n",
        "  }\n",
        "  else if (score >= 80) {\n",
        "    printf(\"grade B\");\n",
        "  }\n",
        "  else if (score >= 70) {\n",
        "    printf(\"grade C\");\n",
        "  }\n",
        "  else if (score >= 60) {\n",
        "    printf(\"grade D\");\n",
        "  }\n",
        "  else if (score >= 50) {\n",
        "    printf(\"grade E\");\n",
        "  }\n",
        "  else {\n",
        "    printf(\"grade F\");\n",
        "  }\n",
        "  return 0;\n",
        "}\n"
      ],
      "metadata": {
        "id": "_hwrVlT9pgWG"
      },
      "execution_count": null,
      "outputs": []
    },
    {
      "cell_type": "code",
      "source": [
        "!g++ program.c -o program\n",
        "! ./program"
      ],
      "metadata": {
        "id": "gwt70JvwpgYe"
      },
      "execution_count": null,
      "outputs": []
    },
    {
      "cell_type": "code",
      "source": [],
      "metadata": {
        "id": "aJbbV01Gpgay"
      },
      "execution_count": null,
      "outputs": []
    },
    {
      "cell_type": "code",
      "source": [
        "!g++ program.c -o program\n",
        "! ./program"
      ],
      "metadata": {
        "id": "HNpiutmRpgdN"
      },
      "execution_count": null,
      "outputs": []
    },
    {
      "cell_type": "code",
      "source": [],
      "metadata": {
        "id": "PR18QqdjpgfZ"
      },
      "execution_count": null,
      "outputs": []
    },
    {
      "cell_type": "code",
      "source": [
        "!g++ program.c -o program\n",
        "! ./program"
      ],
      "metadata": {
        "id": "EA_B3wvOpgh2"
      },
      "execution_count": null,
      "outputs": []
    },
    {
      "cell_type": "code",
      "source": [],
      "metadata": {
        "id": "6HXtWHwHpglW"
      },
      "execution_count": null,
      "outputs": []
    },
    {
      "cell_type": "code",
      "source": [
        "!g++ program.c -o program\n",
        "! ./program"
      ],
      "metadata": {
        "id": "-k3iE-9qpl4n"
      },
      "execution_count": null,
      "outputs": []
    }
  ]
}