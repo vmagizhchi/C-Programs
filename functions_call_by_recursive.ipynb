{
  "nbformat": 4,
  "nbformat_minor": 0,
  "metadata": {
    "colab": {
      "provenance": [],
      "authorship_tag": "ABX9TyOn6aSSdzioKULJM+Q0c7vL",
      "include_colab_link": true
    },
    "kernelspec": {
      "name": "python3",
      "display_name": "Python 3"
    },
    "language_info": {
      "name": "python"
    }
  },
  "cells": [
    {
      "cell_type": "markdown",
      "metadata": {
        "id": "view-in-github",
        "colab_type": "text"
      },
      "source": [
        "<a href=\"https://colab.research.google.com/github/vmagizhchi/C-Programs/blob/main/functions_call_by_recursive.ipynb\" target=\"_parent\"><img src=\"https://colab.research.google.com/assets/colab-badge.svg\" alt=\"Open In Colab\"/></a>"
      ]
    },
    {
      "cell_type": "markdown",
      "source": [
        "# Call by value, Call by reference\n",
        "\n",
        "1.   List item\n",
        "2.   List item\n",
        "\n"
      ],
      "metadata": {
        "id": "mONWd915rUW6"
      }
    },
    {
      "cell_type": "code",
      "execution_count": null,
      "metadata": {
        "id": "bmLej7dGrN1w"
      },
      "outputs": [],
      "source": [
        "%%writefile program.c\n",
        "// String - strcat\n",
        "#include <stdio.h>\n",
        "#include <string.h>\n",
        "\n",
        "void myfun(int a[], char n[], int x) {\n",
        "  printf(\"within function: %d, %d\\n\", a[1], x);\n",
        "  n[0] = 'B';\n",
        "  a[1] = 7;\n",
        "  x = 11;\n",
        "}\n",
        "\n",
        "int main() {\n",
        "  char name1[20] = {'M', 'a', 'g', 'i', 'z', 'h', 'c', 'h', 'i'};\n",
        "  char name2[20] = {'M', 'a', 'g', 'i'};\n",
        "  char name3[20] = \"Vai\";\n",
        "  char name4[20] = \"bogam\";\n",
        "  int intarr[5] = {1, 2, 3, 4, 5};\n",
        "  int x = 19;\n",
        "\n",
        "  myfun(intarr, name4, x);\n",
        "  printf(\"%d, %d, %s\", intarr[1], x, name4);\n",
        "\n",
        "  //strcat(name1, name2);\n",
        "  //strcat(name3, name4);\n",
        "  //printf(\"the concatenated string is: %s\\n%s\", name1, name3);\n",
        "  return 0;\n",
        "}\n",
        "\n"
      ]
    },
    {
      "cell_type": "code",
      "source": [
        "!g++ program.c -o program\n",
        "! ./program"
      ],
      "metadata": {
        "id": "AGpZClJTusxT"
      },
      "execution_count": null,
      "outputs": []
    },
    {
      "cell_type": "markdown",
      "source": [
        "## Function\n",
        "Write a C program that calculates the area of a circle using a function. The program should define a function calculateArea that takes the radius as an argument and returns the area of the circle. The program should prompt the user to enter the radius, call the calculateArea function, and then display the area."
      ],
      "metadata": {
        "id": "nPFTRUApuGCr"
      }
    },
    {
      "cell_type": "code",
      "source": [
        "%%writefile program.c\n",
        "// Area\n",
        "#include <stdio.h>\n",
        "#define PI 22.0/7\n",
        "float calculateArea(float radius) {\n",
        "  float area;\n",
        "  area = PI*radius*radius;\n",
        "  return area;\n",
        "}\n",
        "\n",
        "int main() {\n",
        "  float area,radius;\n",
        "  printf(\"enter radius: \");\n",
        "  scanf(\"%f\", &radius);\n",
        "  area = calculateArea(radius);\n",
        "  printf(\"area = %.2f\", area);\n",
        "  return 0;\n",
        "}\n"
      ],
      "metadata": {
        "id": "R4amD_eXrXd3"
      },
      "execution_count": null,
      "outputs": []
    },
    {
      "cell_type": "code",
      "source": [
        "!g++ program.c -o program\n",
        "! ./program"
      ],
      "metadata": {
        "id": "4tVj6gIcutsE"
      },
      "execution_count": null,
      "outputs": []
    },
    {
      "cell_type": "markdown",
      "source": [
        "## Factorial\n",
        "Write a C program that calculates the factorial of a given number using a for loop. The program should prompt the user to enter a number, compute its factorial, and then display the result."
      ],
      "metadata": {
        "id": "zjS-TdYiuLWy"
      }
    },
    {
      "cell_type": "markdown",
      "source": [
        "## Factorial Function\n",
        "Write a C program that calculates the factorial of a given number using a function. The program should define a function factorial that computes the factorial using a for loop, prompt the user to enter a number, check if the number is non-negative, call the factorial function, and then display the result. If the number is negative, the program should print a message indicating that the factorial is not defined for negative numbers."
      ],
      "metadata": {
        "id": "PX0bheHiuN0v"
      }
    },
    {
      "cell_type": "code",
      "source": [
        "%%writefile program.c\n",
        "// Factorial\n",
        "#include <stdio.h>\n",
        "\n",
        "int Factorial(int n) {\n",
        "  int fact=1;\n",
        "  while(n>0){\n",
        "    fact = fact*n;\n",
        "    n--;\n",
        "  }\n",
        "  return fact;\n",
        "}\n",
        "\n",
        "int main() {\n",
        "  int n, fact=1;\n",
        "\n",
        "  printf(\"enter number: \");\n",
        "  scanf(\"%d\", &n);\n",
        "  if (n<0) {\n",
        "    printf(\"The number can't be negative to calculate factorial\");\n",
        "    return 1;\n",
        "  }\n",
        "\n",
        "  fact = Factorial(n);\n",
        "  printf(\"factorial= %d\", fact);\n",
        "\n",
        "  return 0;\n",
        "}\n"
      ],
      "metadata": {
        "id": "E9r6cv-vrXgO"
      },
      "execution_count": null,
      "outputs": []
    },
    {
      "cell_type": "code",
      "source": [
        "!g++ program.c -o program\n",
        "! ./program"
      ],
      "metadata": {
        "id": "C2kwnRX6uu-8"
      },
      "execution_count": null,
      "outputs": []
    },
    {
      "cell_type": "markdown",
      "source": [
        "## Recursive - Factorial\n",
        "Write a C program that calculates the factorial of a given number using a recursive function. The program should define a recursive function fact that computes the factorial, prompt the user to enter a number, call the recursive function, and then display the result."
      ],
      "metadata": {
        "id": "Ji8MVjmVuYBd"
      }
    },
    {
      "cell_type": "code",
      "source": [
        "%%writefile program.c\n",
        "// Factorial - Recursive\n",
        "\n",
        "/*\n",
        "fact(n) = n * fact(n-1)\n",
        "fact(n-1) = (n-1) * fact(n-1-1)\n",
        "...till\n",
        "fact(1) = 1\n",
        "\n",
        "\n",
        "main:\n",
        "  --> fact(5) <- 120  <- fact(5)\n",
        "\n",
        "fact:\n",
        " --> fact(5) -> 5 * fact(4)  <- 24 <- fact(4)\n",
        " --> fact(4) -> 4 * fact(3)  <- 6 <- fact(3)\n",
        " --> fact(3) -> 3 * fact(2)  <- 2 <- fact(2)\n",
        " --> fact(2) -> 2 * fact(1)  <- 1 <- fact(1)\n",
        " --> fact(1) -> 1\n",
        "*/\n",
        "\n",
        "#include <stdio.h>\n",
        "\n",
        "int factorial(int n) {\n",
        "  if (n > 1) {\n",
        "    printf(\"%d = %d\\n\", n, n*factorial(n-1));\n",
        "    return n * factorial(n-1);\n",
        "  }\n",
        "  else {\n",
        "    printf(\"1 = 1\\n\");\n",
        "    return 1;\n",
        "  }\n",
        "}\n",
        "\n",
        "int main() {\n",
        "  int n, fact=1;\n",
        "\n",
        "  printf(\"enter number: \");\n",
        "  scanf(\"%d\", &n);\n",
        "  if (n<0) {\n",
        "    printf(\"The number can't be negative to calculate factorial\");\n",
        "    return 1;\n",
        "  }\n",
        "\n",
        "  fact = factorial(n);\n",
        "  printf(\"factorial= %d\", fact);\n",
        "\n",
        "  return 0;\n",
        "}\n"
      ],
      "metadata": {
        "id": "6ZBYmDX4rXis"
      },
      "execution_count": null,
      "outputs": []
    },
    {
      "cell_type": "code",
      "source": [
        "!g++ program.c -o program\n",
        "! ./program"
      ],
      "metadata": {
        "id": "oQ0-1AGlrXlB"
      },
      "execution_count": null,
      "outputs": []
    },
    {
      "cell_type": "code",
      "source": [
        "%%writefile program.c\n",
        "// Fibonacci - Recursive\n",
        "\n",
        "#include <stdio.h>\n",
        "\n",
        "// 5\n",
        "// fib(5) = fib(4) + fib(3)  => 5 + 3 => 8\n",
        "// fib(4) = fib(3) + fib(2)  => 3 + 2\n",
        "// fib(2) + fib(1)  => 2 + 1\n",
        "// fib(1) + fib(0)   => 1 + 1\n",
        "// fib(2) = fib(1) + fib(0)\n",
        "// fib(1) = 1\n",
        "// fib(0) = 0\n",
        "// 0 1 1 2 3 5\n",
        "\n",
        "int fibonacci(int n) {\n",
        "  int fib;\n",
        "  if (n == 0 || n == 1) {\n",
        "    return n;\n",
        "  }\n",
        "  else {\n",
        "    fib = fibonacci(n-1) + fibonacci(n-2);\n",
        "    //printf(\"%d \", fib);\n",
        "    return fib;\n",
        "  }\n",
        "}\n",
        "\n",
        "int main() {\n",
        "  int n, fib=1;\n",
        "\n",
        "  printf(\"enter number: \");\n",
        "  scanf(\"%d\", &n);\n",
        "  if (n<0) {\n",
        "    printf(\"The number can't be negative to calculate fibonacci series\");\n",
        "    return 1;\n",
        "  }\n",
        "\n",
        "  for (int i=0; i<n; i++) {\n",
        "    printf(\"%d \", fibonacci(i));\n",
        "  }\n",
        "\n",
        "  return 0;\n",
        "}\n"
      ],
      "metadata": {
        "id": "52_bfURlrXnT"
      },
      "execution_count": null,
      "outputs": []
    },
    {
      "cell_type": "code",
      "source": [
        "!g++ program.c -o program\n",
        "! ./program"
      ],
      "metadata": {
        "id": "EY1_isWprXpn"
      },
      "execution_count": null,
      "outputs": []
    },
    {
      "cell_type": "code",
      "source": [
        "%%writefile program.c\n",
        "// Palindrome - Recursive\n",
        "\n",
        "// malayalam\n",
        "// char 0 and len-1\n",
        "// len = 9\n",
        "// s[0] == s[len-1]  ==> s[0+1] == s[len-1-1]\n",
        "// s[0]\n",
        "\n",
        "#include <stdio.h>\n",
        "#include <string.h>\n",
        "\n",
        "// 1 is palindrome, 0 is not palindrome\n",
        "int isPalindrome(char str[], int s, int e) {\n",
        "  if (str[s] != str[e]) {\n",
        "    return 0;\n",
        "  }\n",
        "\n",
        "  if (s >= e) {\n",
        "    return 1;\n",
        "  }\n",
        "\n",
        "  return isPalindrome(str, s+1, e-1);\n",
        "}\n",
        "\n",
        "int main() {\n",
        "  char str[20];\n",
        "  printf(\"Enter the string: \");\n",
        "  scanf(\"%s\", str);\n",
        "  int isPali = isPalindrome(str, 0, strlen(str)-1);\n",
        "  if ( isPali ) {\n",
        "    printf(\"It's a palindrome\");\n",
        "  }\n",
        "  else {\n",
        "    printf(\"it's not a palindrome\");\n",
        "  }\n",
        "}\n"
      ],
      "metadata": {
        "id": "mYWH9jFirXr6"
      },
      "execution_count": null,
      "outputs": []
    },
    {
      "cell_type": "code",
      "source": [
        "!g++ program.c -o program\n",
        "! ./program"
      ],
      "metadata": {
        "id": "Qd0JljGorXuX"
      },
      "execution_count": null,
      "outputs": []
    },
    {
      "cell_type": "code",
      "source": [
        "%%writefile program.c\n",
        "// GCD - Recursive\n",
        "\n",
        "/*\n",
        "FACT(n) = {\n",
        "    1, if n =0,\n",
        "    n * fact(n-1), otherwise\n",
        "}\n",
        "\n",
        "GCD(a, b) = {\n",
        "    a, if b=0\n",
        "    GCD(b, a%b), otherwise\n",
        "}\n",
        "\n",
        "GCD(b, a%b)\n",
        "GCD(24, 18)\n",
        "GCD(18, 24 % 18) -> (18, 6)\n",
        "GCD(6, 18 % 6)\n",
        "return 6\n",
        "\n",
        "GCD(18, 24)\n",
        "GCD(24, 18 % 24)\n",
        "GCD(18, 24 % 18)\n",
        "*/\n",
        "\n",
        "#include <stdio.h>\n",
        "\n",
        "int GCD(int a, int b) {\n",
        "  if (b == 0) {  // if (!b) {\n",
        "    return a;\n",
        "  }\n",
        "\n",
        "  return GCD(b, a % b);\n",
        "}\n",
        "\n",
        "int main() {\n",
        "  int a, b;\n",
        "  printf(\"Enter two numbers to find GCD: \");\n",
        "  scanf(\"%d %d\", &a, &b);\n",
        "  printf(\"GCD : %d\", GCD(a, b));\n",
        "\n",
        "}\n"
      ],
      "metadata": {
        "id": "iy2g9WOorXwh"
      },
      "execution_count": null,
      "outputs": []
    },
    {
      "cell_type": "code",
      "source": [
        "!g++ program.c -o program\n",
        "! ./program"
      ],
      "metadata": {
        "id": "Wo9PBQFsrXy2"
      },
      "execution_count": null,
      "outputs": []
    },
    {
      "cell_type": "code",
      "source": [],
      "metadata": {
        "id": "FuupKAKirX2b"
      },
      "execution_count": null,
      "outputs": []
    },
    {
      "cell_type": "code",
      "source": [
        "!g++ program.c -o program\n",
        "! ./program"
      ],
      "metadata": {
        "id": "twW7DxWuuosO"
      },
      "execution_count": null,
      "outputs": []
    },
    {
      "cell_type": "code",
      "source": [],
      "metadata": {
        "id": "ONsCof17uoot"
      },
      "execution_count": null,
      "outputs": []
    },
    {
      "cell_type": "code",
      "source": [
        "!g++ program.c -o program\n",
        "! ./program"
      ],
      "metadata": {
        "id": "VqUoGdCauolz"
      },
      "execution_count": null,
      "outputs": []
    },
    {
      "cell_type": "code",
      "source": [],
      "metadata": {
        "id": "Oo200r2nuojb"
      },
      "execution_count": null,
      "outputs": []
    },
    {
      "cell_type": "code",
      "source": [
        "!g++ program.c -o program\n",
        "! ./program"
      ],
      "metadata": {
        "id": "pweif_Lyuog2"
      },
      "execution_count": null,
      "outputs": []
    },
    {
      "cell_type": "code",
      "source": [],
      "metadata": {
        "id": "hVV2lEuDuoeg"
      },
      "execution_count": null,
      "outputs": []
    },
    {
      "cell_type": "code",
      "source": [
        "!g++ program.c -o program\n",
        "! ./program"
      ],
      "metadata": {
        "id": "C_Xz9qH9uqhC"
      },
      "execution_count": null,
      "outputs": []
    },
    {
      "cell_type": "code",
      "source": [],
      "metadata": {
        "id": "0DYUDn-6uqae"
      },
      "execution_count": null,
      "outputs": []
    },
    {
      "cell_type": "code",
      "source": [
        "!g++ program.c -o program\n",
        "! ./program"
      ],
      "metadata": {
        "id": "i1zI5LOCurPu"
      },
      "execution_count": null,
      "outputs": []
    }
  ]
}